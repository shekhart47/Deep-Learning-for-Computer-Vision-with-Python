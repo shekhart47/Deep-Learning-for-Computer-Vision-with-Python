{
  "cells": [
    {
      "cell_type": "markdown",
      "metadata": {
        "id": "view-in-github",
        "colab_type": "text"
      },
      "source": [
        "<a href=\"https://colab.research.google.com/github/shekhart47/Deep-Learning-for-Computer-Vision-with-Python/blob/main/CS329S_Problem_Set_2.ipynb\" target=\"_parent\"><img src=\"https://colab.research.google.com/assets/colab-badge.svg\" alt=\"Open In Colab\"/></a>"
      ]
    },
    {
      "cell_type": "markdown",
      "metadata": {
        "id": "ipOzcEPc58Y-"
      },
      "source": [
        "# CS329S Problem Set 2"
      ]
    },
    {
      "cell_type": "markdown",
      "metadata": {
        "id": "KO2euNRD5EyC"
      },
      "source": [
        "# Overview\n",
        "\n",
        "In the last assignment, we’ve tested some public ML systems. In this assignment, we’ll familiarize ourselves with how to train and evaluate models. In this assignment, you'll familiarize yourself with the open source HuggingFace API by evaluating fine-tuned models on a variety of criteria. "
      ]
    },
    {
      "cell_type": "markdown",
      "metadata": {
        "id": "XSss-xxY6EJJ"
      },
      "source": [
        "# Submission\n",
        "1. Click ***File > Save a Copy in Drive*** to save your own copy of the document to work in and submit.\n",
        "2. Please answer all the problems from this problem set in your Colab notebook.\n",
        "3. Submit **both** `CS329S Problem Set 2.ipynb` notebook file and `CS329S Problem Set 2.pdf` to Gradescope. \n",
        "  - To download the `CS329S Problem Set 2.ipynb`: File > Download .ipynb\n",
        "  - To download the `CS329S Problem Set 2.pdf`: File > Print\n",
        "\n",
        "Please make sure that your answers are not in collapsed cells for your PDF!\n",
        "\n",
        "**This assignment is meaty. Start early!**"
      ]
    },
    {
      "cell_type": "markdown",
      "metadata": {
        "id": "6hq906xs8LVg"
      },
      "source": [
        "\n",
        "**Tip**: You can use the colab GPU for this by selecting:\n",
        "\n",
        "> **Runtime**   →   **Change runtime type**   →   **Hardware Accelerator: GPU**\n"
      ]
    },
    {
      "cell_type": "markdown",
      "metadata": {
        "id": "xKifPThZ521X"
      },
      "source": [
        "# Part I. Understanding pretrained models\n",
        "\n",
        "Some of the HuggingFace modules that you might find useful for this assignment.\n",
        "- [`load_dataset`](https://huggingface.co/docs/datasets/loading_datasets.html)\n",
        "- [`pipelines`](https://huggingface.co/transformers/main_classes/pipelines.html)\n",
        "- [`Trainer`](https://huggingface.co/transformers/main_classes/trainer.html)"
      ]
    },
    {
      "cell_type": "markdown",
      "metadata": {
        "id": "4C8yidYS-rJ8"
      },
      "source": [
        "Run the following cells to set up the necessary prerequisites. Feel free to modify the cells to import any module you need."
      ]
    },
    {
      "cell_type": "code",
      "execution_count": 1,
      "metadata": {
        "colab": {
          "base_uri": "https://localhost:8080/"
        },
        "id": "5D27OZaf-mfP",
        "outputId": "82848985-38f2-48a0-fdae-a8e299e225b1"
      },
      "outputs": [
        {
          "output_type": "stream",
          "name": "stdout",
          "text": [
            "\u001b[K     |████████████████████████████████| 3.5 MB 4.0 MB/s \n",
            "\u001b[K     |████████████████████████████████| 6.8 MB 56.0 MB/s \n",
            "\u001b[K     |████████████████████████████████| 895 kB 76.2 MB/s \n",
            "\u001b[K     |████████████████████████████████| 67 kB 6.8 MB/s \n",
            "\u001b[K     |████████████████████████████████| 596 kB 78.4 MB/s \n",
            "\u001b[K     |████████████████████████████████| 311 kB 4.2 MB/s \n",
            "\u001b[K     |████████████████████████████████| 1.1 MB 47.6 MB/s \n",
            "\u001b[K     |████████████████████████████████| 133 kB 54.1 MB/s \n",
            "\u001b[K     |████████████████████████████████| 243 kB 58.2 MB/s \n",
            "\u001b[K     |████████████████████████████████| 271 kB 56.5 MB/s \n",
            "\u001b[K     |████████████████████████████████| 144 kB 94.5 MB/s \n",
            "\u001b[K     |████████████████████████████████| 94 kB 3.7 MB/s \n",
            "\u001b[?25h"
          ]
        }
      ],
      "source": [
        "!pip install -q transformers\n",
        "!pip install -q datasets"
      ]
    },
    {
      "cell_type": "code",
      "execution_count": 2,
      "metadata": {
        "id": "OrGpHY_3nFZw"
      },
      "outputs": [],
      "source": [
        "import numpy as np\n",
        "import random\n",
        "\n",
        "from datasets import load_dataset\n",
        "from datasets import load_metric\n",
        "from transformers import pipeline\n",
        "from transformers import DistilBertForSequenceClassification, Trainer, TrainingArguments\n",
        "\n",
        "from sklearn.calibration import calibration_curve\n",
        "from sklearn.metrics import accuracy_score, precision_recall_fscore_support\n",
        "import matplotlib.pyplot as plt"
      ]
    },
    {
      "cell_type": "markdown",
      "metadata": {
        "id": "XchTx16l8FZW"
      },
      "source": [
        "## Problem 1: Setup\n",
        "\n",
        "We’ll examine pretrained language models’ performance for the task of sentiment analysis with two classes. For Problem 1 and Problem 2 of this assignment, you’ll need to pick the following:\n",
        "\n",
        "- **Fine-tuned model**: choose one pretrained language model that has been fine-tuned on the IMDB dataset from the [HuggingFace Model Hub](https://huggingface.co/models). You can see the list of available models trained on IMDB [here](https://huggingface.co/models?search=imdb). Examples:\n",
        "    - `roberta-base-imdb` is `robert-base` that has been fine-tuned on the IMDB dataset.\n",
        "    - `distilbert-base-uncased-imdb` is `distilbert-base-uncased` that has been fine-tuned on the IMDB dataset.\n",
        "\n",
        "- **Out-of-distribution dataset**: pick a **binary label** sentiment analysis dataset that IS NOT IMDB from HuggingFace Datasets interface (some of them have more than two labels, so make sure you pick one with binary labels!). You can find the list of sentiment analysis tasks [here](https://huggingface.co/datasets?filter=task_ids:sentiment-classification).\n"
      ]
    },
    {
      "cell_type": "markdown",
      "metadata": {
        "id": "vLbLPJJc8M5w"
      },
      "source": [
        "### 1.1 Understanding your fine-tuned model [5 points]\n",
        "\n"
      ]
    },
    {
      "cell_type": "markdown",
      "metadata": {
        "id": "rMUHo5nr9tM_"
      },
      "source": [
        "#### a. (1 point) What fine-tuned model did you choose? What’s its pretrained LM counterpart?\n"
      ]
    },
    {
      "cell_type": "markdown",
      "metadata": {
        "id": "TcxVDiFR_HKA"
      },
      "source": [
        "**Answer**:\n",
        "\n",
        "I used distilbert-base-uncased as the tuned-model for this task. This model is based on pretrained Google's BERT model."
      ]
    },
    {
      "cell_type": "markdown",
      "metadata": {
        "id": "wPBzeuBF-QBz"
      },
      "source": [
        "#### b. (1 point) Is your model cased or uncased? Why did you choose that?"
      ]
    },
    {
      "cell_type": "markdown",
      "metadata": {
        "id": "V5B4eqoV_MmD"
      },
      "source": [
        "**Answer**:\n",
        "\n",
        "The distilbert-base-uncased model is uncased. This model is trained by distilling based BERT and thus has 60% less parameters than the parent model and is thus faster for inference while maintaining 95% of BERT's performance.\n",
        "\n",
        "References:\n",
        "\n",
        "https://huggingface.co/distilbert-base-uncased\n",
        "\n",
        "\n",
        "https://huggingface.co/docs/transformers/model_doc/distilbert"
      ]
    },
    {
      "cell_type": "markdown",
      "metadata": {
        "id": "E3509RkD-ghk"
      },
      "source": [
        "#### c. (3 points) What is the number of parameters in your model? You can find this number either from the original paper or write code to count its number of parameters."
      ]
    },
    {
      "cell_type": "code",
      "execution_count": 3,
      "metadata": {
        "colab": {
          "base_uri": "https://localhost:8080/"
        },
        "id": "V0GmVa2Dc64c",
        "outputId": "a7ca2a0b-e34c-4585-a7ce-63ed44064440"
      },
      "outputs": [
        {
          "output_type": "stream",
          "name": "stdout",
          "text": [
            "DistilBertConfig {\n",
            "  \"activation\": \"gelu\",\n",
            "  \"attention_dropout\": 0.1,\n",
            "  \"dim\": 768,\n",
            "  \"dropout\": 0.1,\n",
            "  \"hidden_dim\": 3072,\n",
            "  \"initializer_range\": 0.02,\n",
            "  \"max_position_embeddings\": 512,\n",
            "  \"model_type\": \"distilbert\",\n",
            "  \"n_heads\": 12,\n",
            "  \"n_layers\": 6,\n",
            "  \"pad_token_id\": 0,\n",
            "  \"qa_dropout\": 0.1,\n",
            "  \"seq_classif_dropout\": 0.2,\n",
            "  \"sinusoidal_pos_embds\": false,\n",
            "  \"transformers_version\": \"4.16.2\",\n",
            "  \"vocab_size\": 30522\n",
            "}\n",
            "\n"
          ]
        }
      ],
      "source": [
        "################## (OPTIONAL) YOUR CODE HERE ##################\n",
        "# Find the number of parameters in your model\n",
        "###############################################################\n",
        "from transformers import DistilBertModel, DistilBertConfig\n",
        "\n",
        "# Initializing a DistilBERT configuration\n",
        "configuration = DistilBertConfig()\n",
        "\n",
        "# Initializing a model from the configuration\n",
        "model = DistilBertModel(configuration)\n",
        "\n",
        "# Accessing the model configuration\n",
        "configuration = model.config\n",
        "\n",
        "print(configuration)\n"
      ]
    },
    {
      "cell_type": "markdown",
      "metadata": {
        "id": "u6fdXPA__NSW"
      },
      "source": [
        "**Answer**:\n",
        "\n",
        "The DistilBERT has 66 million parameters which are significantly less that the BERT-base model which has 110 million paramters\n",
        "\n",
        "Reference : \n",
        "\n",
        "Table 3 - https://arxiv.org/pdf/1910.01108.pdf"
      ]
    },
    {
      "cell_type": "markdown",
      "metadata": {
        "id": "xQfGlulX_QVa"
      },
      "source": [
        "### 1.2 Understanding the [IMDB dataset](https://ai.stanford.edu/~amaas/data/sentiment/) [3 points]\n",
        "\n",
        "**Tip**: The IMDB dataset can also be explored in the Hugging Face model hub ([IMDb](https://huggingface.co/datasets/imdb)) "
      ]
    },
    {
      "cell_type": "markdown",
      "metadata": {
        "id": "b9rxPf6KpEmm"
      },
      "source": [
        "**Example: Loading Dataset**\n",
        "\n",
        "The following cell shows how to use the HuggingFace [`Datasets`](https://github.com/huggingface/datasets) library to download and prepare the IMDb dataset. \n"
      ]
    },
    {
      "cell_type": "code",
      "execution_count": 4,
      "metadata": {
        "colab": {
          "base_uri": "https://localhost:8080/",
          "height": 200,
          "referenced_widgets": [
            "fdb72f0401d44d4bbf4a867bb18ec2e3",
            "9e37633eb5fb4fb2a2a65790d8c9aa79",
            "9c10d9c7ccd749c18ea2120ed0ed5870",
            "a877cb95130b4ce3b29080fcc36e805d",
            "b00fc90915c14c4f91d84aca3a8dd858",
            "ecb73fdd26ad420d80f47e0ac4db3444",
            "ec8c293a82b94744a97eebc3fecbb390",
            "39f6d7bb25594c159b4c92fc78507c77",
            "b1bba337c2624b749554cb061e272afe",
            "b7e5c30200b54898bc3621b4c7bb5614",
            "884ce9490ab64d35bdda3bf25ce0f587",
            "f72251285514483bbccd5a7b1ceaa052",
            "85d3756788b14822bd96de33a1f6b7f4",
            "44f6ba59da0a4b06b6ac5b19b776614c",
            "1f9c8c57096846e8aee79b3e2b0cc725",
            "e02e435e0b78458ab73956ccbd33bf5b",
            "8c2fb54b5fdc434393245faf267fec36",
            "716d6d9807584eb5b122fd6bea22d985",
            "9a743883ec9f4b0f93b35105df0aee11",
            "e02ad08f395142c9abffe0e31122d03b",
            "5045b9f45ec54c13b6fafddd70cf9e62",
            "13920ad960f146f5968903b25d8dae1d",
            "9f02772e38f84d429134a2b922dcc534",
            "72e653876e3b443982caa5f1ada2ffff",
            "45277c07f0db4a50a4d6e112908d00c7",
            "e6ee0c48e54d4cbea1b3b7dcd248aac2",
            "7fe63228e1c444cbb0f4f9acae52ea3a",
            "8834c4533dca4c069c04d2214d2972a8",
            "15872f0eea864569aeeae46ffbf8ed91",
            "138ddeafa8e44fb9af4537a3e36eae0a",
            "d18d1c913faa4b97837d670f46b22ac6",
            "266130e49edc48de898b9cea2ce44e49",
            "fb41d3238ad141eabff153ef7f364091",
            "b7376ce8504b474ab0e34354d73a03ee",
            "ae279aa59455401c8916e2f23985c4c8",
            "42913c515ff4429fbfdcc9267cabe54c",
            "bd44f16a783f4538a9a5d5776df8e789",
            "14667bc250934baca991ffc09414e47d",
            "d0050cf45c924798a586497c3bf274cc",
            "60c396be718d421f8e0db0627c3dc9e0",
            "ac16bcf219d3414d8e9f461b453a9573",
            "0785d7cfc53e46a1b7aabfc6548ce0df",
            "78a4e652d7174955a9cfb44cec10438f",
            "f9d27be4447840beb2bc547543e6d5aa",
            "90ab8986fed54da7b9a5b0181c8db6bd",
            "0d7c2e000a774baa90a7f156a92bd492",
            "c4132970d7bf42c68faece70ede354b3",
            "372bd9c0bce640c88487c5c0ad9612bd",
            "16ba1678a2f0412d89c03656856d24f5",
            "67872035b9834c4fa4d6d3ee0647d67f",
            "d45733c66aa24bfba78afd93ad9c13dd",
            "5f0133c140c345fca9b429e70603c302",
            "96842ce9dd5c449c81f6e17e5a5d713b",
            "07cff402b3d24bf39341ff0bdc124d16",
            "62d10a31386d49758e05a9717e307463",
            "d0b110b1d42041e09cd16079c1e91900",
            "3dc08e113f6a469c9ddb5257087e3e70",
            "a5c67869c4964fe6bb3dd5ab37e2edcc",
            "d197afb030cc46cfa86ec219745ba7f9",
            "bbd8502e682f43719262faf8d8967e21",
            "becb4bc411c5450e943d738719b81c85",
            "94b2760ee48d4bad8aebf0328a98a938",
            "08a184577e104314971dec14efa05962",
            "bb1f6bee539c438c97dbae36335f9da8",
            "b3b8d853f6ea4c91aaae7f8a2587013f",
            "2aef30b6b0c94e6abd203773ee00782f",
            "a02bab2dd72a4513bb85fe4ebb2ea7bc",
            "23548bd4f021412b860f818abdb07db8",
            "4cb1a25bf79241ffaeb9180eaa805211",
            "6797d7a6d7c046ab862227315b0cfbc6",
            "5f66757da7c342d4a2ad9dcb70cfafdb",
            "fbec4b955e3143a29b1f8a9e2f330542",
            "2a581f4b45cf4a52b1d58daead7c8aee",
            "7226132f845b438bac45bd3169834d92",
            "da531732d242435b949e8e8d01836fb2",
            "a521ec60db5546d5afb0815ab7a32512",
            "55bf686c06cd41d380ffbaa49b79ca85"
          ]
        },
        "id": "jhXI5OZ2EE6z",
        "outputId": "3c61968a-793b-4605-b51d-cb4c45f67442"
      },
      "outputs": [
        {
          "output_type": "display_data",
          "data": {
            "application/vnd.jupyter.widget-view+json": {
              "model_id": "fdb72f0401d44d4bbf4a867bb18ec2e3",
              "version_minor": 0,
              "version_major": 2
            },
            "text/plain": [
              "Downloading:   0%|          | 0.00/1.79k [00:00<?, ?B/s]"
            ]
          },
          "metadata": {}
        },
        {
          "output_type": "display_data",
          "data": {
            "application/vnd.jupyter.widget-view+json": {
              "model_id": "f72251285514483bbccd5a7b1ceaa052",
              "version_minor": 0,
              "version_major": 2
            },
            "text/plain": [
              "Downloading:   0%|          | 0.00/1.05k [00:00<?, ?B/s]"
            ]
          },
          "metadata": {}
        },
        {
          "output_type": "stream",
          "name": "stdout",
          "text": [
            "Downloading and preparing dataset imdb/plain_text (download: 80.23 MiB, generated: 127.02 MiB, post-processed: Unknown size, total: 207.25 MiB) to /root/.cache/huggingface/datasets/imdb/plain_text/1.0.0/2fdd8b9bcadd6e7055e742a706876ba43f19faee861df134affd7a3f60fc38a1...\n"
          ]
        },
        {
          "output_type": "display_data",
          "data": {
            "application/vnd.jupyter.widget-view+json": {
              "model_id": "9f02772e38f84d429134a2b922dcc534",
              "version_minor": 0,
              "version_major": 2
            },
            "text/plain": [
              "Downloading:   0%|          | 0.00/84.1M [00:00<?, ?B/s]"
            ]
          },
          "metadata": {}
        },
        {
          "output_type": "display_data",
          "data": {
            "application/vnd.jupyter.widget-view+json": {
              "model_id": "b7376ce8504b474ab0e34354d73a03ee",
              "version_minor": 0,
              "version_major": 2
            },
            "text/plain": [
              "0 examples [00:00, ? examples/s]"
            ]
          },
          "metadata": {}
        },
        {
          "output_type": "display_data",
          "data": {
            "application/vnd.jupyter.widget-view+json": {
              "model_id": "90ab8986fed54da7b9a5b0181c8db6bd",
              "version_minor": 0,
              "version_major": 2
            },
            "text/plain": [
              "0 examples [00:00, ? examples/s]"
            ]
          },
          "metadata": {}
        },
        {
          "output_type": "display_data",
          "data": {
            "application/vnd.jupyter.widget-view+json": {
              "model_id": "d0b110b1d42041e09cd16079c1e91900",
              "version_minor": 0,
              "version_major": 2
            },
            "text/plain": [
              "0 examples [00:00, ? examples/s]"
            ]
          },
          "metadata": {}
        },
        {
          "output_type": "stream",
          "name": "stdout",
          "text": [
            "Dataset imdb downloaded and prepared to /root/.cache/huggingface/datasets/imdb/plain_text/1.0.0/2fdd8b9bcadd6e7055e742a706876ba43f19faee861df134affd7a3f60fc38a1. Subsequent calls will reuse this data.\n"
          ]
        },
        {
          "output_type": "display_data",
          "data": {
            "application/vnd.jupyter.widget-view+json": {
              "model_id": "a02bab2dd72a4513bb85fe4ebb2ea7bc",
              "version_minor": 0,
              "version_major": 2
            },
            "text/plain": [
              "  0%|          | 0/3 [00:00<?, ?it/s]"
            ]
          },
          "metadata": {}
        }
      ],
      "source": [
        "dataset = load_dataset(\"imdb\")"
      ]
    },
    {
      "cell_type": "code",
      "execution_count": null,
      "metadata": {
        "colab": {
          "base_uri": "https://localhost:8080/"
        },
        "id": "keZrpp3BcmHV",
        "outputId": "dbf94702-f8e0-49ab-902c-a6db738f7fbb"
      },
      "outputs": [
        {
          "data": {
            "text/plain": [
              "{'label': 0,\n",
              " 'text': 'I love sci-fi and am willing to put up with a lot. Sci-fi movies/TV are usually underfunded, under-appreciated and misunderstood. I tried to like this, I really did, but it is to good TV sci-fi as Babylon 5 is to Star Trek (the original). Silly prosthetics, cheap cardboard sets, stilted dialogues, CG that doesn\\'t match the background, and painfully one-dimensional characters cannot be overcome with a \\'sci-fi\\' setting. (I\\'m sure there are those of you out there who think Babylon 5 is good sci-fi TV. It\\'s not. It\\'s clichéd and uninspiring.) While US viewers might like emotion and character development, sci-fi is a genre that does not take itself seriously (cf. Star Trek). It may treat important issues, yet not as a serious philosophy. It\\'s really difficult to care about the characters here as they are not simply foolish, just missing a spark of life. Their actions and reactions are wooden and predictable, often painful to watch. The makers of Earth KNOW it\\'s rubbish as they have to always say \"Gene Roddenberry\\'s Earth...\" otherwise people would not continue watching. Roddenberry\\'s ashes must be turning in their orbit as this dull, cheap, poorly edited (watching it without advert breaks really brings this home) trudging Trabant of a show lumbers into space. Spoiler. So, kill off a main character. And then bring him back as another actor. Jeeez! Dallas all over again.'}"
            ]
          },
          "execution_count": 5,
          "metadata": {},
          "output_type": "execute_result"
        }
      ],
      "source": [
        "dataset\n",
        "dataset['test'][0]"
      ]
    },
    {
      "cell_type": "markdown",
      "metadata": {
        "id": "BYzwSk8IpzMF"
      },
      "source": [
        "**Alternatively**, you can also read in datasets from raw text. Checkout this [tutorial](https://huggingface.co/transformers/custom_datasets.html?highlight=imdb%20rating%20dataset) for more details."
      ]
    },
    {
      "cell_type": "code",
      "execution_count": 5,
      "metadata": {
        "colab": {
          "base_uri": "https://localhost:8080/"
        },
        "id": "ccw761jyqLXf",
        "outputId": "8a86524a-c89d-4ba8-b538-d580ae0d0bc9"
      },
      "outputs": [
        {
          "output_type": "stream",
          "name": "stdout",
          "text": [
            "--2022-02-18 23:45:51--  http://ai.stanford.edu/~amaas/data/sentiment/aclImdb_v1.tar.gz\n",
            "Resolving ai.stanford.edu (ai.stanford.edu)... 171.64.68.10\n",
            "Connecting to ai.stanford.edu (ai.stanford.edu)|171.64.68.10|:80... connected.\n",
            "HTTP request sent, awaiting response... 200 OK\n",
            "Length: 84125825 (80M) [application/x-gzip]\n",
            "Saving to: ‘aclImdb_v1.tar.gz’\n",
            "\n",
            "aclImdb_v1.tar.gz   100%[===================>]  80.23M  19.3MB/s    in 7.2s    \n",
            "\n",
            "2022-02-18 23:45:59 (11.2 MB/s) - ‘aclImdb_v1.tar.gz’ saved [84125825/84125825]\n",
            "\n"
          ]
        }
      ],
      "source": [
        "! wget http://ai.stanford.edu/~amaas/data/sentiment/aclImdb_v1.tar.gz\n",
        "! tar -xf aclImdb_v1.tar.gz"
      ]
    },
    {
      "cell_type": "code",
      "execution_count": 6,
      "metadata": {
        "id": "Kl7u461wqUfe"
      },
      "outputs": [],
      "source": [
        "from pathlib import Path\n",
        "\n",
        "def read_imdb_split(split_dir):\n",
        "    split_dir = Path(split_dir)\n",
        "    texts = []\n",
        "    labels = []\n",
        "    for label_dir in [\"pos\", \"neg\"]:\n",
        "        for text_file in (split_dir/label_dir).iterdir():\n",
        "            texts.append(text_file.read_text())\n",
        "            labels.append(0 if label_dir is \"neg\" else 1)\n",
        "\n",
        "    return texts, labels\n",
        "\n",
        "train_texts, train_labels = read_imdb_split('aclImdb/train')\n",
        "test_texts, test_labels = read_imdb_split('aclImdb/test')"
      ]
    },
    {
      "cell_type": "code",
      "execution_count": 7,
      "metadata": {
        "colab": {
          "base_uri": "https://localhost:8080/"
        },
        "id": "9PE3E1M5sF-p",
        "outputId": "a349ec16-7516-403f-fa0d-e93e03af1b52"
      },
      "outputs": [
        {
          "output_type": "execute_result",
          "data": {
            "text/plain": [
              "25000"
            ]
          },
          "metadata": {},
          "execution_count": 7
        }
      ],
      "source": [
        "################## (OPTIONAL) YOUR CODE HERE ##################\n",
        "# Feel free to write your own code to import the IMDB dataset.\n",
        "###############################################################\n",
        "len(test_labels)"
      ]
    },
    {
      "cell_type": "code",
      "execution_count": 8,
      "metadata": {
        "colab": {
          "base_uri": "https://localhost:8080/",
          "height": 88
        },
        "id": "Zhcqj29jFCVy",
        "outputId": "0cd946d5-bdc8-4fbd-803d-8d2109877b28"
      },
      "outputs": [
        {
          "output_type": "execute_result",
          "data": {
            "application/vnd.google.colaboratory.intrinsic+json": {
              "type": "string"
            },
            "text/plain": [
              "'\"Telefilms\" tend to fall under the pitfalls of a low budget and a hasty shooting schedule, which is why this film always tends to buck the trend.<br /><br />George C. Scott embodies Ebenezer Scrooge perfectly, fully encompassing all of his cold tendencies, and still makes him a simpathetic character. The production value for this film was exceptional, never relying on boffo special effects or soundstage set-ups, yet relying on the depth and clarity of on-site shooting and strong backdrops. A movie that certainly stands alone.'"
            ]
          },
          "metadata": {},
          "execution_count": 8
        }
      ],
      "source": [
        "train_texts[0]"
      ]
    },
    {
      "cell_type": "markdown",
      "metadata": {
        "id": "xCkPpd6T_aYW"
      },
      "source": [
        "#### a. (1 point) Plot the reviews' lengths (word count) as a histogram for the train set, the test set, and the entire dataset.\n",
        "\n",
        "- If you need some help generating plots, checkout matplotlib [tutorial](https://matplotlib.org/3.1.1/gallery/statistics/hist.html)\n"
      ]
    },
    {
      "cell_type": "markdown",
      "metadata": {
        "id": "ZkG9YYwoRQQU"
      },
      "source": [
        "**Answer**:"
      ]
    },
    {
      "cell_type": "code",
      "execution_count": 9,
      "metadata": {
        "id": "Ufh-PqqVrT4S"
      },
      "outputs": [],
      "source": [
        "################## YOUR CODE HERE ##################\n",
        "# Plot the review's lengths\n",
        "####################################################\n",
        "\n",
        "\n",
        "def get_reviews_length(data):\n",
        "  text_length = [len(item) for item in data]\n",
        "  return text_length"
      ]
    },
    {
      "cell_type": "code",
      "execution_count": 10,
      "metadata": {
        "id": "ndGMiFbJQYys"
      },
      "outputs": [],
      "source": [
        "text_length_train = get_reviews_length(train_texts)\n",
        "text_length_test = get_reviews_length(test_texts)\n",
        "all_reviews = train_texts + test_texts\n",
        "all_review_length = get_reviews_length(all_reviews)"
      ]
    },
    {
      "cell_type": "code",
      "execution_count": 11,
      "metadata": {
        "colab": {
          "base_uri": "https://localhost:8080/",
          "height": 353
        },
        "id": "A9HdTotbQ1_p",
        "outputId": "0d19d418-5855-45d5-d3c7-30b9683aab4d"
      },
      "outputs": [
        {
          "output_type": "execute_result",
          "data": {
            "text/plain": [
              "(array([1.7426e+04, 5.3820e+03, 1.4910e+03, 5.3500e+02, 1.4800e+02,\n",
              "        1.1000e+01, 4.0000e+00, 2.0000e+00, 0.0000e+00, 1.0000e+00]),\n",
              " array([   52. ,  1417.2,  2782.4,  4147.6,  5512.8,  6878. ,  8243.2,\n",
              "         9608.4, 10973.6, 12338.8, 13704. ]),\n",
              " <a list of 10 Patch objects>)"
            ]
          },
          "metadata": {},
          "execution_count": 11
        },
        {
          "output_type": "display_data",
          "data": {
            "image/png": "[encoded data removed]",
            "text/plain": [
              "<Figure size 432x288 with 1 Axes>"
            ]
          },
          "metadata": {
            "needs_background": "light"
          }
        }
      ],
      "source": [
        "plt.hist(text_length_train)"
      ]
    },
    {
      "cell_type": "code",
      "execution_count": 12,
      "metadata": {
        "colab": {
          "base_uri": "https://localhost:8080/",
          "height": 353
        },
        "id": "TIjDIdyNQ6_W",
        "outputId": "e9bcf0f1-6fc3-467e-8a48-2d7eacc95d44"
      },
      "outputs": [
        {
          "output_type": "execute_result",
          "data": {
            "text/plain": [
              "(array([1.7044e+04, 5.6340e+03, 1.5500e+03, 5.4400e+02, 2.2100e+02,\n",
              "        2.0000e+00, 1.0000e+00, 1.0000e+00, 0.0000e+00, 3.0000e+00]),\n",
              " array([   32. ,  1327.6,  2623.2,  3918.8,  5214.4,  6510. ,  7805.6,\n",
              "         9101.2, 10396.8, 11692.4, 12988. ]),\n",
              " <a list of 10 Patch objects>)"
            ]
          },
          "metadata": {},
          "execution_count": 12
        },
        {
          "output_type": "display_data",
          "data": {
            "image/png": "[encoded data removed]",
            "text/plain": [
              "<Figure size 432x288 with 1 Axes>"
            ]
          },
          "metadata": {
            "needs_background": "light"
          }
        }
      ],
      "source": [
        "plt.hist(text_length_test)"
      ]
    },
    {
      "cell_type": "code",
      "execution_count": 13,
      "metadata": {
        "colab": {
          "base_uri": "https://localhost:8080/",
          "height": 353
        },
        "id": "rcMucLlwRAUx",
        "outputId": "8071058d-28da-45dc-b9ca-f235041162d0"
      },
      "outputs": [
        {
          "output_type": "execute_result",
          "data": {
            "text/plain": [
              "(array([3.4883e+04, 1.0845e+04, 2.9210e+03, 1.0330e+03, 2.9300e+02,\n",
              "        1.4000e+01, 4.0000e+00, 3.0000e+00, 1.0000e+00, 3.0000e+00]),\n",
              " array([   32. ,  1399.2,  2766.4,  4133.6,  5500.8,  6868. ,  8235.2,\n",
              "         9602.4, 10969.6, 12336.8, 13704. ]),\n",
              " <a list of 10 Patch objects>)"
            ]
          },
          "metadata": {},
          "execution_count": 13
        },
        {
          "output_type": "display_data",
          "data": {
            "image/png": "[encoded data removed]",
            "text/plain": [
              "<Figure size 432x288 with 1 Axes>"
            ]
          },
          "metadata": {
            "needs_background": "light"
          }
        }
      ],
      "source": [
        "plt.hist(all_review_length)"
      ]
    },
    {
      "cell_type": "markdown",
      "metadata": {
        "id": "soruUXU8BKZP"
      },
      "source": [
        "#### b. (1 point) Report the label distribution (number of positive and negative examples) for both the train and test splits."
      ]
    },
    {
      "cell_type": "code",
      "execution_count": 14,
      "metadata": {
        "id": "zOaBCvqJsDql"
      },
      "outputs": [],
      "source": [
        "################## YOUR CODE HERE ##################\n",
        "# Find the label distributions\n",
        "####################################################"
      ]
    },
    {
      "cell_type": "markdown",
      "metadata": {
        "id": "UsKx9m1mBaoK"
      },
      "source": [
        "**Answer**:"
      ]
    },
    {
      "cell_type": "code",
      "execution_count": 17,
      "metadata": {
        "id": "3wCBHJqASBxX"
      },
      "outputs": [],
      "source": [
        "from collections import Counter"
      ]
    },
    {
      "cell_type": "code",
      "execution_count": 18,
      "metadata": {
        "colab": {
          "base_uri": "https://localhost:8080/"
        },
        "id": "dUUU64ZURpRL",
        "outputId": "aad49a02-bb0e-4724-a65e-45347fc01271"
      },
      "outputs": [
        {
          "output_type": "stream",
          "name": "stdout",
          "text": [
            "Label Distribution - Train :  Counter({1: 12500, 0: 12500})\n",
            "Label Distribution - Test :  Counter({1: 12500, 0: 12500})\n"
          ]
        }
      ],
      "source": [
        "counter_train = Counter()\n",
        "counter_train.update(train_labels)\n",
        "print(\"Label Distribution - Train : \", counter_train)\n",
        "counter_test = Counter()\n",
        "counter_test.update(test_labels)\n",
        "print(\"Label Distribution - Test : \", counter_test)"
      ]
    },
    {
      "cell_type": "markdown",
      "metadata": {
        "id": "1786d5r7BOmU"
      },
      "source": [
        "#### c. (1 point) What evaluation metric(s) would be appropriate for this dataset? Why?"
      ]
    },
    {
      "cell_type": "markdown",
      "metadata": {
        "id": "VkPr5BdqBbUE"
      },
      "source": [
        "**Answer**:\n",
        "\n",
        "After looking at the label distribution in the dataset, since this is a binary (sequence) classification model, we will use the following classification metrics to evaluate the model's predictions against the ground truth:\n",
        "\n",
        "1) Precision\n",
        "\n",
        "2) Recall\n",
        "\n",
        "3) Fscore"
      ]
    },
    {
      "cell_type": "markdown",
      "metadata": {
        "id": "zDWfk7-XBw1L"
      },
      "source": [
        "### 1.3 Understanding the out-of-distribution dataset [3 points]"
      ]
    },
    {
      "cell_type": "markdown",
      "metadata": {
        "id": "AUsipGHtB4wm"
      },
      "source": [
        "#### a. (1 point) What's the name of your out-of-distribution dataset? Include a link. "
      ]
    },
    {
      "cell_type": "markdown",
      "metadata": {
        "id": "HaUJLAhyCgpl"
      },
      "source": [
        "**Answer**:\n",
        "\n",
        "Amazon Reviews Dataset : https://s3.amazonaws.com/amazon-reviews-pds/tsv/amazon_reviews_us_Mobile_Electronics_v1_00.tsv.gz\n",
        "\n",
        "NOTE : \n",
        "The dataset is also loaded in huggigface list of datasets, so I'll be using huggingface version of this dataset, which in turn will fecth it from the above s3 bucket.  After loading the data, I will be using keras framework to build and test my model"
      ]
    },
    {
      "cell_type": "markdown",
      "metadata": {
        "id": "XIYitK61CCk-"
      },
      "source": [
        "#### b. (1 point) Describe your dataset, including its splits, its columns, and their statistics. "
      ]
    },
    {
      "cell_type": "code",
      "execution_count": null,
      "metadata": {
        "id": "AKsphvsDs_SG"
      },
      "outputs": [],
      "source": [
        "################## YOUR CODE HERE ##################\n",
        "# Load your data and find your dataset's statistics\n",
        "####################################################"
      ]
    },
    {
      "cell_type": "markdown",
      "metadata": {
        "id": "om5K9IegChbC"
      },
      "source": [
        "**Answer**:\n",
        "\n",
        "\n",
        "\n",
        "\n",
        "Code for the loading the dataset : \n",
        "\n",
        "NOTE : The below commands will load all the dataset from the s3 bucket with the predefined train split. We will use this dataset, to create our own train and test splits"
      ]
    },
    {
      "cell_type": "code",
      "execution_count": 19,
      "metadata": {
        "colab": {
          "base_uri": "https://localhost:8080/"
        },
        "id": "uf1_oxzafObT",
        "outputId": "cd01a744-a447-41e9-e640-b40aafe19088"
      },
      "outputs": [
        {
          "output_type": "stream",
          "name": "stdout",
          "text": [
            "acronym_identification, ade_corpus_v2, adversarial_qa, aeslc, afrikaans_ner_corpus, ag_news, ai2_arc, air_dialogue, ajgt_twitter_ar, allegro_reviews, allocine, alt, amazon_polarity, amazon_reviews_multi, amazon_us_reviews, ambig_qa, americas_nli, ami, amttl, anli, app_reviews, aqua_rat, aquamuse, ar_cov19, ar_res_reviews, ar_sarcasm, arabic_billion_words, arabic_pos_dialect, arabic_speech_corpus, arcd, arsentd_lev, art, arxiv_dataset, ascent_kb, aslg_pc12, asnq, asset, assin, assin2, atomic, autshumato, babi_qa, banking77, bbaw_egyptian, bbc_hindi_nli, bc2gm_corpus, beans, best2009, bianet, bible_para, big_patent, billsum, bing_coronavirus_query_set, biomrc, biosses, blbooks, blbooksgenre, blended_skill_talk, blimp, blog_authorship_corpus, bn_hate_speech, bnl_newspapers, bookcorpus, bookcorpusopen, boolq, bprec, break_data, brwac, bsd_ja_en, bswac, c3, c4, cail2018, caner, capes, casino, catalonia_independence, cats_vs_dogs, cawac, cbt, cc100, cc_news, ccaligned_multilingual, cdsc, cdt, cedr, cfq, chr_en, cifar10, cifar100, circa, civil_comments, clickbait_news_bg, climate_fever, clinc_oos, clue, cmrc2018, cmu_hinglish_dog, cnn_dailymail, coached_conv_pref, coarse_discourse, codah, code_search_net, code_x_glue_cc_clone_detection_big_clone_bench, code_x_glue_cc_clone_detection_poj104, code_x_glue_cc_cloze_testing_all, code_x_glue_cc_cloze_testing_maxmin, code_x_glue_cc_code_completion_line, code_x_glue_cc_code_completion_token, code_x_glue_cc_code_refinement, code_x_glue_cc_code_to_code_trans, code_x_glue_cc_defect_detection, code_x_glue_ct_code_to_text, code_x_glue_tc_nl_code_search_adv, code_x_glue_tc_text_to_code, code_x_glue_tt_text_to_text, com_qa, common_gen, common_language, common_voice, commonsense_qa, competition_math, compguesswhat, conceptnet5, conll2000, conll2002, conll2003, conllpp, consumer-finance-complaints, conv_ai, conv_ai_2, conv_ai_3, conv_questions, coqa, cord19, cornell_movie_dialog, cos_e, cosmos_qa, counter, covid_qa_castorini, covid_qa_deepset, covid_qa_ucsd, covid_tweets_japanese, covost2, cppe-5, craigslist_bargains, crawl_domain, crd3, crime_and_punish, crows_pairs, cryptonite, cs_restaurants, cuad, curiosity_dialogs, daily_dialog, dane, danish_political_comments, dart, datacommons_factcheck, dbpedia_14, dbrd, deal_or_no_dialog, definite_pronoun_resolution, dengue_filipino, dialog_re, diplomacy_detection, disaster_response_messages, discofuse, discovery, disfl_qa, doc2dial, docred, doqa, dream, drop, duorc, dutch_social, dyk, e2e_nlg, e2e_nlg_cleaned, ecb, ecthr_cases, eduge, ehealth_kd, eitb_parcc, electricity_load_diagrams, eli5, eli5_category, emea, emo, emotion, emotone_ar, empathetic_dialogues, enriched_web_nlg, eraser_multi_rc, esnli, eth_py150_open, ethos, eu_regulatory_ir, eurlex, euronews, europa_eac_tm, europa_ecdc_tm, europarl_bilingual, event2Mind, evidence_infer_treatment, exams, factckbr, fake_news_english, fake_news_filipino, farsi_news, fashion_mnist, fever, few_rel, financial_phrasebank, finer, flores, flue, food101, fquad, freebase_qa, gap, gem, generated_reviews_enth, generics_kb, german_legal_entity_recognition, germaner, germeval_14, giga_fren, gigaword, glucose, glue, gnad10, go_emotions, gooaq, google_wellformed_query, grail_qa, great_code, greek_legal_code, guardian_authorship, gutenberg_time, hans, hansards, hard, harem, has_part, hate_offensive, hate_speech18, hate_speech_filipino, hate_speech_offensive, hate_speech_pl, hate_speech_portuguese, hatexplain, hausa_voa_ner, hausa_voa_topics, hda_nli_hindi, head_qa, health_fact, hebrew_projectbenyehuda, hebrew_sentiment, hebrew_this_world, hellaswag, hendrycks_test, hind_encorp, hindi_discourse, hippocorpus, hkcancor, hlgd, hope_edi, hotpot_qa, hover, hrenwac_para, hrwac, humicroedit, hybrid_qa, hyperpartisan_news_detection, iapp_wiki_qa_squad, id_clickbait, id_liputan6, id_nergrit_corpus, id_newspapers_2018, id_panl_bppt, id_puisi, igbo_english_machine_translation, igbo_monolingual, igbo_ner, ilist, imdb, imdb_urdu_reviews, imppres, indic_glue, indonli, indonlu, inquisitive_qg, interpress_news_category_tr, interpress_news_category_tr_lite, irc_disentangle, isixhosa_ner_corpus, isizulu_ner_corpus, iwslt2017, jeopardy, jfleg, jigsaw_toxicity_pred, jigsaw_unintended_bias, jnlpba, journalists_questions, kan_hope, kannada_news, kd_conv, kde4, kelm, kilt_tasks, kilt_wikipedia, kinnews_kirnews, klue, kor_3i4k, kor_hate, kor_ner, kor_nli, kor_nlu, kor_qpair, kor_sae, kor_sarcasm, labr, lama, lambada, large_spanish_corpus, laroseda, lc_quad, lener_br, lex_glue, liar, librispeech_asr, librispeech_lm, limit, lince, linnaeus, liveqa, lj_speech, lm1b, lst20, m_lama, mac_morpho, makhzan, masakhaner, math_dataset, math_qa, matinf, mbpp, mc4, mc_taco, md_gender_bias, mdd, med_hop, medal, medical_dialog, medical_questions_pairs, menyo20k_mt, meta_woz, metooma, metrec, miam, mkb, mkqa, mlqa, mlsum, mnist, mocha, moroco, movie_rationales, mrqa, ms_marco, ms_terms, msr_genomics_kbcomp, msr_sqa, msr_text_compression, msr_zhen_translation_parity, msra_ner, mt_eng_vietnamese, muchocine, multi_booked, multi_eurlex, multi_news, multi_nli, multi_nli_mismatch, multi_para_crawl, multi_re_qa, multi_woz_v22, multi_x_science_sum, multidoc2dial, multilingual_librispeech, mutual_friends, mwsc, myanmar_news, narrativeqa, narrativeqa_manual, natural_questions, ncbi_disease, nchlt, ncslgr, nell, neural_code_search, news_commentary, newsgroup, newsph, newsph_nli, newspop, newsqa, newsroom, nkjp-ner, nli_tr, nlu_evaluation_data, norec, norne, norwegian_ner, nq_open, nsmc, numer_sense, numeric_fused_head, oclar, offcombr, offenseval2020_tr, offenseval_dravidian, ofis_publik, ohsumed, ollie, omp, onestop_english, onestop_qa, open_subtitles, openai_humaneval, openbookqa, openslr, openwebtext, opinosis, opus100, opus_books, opus_dgt, opus_dogc, opus_elhuyar, opus_euconst, opus_finlex, opus_fiskmo, opus_gnome, opus_infopankki, opus_memat, opus_montenegrinsubs, opus_openoffice, opus_paracrawl, opus_rf, opus_tedtalks, opus_ubuntu, opus_wikipedia, opus_xhosanavy, orange_sum, oscar, para_crawl, para_pat, parsinlu_reading_comprehension, pass, paws-x, paws, pec, peer_read, peoples_daily_ner, per_sent, persian_ner, pg19, php, piaf, pib, piqa, pn_summary, poem_sentiment, polemo2, poleval2019_cyberbullying, poleval2019_mt, polsum, polyglot_ner, prachathai67k, pragmeval, proto_qa, psc, ptb_text_only, pubmed, pubmed_qa, py_ast, qa4mre, qa_srl, qa_zre, qangaroo, qanta, qasc, qasper, qed, qed_amara, quac, quail, quarel, quartz, quora, quoref, race, re_dial, reasoning_bg, recipe_nlg, reclor, red_caps, reddit, reddit_tifu, refresd, reuters21578, riddle_sense, ro_sent, ro_sts, ro_sts_parallel, roman_urdu, ronec, ropes, rotten_tomatoes, russian_super_glue, s2orc, samsum, sanskrit_classic, saudinewsnet, sberquad, scan, scb_mt_enth_2020, scene_parse_150, schema_guided_dstc8, scicite, scielo, scientific_papers, scifact, sciq, scitail, scitldr, search_qa, sede, selqa, sem_eval_2010_task_8, sem_eval_2014_task_1, sem_eval_2018_task_1, sem_eval_2020_task_11, sent_comp, senti_lex, senti_ws, sentiment140, sepedi_ner, sesotho_ner_corpus, setimes, setswana_ner_corpus, sharc, sharc_modified, sick, silicone, simple_questions_v2, siswati_ner_corpus, smartdata, sms_spam, snips_built_in_intents, snli, snow_simplified_japanese_corpus, so_stacksample, social_bias_frames, social_i_qa, sofc_materials_articles, sogou_news, spanish_billion_words, spc, species_800, speech_commands, spider, squad, squad_adversarial, squad_es, squad_it, squad_kor_v1, squad_kor_v2, squad_v1_pt, squad_v2, squadshifts, srwac, sst, stereoset, story_cloze, stsb_mt_sv, stsb_multi_mt, style_change_detection, subjqa, super_glue, superb, svhn, swag, swahili, swahili_news, swda, swedish_medical_ner, swedish_ner_corpus, swedish_reviews, swiss_judgment_prediction, tab_fact, tamilmixsentiment, tanzil, tapaco, tashkeela, taskmaster1, taskmaster2, taskmaster3, tatoeba, ted_hrlr, ted_iwlst2013, ted_multi, ted_talks_iwslt, telugu_books, telugu_news, tep_en_fa_para, text2log, thai_toxicity_tweet, thainer, thaiqa_squad, thaisum, the_pile, the_pile_books3, the_pile_openwebtext2, the_pile_stack_exchange, tilde_model, time_dial, times_of_india_news_headlines, timit_asr, tiny_shakespeare, tlc, tmu_gfm_dataset, told-br, totto, trec, trivia_qa, tsac, ttc4900, tunizi, tuple_ie, turk, turkic_xwmt, turkish_movie_sentiment, turkish_ner, turkish_product_reviews, turkish_shrinked_ner, turku_ner_corpus, tweet_eval, tweet_qa, tweets_ar_en_parallel, tweets_hate_speech_detection, twi_text_c3, twi_wordsim353, tydiqa, ubuntu_dialogs_corpus, udhr, um005, un_ga, un_multi, un_pc, universal_dependencies, universal_morphologies, urdu_fake_news, urdu_sentiment_corpus, vctk, vivos, web_nlg, web_of_science, web_questions, weibo_ner, wi_locness, wider_face, wiki40b, wiki_asp, wiki_atomic_edits, wiki_auto, wiki_bio, wiki_dpr, wiki_hop, wiki_lingua, wiki_movies, wiki_qa, wiki_qa_ar, wiki_snippets, wiki_source, wiki_split, wiki_summary, wikiann, wikicorpus, wikihow, wikipedia, wikisql, wikitext, wikitext_tl39, wili_2018, wino_bias, winograd_wsc, winogrande, wiqa, wisesight1000, wisesight_sentiment, wmt14, wmt15, wmt16, wmt17, wmt18, wmt19, wmt20_mlqe_task1, wmt20_mlqe_task2, wmt20_mlqe_task3, wmt_t2t, wnut_17, wongnai_reviews, woz_dialogue, wrbsc, x_stance, xcopa, xcsr, xed_en_fi, xglue, xnli, xor_tydi_qa, xquad, xquad_r, xsum, xsum_factuality, xtreme, yahoo_answers_qa, yahoo_answers_topics, yelp_polarity, yelp_review_full, yoruba_bbc_topics, yoruba_gv_ner, yoruba_text_c3, yoruba_wordsim353, youtube_caption_corrections, zest, 0n1xus/codexglue, 0n1xus/pytorrent-standalone, AConsApart/anime_subtitles_DialoGPT, AHussain0418/day2_data, AHussain0418/day4data, AHussain0418/demo_data, AI-Sweden/SuperLim, AI-it/khs_service_test, AI-it/korean-hate-speech, ARKseal/YFCC14M_subset_webdataset, ARTeLab/fanpage, ARTeLab/ilpost, ARTeLab/mlsum-it, ASCCCCCCCC/amazon_zh, Abdo1Kamr/Arabic_Hadith, Abirate/code_net_dataset, Abirate/code_net_dev_dataset, Abirate/code_net_test_final_dataset, Abirate/english_quotes, Abirate/french_book_reviews, AdWeeb/DravidianMT, Adnan/Urdu_News_Headlines, AhmadSawal/qa, AhmedSSoliman/CoNaLa, Aisha/BAAD16, Aisha/BAAD6, Akila/ForgottenRealmsWikiDataset, Akshith/aa, Akshith/g_rock, Akshith/test, Alegzandra/test, AlekseyDorkin/extended_tweet_emojis, AlekseyKorshuk/comedy-scripts, AlekseyKorshuk/horror-scripts, AlexMaclean/all-deletion-compressions, AlexMaclean/wikipedia-deletion-compressions, AlexZapolskii/zapolskii-amazon, AlgoveraAI/CryptoPunks, Aliseyfi/event_token_type, Alvenir/nst-da-16khz, AndrewMcDowell/de_corpora_parliament_processed, Annabelleabbott/real-fake-news-workshop, Annielytics/DoctorsNotes, Anurag-Singh-creator/task, Anurag-Singh-creator/tasks, ApiInferenceTest/asr_dummy, Arnold/hausa_common_voice, AryanLala/autonlp-data-Scientific_Title_Generator, Avishekavi/Avi, Ayou/mobile_bert_datas, BSC-TeMU/SQAC, BSC-TeMU/ancora-ca-ner, BSC-TeMU/sts-ca, BSC-TeMU/tecla, BSC-TeMU/viquiquad, BSC-TeMU/xquad-ca, Babelscape/rebel-dataset, Babelscape/wikineural, BatuhanYilmaz/github-issues, Baybars/parla_text_corpus, BeIR/beir-corpus, BeIR/beir, Binbin/my_dataset, BlakesOrb6/Fred-Flintstone, Bosio/pacman, Bosio/pacman_descriptions, BritishLibraryLabs/EThOS-PhD-metadata, CAGER/rick, CALM/arwiki, CAiRE/ASCEND, CShorten/KerasBERT, CShorten/ZillowPrize, ChadxxxxHall/Inter-vision, Champion/vpc2020_clear_anon_speech, Check/a_re_gi, Check/region_1, Check/region_2, Check/region_3, Check/region_4, Check/region_5, Check/region_6, Check/region_7, Check/region_8, Check/region_9, Check/regions, Check/vverify, Cheranga/test, ChristophSchuhmann/MS_COCO_2017_URL_TEXT, Chun/dataset, Chuu/Vhh, CodedotAI/code-clippy-tfrecords, CodedotAI/code_clippy, Cropinky/flatearther, Cropinky/rap_lyrics_english, Cropinky/wow_fishing_bobber, Cyberfish/pos_tagger, Cyberfish/text_error_correction, DDSC/angry-tweets, DDSC/dkhate, DDSC/europarl, DDSC/lcc, DDSC/partial-danish-gigaword-no-twitter, DDSC/reddit-da, DDSC/squad-da, DDSC/twitter-sent, DELith/github-issues, DSCI511G1/COP26_Energy_Transition_Tweets, DanL/scientific-challenges-and-directions-dataset, Daniele/dante-corpus, Darren/data, Datatang/accented_english, Datatang/accented_mandarin, Datatang/chinese_dialect, Datatang/mandarin_chinese, Datatang/mixed_speech_chinese_english, Datatang/multi_language, Datatang/multi_language_conversation, Davlan/conll2003_de_noMISC, Davlan/conll2003_noMISC, Davlan/masakhanerV1, DelgadoPanadero/Pokemon, DeskDown/ALTDataset, DeskDown/ALTDataset_en-to-fil-vi-id-ms-ja-khm, DiFronzo/Human_Activity_Recognition, Dmitriy612/1, DoctorSlimm/yipee, Doohae/klue-mrc-bm25, Doohae/modern_music_re, DoyyingFace/github-embeddings-doy, DoyyingFace/github-issues-doy, DrishtiSharma/_CV8_processed, DrishtiSharma/as_opus100_processed, DrishtiSharma/bg_opus100_processed, DrishtiSharma/br_opus100_processed, DrishtiSharma/hi_opus100_processed, DrishtiSharma/kk_opus100_processed, DrishtiSharma/mr_opus100_processed, DrishtiSharma/or_opus100_processed, DrishtiSharma/sl_opus100_processed, DrishtiSharma/sr_opus100_processed, Dumiiii/common-voice-romaniarss, EMBO/biolang, EMBO/sd-nlp, ESZER/H, Emanuel/UD_Portuguese-Bosque, Emma121/testtest, Emon/sobuj, Enes3774/data, Exr0n/wiki-entity-similarity, Eymen3455/xsum_tr, FIG-Loneliness/FIG-Loneliness, FL33TW00D/test-dataset, FRTNX/cosuju, FRTNX/worldbank-projects, Felix-ML/quoteli3, Fhrozen/JTubeSpeech, Finnish-NLP/mc4_fi_cleaned, Firoj/CrisisBench, Francois/futures_es, Fraser/mnist-text-default, Fraser/mnist-text-no-spaces, Fraser/mnist-text-small, Fraser/news-category-dataset, Fraser/program-synthesis, Fraser/python-lines, Fraser/python-state-changes, Fraser/short-jokes, Fraser/wiki_sentences, GEM/ART, GEM/BiSECT, GEM/CrossWOZ, GEM/OrangeSum, GEM/RiSAWOZ, GEM/RotoWire_English-German, GEM/SIMPITIKI, GEM/SciDuet, GEM/Taskmaster, GEM/cochrane-simplification, GEM/common_gen, GEM/conversational_weather, GEM/cs_restaurants, GEM/dart, GEM/dstc10_track2_task2, GEM/e2e_nlg, GEM/indonlg, GEM/mlb_data_to_text, GEM/mlsum, GEM/opusparcus, GEM/references, GEM/schema_guided_dialog, GEM/sportsett_basketball, GEM/squad_v2, GEM/surface_realisation_st_2020, GEM/totto, GEM/turku_hockey_data2text, GEM/turku_paraphrase_corpus, GEM/viggo, GEM/web_nlg, GEM/wiki_auto_asset_turk, GEM/wiki_cat_sum, GEM/wiki_lingua, GEM/xlsum, GEM/xsum, GEM-submissions/submission-scores, GV05/shlomit_speech, Gabriel/quora_swe, Gabriel/squad_v2_sv, GalacticAI/Noirset, Gauravadlakha1509/new_one, GeoffVdr/cv8_trainval_processed, GonzaloA/fake_news, Graphcore/gqa-lxmert, Graphcore/gqa, Graphcore/vqa-lxmert, Graphcore/vqa, Graphcore/wikipedia-bert-128, Graphcore/wikipedia-bert-512, GroNLP/ik-nlp-22_pestyle, GroNLP/ik-nlp-22_slp, GroNLP/ik-nlp-22_transqe, GroNLP/ik-nlp-22_winemag, Gwangho/NCBI-Sars-Cov-2, HHousen/ParaSCI, HHousen/msrp, HHousen/quora, Halilyesilceng/autonlp-data-nameEntityRecognition, HarleyQ/WitcherDialogue, HarrisDePerceptron/sv_corpora_parliament_processed, HarrisDePerceptron/ur_corpora_pib, Harveenchadha/bol-models, HarveyBWest/mybot, Hellisotherpeople/DebateSum, Helsinki-NLP/tatoeba_mt, HenryAI/KerasAPIReference.txt, HenryAI/KerasBERTv1-Data, HenryAI/KerasCodeExamples.txt, HenryAI/KerasDeveloperGuides.txt, Husain/intent-classification-en-fr, IFSTalfredoswald/MBTI, IGESML/pubmed_neg, Iftoo95/Arabic_Sentiment_and_Topics, IlyaGusev/gazeta, IlyaGusev/headline_cause, Intel/WEC-Eng, Ishwar/Senti, Iskaj/dutch_corpora_parliament_processed, JIWON/nil_dataset, JIsanan/war-ceb-wikipedia, Jack0508/TED2020_kor, Jack0508/TED2020_vi, Jack0508/TED2020vi_kor, Jack0508/demo, Jack0508/eng_vi_demo, Jack0508/test, Jack0508/vi-ko-TED-txt, Jean-Baptiste/wikiner_fr, Jeska/autonlp-data-vaccinfaq, Jeska/vaccinchat, JesseParvess/book_snippets_asr, Jikiwa/demo1, Jikiwa/demo2, Jikiwa/demo3, Jikiwa/demo4, Jikiwa/glue-mnli-train, Jikiwa/push-to-hub, Jikiwa/pushe-to-hub, Jikiwa/pushed-to-hub, Jikiwa/pushedd-to-hub, Jikiwa/random_repo, Jikiwa/stargazers, Jikiwa/temp-repo-valid, Jikiwa/test-16336477963335, Jikiwa/test-16336478042515, Jikiwa/test-16336479967338, Jikiwa/test-16336480189315, Jikiwa/test-16336486877862, Jikiwa/test-16340052901609, Jikiwa/test-16340052972855, Jikiwa/test-16344347220590, Jikiwa/test-16344347234752, Jikiwa/test-16344349332219, Jikiwa/test-16344349440339, Jikiwa/test-16344351925697, Jikiwa/test-16344360501144, Jikiwa/test-16344361893586, Jikiwa/test-16344362261113, Jikiwa/test-16344362895458, Jikiwa/test-16344364230608, Jikiwa/test-16344364547167, Jikiwa/test-16344367190179, Jikiwa/test-16344368182003, JonathanSum/github-issues, JonathanSum/sv_corpora_parliament_processed, JustinE/Test, KBLab/overlim, KBLab/sucx3_ner, KETI-AIR/aihub, KETI-AIR/klue, KETI-AIR/kor_corpora, KETI-AIR/korquad, KETI-AIR/nikl, KTH/martin, KTH/nst, KTH/speechdat, KTH/waxholm, Karavet/ARPA-Armenian-Paraphrase-Corpus, Karavet/ILUR-news-text-classification-corpus, Karavet/pioNER-Armenian-Named-Entity, Khanoooo/autonlp-data-Corona, Khondoker/SentNoB, Kili/plastic_in_river, Kira-Asimov/gender_clinical_trial, LIAMF-USP/arc-retrieval-c4, Langame/waiting-messages, Language/Fren, Language/trans, Lenn/github-issues, LeoCordoba/CC-NEWS-ES-titles, LeoCordoba/CC-NEWS-ES, LeverageX/book-summarization, LeverageX/klue-mrc, LeverageX/klue-re, Linda/test1111, Llamacha/Monolingual-cha, Llamacha/monolingual-quechua-iic, LoganKells/amazon_product_reviews_video_games, Lucylulu/amazon, Lucylulu/imdb, LuisG07/es_corpora_parliament_processed, Lumos/yahoo_hga, MBAH/MOVIESON, MKK/Dhivehi-English, MLCommons/multilingual-spoken-words, Mahalakshmi/ta_lm_processed, Mansooreh/sharif-emotional-speech-dataset, MarcBrun/squad-eu, MarianaSahagun/test, MarkusDressel/cord, Marzipan/QA4PC, Mateo/test_dataset, Mateo/testdataset, McGill-NLP/mlquestions, Mcy/random_uselesstestsequence, Melinoe/TheLabTexts, MickyMike/large_c_corpus, Motahar/github-issues, Mrleo1nid/Test_ru_dataset, Mulin/my_second_dataset, Mulin/my_third_dataset, NLPC-UOM/English-Tamil-Parallel-Corpus, NLPC-UOM/Sinhala-POS-Data, NTUYG/RAGTest, NYTK/HuCOLA, NYTK/HuCoPA, NYTK/HuRC, NYTK/HuSST, NYTK/HuWSC, NahedAbdelgaber/evaluating-student-writing, Narsil/asr_dummy, Narsil/conversational_dummy, Narsil/image_dummy, Narsil/test_data, Nathanael/NPS, Navigator/dodydard-marty, NbAiLab/NCC, NbAiLab/NCC_small_100, NbAiLab/NCC_small_divided, NbAiLab/NPSC, NbAiLab/NPSC_test, NbAiLab/NPSC_test2, NbAiLab/bokmaal_admin, NbAiLab/norec_agg, NbAiLab/norne, NbAiLab/norwegian_parliament, NikolajW/NPS_nonNormalized-Cased, NishinoTSK/leishmaniaV2, NishinoTSK/leishmaniav1, Ofrit/tmp, Omar2027/caner_replicate, OmarN121/train, PDJ107/riot-data, Paul/hatecheck, PaulLerner/viquae_dataset, PaulLerner/viquae_images, PaulLerner/viquae_wikipedia, Pengfei/asfwe, Pengfei/test, Pengfei/test1, PereLluis13/parla_text_corpus, PereLluis13/spanish_speech_text, Perkhad/corejur, PlanTL-GOB-ES/SQAC, Plim/common_voice_7_0_fr_processed, Plim/fr_corpora_parliament_processed, Plim/fr_wikipedia_processed, Plim/language_model_fr, Pongsaky/Wiki_SCG, Pratik/Gujarati_OpenSLR, Pyjay/emotion_nl, Pyke/patent_abstract, QA/abk-eng, R0bk/XFUN, RBG-AI/CoRePooL, Recognai/ag_news_corrected_labels, Recognai/corrected_labels_ag_news, Recognai/gutenberg_spacy-ner, Recognai/imdb_spacy-ner, Recognai/news, Recognai/sentiment-banking, Recognai/veganuary, Remesita/tagged_reviews, Renukswamy/Patent_sentiment_analysis, RohanAiLab/persian_blog, RohanAiLab/persian_daily_news, RohanAiLab/persian_news_dataset, RollingMuffin/test_scripts, Romrawin/mn-sim, RuudVelo/commonvoice_mt_8_processed, RuudVelo/commonvoice_nl_8_processed, RuudVelo/nl_corpora_parliament_processed, SCourthial/test, Sabokou/qg_squad_modified, Sabokou/qg_squad_modified_dev, SajjadAyoubi/persian_qa, Sam2021/Arguement_Mining_CL2017, Samip/func, SaulLu/Natural_Questions_HTML, SaulLu/Natural_Questions_HTML_Toy, SaulLu/Natural_Questions_HTML_reduced_all, SaulLu/test, SaulLu/toy_struc_dataset, SebastianS/github-issues, SergeiGKS/wikiner_fr_job, Serhii/Custom_SQuAD, SetFit/20_newsgroups, SetFit/TREC-QC, SetFit/ag_news, SetFit/amazon_counterfactual, SetFit/amazon_counterfactual_en, SetFit/amazon_polarity, SetFit/bbc-news, SetFit/emotion, SetFit/enron_spam, SetFit/ethos, SetFit/ethos_binary, SetFit/go_emotions, SetFit/hate_speech18, SetFit/hate_speech_offensive, SetFit/imdb, SetFit/insincere-questions, SetFit/sst2, SetFit/sst5, SetFit/student-question-categories, SetFit/subj, SetFit/toxic_conversations, SetFit/tweet_eval_stance, SetFit/tweet_sentiment_extraction, SetFit/yelp_review_full, Shanna/Jamaica, ShinyQ/PPKM_Pemerintah, Shushant/ContaminationQA, Shushant/NepaliSentiment, Shushant/nepali, SkelterLabsInc/JaQuAD, Smiling/webnovels-en, SoLID/shellcode_i_a32, SocialGrep/one-million-reddit-confessions, SocialGrep/one-million-reddit-jokes, SocialGrep/one-million-reddit-questions, SocialGrep/one-year-of-r-india, SocialGrep/reddit-crypto-aug-2021, SocialGrep/reddit-nonewnormal-complete, SocialGrep/reddit-wallstreetbets-aug-2021, SocialGrep/ten-million-reddit-answers, SocialGrep/the-2022-trucker-strike-on-reddit, SocialGrep/the-reddit-covid-dataset, SophieTr/reddit_clean, TRoboto/masc, TRoboto/names, TaahaKazi/FCE, Taekyoon/test_none_state, Tahsin-Mayeesha/Bengali-SQuAD, Tatyana/ru_sentiment_dataset, Terry0107/RiSAWOZ, TestCher/Testi, Tevatron/msmarco-passage-corpus, Tevatron/msmarco-passage, Tevatron/scifact-corpus, Tevatron/scifact, Tevatron/wikipedia-curated-corpus, Tevatron/wikipedia-curated, Tevatron/wikipedia-nq-corpus, Tevatron/wikipedia-nq, Tevatron/wikipedia-squad-corpus, Tevatron/wikipedia-squad, Tevatron/wikipedia-trivia-corpus, Tevatron/wikipedia-trivia, Tevatron/wikipedia-wq-corpus, Tevatron/wikipedia-wq, TheBlindBandit/SpongeNot, TimTreasure4/Test, Trainmaster9977/957, Trainmaster9977/zbakuman, TristanBehrens/js-fakes-4bars, TurkuNLP/register_mc4, TurkuNLP/register_oscar, TurkuNLP/turku_hockey_data2text, TurkuNLP/turku_paraphrase_corpus, Tyler/wikimatrix_collapsed, UMU/spanish-saticorpus-2021, Usin2705/test, VJGamer/test, VadorMazer/skyrimdialogstest, Valahaar/wsdmt, Vishnu393831/VICTORY_dataset, Vishva/UniFAQ_DataSET, Voxcroft/alffa_amharic, Voxcroft/alffa_wolof, Wiedy/be, Wiedy/wav2vec2-large-xls-r-300m-tr-colab, Wikidepia/IndoParaCrawl, Wikidepia/IndoSQuAD, Wikidepia/mc4-filter, WillFerreiraSantos/halos, Wuhu0/output, WyrdCurt/AO4W, Xenova/sponsorblock-768, Xenova/sponsorblock, XiangPan/iflytek, XiangPan/snli_break, XiangXiang/clt, Xinghua/test, Yatoro/github-issues, Yatoro/github_issues, Yeva/arm-summary, YuAnthony/tnews, Yves/fhnw_swiss_parliament, Zaid/coqa_expanded, Zaid/quac_expanded, Zoe10/ner_dataset, abhishek/autonlp-data-imdb_eval, abhishek/autonlp-data-prodigy-10, abidlabs/crowdsourced-notes, abidlabs/crowdsourced-speech-demo, abidlabs/crowdsourced-speech, abidlabs/crowdsourced-speech2, abidlabs/crowdsourced-speech3, abidlabs/crowdsourced-speech4, abidlabs/crowdsourced-speech5, abidlabs/crowdsourced-speech6, abidlabs/crowdsourced-speech7, abidlabs/test-audio-1, abidlabs/test-audio-13, abidlabs/test-image-13, abidlabs/test-image-classifier-dataset, abidlabs/test-translation-dataset, abidlabs/voice-verification-adversarial-dataset, abwicke/C-B-R, abwicke/koplo, adalbertojunior/MININER, adalbertojunior/punctuation-ptbr-light, adalbertojunior/punctuation-ptbr, adamlin/FewShotWoz, adamlin/companion, adamlin/coqa_squad, adamlin/daily_dialog, adamlin/domain_classification, adamlin/mail-classification, adamlin/multiwoz_dst, adamlin/qa_verification, adamlin/roc_story, adamlin/rs, adamlin/weibo_ner, addy88/nq-question-answeronly, addy88/sanskrit-asr-84-eval, addy88/sanskrit-asr-84, afasafen/mydataset, afasafen/newDataSet, ai4bharat/samanantar, aidystark/Yt, ajmbell/test-dataset, akhaliq/test, akumar33/manufacturing, albertvillanova/carbon_24, albertvillanova/datasets-tests-compression, albertvillanova/dummy_libri2mix, albertvillanova/legal_contracts, albertvillanova/lm_en_dummy0, albertvillanova/lm_en_dummy1, albertvillanova/lm_en_dummy2, albertvillanova/lm_en_dummy3, albertvillanova/lm_en_dummy4, albertvillanova/multilingual_spoken_words, albertvillanova/pmc_open_access, albertvillanova/sat, albertvillanova/tests-public-raw-jsonl, albertvillanova/tests-raw-jsonl, albertvillanova/tmp-tests-zip, albertvillanova/tmp-tests, alexantonov/chuvash_parallel, aliabd/crowdsourced-calculator-demo, aliabd/crowdsourced-speech4, aliabd/hello-world, alireza655/alireza655, alistvt/coqa-flat, alistvt/coqa-stories, alistvt/coqa, alittleie/mis_238, allegro/klej-allegro-reviews, allegro/klej-cbd, allegro/klej-cdsc-e, allegro/klej-cdsc-r, allegro/klej-dyk, allegro/klej-nkjp-ner, allegro/klej-polemo2-in, allegro/klej-polemo2-out, allegro/klej-psc, allegro/polish-question-passage-pairs, allegro/summarization-allegro-articles, allegro/summarization-polish-summaries-corpus, allenai/c4, allenai/scico, alperbayram/TwitterDuygu, alperiox/autonlp-data-user-review-classification, alvp/autonlp-data-alberti-stanza-names, alvp/autonlp-data-alberti-stanzas-finetuning, ami-wav2vec2/ami_multi_headset_segmented_and_chunked, ami-wav2vec2/ami_multi_headset_segmented_and_chunked_and_concatenated, ami-wav2vec2/ami_multi_headset_segmented_and_chunked_dummy, ami-wav2vec2/ami_single_headset_segmented, ami-wav2vec2/ami_single_headset_segmented_and_chunked, ami-wav2vec2/ami_single_headset_segmented_and_chunked_and_concatenated, ami-wav2vec2/ami_single_headset_segmented_and_chunked_dummy, ami-wav2vec2/ami_single_headset_segmented_dummy, aminedjebbie/Multi-Arabic-dialects, andrepreira/outros2021, anechaev/med_history, anechaev/ru_med_history, animesh/autonlp-data-peptides, antoinegk/HealthChallenge_dataset, anton-l/common_language, anton-l/common_voice_7_0_test, anton-l/superb, anton-l/superb_demo, anton-l/superb_dummy, anukaver/EstQA, anuragshas/bg_opus100_processed, anuragshas/ha_cc100_processed, anuragshas/ha_opus100_processed, anuragshas/hi_opus100_processed, anuragshas/lv_opus100_processed, anuragshas/mr_cc100_processed, anuragshas/mt_opus100_processed, anuragshas/pa_cc100_processed, anuragshas/sk_opus100_processed, anuragshas/sl_opus100_processed, anuragshas/ur_opus100_processed, anushakamath/sv_corpora_parliament_processed_v0, anzorq/kbd-ru-1.67M-temp, anzorq/kbd-ru-jsonl-tmp, anzorq/kbd-ru-temp, arch-raven/MAMI, arjunth2001/online_privacy_qna, artemis13fowl/github-issues, artyeth/Dorian, aryanpatke/github-issues, asahi417/qg_jaquad, asahi417/qg_squad, aseifert/merlin, aseifert/pie-synthetic, ashish-shrivastava/dont-know-dataset, ashraq/dhivehi-corpus, asi/wikitext_fr, asoroa/bsbasque, astarostap/antisemitic-tweets, astarostap/antisemitic_tweets, astarostap/autonlp-data-antisemitism-2, astremo/friendly_JA_corpus, astrideducation/cefr-combined-no-cefr-test, atelders/politweets, athar/QA, athivvat/thai-rap-lyrics, ausgequetschtem/jtrddfhfgh, austin/rheum_abstracts, avadesian/dddd, avanishcobaltest/datasetavanish, averyanalex/panorama, azuur/es_corpora_parliament_processed, azuur/gn_wiki_cleaned, badranx/opus_raw, batelicm/feedback-prize-2021-qa-concluding-statement, batelicm/feedback-prize-2021-qa-lead, batelicm/feedback-prize-2021-qa-ner, batelicm/feedback-prize-2021-qa-position, batelicm/feedback-prize-2021-qa, bavard/personachat_truecased, beacon/test, bemanningssitua/dplremjfjfj, benjaminbeilharz/better_daily_dialog, benjaminbeilharz/librivoxdeen, bergoliveira/pl_corpus_teste, berkergurcay/2020-10K-Reports, bertin-project/mc4-es-sampled, bertin-project/mc4-sampling, bhadresh-savani/web_split, bhavnicksm/sentihood, bhigy/buckeye_asr, bigscience/LanguageResourceCatalogue, bigscience/P3, bigscience/mc4-sampled, bigscience/open_subtitles_monolingual, bigscience-catalogue-data-dev/lm_code_github-eval_subset, bigscience-catalogue-lm-data/lm_ar_wikibooks, bigscience-catalogue-lm-data/lm_ar_wikibooks_filtered, bigscience-catalogue-lm-data/lm_ar_wikinews_filtered, bigscience-catalogue-lm-data/lm_ar_wikiquote_filtered, bigscience-catalogue-lm-data/lm_ar_wikisource, bigscience-catalogue-lm-data/lm_ar_wikisource_filtered, bigscience-catalogue-lm-data/lm_ar_wikiversity_filtered, bigscience-catalogue-lm-data/lm_ar_wiktionary_filtered, bigscience-catalogue-lm-data/lm_ca_wikibooks_filtered, bigscience-catalogue-lm-data/lm_ca_wikimedia_filtered, bigscience-catalogue-lm-data/lm_ca_wikinews_filtered, bigscience-catalogue-lm-data/lm_ca_wikiquote_filtered, bigscience-catalogue-lm-data/lm_ca_wikisource_filtered, bigscience-catalogue-lm-data/lm_ca_wiktionary_filtered, bigscience-catalogue-lm-data/lm_code_stackexchange, bigscience-catalogue-lm-data/lm_en_no_code_stackexchange, bigscience-catalogue-lm-data/lm_en_wikibooks_filtered, bigscience-catalogue-lm-data/lm_en_wikinews_filtered, bigscience-catalogue-lm-data/lm_en_wikiquote_filtered, bigscience-catalogue-lm-data/lm_en_wikiversity_filtered, bigscience-catalogue-lm-data/lm_en_wikivoyage_filtered, bigscience-catalogue-lm-data/lm_en_wiktionary_filtered, bigscience-catalogue-lm-data/lm_es_wikibooks_filtered, bigscience-catalogue-lm-data/lm_es_wikinews_filtered, bigscience-catalogue-lm-data/lm_es_wikiquote_filtered, bigscience-catalogue-lm-data/lm_es_wikisource_filtered, bigscience-catalogue-lm-data/lm_es_wikiversity_filtered, bigscience-catalogue-lm-data/lm_es_wikivoyage_filtered, bigscience-catalogue-lm-data/lm_es_wiktionary_filtered, bigscience-catalogue-lm-data/lm_eu_wikibooks_filtered, bigscience-catalogue-lm-data/lm_eu_wikiquote_filtered, bigscience-catalogue-lm-data/lm_eu_wikisource_filtered, bigscience-catalogue-lm-data/lm_eu_wiktionary, bigscience-catalogue-lm-data/lm_eu_wiktionary_filtered, bigscience-catalogue-lm-data/lm_fr_wikibooks, bigscience-catalogue-lm-data/lm_fr_wikibooks_filtered, bigscience-catalogue-lm-data/lm_fr_wikinews, bigscience-catalogue-lm-data/lm_fr_wikinews_filtered, bigscience-catalogue-lm-data/lm_fr_wikiquote, bigscience-catalogue-lm-data/lm_fr_wikiquote_filtered, bigscience-catalogue-lm-data/lm_fr_wikisource_filtered, bigscience-catalogue-lm-data/lm_fr_wikiversity_filtered, bigscience-catalogue-lm-data/lm_fr_wikivoyage, bigscience-catalogue-lm-data/lm_fr_wikivoyage_filtered, bigscience-catalogue-lm-data/lm_fr_wiktionary_filtered, bigscience-catalogue-lm-data/lm_id_wikibooks_filtered, bigscience-catalogue-lm-data/lm_id_wikimedia_filtered, bigscience-catalogue-lm-data/lm_id_wikiquote_filtered, bigscience-catalogue-lm-data/lm_id_wikisource_filtered, bigscience-catalogue-lm-data/lm_id_wiktionary_filtered, bigscience-catalogue-lm-data/lm_indic-as_wikisource_filtered, bigscience-catalogue-lm-data/lm_indic-as_wiktionary_filtered, bigscience-catalogue-lm-data/lm_indic-bn_wikibooks_filtered, bigscience-catalogue-lm-data/lm_indic-bn_wikisource_filtered, bigscience-catalogue-lm-data/lm_indic-bn_wikivoyage_filtered, bigscience-catalogue-lm-data/lm_indic-bn_wiktionary_filtered, bigscience-catalogue-lm-data/lm_indic-gu_wikiquote_filtered, bigscience-catalogue-lm-data/lm_indic-gu_wikisource_filtered, bigscience-catalogue-lm-data/lm_indic-gu_wiktionary_filtered, bigscience-catalogue-lm-data/lm_indic-hi_wikibooks_filtered, bigscience-catalogue-lm-data/lm_indic-hi_wikimedia_filtered, bigscience-catalogue-lm-data/lm_indic-hi_wikiquote_filtered, bigscience-catalogue-lm-data/lm_indic-hi_wikisource_filtered, bigscience-catalogue-lm-data/lm_indic-hi_wikiversity_filtered, bigscience-catalogue-lm-data/lm_indic-hi_wikivoyage_filtered, bigscience-catalogue-lm-data/lm_indic-hi_wiktionary_filtered, bigscience-catalogue-lm-data/lm_indic-kn_wikiquote_filtered, bigscience-catalogue-lm-data/lm_indic-kn_wikisource_filtered, bigscience-catalogue-lm-data/lm_indic-kn_wiktionary_filtered, bigscience-catalogue-lm-data/lm_indic-ml_wikibooks_filtered, bigscience-catalogue-lm-data/lm_indic-ml_wikiquote_filtered, bigscience-catalogue-lm-data/lm_indic-ml_wikisource_filtered, bigscience-catalogue-lm-data/lm_indic-ml_wiktionary_filtered, bigscience-catalogue-lm-data/lm_indic-mr_wikibooks_filtered, bigscience-catalogue-lm-data/lm_indic-mr_wikiquote_filtered, bigscience-catalogue-lm-data/lm_indic-mr_wikisource_filtered, bigscience-catalogue-lm-data/lm_indic-mr_wiktionary_filtered, bigscience-catalogue-lm-data/lm_indic-or_wikisource_filtered, bigscience-catalogue-lm-data/lm_indic-or_wiktionary_filtered, bigscience-catalogue-lm-data/lm_indic-pa_wikibooks_filtered, bigscience-catalogue-lm-data/lm_indic-pa_wikisource_filtered, bigscience-catalogue-lm-data/lm_indic-pa_wiktionary_filtered, bigscience-catalogue-lm-data/lm_indic-ta_wikibooks_filtered, bigscience-catalogue-lm-data/lm_indic-ta_wikinews_filtered, bigscience-catalogue-lm-data/lm_indic-ta_wikiquote_filtered, bigscience-catalogue-lm-data/lm_indic-ta_wikisource_filtered, bigscience-catalogue-lm-data/lm_indic-ta_wiktionary_filtered, bigscience-catalogue-lm-data/lm_indic-te_wikibooks_filtered, bigscience-catalogue-lm-data/lm_indic-te_wikiquote_filtered, bigscience-catalogue-lm-data/lm_indic-te_wikisource_filtered, bigscience-catalogue-lm-data/lm_indic-te_wiktionary_filtered, bigscience-catalogue-lm-data/lm_indic-ur_wikibooks_filtered, bigscience-catalogue-lm-data/lm_indic-ur_wikiquote_filtered, bigscience-catalogue-lm-data/lm_indic-ur_wiktionary_filtered, bigscience-catalogue-lm-data/lm_nigercongo-bm_wikibooks_filtered, bigscience-catalogue-lm-data/lm_nigercongo-ln_wiktionary_filtered, bigscience-catalogue-lm-data/lm_nigercongo-rw_wiktionary_filtered, bigscience-catalogue-lm-data/lm_nigercongo-st_wiktionary_filtered, bigscience-catalogue-lm-data/lm_nigercongo-sw_wikibooks_filtered, bigscience-catalogue-lm-data/lm_nigercongo-sw_wiktionary_filtered, bigscience-catalogue-lm-data/lm_nigercongo-tn_wiktionary_filtered, bigscience-catalogue-lm-data/lm_nigercongo-ts_wiktionary_filtered, bigscience-catalogue-lm-data/lm_nigercongo-wo_wikiquote_filtered, bigscience-catalogue-lm-data/lm_nigercongo-wo_wiktionary_filtered, bigscience-catalogue-lm-data/lm_nigercongo-zu_wiktionary_filtered, bigscience-catalogue-lm-data/lm_pt_wikibooks_filtered, bigscience-catalogue-lm-data/lm_pt_wikimedia_filtered, bigscience-catalogue-lm-data/lm_pt_wikinews_filtered, bigscience-catalogue-lm-data/lm_pt_wikiquote_filtered, bigscience-catalogue-lm-data/lm_pt_wikisource_filtered, bigscience-catalogue-lm-data/lm_pt_wikiversity_filtered, bigscience-catalogue-lm-data/lm_pt_wikivoyage_filtered, bigscience-catalogue-lm-data/lm_pt_wiktionary_filtered, bigscience-catalogue-lm-data/lm_vi_wikibooks_filtered, bigscience-catalogue-lm-data/lm_vi_wikiquote_filtered, bigscience-catalogue-lm-data/lm_vi_wikisource_filtered, bigscience-catalogue-lm-data/lm_vi_wikivoyage_filtered, bigscience-catalogue-lm-data/lm_vi_wiktionary_filtered, bigscience-catalogue-lm-data/lm_zh_wikibooks_filtered, bigscience-catalogue-lm-data/lm_zh_wikinews_filtered, bigscience-catalogue-lm-data/lm_zh_wikiquote_filtered, bigscience-catalogue-lm-data/lm_zh_wikiversity_filtered, bigscience-catalogue-lm-data/lm_zh_wikivoyage_filtered, bigscience-catalogue-lm-data/lm_zh_wiktionary_filtered, bigscience-catalogue-lm-data/lm_zu_wiktionary, bigscience-historical-texts/hipe2020, bingzhen/test2, birgermoell/sv_corpora_parliament_processed, bitmorse/kickstarter_2022-2021, biu-nlp/qa_align, biu-nlp/qa_discourse, biu-nlp/qa_srl2018, biu-nlp/qa_srl2020, biu-nlp/qamr, biu-nlp/qanom, blinoff/medical_qa_ru_data, bobbydylan/top2k, bondarchukb/autonlp-data-iab_classification, braincode/braincode, brunodorneles/ner, bryantpwhite/Medieval_Sermons_in_French, bryantpwhite/Medieval_Texts_in_French, bs-modeling-metadata/OSCAR_Entity_13_000, bs-modeling-metadata/c4_newslike_url_only, bs-modeling-metadata/website_metadata_c4, bs-modeling-metadata/wiki_dump, bsc/ancora-ca-ner, bsc/sts-ca, bsc/tecla, bsc/viquiquad, bsc/xquad-ca, bstad/github-issues, bwu2018/anime-tagging-dataset, caca/zscczs, cakiki/args_me, cakiki/arxiv-metadata, cakiki/en_wiki_quote, cakiki/paperswithcode, caltonji/harrypotter_squad_v2, caltonji/harrypotter_squad_v2_2, calvpang/github-issues, cameronbc/synthtiger, cankeles/eval-senh, canwenxu/dogwhistle, cassandra-themis/QR-AN, castorini/afriberta-corpus, castorini/mr-tydi-corpus, castorini/mr-tydi, castorini/msmarco_v1_doc_doc2query-t5_expansions, castorini/msmarco_v1_doc_segmented_doc2query-t5_expansions, castorini/msmarco_v1_passage_doc2query-t5_expansions, castorini/msmarco_v2_doc_doc2query-t5_expansions, castorini/msmarco_v2_doc_segmented_doc2query-t5_expansions, castorini/msmarco_v2_passage_doc2query-t5_expansions, castorini/nq_gar-t5_expansions, castorini/triviaqa_gar_t5_expansions, caythuoc/caoduoclieu, cbrew475/hwu66, ccccccc/hdjw_94ejrjr, ccdv/arxiv-classification, ccdv/arxiv-summarization, ccdv/cnn_dailymail, ccdv/govreport-summarization, ccdv/patent-classification, ccdv/pubmed-summarization, cdleong/piglatin-mt, cdleong/temp_africaNLP_keyword_spotting_for_african_languages, cdminix/iwslt2011, cdminix/mgb1, cem/dnm, cem/film, cemigo/taylor_vs_shakes, cemigo/test-data, cestwc/adapted-msrcomp, cestwc/adapted-paranmt5m, cestwc/adapted-sentcomp, cestwc/adapted-synonym, cestwc/adapted-wikismall, cestwc/adapted-wordnet, cestwc/asrc, cestwc/cnn_dailymail-metaeval100, cestwc/cnn_dailymail-snippets, cestwc/cnn_dailymail-test50, cestwc/conjnli, cestwc/sac-approx-1, cestwc/sac-na, cestwc/sac, cfilt/iitb-english-hindi, cgarciae/point-cloud-mnist, cgarciae/point_cloud_mnist, chau/ink_test01, chenghao/mc4_eu_dedup, chenghao/mc4_sw_dedup, chenghao/scielo_books, chenyuxuan/wikigold, cheulyop/dementiabank, cheulyop/ksponspeech, chitra/contradiction, chitra/contradictionNLI, chmanoj/ai4bharat__samanantar_processed_te, chopey/dhivehi, clarin-pl/aspectemo, clarin-pl/cst-wikinews, clarin-pl/kpwr-ner, clarin-pl/multiwiki_90k, clarin-pl/nkjp-pos, clarin-pl/polemo2-official, classla/FRENK-hate-en, classla/FRENK-hate-hr, classla/FRENK-hate-sl, classla/copa_hr, classla/hr500k, classla/janes_tag, classla/reldi_hr, classla/reldi_sr, classla/setimes_sr, classla/ssj500k, clem/autonlp-data-french_word_detection, clips/mfaq, clips/mqa, cnrcastroli/aaaa, coala/kkk, codeceejay/ng_accent, cointegrated/ru-paraphrase-NMT-Leipzig, collectivat/tv3_parla, comodoro/pscr, comodoro/vystadial2016, congpt/dstc23_asr, corypaik/coda, corypaik/prost, coyotte508/dataset, craffel/openai_lambada, crich/cider, cristinakuo/latino40, crystina-z/inlang-mrtydi-corpus, crystina-z/inlang-mrtydi, crystina-z/mbert-mrtydi-corpus, crystina-z/mbert-mrtydi, csarron/image-captions, csebuetnlp/xlsum, csebuetnlp/xnli_bn, csikasote/bemba_train_dev_sets_processed, csikasote/bemba_trainset_processed, csikasote/bembaspeech_plus_jw_processed, csikasote/sv_corpora_parliament_processed, cstrathe435/Task2Dial, ctgowrie/chessgames, ctl/ConceptualCaptions, ctu-aic/ctkfacts_nli, cyko/books, cylee/github-issues, dalle-mini/YFCC100M_OpenAI_subset, dalle-mini/wit, damlab/HIV_FLT, damlab/HIV_PI, damlab/HIV_V3_bodysite, damlab/HIV_V3_coreceptor, dansbecker/hackernews_hiring_posts, darentang/generated, darentang/sroie, darkraipro/recipe-instructions, dasago78/dasago78dataset, dataset/wikipedia_bn, davanstrien/19th-century-ads, davanstrien/ads-im-test, davanstrien/ads-test, davanstrien/crowdsourced-keywords, davanstrien/embellishments, davanstrien/hipe2020, davanstrien/hmd_newspapers, davanstrien/kitten, davanstrien/manuscript_iiif_test, davanstrien/snorkel_genre, davanstrien/test_iiif, davanstrien/test_push_to_hub_image, davanstrien/testpush, david-wb/zeshel, davidwisdom/reddit-randomness, dcfidalgo/test, debajyotidatta/biosses, debatelab/aaac, deepset/germandpr, deepset/germanquad, dennlinger/klexikon, deokgu/fooddetection, dev/untitled_imgs, dfgvhxfgv/fghghj, dfki-nlp/few-nerd, dfki-nlp/mobie, dgao/librispeech_nc_test, dgknrsln/Yorumsepeti, diiogo/annotations, diiogo/brwac-clean, diiogo/harem-seletivo, diiogo/harem-total, diiogo/ocr-galdino, diiogo/oscar, dispenst/jhghdghfd, dispix/test-dataset, diwank/silicone-merged, dk-crazydiv/huggingface-modelhub, dlb/plue, dog/friends-of-mine, dog/punks, dongpil/test, dragosnicolae555/RoITD, dram-conflict/horror-scripts, dvilasuero/ag_news_error_analysis, dvilasuero/ag_news_training_set_losses, dvilasuero/test-dataset, dweb/squad_with_cola_scores, dynabench/dynasent, dynabench/qa, eason929/test, ebrigham/asr_files, ebrigham/autonlp-data-csat_classification_fr, ebrigham/labels, ebrigham/multi_sentiment, echarlaix/gqa-lxmert, echarlaix/gqa, echarlaix/vqa-lxmert, echarlaix/vqa, edbeeching/decision_transformer_atari_dqn_replay, edbeeching/decision_transformer_gym_replay, edbeeching/github-issues, edfews/szdfcszdf, edge2992/github-issues, edge2992/rri-short, edge2992/rri_short, edsas/fgrdtgrdtdr, edsas/grttyi, ehcalabres/ravdess_speech, ejjaffe/onion_headlines_2_sources, eliza-dukim/load_klue_re, elonmuskceo/persistent-space-dataset, elonmuskceo/wordle, elricwan/bert_data, emre/Open_SLR108_Turkish_10_hours, emrecan/stsb-mt-turkish, enelpol/czywiesz, erikacardenas300/Zillow_Economics_Dataset, ervis/aaa, ervis/qqq, erwanlc/cocktails_recipe, erwanlc/cocktails_recipe_no_brand, eugenesiow/BSD100, eugenesiow/Div2k, eugenesiow/PIRM, eugenesiow/Set14, eugenesiow/Set5, eugenesiow/Urban100, evageon/IADD, ewdrtfwe/54refyghrtf, facebook/multilingual_librispeech, fatvvs/autonlp-data-entity_model_conll2003, fededeleon/CriteriosClasificacion, fengzhang/fzTestDatasets, fhamborg/news_sentiment_newsmtsc, fighterhitx/test, fihtrotuld/asu, flax-community/code_clippy_data, flax-community/conceptual-12m-mbart-50-multilingual, flax-community/conceptual-12m-multilingual-marian-128, flax-community/conceptual-12m-multilingual-marian-es, flax-community/conceptual-12m-multilingual-marian, flax-community/conceptual-captions-12, flax-community/dummy-oscar-als-32, flax-community/german-common-voice-processed, flax-community/german_common_crawl, flax-community/multilingual-vqa, flax-community/norwegian-clean-dummy, flax-community/swahili-safi, flax-sentence-embeddings/Gender_Bias_Evaluation_Set, flax-sentence-embeddings/paws-jsonl, flax-sentence-embeddings/stackexchange_math_jsonl, flax-sentence-embeddings/stackexchange_title_best_voted_answer_jsonl, flax-sentence-embeddings/stackexchange_title_body_jsonl, flax-sentence-embeddings/stackexchange_titlebody_best_and_down_voted_answer_jsonl, flax-sentence-embeddings/stackexchange_titlebody_best_voted_answer_jsonl, flax-sentence-embeddings/stackexchange_xml, flexthink/librig2p-nostress-space, flexthink/librig2p-nostress, flexthink/ljspeech, flexudy/OMQD, florianbussmann/FUNSD-vu2020revising, florianbussmann/train_tickets-yu2020pick, flxclxc/encoded_drug_reviews, formermagic/github_python_1m, formu/CVT, fractalego/QA_to_statements, frahman/github-issues, frtna/all_about_that_base, frtna/cukumicin, frtna/deneme, frtna/es_it_Results-base-OPUS_Tatoeba, frtna/gezelimgorelim, frtna/jwt300_mt, frtna/opensubtitles_mt, frtna/sabahaKKarsi, frtna/ted_mt, frtna/test, frtna/test2, fulai/DuReader, fuliucansheng/coco, fuliucansheng/minicoco, fuliucansheng/mininlp, fuliucansheng/pascal_voc, fuyun1107/clip-for-vlp, fvillena/cantemist, fvillena/spanish_diagnostics, gabella/demo_data_raw, gagan3012/fake-news, gagan3012/grover-data, gagan3012/vizwiz, gar1t/test, gayanin/pubmed-gastro-maskfilling, gayanin/pubmed-gastro-paraphrasing, gayanin/pubmed-gastro-summarisation, gcaillaut/citeseer, gcaillaut/cora, gcaillaut/frwiki_good_pages_el, gcaillaut/pubmed, geekydevu/mlquestions, geninhu/vi_opus100_processed, geninhu/vi_vivos-cv-tts-fpt_processed, german-nlp-group/german_common_crawl, gfigueroa/wikitext_processed, gfissore/arxiv-abstracts-2021, ghadeermobasher/BC5CDR-Chemical-Disease, ghadeermobasher/CRAFT-Chem, ghomasHudson/ao3_style_change, ghomasHudson/character_id, ghomasHudson/hotpotExtended, ghomasHudson/long_contra_pro, ghomasHudson/muld, ghomasHudson/vlsp, gigant/african_accented_french, gigant/m-ailabs_speech_dataset_fr, gigant/ro_corpora_parliament_processed, gigant/romanian_speech_synthesis_0_8_1, gmnlp/tico19, gorkemgoknar/tr_ted_talk_translated, gpt3mix/rt20, gpt3mix/sst2, gsarti/change_it, gsarti/clean_mc4_it, gsarti/flores_101, gsarti/itacola, gsarti/wmt_vat, guoqiang/cuge, gusu/mymodel1, habu24/fdz, happifyhealth/twitter_pnn, hartzeer/kdfjdshfje, henrychess/gutenberg-fulltext-dirty-locc, herbievore/test, hf-internal-testing/cats_vs_dogs_sample, hf-internal-testing/fixtures_ade20k, hf-internal-testing/fixtures_docvqa, hf-internal-testing/fixtures_image_utils, hf-internal-testing/fixtures_nlvr2, hf-internal-testing/fixtures_ocr, hf-internal-testing/fixtures_sintel, hf-internal-testing/librispeech_asr_demo, hf-internal-testing/librispeech_asr_dummy, hf-internal-testing/test-dataset, hf-internal-testing/transformers-metadata, hf-test/sv_corpora_parliament_processed, hfface/poopi, holodata/sensai, holylovenia/recam, hong/autonlp-data-zoo_test, honghungle/dataset, howardmiddleton382/esuyertusutr, howardmiddleton382/wgweagwege, huggingFaceUser02/air21_grp13_inference_results, huggingFaceUser02/air21_grp13_tokenized_results, huggingartists/100-gecs, huggingartists/21-savage, huggingartists/25-17, huggingartists/50-cent, huggingartists/5nizza, huggingartists/5opka, huggingartists/6ix9ine, huggingartists/aaron-watson, huggingartists/abba, huggingartists/adele, huggingartists/agata-christie, huggingartists/aikko, huggingartists/aimer, huggingartists/ajr, huggingartists/alan-walker, huggingartists/andre-3000, huggingartists/arash, huggingartists/architects, huggingartists/arctic-monkeys, huggingartists/ariana-grande, huggingartists/ariya, huggingartists/armin-van-buuren, huggingartists/as-i-lay-dying, huggingartists/asdfgfa, huggingartists/asper-x, huggingartists/baklan, huggingartists/big-baby-tape, huggingartists/big-russian-boss, huggingartists/bill-wurtz, huggingartists/billie-eilish, huggingartists/billy-talent, huggingartists/bladee, huggingartists/bob-dylan, huggingartists/bones, huggingartists/booker, huggingartists/boris-grebenshikov, huggingartists/braii, huggingartists/bring-me-the-horizon, huggingartists/bruce-springsteen, huggingartists/bryan-adams, huggingartists/burzum, huggingartists/bushido-zho, huggingartists/cardi-b, huggingartists/chester-bennington, huggingartists/chief-keef, huggingartists/cocomelon, huggingartists/coin, huggingartists/coldplay, huggingartists/dababy, huggingartists/david-bowie, huggingartists/ddt, huggingartists/death-grips, huggingartists/deep-purple, huggingartists/denderty, huggingartists/dermot-kennedy, huggingartists/dj-artem-artemov, huggingartists/doja-cat, huggingartists/drake, huggingartists/dua-lipa, huggingartists/duran-duran, huggingartists/dzhizus, huggingartists/ed-sheeran, huggingartists/egor-kreed, huggingartists/egor-letov, huggingartists/elton-john, huggingartists/eminem, huggingartists/enigma, huggingartists/enya, huggingartists/epic-rap-battles-of-history, huggingartists/face, huggingartists/fascinoma, huggingartists/fear-factory, huggingartists/florence-the-machine, huggingartists/freddie-dredd, huggingartists/freelancer, huggingartists/galenskaparna-and-after-shave, huggingartists/ghost, huggingartists/ghostemane, huggingartists/ghostmane, huggingartists/gizmo, huggingartists/gorillaz, huggingartists/green-day, huggingartists/grigory-leps, huggingartists/grimes, huggingartists/gspd, huggingartists/gunna, huggingartists/hillsong-worship, huggingartists/hyuna, huggingartists/i-dont-know-how-but-they-found-me, huggingartists/idktime, huggingartists/imagine-dragons, huggingartists/jah-khalib, huggingartists/jim-morrison, huggingartists/john-k-samson, huggingartists/john-lennon, huggingartists/joji, huggingartists/joni-mitchell, huggingartists/justin-bieber, huggingartists/kanye-west, huggingartists/kasta, huggingartists/katy-perry, huggingartists/kehlani, huggingartists/kendrick-lamar, huggingartists/kesha, huggingartists/king-krule, huggingartists/kipelov, huggingartists/kishlak, huggingartists/kizaru, huggingartists/kojey-radical, huggingartists/krechet, huggingartists/krept-and-konan-bugzy-malone-sl-morisson-abra-cadabra-rv-and-snap-capone, huggingartists/kurt-cobain, huggingartists/lady-gaga, huggingartists/lazy-jay, huggingartists/led-zeppelin, huggingartists/lil-baby, huggingartists/lil-nas-x, huggingartists/lil-peep, huggingartists/lil-skies, huggingartists/lil-uzi-vert, huggingartists/linkin-park, huggingartists/little-big, huggingartists/lizer, huggingartists/logic, huggingartists/lorde, huggingartists/loud-luxury, huggingartists/loverance, huggingartists/lovv66, huggingartists/lumen, huggingartists/lyapis-trubetskoy, huggingartists/macan, huggingartists/machine-gun-kelly, huggingartists/madonna, huggingartists/marillion, huggingartists/maroon-5, huggingartists/mashina-vremeni, huggingartists/mating-ritual, huggingartists/max-korzh, huggingartists/mayot, huggingartists/mc-ride, huggingartists/melanie-martinez, huggingartists/metallica, huggingartists/mf-doom, huggingartists/michael-jackson, huggingartists/mikhail-gorshenev, huggingartists/mikhail-krug, huggingartists/miyagi, huggingartists/mnogoznaal, huggingartists/morgenshtern, huggingartists/mumiy-troll, huggingartists/muse, huggingartists/nautilus-pompilius, huggingartists/nervy, huggingartists/nicki-minaj, huggingartists/nirvana, huggingartists/noize-mc, huggingartists/oasis, huggingartists/obladaet, huggingartists/og-buda, huggingartists/ot-rus, huggingartists/our-last-night, huggingartists/oxxxymiron, huggingartists/peter-paul-and-mary, huggingartists/pharaoh, huggingartists/phish, huggingartists/pink-floyd, huggingartists/placebo, huggingartists/platina, huggingartists/pop-smoke, huggingartists/post-malone, huggingartists/pyrokinesis, huggingartists/queen, huggingartists/radiohead, huggingartists/rage-against-the-machine, huggingartists/ramil, huggingartists/rammstein, huggingartists/red-hot-chili-peppers, huggingartists/rex-orange-county, huggingartists/rihanna, huggingartists/rocket, huggingartists/sam-kim, huggingartists/scriptonite, huggingartists/sektor-gaza, huggingartists/selena-gomez, huggingartists/sergei-letov, huggingartists/shadowraze, huggingartists/sia, huggingartists/sid-sriram, huggingartists/skillet, huggingartists/slava-kpss, huggingartists/slava-marlow, huggingartists/snoop-dogg, huggingartists/sqwore, huggingartists/sugar-ray, huggingartists/suicideoscope, huggingartists/sum-41, huggingartists/sundara-karma, huggingartists/system-of-a-down, huggingartists/t-fest, huggingartists/tanzy-minus, huggingartists/taylor-swift, huggingartists/tedeschi-trucks-band, huggingartists/the-69-eyes, huggingartists/the-avalanches, huggingartists/the-beatles, huggingartists/the-gazette, huggingartists/the-grateful-dead, huggingartists/the-king-and-the-jester, huggingartists/the-notorious-big, huggingartists/the-sugarcubes, huggingartists/the-the-pigs, huggingartists/the-velvet-underground, huggingartists/the-weeknd, huggingartists/tiamat, huggingartists/till-lindemann, huggingartists/tom-waits, huggingartists/tony-raut-and-garry-topor, huggingartists/tool, huggingartists/totpoc, huggingartists/travis-scott, huggingartists/twenty-one-pilots, huggingartists/tyler-the-creator, huggingartists/upsahl, huggingartists/v-x-v-prince, huggingartists/van-morrison, huggingartists/veggietales, huggingartists/viktor-tsoi, huggingartists/vladimir-vysotsky, huggingartists/xxxtentacion, huggingartists/young-thug, huggingartists/yung-lean, huggingartists/yung-plague, huggingartists/zemfira, huggingface/DataMeasurementsFiles, huggingface/cats-image, huggingface/documentation-images, huggingface/label-files, huggingface/task-page-images, huggingface/transformers-metadata, huggingface-course/codeparrot-ds-train, huggingface-course/codeparrot-ds-valid, husnu/tquad-v1v2, husnu/tquad2, huyongquan/d2, hyeonduck/whiteboard_abuse_dataset, hyeonduck/your_dataset_name, ia-bentebib/conv_ai_2_fr, ia-bentebib/conv_ai_3_fr, ia-bentebib/daily_dialog_fr, ia-bentebib/diafrag, ia-bentebib/dialog_re_fr, ia-bentebib/doc2dial_fr, ia-bentebib/empathetic_dialogues_fr, iamshsdf/sssssssssss, iarfmoose/qa_evaluator, iarfmoose/question_generator, image-search-2/unsplash_lite_image_dataset, imthanhlv/binhvq_dedup, imthanhlv/binhvq_news21_raw, imvladikon/knesset_meetings_corpus, indonesian-nlp/id_personachat, iohadrubin/mtop, iohadrubin/smcalflow, ixxi/my_v1, jacobbieker/open-crab-sample, jaimin/wav2vec2-large-xlsr-gujarati-demo, jakeazcona/short-text-labeled-emotion-classification, jakeazcona/short-text-multi-labeled-emotion-classification, jakemarcus/MATH, jamescalam/climate-fever-similarity, jamol1741/test_dataset, jcmc/ga-IE_opus_dgt_train, jcmc/ga_mc4_processed, jdepoix/junit_test_completion, jeffboudier/testing3, jegorkitskerkin/dutch-snli, jel/covid, jeree/fr_corpora_parliament_processed, jfarray/TFM, jgammack/MTL-abstracts, jgammack/SAE-door-abstracts, jgammack/THESES-abstracts, jglaser/binding_affinity, jhonparra18/spanish_billion_words_clean, jhqwqq/2, jianhong/dateset1, jianhong/dateset2, jimregan/clarinpl_sejmsenat, jimregan/clarinpl_studio, jimregan/foinse, jimregan/lasid, jinmang2/KorQuADv1, jinmang2/common-sense-mrc, jinmang2/load_klue_re, jinmang2/medical-mask, jinmang2/pred, jiyoojeong/targetizer, jlh/coco, jmamou/augmented-glue-sst2, joelito/ler, joelito/sem_eval_2010_task_8, johnpaulbin/autonlp-data-asag-v2, jonfd/ICC, jozierski/ecomwebtexts-pl, jpcorb20/multidogo, jsfactory/mental_health_reddit_posts, ju-bezdek/conll2003-SK-NER, julien-c/dummy-dataset-from-colab, julien-c/persistent-space-dataset, julien-c/reactiongif, juliensimon/autonlp-data-song-lyrics-demo, juliensimon/autonlp-data-song-lyrics, juniorrios/roi_leish_test, juny116/few_glue, justinqbui/covid_fact_checked_google_api, justinqbui/covid_fact_checked_polifact, k-halid/ar, k0t1k/test, kaka10/fgfgfgfg, karinev/lanuitdudroit, kartikay/review-summarizer, katanaml/cord, katoensp/VR-OP, kaushikacharya/github-issues, kenlevine/CUAD, keshan/clean-si-mc4, keshan/large-sinhala-asr-dataset, keshan/multispeaker-tts-sinhala, keshan/wit-dataset, kevinassobo/sales_2015_dataset, kevinjesse/ManyTypes4TypeScript, kevinlu1248/personificationgen, khalidsaifullaah/detecThreats, khanbaba/online_love, khursani8/sani, kiamehr74/CoarseWSD-20, kingabzpro/Rick-bot-flags, kingabzpro/ar_corpora_parliament_processed, kingabzpro/ga_corpora_parliament_processed, kingabzpro/pan_corpora_parliament_processed, kingabzpro/savtadepth-flags, kingabzpro/tt_corpora_parliament_processed, kiyoung2/aistage-mrc, kiyoung2/temp, kleinay/qa_srl, kmfoda/booksum, kmfoda/name_finder_v1, kmyoo/klue-tc-dev, knilakshan20/wikigold, kowndinya23/bert-dataset, krandiash/beethoven, krandiash/sc09, krandiash/youtubemix, kresnik/librispeech_asr_test, kresnik/zeroth_korean, kroshan/BioASQ, kroshan/qa_evaluator, kudo-research/mustc-en-es-text-only, kyryl0s/ukbbc, laion/filtered-wit, laion/laion400m, laion/laion_100m_vqgan_f8, lara-martin/Scifi_TV_Shows, larcane/ko-WIT, laugustyniak/abusive-clauses-pl, lavis-nlp/german_legal_sentences, layboard/layboard.in, lc-col/sv_corpora_parliament_processed, leiping/jj, leiping/teeee, leoapolonio/AMI_Meeting_Corpus, lewtun/asr-preds-test, lewtun/asr_dummy, lewtun/benchmark-test, lewtun/binary_classification_dummy, lewtun/bulk-superb-s3p-superb-49606, lewtun/drug-reviews, lewtun/gem-multi-dataset-predictions, lewtun/gem-sub-03, lewtun/gem-test-predictions, lewtun/gem-test-references, lewtun/github-issues-test, lewtun/github-issues, lewtun/mnist-preds, lewtun/my-awesome-dataset, lewtun/s3prl-sd-dummy, lewtun/test, lewtun/text_classification_dummy, lgrobol/openminuscule, lhoestq/conll2003, lhoestq/custom_squad, lhoestq/demo1, lhoestq/squad, lhoestq/test, lhoestq/test2, lhoestq/test_commit_descriptions, lhoestq/test_zip_txt, lhoestq/tmp, lhoestq/wikipedia_bn, liam168/nlp_c4_sentiment, lidia/202111, lijingxin/github-issues, lijingxin/squad_zen, lijingxin/squad_zh_1, limjiayi/hateful_memes_expanded, lincoln/newsquadfr, linhd-postdata/pulpo, linhd-postdata/stanzas, liweili/c4_200m, lkarjun/Malayalam-Articles, lkiouiou/o9ui7877687, lkndsjkndgskjngkjsndkj/jsjdjsdvkjvszlhdskb, lohanna/testedjkcxkf, lorsorlah/Dadedadedam, loveguruji609/dfdfsdfsdfsdfsdfsd, lpsc-fiuba/melisa, lsb/ancient-latin-passages, lsb/million-english-numbers, lucien/sciencemission, lucien/voacantonesed, lucien/wsaderfffjjjhhh, lucio/common_voice_eval, lukasmasuch/my-test-repo-3, lukasmasuch/my-test-repo-4, lukasmasuch/test-2, lukasmasuch/test-3, lukasmasuch/test, lukesjordan/worldbank-project-documents, luofengge/mydata, luofengge/testDataset, luomingshuang/GRID_audio, luomingshuang/GRID_text, luomingshuang/grid_lip_160_80, luozhouyang/dureader, luozhouyang/kgclue-knowledge, luozhouyang/question-answering-datasets, lvwerra/codeparrot-clean-train, lvwerra/codeparrot-clean-valid, lvwerra/codeparrot-clean, lvwerra/codeparrot-valid-clean-minimal, lvwerra/codeparrot-valid, lvwerra/github-alphacode, lvwerra/github-code, lvwerra/important_dataset, lvwerra/lm_ar_wikipedia, lvwerra/lm_nigercongo-ak_wikipedia, lvwerra/red-wine, lvwerra/repo-images, lvwerra/test, lysandre/image-to-text, lysandre/my-cool-dataset, m-newhauser/dataset-isi-200, m3hrdadfi/recipe_nlg_lite, mad/IndonesiaNewsDataset, maindadwitiya/weather_dataset, maji/npo_mission_statement_ucf, majod/CleanNaturalQuestionsDataset, makanan/umich, makarios19/neurips-paper, malay-huggingface/jelapang-padi, malay-huggingface/pembalakan, mammut/mammut-corpus-venezuela-test-set, mammut/mammut-corpus-venezuela, manandey/OSCAR_Entity_Toy, manandey/entity_experiments, manifoldix/sg_testset_fhnw, manifoldix/swg_parliament_fhnw, manishk31/Demo, manu/fr_corpora_parliament_processed-lowercased, manu/fr_corpora_parliament_processed, marinone94/nst_no, marinone94/nst_sv, mariosasko/PetImages, mariosasko/dummy_test, markscrivo/OddsOn, martiwey/codesearchnet-go, martiwey/codesearchnet-java, martiwey/codesearchnet-javascript, martiwey/codesearchnet-php, martiwey/codesearchnet-python, martiwey/codesearchnet-ruby, martodaniel/terere, masked-neuron/amazon, masked-neuron/ccd, masked-neuron/qb, mattchurgin/sv_corpora_parliament_processed, matteopilotto/github-issues, maximedb/mcqa_light, maximedb/mfaq_light, maximedb/paws-x-all, maximedb/vaccinchat, maximedb/vaccinchat_retrieval, maximedb/wow, maxmoynan/SemEval2017-Task4aEnglish, mbateman/github-issues, medzaf/test, meghanabhange/chaii, meghanabhange/hilm141021, meghanabhange/hitalm141021, meghanabhange/hitalmsandbox, meghanabhange/talm141021, merty/nateraw-food101-copy, merve/coco, merve/folk-mythology-tales, merve/poetry, merve/qqp, metaeval/blimp_classification, metaeval/colors, metaeval/crowdflower, metaeval/ethics, metaeval/linguisticprobing, metaeval/recast, metalearning/kaggale-nlp-tutorial, metamong1/summarization_optimization, metopedia/autonlp-data-Multiple-Source-Language-Consensus-Reconstruction-o, michaelbenayoun/wikipedia-bert-128, microsoft/codexglue_method_generation, midas/citeulike180, midas/cstr, midas/duc2001, midas/inspec, midas/inspec_ke_tagged, midas/kdd, midas/kp20k, midas/kpcrowd, midas/kptimes, midas/krapivin, midas/ldke3k_medium, midas/ldke3k_small, midas/ldkp10k, midas/ldkp3k, midas/ldkp3k_small, midas/nus, midas/oagkx, midas/openkp, midas/pubmed, midas/semeval2010, midas/semeval2010_ke_tagged, midas/semeval2017, midas/semeval2017_ke_tagged, midas/test_ldkp, midas/www, mideind/icelandic-common-crawl-corpus-IC3, mideind/icelandic-error-corpus-IceEC, mikeee/model-z, mirari/sv_corpora_parliament_processed, mishig/sample_images, mksaad/Arabic_news, ml6team/cnn_dailymail_nl, ml6team/xsum_nl, mldmm/glass_alloy_composition, mmcquade11-test/reuters-for-summarization-two, mmm-da/rutracker_anime_torrent_titles, mnaylor/evaluating-student-writing, mnemlaghi/widdd, mohamed-illiyas/wav2vec2-base-lj-demo-colab, morganchen1007/1215, morganchen1007/1216, morganchen1007/1216_00, morganchen1007/test_1213_00, moshew/my_raft, mostol/wiktionary-ipa, moumeneb1/French_arpa_lm, moumeneb1/filtered, moumeneb1/filtered_300, moumeneb1/fr_lm_dataset, moumeneb1/large_vocabulary_dataset, moumeneb1/osc_processed_lm, moumeneb1/testing, moxi43/github-issues, mozilla-foundation/common_voice_1_0, mozilla-foundation/common_voice_2_0, mozilla-foundation/common_voice_3_0, mozilla-foundation/common_voice_4_0, mozilla-foundation/common_voice_5_0, mozilla-foundation/common_voice_5_1, mozilla-foundation/common_voice_6_0, mozilla-foundation/common_voice_6_1, mozilla-foundation/common_voice_7_0, mozilla-foundation/common_voice_8_0, mpierrau/sv_corpora_parliament_processed, mr-robot/ec, mrm8488/fake-news, mrm8488/goemotions, mrojas/abbreviation, mrojas/body, mrojas/disease, mrojas/family, mrojas/finding, mrojas/medication, mrojas/procedure, mrp/Thai-Semantic-Textual-Similarity-Benchmark, msarmi9/korean-english-multitarget-ted-talks-task, msivanes/github-issues, mswedrowski/multiwiki_90k, mtfelix/datasetdemo, mtlew/0001_Angry_test, muhtasham/autonlp-data-Doctor_DE, mulcyber/europarl-mono, munggok/mc4-id, mustafa12/db_ee, mustafa12/edaaaas, mustafa12/thors, mvarma/medwiki, nateraw/auto-cats-and-dogs, nateraw/auto-exp-2, nateraw/beans, nateraw/beans_old, nateraw/blahblah, nateraw/bulk-dummy, nateraw/cats-and-dogs, nateraw/cats_vs_dogs, nateraw/dummy-csv-dataset, nateraw/filings-10k, nateraw/food101, nateraw/food101_old, nateraw/huggingpics-data-2, nateraw/huggingpics-data, nateraw/image-folder, nateraw/imagefolder, nateraw/imagenette, nateraw/img-demo, nateraw/rock_paper_scissors, nateraw/sync_food101, nateraw/test, nateraw/wit, nathanlsl/news, naver-clova-conversation/klue-tc-dev-tsv, naver-clova-conversation/klue-tc-tsv, naver-clova-conversation-ul/klue-tc-dev, navjordj/nak_nb, ncats/EpiSet4BinaryClassification, ncats/EpiSet4NER-v1, ncats/GARD_EpiSet4TextClassification, ncduy/github-issues, ncduy/mt-en-vi, ncoop57/athena_data, ncoop57/csnc_human_judgement, ncoop57/rico_captions, neelalex/raft-predictions, newsha/PQuAD, nferruz/UR50_2021_04, nferruz/UR50_2021_04_text, ngdiana/hu_severity, ngdiana/uaspeech, ngdiana/uaspeech_severity, ngdiana/uaspeech_severity_high, ngdiana/uaspeech_severity_low, nickmuchi/fin_dataset, nickmuchi/financial-classification, nickmuchi/trade-the-event-finance, nid989/FNC-1, nielsr/FUNSD_layoutlmv2, nielsr/XFUN, nielsr/funsd, nlpaueb/test, nlpconnect/dpr-nq-reader-v2, nlpconnect/dpr-nq-reader, nlpconnect/ms_marco_subset_v2.1, nlpufg/brwac-pt, nlpufg/brwac, nlpufg/oscar-pt, nlpyeditepe/tr-qnli, nlpyeditepe/tr_rte, nntadotzip/iuQAchatbot, notional/notional-python, nouamanetazi/ar_common_voice_processed, nouamanetazi/ar_opus100_processed, nsi319/figures-dataset, ntagg/data1, nthngdy/bananas, nthngdy/ccnews_split, nthngdy/openwebtext_split, ntutexas/amazon, nucklehead/ht-voice-dataset, oelkrise/CRT, openclimatefix/eumetsat_uk_hrv, openclimatefix/gfs, openclimatefix/goes-l2, openclimatefix/goes-mrms, openclimatefix/goes, openclimatefix/hrrr, openclimatefix/mrms, openclimatefix/nimrod-uk-1km, osanseviero/codeparrot-train, osanseviero/llama_test, osanseviero/test, oscar-corpus/OSCAR-2109, ought/raft-submission, ought/raft, outman/test, papluca/language-identification, pariajm/sharif_emotional_speech_dataset, parivartanayurveda/Malesexproblemsayurvedictreatment, pasinit/scotus, pasinit/xlwic, patrickvonplaten/ami_single_headset_segmented_and_chunked, patrickvonplaten/common_voice_6_tr, patrickvonplaten/common_voice_processed_turkish, patrickvonplaten/helena_coworking, patrickvonplaten/librispeech_asr_dummy, patrickvonplaten/librispeech_local, patrickvonplaten/librispeech_local_dummy, patrickvonplaten/scientific_papers_dummy, patrickvonplaten/sensitive_data_sv, pdesoyres/test, peixian/equity_evaluation_corpus, peixian/rtGender, pelican/test_100, persiannlp/parsinlu_entailment, persiannlp/parsinlu_query_paraphrasing, persiannlp/parsinlu_reading_comprehension, persiannlp/parsinlu_sentiment, persiannlp/parsinlu_translation_en_fa, persiannlp/parsinlu_translation_fa_en, peterbonnesoeur/autonlp-data-test_text_summarization, peterhsu/github-issues, philschmid/prompted-germanquad, philschmid/test_german_squad, phoelti/squad_dev, phongdtd/VinDataVLSP, phongdtd/youtube_casual_audio, phonlab-tcd/cngv1, phonlab-tcd/corpuscrawler-ga, piEsposito/br-quad-2.0, piEsposito/br_quad_20, piEsposito/squad_20_ptbr, pierreant-p/jcvd-or-linkedin, pierreguillou/lener_br_finetuning_language_model, pierreguillou/test_datasetdict, pierresi/cord, pietrolesci/ag_news, pmc/open_access, polinaeterna/dummy_dataset, polinaeterna/ml_spoken_words, polinaeterna/test_opus, poperson1205/mrtydi-v1.1-korean-fixed, prajin/ne_corpora_parliament_processed, princeton-nlp/datasets-for-simcse, pritamdeka/cord-19-abstract, pritamdeka/cord-19-fulltext, priya3301/Graduation_admission, priya3301/tes, priya3301/test, proffttega/ILLUMINATI, proffttega/doc, proffttega/join_illuminati_to_become_rich, proffttega/persian_daily_news, project2you/asr, projecte-aina/ancora-ca-ner, projecte-aina/casum, projecte-aina/catalan_general_crawling, projecte-aina/catalan_government_crawling, projecte-aina/catalan_textual_corpus, projecte-aina/parlament_parla, projecte-aina/sts-ca, projecte-aina/teca, projecte-aina/tecla, projecte-aina/vilaquad, projecte-aina/vilasum, projecte-aina/viquiquad, projecte-aina/xquad-ca, psrpsj/stop_words, pstroe/cc100-latin, pulmo/chest_xray, qa4pc/QA4PC, qanastek/ANTILLES, qanastek/ELRC-Medical-V2, qfortier/instagram_ny, quarter100/boolq_log, quis/vnexpress-train, qwant/squad_fr, radhakri119/sv_corpora_parliament_processed, ragarwal/args-me-pairs, rahular/itihasa, rajeshradhakrishnan/malayalam_2020_wiki, rajeshradhakrishnan/malayalam_news, rajeshradhakrishnan/malayalam_wiki, ramitsurana/sanskrit, ramybaly/conll2012, ramybaly/nerd, ranim/Algerian-Arabic, ranpox/xfund, rays2pix/example, rays2pix/example_dataset, readerbench/ChatLinks, rewardsignal/reddit_writing_prompts, rgismondi/code-fill-dataset, robz/test, rocca/sims4-faces, ronaldvanos/testdata, rony/soccer-dialogues, rookieguy12/dataset, rosettarandd/rosetta_balcanica, roskoN/dailydialog, roskoN/dstc8-reddit-corpus, rubenwol/multi_news_qasrl, rubrix/cleanlab-label_errors, rubrix/gutenberg_spacy-ner, rubrix/gutenberg_spacy-ner_smaller, rubrix/imdb_spacy-ner, rubrix/news, rubrix/sentiment-banking-2, rubrix/sentiment-banking, rucyang/sales, rwebe/rwebe, s-myk/test, s3h/arabic-gec, s3h/arabic-grammar-corrections, s3h/custom-qalb-classification, s3h/customized-qalb-v2, s3h/customized-qalb, s3h/gec-arabic, s3h/gec-cleaned, s3h/gec-token-classification, s3h/poc-gec, safik/github-issues-comments, safik/github-issues, sagnikrayc/mctest, sagnikrayc/quasar, sagteam/author_profiling, sajadk/IranianCarLicencePlate, salesken/Paraphrase_category_detection, samarlune/Holy_Coran, samgin/FooReview, samgin/star_tagging, samirt8/fr_corpora_parliament_processed, samjgorman/sample, sammy786/finnish_traindata, sanyu/aw, sanyu/er, sanyu/hh, sanyu/vb, sc2qa/sc2q_commoncrawl, sc2qa/sc2q_commoncrawl_large, sc2qa/sc2qa_commoncrawl, sdfufygvjh/fgghuviugviu, sduong/genwiki, sduong/wikigraphs, seamew/ChnSentiCorp, seamew/Hotel, seamew/THUCNews, seamew/THUCNewsText, seamew/THUCNewsTitle, seamew/Weibo, seanbethard/autonlp-data-summarization_model, sebastiaan/test-cefr, sebastian-hofstaetter/tripclick-training, segments-bert/image-upload-test, segments-bert/logo_dataset, segments-bert/pets, sentence-transformers/embedding-training-data, sentence-transformers/msmarco-hard-negatives, sentence-transformers/parallel-sentences, sentence-transformers/reddit-title-body, seregadgl/test_set, sevbqewre/vebdesbdty, severo/autonlp-data-sentiment_detection-3c8bcd36, severo/dummy_gated, severo/embellishments, severo/wit, seyia92coding/steam_games_2019.csv, sh110495/klue-nli, sh110495/korquad, shahp7575/sia_pile_sample, shahp7575/sia_tp_sample, shahrukhx01/questions-vs-statements, shaina/covid19, shanya/website_metadata_c4_toy, sharejing/BiPaR, sheryylli/utr_total_reads, shibing624/python-source-code, shivam/hindi_pib_processed, shivam/marathi_pib_processed, shivam/marathi_samanantar_processed, shivam/test-translation-2, shivam/test-translation, shivam/test, shivkumarganesh/CoLA, shivmoha/squad-unanswerable, shivmoha/squad_adversarial_manual, shpotes/ms_coco, shpotes/tfcol, sia-precision-education/pile_cpp, sia-precision-education/pile_js, sia-precision-education/pile_python, sia-precision-education/sia_pile_sample, sijpapi/batch13, sijpapi/funsd, sijpapi/funsds, silentzone/test, sine/zzz, sismetanin/rureviews, smallv0221/my-test, softcatala/Europarl-catalan, softcatala/Softcatala-Web-Texts-Dataset, softcatala/Tilde-MODEL-Catalan, softcatala/ca_text_corpus, softcatala/catalan-dictionary, softcatala/open-source-english-catalan-corpus, solomonk/reddit_mental_health_posts, somaimanguyat/Genjer, somaimanguyat/Koboy, somaimanguyat/Movieonline2021, somaimanguyat/Salome, somaimanguyat/movie21, somaimanguyat/xiomay, spacemanidol/ms_marco_doc2query, spacemanidol/msmarco_passage_ranking, spasis/datasets-github-issues, spasis/github-issues, ssasaa/gghghgh, sshleifer/pseudo_bart_xsum, stas/c4-en-10k, stas/openwebtext-10k, stas/oscar-en-10k, stas/wmt14-en-de-pre-processed, stas/wmt16-en-ro-pre-processed, stevhliu/demo, stiel/skjdhjkasdhasjkd, subiksha/OwnDataset, superb/superb-data, susumu2357/squad_v2_sv, svakulenk0/qrecc, svakulenk0/spoken_kgqa, svalabs/all-nli-german-translation-wmt19, svalabs/ms-marco-german-translation-wmt19, svanhvit/iceErrorCorpus, svanhvit/icelandic-ner-MIM-GOLD-NER, tals/test, tanay/embed, tanfiona/causenet_wiki, tarudesu/UIT-ViCTSD, tasosk/airlines, tau/fs, tau/mrqa, tau/scientific_papers, tau/scrolls, tesemnikov-av/toxic_dataset_classification, tesemnikov-av/toxic_dataset_ner, testOrganization01/test05, teven/all_wikipedia_passages, teven/c4_15M, teven/github_all_lang_filtered, teven/matched_passages_wikidata, teven/mpww, teven/mpww_all_passages, teven/prompted_examples, teven/pseudo_crawl_en_seeds, teven/stackexchange, tharindu/MOLD, tharindu/SOLID, thiemowa/argumentationreviewcorpus, thiemowa/empathyreviewcorpus, thomwolf/codeparrot-train, thomwolf/codeparrot-valid, thomwolf/codeparrot, thomwolf/github-dataset, thomwolf/github-python, thomwolf/very-good-dataset, thomwolf/very-test-dataset-2, thomwolf/very-test-dataset, tianxing1994/temp, toddmorrill/github-issues, toloka/CrowdSpeech, toloka/VoxDIY-RusNews, tommy19970714/common_voice, toriving/kosimcse, toriving/talktalk-sentiment-210713-multi-singleturn-custom-multiturn, tranduyquang2205/vietnamese_dataset, transformersbook/codeparrot-train, transformersbook/codeparrot-valid, transformersbook/codeparrot, trnt/github-issues, ttj/metadata_arxiv, turingbench/TuringBench, uasoyasser/rgfes, ubamba98/ro_cv7_processed, ucberkeley-dlab/measuring-hate-speech, uit-nlp/vietnamese_students_feedback, ujjawal1612/quora, umangchaudhry/demo_data_raw, unicamp-dl/mmarco, unicamp-dl/mrobust, usc-isi/WikiConvert, uva-irlab/canard_quretec, uva-irlab/trec-cast-2019-multi-turn, uyeongjae/load_klue_re_agmented, valurank/hate-multi, valurank/offensive-multi, vanadhi/finlitqa, vannacute/AmazonReviewHelpfulness, vannora/pdata, vannynakamura/leish, vasilis/et_corpora_parliament_processed, vasudevgupta/amazon-ml-hack, vasudevgupta/bigbird-tokenized-natural-questions, vasudevgupta/data, vasudevgupta/fairseq-ljspeech, vasudevgupta/gsoc-librispeech, vasudevgupta/natural-questions-validation, vasudevgupta/prml_data_contest, vasudevgupta/temperature-distribution-2d-plate, vasudevgupta/temperature-distribution-3d-cylinder, vblagoje/lfqa, vblagoje/lfqa_support_docs, vblagoje/wikipedia_snippets_streamed, vctc92/sdsd, vctc92/test, vera-pro/ShadowLink, versae/bibles, versae/modernisa, versae/norwegian-t5-dataset-debug, versae/norwegian-t5-dataset-debug2, versae/norwegian-t5-dataset-debug3, vershasaxena91/datasets, vershasaxena91/squad_multitask, vesteinn/IC3, vesteinn/icelandic-ner-MIM-GOLD-NER, vesteinn/icelandic-qa-NQiI, vidhur2k/multilingual-hate-speech, vishnun/huggingpics-data, vivekverma239/question-generation, vkhangpham/github-issues, vs4vijay/VizDS, vumichien/common_voice_large, vumichien/common_voice_large_jsut_jsss_css10, vumichien/ja_opus100_processed, w-nicole/childes_data, w-nicole/childes_data_no_tags, w-nicole/childes_data_no_tags_, w-nicole/childes_data_with_tags, w-nicole/childes_data_with_tags_, w11wo/imdb-javanese, wanagenst/maslow-six-choices, wanagenst/maslow-stories, wanagenst/plutchik-nine-choices, wanagenst/plutchik-stories, wanagenst/reiss-stories, wanagenst/reiss-twenty-choices, wardenga/lsoie, warwickai/financial_phrasebank_mirror, webek18735/ddvoacantonesed, webek18735/dhikhscook, webimmunization/COVID-19-vaccine-attitude-tweets, webis/args_me, webis/conclugen, webis/ms-marco-anchor-text, weijieliu/senteval_cn, wesamhaddad14/testdata, wifis/ouivirtual, wikilee/ADFA_Mapping, wikimedia/wikipedia, wikimedia/wikisource, winvoker/turkish-sentiment-analysis-dataset, wisdomify/story, wmt/europarl, wmt/news-commentary, wmt/uncorpus, wmt/wikititles, wmt/wmt10, wmt/wmt13, wmt/wmt14, wmt/wmt15, wmt/wmt16, wmt/wmt17, wmt/wmt18, wmt/wmt19, wpicard/nostradamus-propheties, wza/USTT, wzkariampuzha/EpiClassifySet, wzkariampuzha/EpiExtract4GARD, wzywzy/telegram_summary, x-tech/cantonese-mandarin-translations, xiaj/ds_test, xiaj/test0919, xiaobendanyn/demo, xiaobendanyn/nyt10, xiaobendanyn/tacred, xkang/github-issues, xuyeliu/notebookCDG, yannobla/Sunshine, yazdipour/text-to-sparql-kdwd, ydshieh/coco_dataset_script, yharyarias/tirads_tiroides, yhavinga/mc4_nl_cleaned, yluisfern/PBU, yo/devparty, yonesuke/Ising2D, yonesuke/Vicsek, yonesuke/kuramoto, ysharma/rickandmorty, ytsaig/news-12factor, yuanchuan/annotated_reference_strings, yuchenlin/OntoRock, yuvalkirstain/asset, yuvalkirstain/contract_nli-debug, yuvalkirstain/contract_nli_t5, yuvalkirstain/contract_nli_t5_lm, yuvalkirstain/qasper_t5, yuvalkirstain/qasper_t5_lm, yuvalkirstain/qmsum_t5, yuvalkirstain/qmsum_t5_lm, yuvalkirstain/quality, yuvalkirstain/quality_debug, yuvalkirstain/quality_squad, yuvalkirstain/quality_squad_debug, yuvalkirstain/quality_t5, yuvalkirstain/quality_t5_lm, yuvalkirstain/scrolls_t5, yuvalkirstain/squad_full_doc, yuvalkirstain/squad_seq2seq, yuvalkirstain/squad_t5, yuvalkirstain/summ_screen_fd_t5, yuvalkirstain/summ_screen_fd_t5_lm, yxchar/ag-tlm, yxchar/amazon-tlm, yxchar/chemprot-tlm, yxchar/citation_intent-tlm, yxchar/hyp-tlm, yxchar/imdb-tlm, yxchar/rct-20k-tlm, yxchar/sciie-tlm, z-uo/female-LJSpeech-italian, z-uo/male-LJSpeech-italian, z-uo/squad-it, zapsdcn/ag, zapsdcn/amazon, zapsdcn/chemprot, zapsdcn/citation_intent, zapsdcn/hyperpartisan_news, zapsdcn/imdb, zapsdcn/rct-20k, zapsdcn/sciie, zf-org/org_dataset, zfaB4Hmm/test, zhangruihan1/face-recognition-validation, zhangruihan1/face-recognition, zhangruihan1/fr-cfp_fp, zhoujun/hitab, zhufy/xquad_split, zj88zj/PubMed_200k_RCT, zj88zj/SCIERC, zloelias/kinopoisk-reviews-short, zloelias/kinopoisk-reviews, zloelias/lenta-ru-short, zloelias/lenta-ru, zlucia/casehold, zwang199/autonlp-data-traffic_nlp_binary\n"
          ]
        }
      ],
      "source": [
        "from datasets import list_datasets\n",
        "from datasets import load_dataset\n",
        "import pandas as pd\n",
        "datasets_list = list_datasets()\n",
        "len(datasets_list)\n",
        "print(', '.join(dataset for dataset in datasets_list))"
      ]
    },
    {
      "cell_type": "code",
      "execution_count": 29,
      "metadata": {
        "colab": {
          "base_uri": "https://localhost:8080/",
          "height": 87,
          "referenced_widgets": [
            "928a752450a54eed8973c77fb4069caa",
            "4458653e07b949a0962567ce84f7a835",
            "ca51ff4b29e54124b6b37c3c9b9f7a70",
            "5bd3b1587ae64df89a2cb321fee8bf47",
            "aaf11ac89b6348f1b621ce389732eae7",
            "33a1c980a977456ab8c5f463f4633405",
            "6fbb01895e244bc3bf775b074549f7d7",
            "0841a6894d714e35b9a9b50da8dd9d4b",
            "0a9b1fc034cf4cf09b2369121fdc7720",
            "558dd48af7764436ba869226a8a33e59",
            "cd049c45f22f4045868bb05a8947aaeb"
          ]
        },
        "id": "wh-TOaeAfWOj",
        "outputId": "d8627343-c547-4d0b-8115-1f2db3edc069"
      },
      "outputs": [
        {
          "output_type": "stream",
          "name": "stderr",
          "text": [
            "Reusing dataset amazon_us_reviews (/root/.cache/huggingface/datasets/amazon_us_reviews/Mobile_Electronics_v1_00/0.1.0/17b2481be59723469538adeb8fd0a68b0ba363bbbdd71090e72c325ee6c7e563)\n"
          ]
        },
        {
          "output_type": "display_data",
          "data": {
            "application/vnd.jupyter.widget-view+json": {
              "model_id": "928a752450a54eed8973c77fb4069caa",
              "version_minor": 0,
              "version_major": 2
            },
            "text/plain": [
              "  0%|          | 0/1 [00:00<?, ?it/s]"
            ]
          },
          "metadata": {}
        }
      ],
      "source": [
        "\n",
        "dataset = load_dataset('amazon_us_reviews', 'Mobile_Electronics_v1_00')"
      ]
    },
    {
      "cell_type": "markdown",
      "metadata": {
        "id": "zcYPN3ACxCV9"
      },
      "source": [
        "We make a new columns called Sentiment by transforming the star_rating column, by assigning all rating with score ?=3 as 1 and 0 otherwise,, . Next, we extract review_body and Sentiment from the dataset and this gives us our complete dataset for buidling our model."
      ]
    },
    {
      "cell_type": "markdown",
      "metadata": {
        "id": "OdpQXoVnxA4r"
      },
      "source": [
        "amazon_us_reviews"
      ]
    },
    {
      "cell_type": "code",
      "execution_count": 30,
      "metadata": {
        "id": "5md0H-yTvrRC"
      },
      "outputs": [],
      "source": [
        "def process_dataset(dataset):\n",
        "  dataset = pd.DataFrame(dataset['train'][:])\n",
        "  dataset[\"Sentiment\"] = dataset[\"star_rating\"].apply(lambda score: \"positive\" if score >= 3 else \"negative\")\n",
        "  dataset['Sentiment'] = dataset['Sentiment'].map({'positive':1, 'negative':0})\n",
        "  dataset = dataset[['review_body','Sentiment']]\n",
        "  dataset.columns = ['Reviews','Sentiment']\n",
        "\n",
        "  return dataset"
      ]
    },
    {
      "cell_type": "code",
      "source": [
        "dataset = process_dataset(dataset)"
      ],
      "metadata": {
        "id": "TSR66bypPDP0"
      },
      "execution_count": 31,
      "outputs": []
    },
    {
      "cell_type": "code",
      "execution_count": 32,
      "metadata": {
        "colab": {
          "base_uri": "https://localhost:8080/",
          "height": 206
        },
        "id": "1iGq1Bu5z-HE",
        "outputId": "8cd39f01-bff5-4bc1-815d-dbd577f83233"
      },
      "outputs": [
        {
          "output_type": "execute_result",
          "data": {
            "text/html": [
              "\n",
              "  <div id=\"df-3c8df7f8-df1e-43fa-ae68-e51fcedb3d8e\">\n",
              "    <div class=\"colab-df-container\">\n",
              "      <div>\n",
              "<style scoped>\n",
              "    .dataframe tbody tr th:only-of-type {\n",
              "        vertical-align: middle;\n",
              "    }\n",
              "\n",
              "    .dataframe tbody tr th {\n",
              "        vertical-align: top;\n",
              "    }\n",
              "\n",
              "    .dataframe thead th {\n",
              "        text-align: right;\n",
              "    }\n",
              "</style>\n",
              "<table border=\"1\" class=\"dataframe\">\n",
              "  <thead>\n",
              "    <tr style=\"text-align: right;\">\n",
              "      <th></th>\n",
              "      <th>Reviews</th>\n",
              "      <th>Sentiment</th>\n",
              "    </tr>\n",
              "  </thead>\n",
              "  <tbody>\n",
              "    <tr>\n",
              "      <th>0</th>\n",
              "      <td>As advertised. Everything works perfectly, I'm...</td>\n",
              "      <td>1</td>\n",
              "    </tr>\n",
              "    <tr>\n",
              "      <th>1</th>\n",
              "      <td>it's great</td>\n",
              "      <td>1</td>\n",
              "    </tr>\n",
              "    <tr>\n",
              "      <th>2</th>\n",
              "      <td>These work great and fit my life proof case fo...</td>\n",
              "      <td>1</td>\n",
              "    </tr>\n",
              "    <tr>\n",
              "      <th>3</th>\n",
              "      <td>Work very well but couldn't get used to not he...</td>\n",
              "      <td>1</td>\n",
              "    </tr>\n",
              "    <tr>\n",
              "      <th>4</th>\n",
              "      <td>Be careful with these products, I have bought ...</td>\n",
              "      <td>0</td>\n",
              "    </tr>\n",
              "  </tbody>\n",
              "</table>\n",
              "</div>\n",
              "      <button class=\"colab-df-convert\" onclick=\"convertToInteractive('df-3c8df7f8-df1e-43fa-ae68-e51fcedb3d8e')\"\n",
              "              title=\"Convert this dataframe to an interactive table.\"\n",
              "              style=\"display:none;\">\n",
              "        \n",
              "  <svg xmlns=\"http://www.w3.org/2000/svg\" height=\"24px\"viewBox=\"0 0 24 24\"\n",
              "       width=\"24px\">\n",
              "    <path d=\"M0 0h24v24H0V0z\" fill=\"none\"/>\n",
              "    <path d=\"M18.56 5.44l.94 2.06.94-2.06 2.06-.94-2.06-.94-.94-2.06-.94 2.06-2.06.94zm-11 1L8.5 8.5l.94-2.06 2.06-.94-2.06-.94L8.5 2.5l-.94 2.06-2.06.94zm10 10l.94 2.06.94-2.06 2.06-.94-2.06-.94-.94-2.06-.94 2.06-2.06.94z\"/><path d=\"M17.41 7.96l-1.37-1.37c-.4-.4-.92-.59-1.43-.59-.52 0-1.04.2-1.43.59L10.3 9.45l-7.72 7.72c-.78.78-.78 2.05 0 2.83L4 21.41c.39.39.9.59 1.41.59.51 0 1.02-.2 1.41-.59l7.78-7.78 2.81-2.81c.8-.78.8-2.07 0-2.86zM5.41 20L4 18.59l7.72-7.72 1.47 1.35L5.41 20z\"/>\n",
              "  </svg>\n",
              "      </button>\n",
              "      \n",
              "  <style>\n",
              "    .colab-df-container {\n",
              "      display:flex;\n",
              "      flex-wrap:wrap;\n",
              "      gap: 12px;\n",
              "    }\n",
              "\n",
              "    .colab-df-convert {\n",
              "      background-color: #E8F0FE;\n",
              "      border: none;\n",
              "      border-radius: 50%;\n",
              "      cursor: pointer;\n",
              "      display: none;\n",
              "      fill: #1967D2;\n",
              "      height: 32px;\n",
              "      padding: 0 0 0 0;\n",
              "      width: 32px;\n",
              "    }\n",
              "\n",
              "    .colab-df-convert:hover {\n",
              "      background-color: #E2EBFA;\n",
              "      box-shadow: 0px 1px 2px rgba(60, 64, 67, 0.3), 0px 1px 3px 1px rgba(60, 64, 67, 0.15);\n",
              "      fill: #174EA6;\n",
              "    }\n",
              "\n",
              "    [theme=dark] .colab-df-convert {\n",
              "      background-color: #3B4455;\n",
              "      fill: #D2E3FC;\n",
              "    }\n",
              "\n",
              "    [theme=dark] .colab-df-convert:hover {\n",
              "      background-color: #434B5C;\n",
              "      box-shadow: 0px 1px 3px 1px rgba(0, 0, 0, 0.15);\n",
              "      filter: drop-shadow(0px 1px 2px rgba(0, 0, 0, 0.3));\n",
              "      fill: #FFFFFF;\n",
              "    }\n",
              "  </style>\n",
              "\n",
              "      <script>\n",
              "        const buttonEl =\n",
              "          document.querySelector('#df-3c8df7f8-df1e-43fa-ae68-e51fcedb3d8e button.colab-df-convert');\n",
              "        buttonEl.style.display =\n",
              "          google.colab.kernel.accessAllowed ? 'block' : 'none';\n",
              "\n",
              "        async function convertToInteractive(key) {\n",
              "          const element = document.querySelector('#df-3c8df7f8-df1e-43fa-ae68-e51fcedb3d8e');\n",
              "          const dataTable =\n",
              "            await google.colab.kernel.invokeFunction('convertToInteractive',\n",
              "                                                     [key], {});\n",
              "          if (!dataTable) return;\n",
              "\n",
              "          const docLinkHtml = 'Like what you see? Visit the ' +\n",
              "            '<a target=\"_blank\" href=https://colab.research.google.com/notebooks/data_table.ipynb>data table notebook</a>'\n",
              "            + ' to learn more about interactive tables.';\n",
              "          element.innerHTML = '';\n",
              "          dataTable['output_type'] = 'display_data';\n",
              "          await google.colab.output.renderOutput(dataTable, element);\n",
              "          const docLink = document.createElement('div');\n",
              "          docLink.innerHTML = docLinkHtml;\n",
              "          element.appendChild(docLink);\n",
              "        }\n",
              "      </script>\n",
              "    </div>\n",
              "  </div>\n",
              "  "
            ],
            "text/plain": [
              "                                             Reviews  Sentiment\n",
              "0  As advertised. Everything works perfectly, I'm...          1\n",
              "1                                         it's great          1\n",
              "2  These work great and fit my life proof case fo...          1\n",
              "3  Work very well but couldn't get used to not he...          1\n",
              "4  Be careful with these products, I have bought ...          0"
            ]
          },
          "metadata": {},
          "execution_count": 32
        }
      ],
      "source": [
        "dataset.head()"
      ]
    },
    {
      "cell_type": "markdown",
      "metadata": {
        "id": "jK36mjIx1nyO"
      },
      "source": [
        "### Summary Statistics - All data"
      ]
    },
    {
      "cell_type": "markdown",
      "metadata": {
        "id": "8nd1obIV2XJh"
      },
      "source": [
        "### Engineer Review Length Feature to understand length of review"
      ]
    },
    {
      "cell_type": "code",
      "execution_count": 33,
      "metadata": {
        "id": "6mU8TKCC1Cjr"
      },
      "outputs": [],
      "source": [
        "dataset['Review_Length'] = dataset['Reviews'].apply(lambda x : len(x))"
      ]
    },
    {
      "cell_type": "code",
      "execution_count": 34,
      "metadata": {
        "colab": {
          "base_uri": "https://localhost:8080/",
          "height": 300
        },
        "id": "Ysha-fAk1Ng2",
        "outputId": "58f52b5e-f9ad-4d5f-fe95-2ed053b38f87"
      },
      "outputs": [
        {
          "output_type": "stream",
          "name": "stdout",
          "text": [
            "Histogram of Review Length for entire dataset\n"
          ]
        },
        {
          "output_type": "execute_result",
          "data": {
            "text/plain": [
              "<matplotlib.axes._subplots.AxesSubplot at 0x7f8f80618990>"
            ]
          },
          "metadata": {},
          "execution_count": 34
        },
        {
          "output_type": "display_data",
          "data": {
            "image/png": "[encoded data removed]",
            "text/plain": [
              "<Figure size 432x288 with 1 Axes>"
            ]
          },
          "metadata": {
            "needs_background": "light"
          }
        }
      ],
      "source": [
        "print(\"Histogram of Review Length for entire dataset\")\n",
        "dataset['Review_Length'].hist()"
      ]
    },
    {
      "cell_type": "markdown",
      "metadata": {
        "id": "KJT6LNe47ZnU"
      },
      "source": [
        "**Label ditribution in the dataset**"
      ]
    },
    {
      "cell_type": "code",
      "execution_count": 35,
      "metadata": {
        "colab": {
          "base_uri": "https://localhost:8080/"
        },
        "id": "HMrMixkD2Hb7",
        "outputId": "7fd69a65-dcdc-423c-cfba-57e24d6d3b04"
      },
      "outputs": [
        {
          "output_type": "execute_result",
          "data": {
            "text/plain": [
              "1    80077\n",
              "0    24898\n",
              "Name: Sentiment, dtype: int64"
            ]
          },
          "metadata": {},
          "execution_count": 35
        }
      ],
      "source": [
        "dataset['Sentiment'].value_counts()"
      ]
    },
    {
      "cell_type": "markdown",
      "metadata": {
        "id": "suMhBBXz7gIk"
      },
      "source": [
        "Word Count in Raw (unprocessed) Dataset"
      ]
    },
    {
      "cell_type": "code",
      "execution_count": 36,
      "metadata": {
        "id": "HnPL6oco2nqP"
      },
      "outputs": [],
      "source": [
        "counter = Counter()\n",
        "result = [counter.update(item.split()) for item in dataset['Reviews']]\n",
        "result = pd.DataFrame.from_dict(counter, orient='index').reset_index()\n",
        "result = result.rename(columns={'index':'Token', 0:'count'})"
      ]
    },
    {
      "cell_type": "code",
      "execution_count": 37,
      "metadata": {
        "colab": {
          "base_uri": "https://localhost:8080/",
          "height": 318
        },
        "id": "Z6SVMc301VkK",
        "outputId": "fb18a195-6dc6-42d7-c32f-ce9abec46239"
      },
      "outputs": [
        {
          "output_type": "stream",
          "name": "stdout",
          "text": [
            "Summary Statistics for features : Review Length and Sentiment\n"
          ]
        },
        {
          "output_type": "execute_result",
          "data": {
            "text/html": [
              "\n",
              "  <div id=\"df-cfbe36ab-e32e-4977-bd9b-36540027940c\">\n",
              "    <div class=\"colab-df-container\">\n",
              "      <div>\n",
              "<style scoped>\n",
              "    .dataframe tbody tr th:only-of-type {\n",
              "        vertical-align: middle;\n",
              "    }\n",
              "\n",
              "    .dataframe tbody tr th {\n",
              "        vertical-align: top;\n",
              "    }\n",
              "\n",
              "    .dataframe thead th {\n",
              "        text-align: right;\n",
              "    }\n",
              "</style>\n",
              "<table border=\"1\" class=\"dataframe\">\n",
              "  <thead>\n",
              "    <tr style=\"text-align: right;\">\n",
              "      <th></th>\n",
              "      <th>Review_Length</th>\n",
              "      <th>Sentiment</th>\n",
              "    </tr>\n",
              "  </thead>\n",
              "  <tbody>\n",
              "    <tr>\n",
              "      <th>count</th>\n",
              "      <td>104975.000000</td>\n",
              "      <td>104975.000000</td>\n",
              "    </tr>\n",
              "    <tr>\n",
              "      <th>mean</th>\n",
              "      <td>342.306425</td>\n",
              "      <td>0.762820</td>\n",
              "    </tr>\n",
              "    <tr>\n",
              "      <th>std</th>\n",
              "      <td>526.121531</td>\n",
              "      <td>0.425356</td>\n",
              "    </tr>\n",
              "    <tr>\n",
              "      <th>min</th>\n",
              "      <td>0.000000</td>\n",
              "      <td>0.000000</td>\n",
              "    </tr>\n",
              "    <tr>\n",
              "      <th>25%</th>\n",
              "      <td>115.000000</td>\n",
              "      <td>1.000000</td>\n",
              "    </tr>\n",
              "    <tr>\n",
              "      <th>50%</th>\n",
              "      <td>190.000000</td>\n",
              "      <td>1.000000</td>\n",
              "    </tr>\n",
              "    <tr>\n",
              "      <th>75%</th>\n",
              "      <td>381.000000</td>\n",
              "      <td>1.000000</td>\n",
              "    </tr>\n",
              "    <tr>\n",
              "      <th>max</th>\n",
              "      <td>16009.000000</td>\n",
              "      <td>1.000000</td>\n",
              "    </tr>\n",
              "  </tbody>\n",
              "</table>\n",
              "</div>\n",
              "      <button class=\"colab-df-convert\" onclick=\"convertToInteractive('df-cfbe36ab-e32e-4977-bd9b-36540027940c')\"\n",
              "              title=\"Convert this dataframe to an interactive table.\"\n",
              "              style=\"display:none;\">\n",
              "        \n",
              "  <svg xmlns=\"http://www.w3.org/2000/svg\" height=\"24px\"viewBox=\"0 0 24 24\"\n",
              "       width=\"24px\">\n",
              "    <path d=\"M0 0h24v24H0V0z\" fill=\"none\"/>\n",
              "    <path d=\"M18.56 5.44l.94 2.06.94-2.06 2.06-.94-2.06-.94-.94-2.06-.94 2.06-2.06.94zm-11 1L8.5 8.5l.94-2.06 2.06-.94-2.06-.94L8.5 2.5l-.94 2.06-2.06.94zm10 10l.94 2.06.94-2.06 2.06-.94-2.06-.94-.94-2.06-.94 2.06-2.06.94z\"/><path d=\"M17.41 7.96l-1.37-1.37c-.4-.4-.92-.59-1.43-.59-.52 0-1.04.2-1.43.59L10.3 9.45l-7.72 7.72c-.78.78-.78 2.05 0 2.83L4 21.41c.39.39.9.59 1.41.59.51 0 1.02-.2 1.41-.59l7.78-7.78 2.81-2.81c.8-.78.8-2.07 0-2.86zM5.41 20L4 18.59l7.72-7.72 1.47 1.35L5.41 20z\"/>\n",
              "  </svg>\n",
              "      </button>\n",
              "      \n",
              "  <style>\n",
              "    .colab-df-container {\n",
              "      display:flex;\n",
              "      flex-wrap:wrap;\n",
              "      gap: 12px;\n",
              "    }\n",
              "\n",
              "    .colab-df-convert {\n",
              "      background-color: #E8F0FE;\n",
              "      border: none;\n",
              "      border-radius: 50%;\n",
              "      cursor: pointer;\n",
              "      display: none;\n",
              "      fill: #1967D2;\n",
              "      height: 32px;\n",
              "      padding: 0 0 0 0;\n",
              "      width: 32px;\n",
              "    }\n",
              "\n",
              "    .colab-df-convert:hover {\n",
              "      background-color: #E2EBFA;\n",
              "      box-shadow: 0px 1px 2px rgba(60, 64, 67, 0.3), 0px 1px 3px 1px rgba(60, 64, 67, 0.15);\n",
              "      fill: #174EA6;\n",
              "    }\n",
              "\n",
              "    [theme=dark] .colab-df-convert {\n",
              "      background-color: #3B4455;\n",
              "      fill: #D2E3FC;\n",
              "    }\n",
              "\n",
              "    [theme=dark] .colab-df-convert:hover {\n",
              "      background-color: #434B5C;\n",
              "      box-shadow: 0px 1px 3px 1px rgba(0, 0, 0, 0.15);\n",
              "      filter: drop-shadow(0px 1px 2px rgba(0, 0, 0, 0.3));\n",
              "      fill: #FFFFFF;\n",
              "    }\n",
              "  </style>\n",
              "\n",
              "      <script>\n",
              "        const buttonEl =\n",
              "          document.querySelector('#df-cfbe36ab-e32e-4977-bd9b-36540027940c button.colab-df-convert');\n",
              "        buttonEl.style.display =\n",
              "          google.colab.kernel.accessAllowed ? 'block' : 'none';\n",
              "\n",
              "        async function convertToInteractive(key) {\n",
              "          const element = document.querySelector('#df-cfbe36ab-e32e-4977-bd9b-36540027940c');\n",
              "          const dataTable =\n",
              "            await google.colab.kernel.invokeFunction('convertToInteractive',\n",
              "                                                     [key], {});\n",
              "          if (!dataTable) return;\n",
              "\n",
              "          const docLinkHtml = 'Like what you see? Visit the ' +\n",
              "            '<a target=\"_blank\" href=https://colab.research.google.com/notebooks/data_table.ipynb>data table notebook</a>'\n",
              "            + ' to learn more about interactive tables.';\n",
              "          element.innerHTML = '';\n",
              "          dataTable['output_type'] = 'display_data';\n",
              "          await google.colab.output.renderOutput(dataTable, element);\n",
              "          const docLink = document.createElement('div');\n",
              "          docLink.innerHTML = docLinkHtml;\n",
              "          element.appendChild(docLink);\n",
              "        }\n",
              "      </script>\n",
              "    </div>\n",
              "  </div>\n",
              "  "
            ],
            "text/plain": [
              "       Review_Length      Sentiment\n",
              "count  104975.000000  104975.000000\n",
              "mean      342.306425       0.762820\n",
              "std       526.121531       0.425356\n",
              "min         0.000000       0.000000\n",
              "25%       115.000000       1.000000\n",
              "50%       190.000000       1.000000\n",
              "75%       381.000000       1.000000\n",
              "max     16009.000000       1.000000"
            ]
          },
          "metadata": {},
          "execution_count": 37
        }
      ],
      "source": [
        "print(\"Summary Statistics for features : Review Length and Sentiment\")\n",
        "dataset[['Review_Length','Sentiment']].describe()"
      ]
    },
    {
      "cell_type": "markdown",
      "metadata": {
        "id": "VRP1wIrK5jcT"
      },
      "source": [
        "Top 100 words occuring in the raw(unprocessed) dataset"
      ]
    },
    {
      "cell_type": "code",
      "execution_count": 38,
      "metadata": {
        "colab": {
          "base_uri": "https://localhost:8080/",
          "height": 591
        },
        "id": "taFddxXE5S2R",
        "outputId": "d5455285-eeaa-4086-be58-e68182357f5b"
      },
      "outputs": [
        {
          "output_type": "execute_result",
          "data": {
            "text/plain": [
              "<matplotlib.axes._subplots.AxesSubplot at 0x7f8f8057ad10>"
            ]
          },
          "metadata": {},
          "execution_count": 38
        },
        {
          "output_type": "display_data",
          "data": {
            "image/png": "[encoded data removed]",
            "text/plain": [
              "<Figure size 1440x576 with 1 Axes>"
            ]
          },
          "metadata": {
            "needs_background": "light"
          }
        }
      ],
      "source": [
        "result.head(100).plot.bar(x = 'Token', y = 'count', figsize = (20,8))"
      ]
    },
    {
      "cell_type": "markdown",
      "metadata": {
        "id": "dpZ4gurV60sb"
      },
      "source": [
        "Train Test Split of the Dataset"
      ]
    },
    {
      "cell_type": "code",
      "execution_count": 39,
      "metadata": {
        "id": "HGy3S6yD5qgC"
      },
      "outputs": [],
      "source": [
        "from sklearn.model_selection import train_test_split"
      ]
    },
    {
      "cell_type": "code",
      "execution_count": 40,
      "metadata": {
        "id": "WvLxWOtu5xAf"
      },
      "outputs": [],
      "source": [
        "X_train, X_test, y_train, y_test = train_test_split(dataset['Reviews'], dataset['Sentiment'], test_size=0.33, random_state=412)\n",
        "X_train = pd.DataFrame(X_train, columns = ['Reviews'])\n",
        "X_test = pd.DataFrame(X_test, columns = ['Reviews'])"
      ]
    },
    {
      "cell_type": "markdown",
      "metadata": {
        "id": "01Zbt6Tm65P7"
      },
      "source": [
        "Word Count in Raw (unprocessed) Train Dataset"
      ]
    },
    {
      "cell_type": "code",
      "execution_count": 41,
      "metadata": {
        "id": "gemCin3M6OqZ"
      },
      "outputs": [],
      "source": [
        "counter = Counter()\n",
        "result = [counter.update(item.split()) for item in X_train['Reviews']]\n",
        "result_train = pd.DataFrame.from_dict(counter, orient='index').reset_index()\n",
        "result_train = result_train.rename(columns={'index':'Token', 0:'count'})"
      ]
    },
    {
      "cell_type": "markdown",
      "metadata": {
        "id": "N73pTrDz7DUI"
      },
      "source": [
        "Top 100 words occuring in the raw(unprocessed) train dataset"
      ]
    },
    {
      "cell_type": "code",
      "execution_count": 42,
      "metadata": {
        "colab": {
          "base_uri": "https://localhost:8080/",
          "height": 541
        },
        "id": "XDLOT-6w6XA8",
        "outputId": "c5a450c2-f714-49a4-ae95-e55f64d13bc2"
      },
      "outputs": [
        {
          "output_type": "execute_result",
          "data": {
            "text/plain": [
              "<matplotlib.axes._subplots.AxesSubplot at 0x7f8f855dfdd0>"
            ]
          },
          "metadata": {},
          "execution_count": 42
        },
        {
          "output_type": "display_data",
          "data": {
            "image/png": "[encoded data removed]",
            "text/plain": [
              "<Figure size 1440x576 with 1 Axes>"
            ]
          },
          "metadata": {
            "needs_background": "light"
          }
        }
      ],
      "source": [
        "result_train.head(100).plot.bar(x = 'Token', y = 'count', figsize = (20,8))"
      ]
    },
    {
      "cell_type": "markdown",
      "metadata": {
        "id": "5uuXlfTb7QNA"
      },
      "source": [
        "Word Count in Raw (unprocessed) Test Dataset"
      ]
    },
    {
      "cell_type": "code",
      "execution_count": 43,
      "metadata": {
        "id": "iwqar9A36ibt"
      },
      "outputs": [],
      "source": [
        "counter = Counter()\n",
        "result = [counter.update(item.split()) for item in X_test['Reviews']]\n",
        "result_test = pd.DataFrame.from_dict(counter, orient='index').reset_index()\n",
        "result_test = result_test.rename(columns={'index':'Token', 0:'count'})"
      ]
    },
    {
      "cell_type": "markdown",
      "metadata": {
        "id": "PRHBaHn67TZ6"
      },
      "source": [
        "Top 100 words occuring in the raw(unprocessed) test dataset"
      ]
    },
    {
      "cell_type": "code",
      "execution_count": 44,
      "metadata": {
        "colab": {
          "base_uri": "https://localhost:8080/",
          "height": 534
        },
        "id": "9IXWKbUz6n_b",
        "outputId": "a694323d-c09e-4916-dcaf-1ec211b74ca1"
      },
      "outputs": [
        {
          "output_type": "execute_result",
          "data": {
            "text/plain": [
              "<matplotlib.axes._subplots.AxesSubplot at 0x7f8f882a1b90>"
            ]
          },
          "metadata": {},
          "execution_count": 44
        },
        {
          "output_type": "display_data",
          "data": {
            "image/png": "[encoded data removed]",
            "text/plain": [
              "<Figure size 1440x576 with 1 Axes>"
            ]
          },
          "metadata": {
            "needs_background": "light"
          }
        }
      ],
      "source": [
        "result_test.head(100).plot.bar(x = 'Token', y = 'count', figsize = (20,8))"
      ]
    },
    {
      "cell_type": "markdown",
      "metadata": {
        "id": "edC6E0IiCZYf"
      },
      "source": [
        "#### c. (1 point) Report the label distribution (number of positive and negative examples) for both the train and test splits."
      ]
    },
    {
      "cell_type": "code",
      "execution_count": 45,
      "metadata": {
        "id": "i27DX5metFnQ"
      },
      "outputs": [],
      "source": [
        "################## YOUR CODE HERE ##################\n",
        "# Plot the label distribution\n",
        "####################################################"
      ]
    },
    {
      "cell_type": "code",
      "execution_count": 46,
      "metadata": {
        "colab": {
          "base_uri": "https://localhost:8080/"
        },
        "id": "Zr1_xB7D7n46",
        "outputId": "17d5a3e3-0a5f-4115-e9a1-a5453da7cb29"
      },
      "outputs": [
        {
          "output_type": "stream",
          "name": "stdout",
          "text": [
            "Label Distribution  - Train Dataset\n"
          ]
        },
        {
          "output_type": "execute_result",
          "data": {
            "text/plain": [
              "Counter({0: 16762, 1: 53571})"
            ]
          },
          "metadata": {},
          "execution_count": 46
        }
      ],
      "source": [
        "print(\"Label Distribution  - Train Dataset\")\n",
        "Counter(y_train)"
      ]
    },
    {
      "cell_type": "code",
      "execution_count": 47,
      "metadata": {
        "colab": {
          "base_uri": "https://localhost:8080/"
        },
        "id": "0oVyDMoI7uvx",
        "outputId": "b9dcdcfc-f3da-430b-8d9b-d48300e4e52e"
      },
      "outputs": [
        {
          "output_type": "stream",
          "name": "stdout",
          "text": [
            "Label Distribution  - Test Dataset\n"
          ]
        },
        {
          "output_type": "execute_result",
          "data": {
            "text/plain": [
              "Counter({0: 8136, 1: 26506})"
            ]
          },
          "metadata": {},
          "execution_count": 47
        }
      ],
      "source": [
        "print(\"Label Distribution  - Test Dataset\")\n",
        "Counter(y_test)"
      ]
    },
    {
      "cell_type": "markdown",
      "metadata": {
        "id": "YzBTedu9DsyZ"
      },
      "source": [
        "## Problem 2. Training from scratch v.s. pretrained-model"
      ]
    },
    {
      "cell_type": "markdown",
      "metadata": {
        "id": "gOeCZPU-F267"
      },
      "source": [
        "### 2.1 Train a sentiment analysis model from scratch [10 points with 5 extra credit]\n",
        "\n",
        "Use any framework (e.g. sklearn, PyTorch, Keras, TensorFlow) and any architecture (e.g. Logistic Regression, LSTM, Transformers), train a sentiment analysis model from scratch to get an accuracy of at least 85% on the test split of the IMDB dataset.\n",
        "\n",
        "- **5 extra points if your model’s accuracy is above 90%**"
      ]
    },
    {
      "cell_type": "code",
      "execution_count": 48,
      "metadata": {
        "id": "x5AIa1qOF7Wg"
      },
      "outputs": [],
      "source": [
        "################## YOUR CODE HERE ##################\n",
        "\n",
        "train_texts, train_labels = read_imdb_split('aclImdb/train')\n",
        "test_texts, test_labels = read_imdb_split('aclImdb/test')\n",
        "####################################################"
      ]
    },
    {
      "cell_type": "code",
      "execution_count": 49,
      "metadata": {
        "colab": {
          "base_uri": "https://localhost:8080/"
        },
        "id": "nOAnSyjzJSYo",
        "outputId": "2582cbe7-2e82-411d-8d2f-0fa7ab1bbdfc"
      },
      "outputs": [
        {
          "output_type": "execute_result",
          "data": {
            "text/plain": [
              "list"
            ]
          },
          "metadata": {},
          "execution_count": 49
        }
      ],
      "source": [
        "type(train_texts)"
      ]
    },
    {
      "cell_type": "code",
      "execution_count": 50,
      "metadata": {
        "colab": {
          "base_uri": "https://localhost:8080/"
        },
        "id": "E2AWA1FsvXEd",
        "outputId": "2c058f51-8a69-4368-844c-b094e8ba2bc4"
      },
      "outputs": [
        {
          "output_type": "stream",
          "name": "stdout",
          "text": [
            "[nltk_data] Downloading package stopwords to /root/nltk_data...\n",
            "[nltk_data]   Unzipping corpora/stopwords.zip.\n"
          ]
        }
      ],
      "source": [
        "import string\n",
        "import re\n",
        "from os import listdir\n",
        "import nltk\n",
        "nltk.download('stopwords')\n",
        "from nltk.corpus import stopwords\n",
        "from pickle import dump"
      ]
    },
    {
      "cell_type": "code",
      "execution_count": 53,
      "metadata": {
        "id": "5KI-pIR14Bok"
      },
      "outputs": [],
      "source": [
        "from pickle import load\n",
        "from numpy import array\n",
        "from tensorflow.keras.optimizers import Adam\n",
        "from tensorflow import keras\n",
        "from tensorflow.keras.preprocessing.text import Tokenizer\n",
        "from tensorflow.keras.preprocessing.sequence import pad_sequences\n",
        "from keras.utils.vis_utils import plot_model\n",
        "from tensorflow.keras.models import Model\n",
        "from tensorflow.keras.layers import Input\n",
        "from tensorflow.keras.layers import Dense\n",
        "from tensorflow.keras.layers import Flatten\n",
        "from tensorflow.keras.layers import Dropout\n",
        "from tensorflow.keras.layers import Embedding\n",
        "from tensorflow.keras.layers import Conv1D\n",
        "from tensorflow.keras.layers import MaxPooling1D\n",
        "from tensorflow.keras.layers import concatenate\n",
        "from sklearn.metrics import confusion_matrix,classification_report, precision_recall_curve\n",
        "from transformers import DistilBertTokenizerFast, DistilBertForSequenceClassification\n",
        "from transformers import pipeline\n",
        "import torch\n",
        "import matplotlib.pyplot as plt"
      ]
    },
    {
      "cell_type": "code",
      "execution_count": 54,
      "metadata": {
        "id": "kG_unrqOvbzR"
      },
      "outputs": [],
      "source": [
        "def clean_doc(doc):\n",
        "  # split into tokens by white space\n",
        "  tokens = doc.split()\n",
        "  # prepare regex for char filtering\n",
        "  re_punc = re.compile('[%s]' % re.escape(string.punctuation))\n",
        "  # remove punctuation from each word\n",
        "  tokens = [re_punc.sub('', w) for w in tokens]\n",
        "  # remove remaining tokens that are not alphabetic\n",
        "  tokens = [word for word in tokens if word.isalpha()]\n",
        "  # filter out stop words\n",
        "  stop_words = set(stopwords.words('english'))\n",
        "  tokens = [w for w in tokens if not w in stop_words]\n",
        "  # filter out short tokens\n",
        "  tokens = [word for word in tokens if len(word) > 1]\n",
        "\n",
        "  tokens = [word.lower() for word in tokens]\n",
        "  tokens = ' '.join(tokens)\n",
        "  return tokens"
      ]
    },
    {
      "cell_type": "code",
      "execution_count": 55,
      "metadata": {
        "id": "Sp4o86_VvjDP"
      },
      "outputs": [],
      "source": [
        "def process_docs(review):\n",
        "  \n",
        "  tokens = clean_doc(review)\n",
        "  return tokens"
      ]
    },
    {
      "cell_type": "code",
      "execution_count": 56,
      "metadata": {
        "id": "81kXcVmkyWgO"
      },
      "outputs": [],
      "source": [
        "def get_cleaned_reviews(X_train, X_test):\n",
        "  train_documents = []\n",
        "  result = [train_documents.append(process_docs(item)) for item in X_train]\n",
        "\n",
        "  test_documents = []\n",
        "  result = [test_documents.append(process_docs(item)) for item in X_test]\n",
        "\n",
        "  return train_documents, test_documents"
      ]
    },
    {
      "cell_type": "code",
      "execution_count": 57,
      "metadata": {
        "id": "8CCCBW8HwyrA"
      },
      "outputs": [],
      "source": [
        "train_documents, test_documents = get_cleaned_reviews(train_texts, test_texts)"
      ]
    },
    {
      "cell_type": "code",
      "execution_count": 58,
      "metadata": {
        "id": "DzLaLbl_xWfN"
      },
      "outputs": [],
      "source": [
        "def save_dataset(dataset, filename):\n",
        "  dump(dataset, open(filename, 'wb'))\n",
        "  print('Saved: %s' % filename)"
      ]
    },
    {
      "cell_type": "code",
      "execution_count": 59,
      "metadata": {
        "colab": {
          "base_uri": "https://localhost:8080/"
        },
        "id": "dmhJczbhxaXb",
        "outputId": "7cb6f535-60c8-4ccf-f735-90c11f871bb2"
      },
      "outputs": [
        {
          "output_type": "stream",
          "name": "stdout",
          "text": [
            "Saved: train.pkl\n",
            "Saved: test.pkl\n"
          ]
        }
      ],
      "source": [
        "save_dataset([train_documents, train_labels], 'train.pkl')\n",
        "save_dataset([test_documents, test_labels], 'test.pkl')"
      ]
    },
    {
      "cell_type": "code",
      "execution_count": 60,
      "metadata": {
        "id": "NbwmGh8j0rbo"
      },
      "outputs": [],
      "source": [
        "# load a clean dataset\n",
        "def load_dataset(filename):\n",
        "  return load(open(filename, 'rb'))\n",
        "# fit a tokenizer\n",
        "def create_tokenizer(lines):\n",
        "  tokenizer = Tokenizer()\n",
        "  tokenizer.fit_on_texts(lines)\n",
        "  return tokenizer\n",
        "# calculate the maximum document length\n",
        "def max_length(lines):\n",
        "  return max([len(s.split()) for s in lines])\n",
        "# encode a list of lines\n",
        "def encode_text(tokenizer, lines, length):\n",
        "# integer encode\n",
        "  encoded = tokenizer.texts_to_sequences(lines)\n",
        "  # pad encoded sequences\n",
        "  padded = pad_sequences(encoded, maxlen=length, padding='post')\n",
        "  return padded"
      ]
    },
    {
      "cell_type": "code",
      "execution_count": 61,
      "metadata": {
        "id": "Z2W2yrlS4K-K"
      },
      "outputs": [],
      "source": [
        "# define the model\n",
        "def define_model(length, vocab_size):\n",
        "  # channel 1\n",
        "  inputs1 = Input(shape=(length,))\n",
        "  embedding1 = Embedding(vocab_size, 100)(inputs1)\n",
        "  conv1 = Conv1D(32, 4, activation='relu')(embedding1)\n",
        "  drop1 = Dropout(0.5)(conv1)\n",
        "  pool1 = MaxPooling1D()(drop1)\n",
        "  flat1 = Flatten()(pool1)\n",
        "  # channel 2\n",
        "  inputs2 = Input(shape=(length,))\n",
        "  embedding2 = Embedding(vocab_size, 100)(inputs2)\n",
        "  conv2 = Conv1D(32, 6, activation='relu')(embedding2)\n",
        "  drop2 = Dropout(0.5)(conv2)\n",
        "  pool2 = MaxPooling1D()(drop2)\n",
        "  flat2 = Flatten()(pool2)\n",
        "  # channel 3\n",
        "  inputs3 = Input(shape=(length,))\n",
        "  embedding3 = Embedding(vocab_size, 100)(inputs3)\n",
        "  conv3 = Conv1D(32, 8, activation='relu')(embedding3)\n",
        "  drop3 = Dropout(0.5)(conv3)\n",
        "  pool3 = MaxPooling1D()(drop3)\n",
        "  flat3 = Flatten()(pool3)\n",
        "  # merge\n",
        "  merged = concatenate([flat1, flat2, flat3])\n",
        "  # interpretation\n",
        "  dense1 = Dense(10, activation='relu')(merged)\n",
        "  outputs = Dense(1, activation='sigmoid')(dense1)\n",
        "  model = Model(inputs=[inputs1, inputs2, inputs3], outputs=outputs)\n",
        "  # compile\n",
        "  \n",
        "  model.compile(loss='binary_crossentropy', optimizer= 'adam',  metrics=['accuracy'])\n",
        "  # summarize\n",
        "  model.summary()\n",
        "  plot_model(model, show_shapes=True, to_file='model.png')\n",
        "  return model"
      ]
    },
    {
      "cell_type": "code",
      "execution_count": 62,
      "metadata": {
        "id": "OOQ_8phNPdcA"
      },
      "outputs": [],
      "source": [
        "def load_datasets():\n",
        "\n",
        "  trainLines, trainLabels = load_dataset('train.pkl')\n",
        "  testLines, testLabels = load_dataset('test.pkl')\n",
        "  # create tokenizer\n",
        "  tokenizer = create_tokenizer(trainLines)\n",
        "  # calculate max document length\n",
        "  length = max_length(trainLines)\n",
        "  print('Max document length: %d' % length)\n",
        "  # calculate vocabulary size\n",
        "  vocab_size = len(tokenizer.word_index) + 1\n",
        "  print('Vocabulary size: %d' % vocab_size)\n",
        "  # encode data\n",
        "  trainX = encode_text(tokenizer, trainLines, length)\n",
        "  testX = encode_text(tokenizer, testLines, length)\n",
        "\n",
        "  return trainX,testX,trainLabels,testLabels, length, vocab_size"
      ]
    },
    {
      "cell_type": "code",
      "execution_count": 63,
      "metadata": {
        "colab": {
          "base_uri": "https://localhost:8080/"
        },
        "id": "e7FpMzGY4XgV",
        "outputId": "7574bd94-13f5-4676-80f1-c5e462326608"
      },
      "outputs": [
        {
          "output_type": "stream",
          "name": "stdout",
          "text": [
            "Max document length: 1480\n",
            "Vocabulary size: 117362\n",
            "Model: \"model\"\n",
            "__________________________________________________________________________________________________\n",
            " Layer (type)                   Output Shape         Param #     Connected to                     \n",
            "==================================================================================================\n",
            " input_1 (InputLayer)           [(None, 1480)]       0           []                               \n",
            "                                                                                                  \n",
            " input_2 (InputLayer)           [(None, 1480)]       0           []                               \n",
            "                                                                                                  \n",
            " input_3 (InputLayer)           [(None, 1480)]       0           []                               \n",
            "                                                                                                  \n",
            " embedding (Embedding)          (None, 1480, 100)    11736200    ['input_1[0][0]']                \n",
            "                                                                                                  \n",
            " embedding_1 (Embedding)        (None, 1480, 100)    11736200    ['input_2[0][0]']                \n",
            "                                                                                                  \n",
            " embedding_2 (Embedding)        (None, 1480, 100)    11736200    ['input_3[0][0]']                \n",
            "                                                                                                  \n",
            " conv1d (Conv1D)                (None, 1477, 32)     12832       ['embedding[0][0]']              \n",
            "                                                                                                  \n",
            " conv1d_1 (Conv1D)              (None, 1475, 32)     19232       ['embedding_1[0][0]']            \n",
            "                                                                                                  \n",
            " conv1d_2 (Conv1D)              (None, 1473, 32)     25632       ['embedding_2[0][0]']            \n",
            "                                                                                                  \n",
            " dropout (Dropout)              (None, 1477, 32)     0           ['conv1d[0][0]']                 \n",
            "                                                                                                  \n",
            " dropout_1 (Dropout)            (None, 1475, 32)     0           ['conv1d_1[0][0]']               \n",
            "                                                                                                  \n",
            " dropout_2 (Dropout)            (None, 1473, 32)     0           ['conv1d_2[0][0]']               \n",
            "                                                                                                  \n",
            " max_pooling1d (MaxPooling1D)   (None, 738, 32)      0           ['dropout[0][0]']                \n",
            "                                                                                                  \n",
            " max_pooling1d_1 (MaxPooling1D)  (None, 737, 32)     0           ['dropout_1[0][0]']              \n",
            "                                                                                                  \n",
            " max_pooling1d_2 (MaxPooling1D)  (None, 736, 32)     0           ['dropout_2[0][0]']              \n",
            "                                                                                                  \n",
            " flatten (Flatten)              (None, 23616)        0           ['max_pooling1d[0][0]']          \n",
            "                                                                                                  \n",
            " flatten_1 (Flatten)            (None, 23584)        0           ['max_pooling1d_1[0][0]']        \n",
            "                                                                                                  \n",
            " flatten_2 (Flatten)            (None, 23552)        0           ['max_pooling1d_2[0][0]']        \n",
            "                                                                                                  \n",
            " concatenate (Concatenate)      (None, 70752)        0           ['flatten[0][0]',                \n",
            "                                                                  'flatten_1[0][0]',              \n",
            "                                                                  'flatten_2[0][0]']              \n",
            "                                                                                                  \n",
            " dense (Dense)                  (None, 10)           707530      ['concatenate[0][0]']            \n",
            "                                                                                                  \n",
            " dense_1 (Dense)                (None, 1)            11          ['dense[0][0]']                  \n",
            "                                                                                                  \n",
            "==================================================================================================\n",
            "Total params: 35,973,837\n",
            "Trainable params: 35,973,837\n",
            "Non-trainable params: 0\n",
            "__________________________________________________________________________________________________\n"
          ]
        }
      ],
      "source": [
        "# load datasets\n",
        "trainX,testX,trainLabels,testLabels, length, vocab_size= load_datasets()\n",
        "# define model\n",
        "model = define_model(length, vocab_size)"
      ]
    },
    {
      "cell_type": "markdown",
      "metadata": {
        "id": "DGRABmOKQVT4"
      },
      "source": [
        "Below Cell Trains a model on the IMDB dataset"
      ]
    },
    {
      "cell_type": "code",
      "execution_count": null,
      "metadata": {
        "id": "5X-x18EL4eG7"
      },
      "outputs": [],
      "source": [
        "# results = pd.DataFrame()\n",
        "# accuracy = []\n",
        "# batches = []\n",
        "# epochs = []\n",
        "# for b_size in [16,32,64]:\n",
        "#     for epoch in [10,50,100]:\n",
        "#       print(\"Batch Size : \", b_size, \"Epochs : \", epoch)\n",
        "#       print(\"\\n\")\n",
        "\n",
        "#       model.fit([trainX,trainX,trainX], array(trainLabels),batch_size = b_size, epochs = epoch)\n",
        "#       _,acc = model.evaluate([testX, testX, testX], array(testLabels))\n",
        "#       accuracy.append(acc)\n",
        "#       batches.append(b_size)\n",
        "#       epochs.append(epoch)\n",
        "#       print(\"Test Set Accuracy : \", acc)\n",
        "      \n",
        "#       model.save('model-'+str(b_size) + '-' + str(epoch) + '.h5')\n",
        "# results['Batch'] = batches\n",
        "# results['Epochs'] = epochs\n",
        "# results['Test-Accuracy'] = accuracy\n",
        "\n"
      ]
    },
    {
      "cell_type": "markdown",
      "metadata": {
        "id": "s6P22EN9TjJ-"
      },
      "source": [
        "### 2.2 Evaluate your model and the fine-tuned model on IMDB [11 points]\n",
        "\n",
        "**Tip**: You might find [`TextClassificationPipeline`](https://huggingface.co/transformers/main_classes/pipelines.html#transformers.TextClassificationPipeline) helpful. "
      ]
    },
    {
      "cell_type": "markdown",
      "metadata": {
        "id": "5nDS-BcTTwLa"
      },
      "source": [
        "#### a. (1 point) Randomly sample 1000 examples from the test split."
      ]
    },
    {
      "cell_type": "code",
      "execution_count": null,
      "metadata": {
        "id": "SFkwDIRTuFHY"
      },
      "outputs": [],
      "source": [
        "################## YOUR CODE HERE ##################\n",
        "\n",
        "####################################################"
      ]
    },
    {
      "cell_type": "markdown",
      "metadata": {
        "id": "viPnYJ1kjujm"
      },
      "source": [
        "**Random Sampling of 1000 data points from Test Set**"
      ]
    },
    {
      "cell_type": "code",
      "execution_count": 64,
      "metadata": {
        "colab": {
          "base_uri": "https://localhost:8080/"
        },
        "id": "3nNG1mZ0Sc-g",
        "outputId": "9beb2aa4-aff0-422a-b59c-e55970d07801"
      },
      "outputs": [
        {
          "output_type": "stream",
          "name": "stdout",
          "text": [
            "1000 samples in terms of  Percetange :  0.04\n"
          ]
        }
      ],
      "source": [
        "testX = pd.DataFrame(testX)\n",
        "testLabels = pd.DataFrame(testLabels)\n",
        "test_Data = pd.concat([testX, testLabels], axis = 1)\n",
        "\n",
        "\n",
        "print( \"1000 samples in terms of  Percetange : \", 1000 / testX.shape[0])\n",
        "sample_percentage = 1000 / test_Data.shape[0]\n",
        "sample_testData = test_Data.sample(frac= sample_percentage, replace=True, random_state=412)\n",
        "sample_testX = sample_testData.iloc[:,:-1]\n",
        "sample_test_Labels = sample_testData.iloc[:,-1]\n",
        "sample_testX = sample_testX.values\n",
        "sample_test_Labels = sample_test_Labels.values"
      ]
    },
    {
      "cell_type": "markdown",
      "metadata": {
        "id": "Qn52SvAtUEuM"
      },
      "source": [
        "#### b. (2 points) Use **your model** to make predictions on these examples and output predicted labels and associated probabilities."
      ]
    },
    {
      "cell_type": "code",
      "execution_count": null,
      "metadata": {
        "id": "xGdLYIc_uI_y"
      },
      "outputs": [],
      "source": [
        "################## YOUR CODE HERE ##################\n",
        "\n",
        "####################################################\n",
        "from tensorflow.keras.models import load_model\n",
        "model = load_model('/content/model-16-10.h5')"
      ]
    },
    {
      "cell_type": "markdown",
      "metadata": {
        "id": "71wkqGSfh1k_"
      },
      "source": [
        "**Identifying Thrshold for Converting Probabilities to labels**"
      ]
    },
    {
      "cell_type": "markdown",
      "metadata": {
        "id": "U_049Ideh90W"
      },
      "source": [
        "**Evaluating Predictions on Training Data, to select threshold which results in maximum accuracy. We will use the same threshold to convert predictions (probabilities) on test data to labels**"
      ]
    },
    {
      "cell_type": "code",
      "execution_count": null,
      "metadata": {
        "id": "un2KMbhsgIP-"
      },
      "outputs": [],
      "source": [
        "\n",
        "\n",
        "def compute_performance(predictions, y_ground_truth):\n",
        "    result = []\n",
        "    for i in range(1,1000,1):\n",
        "        threshold = i/1000\n",
        "        y_pred_int  = [1 if item >= threshold else 0 for item in predictions]\n",
        "        \n",
        "        #vector = compute_net_profit(y_pred_int,y_test,profits_Xtest)\n",
        "        \n",
        "        #TP_Net = vector[0]\n",
        "        #FP_Net = vector[1]\n",
        "        #FN_Net = vector[2]\n",
        "        #TN_Net = vector[3]    \n",
        "\n",
        "        a = confusion_matrix(y_ground_truth,y_pred_int)\n",
        "#        loss = log_loss(y_test,y_pred_int)\n",
        "        tp = a[0,0]\n",
        "        fp = a[0,1]\n",
        "        fn = a[1,0]\n",
        "        tn = a[1,1]\n",
        "        \n",
        "        precision = tp/(tp+fp)\n",
        "        recall = tp/(tp+fn)\n",
        "        accuracy = (tp+tn)/(tp+tn+fp+fn)\n",
        "        \n",
        "        F1 = 2 * (precision * recall) / (precision + recall)\n",
        "        \n",
        "        \n",
        "        result.append((threshold, precision, recall,accuracy,F1))\n",
        "    result_df = pd.DataFrame(result, columns = ['Threshold','Precision','Recall','Accuracy','F1']).sort_values(by = 'F1',ascending = False)\n",
        "    return result_df"
      ]
    },
    {
      "cell_type": "code",
      "execution_count": null,
      "metadata": {
        "id": "JlgLK617f-at"
      },
      "outputs": [],
      "source": [
        "predictions_train = list(model.predict([trainX,trainX,trainX], batch_size = 16))\n",
        "model_result = compute_performance(predictions_train, list(trainLabels))"
      ]
    },
    {
      "cell_type": "code",
      "execution_count": null,
      "metadata": {
        "colab": {
          "base_uri": "https://localhost:8080/",
          "height": 423
        },
        "id": "2hDk6V7rgm_Z",
        "outputId": "3307eab0-ca2f-4ddb-fffb-eae0c07c811d"
      },
      "outputs": [
        {
          "data": {
            "text/html": [
              "\n",
              "  <div id=\"df-0416684a-5675-49b4-b327-5c0eba575dc6\">\n",
              "    <div class=\"colab-df-container\">\n",
              "      <div>\n",
              "<style scoped>\n",
              "    .dataframe tbody tr th:only-of-type {\n",
              "        vertical-align: middle;\n",
              "    }\n",
              "\n",
              "    .dataframe tbody tr th {\n",
              "        vertical-align: top;\n",
              "    }\n",
              "\n",
              "    .dataframe thead th {\n",
              "        text-align: right;\n",
              "    }\n",
              "</style>\n",
              "<table border=\"1\" class=\"dataframe\">\n",
              "  <thead>\n",
              "    <tr style=\"text-align: right;\">\n",
              "      <th></th>\n",
              "      <th>Threshold</th>\n",
              "      <th>Precision</th>\n",
              "      <th>Recall</th>\n",
              "      <th>Accuracy</th>\n",
              "      <th>F1</th>\n",
              "    </tr>\n",
              "  </thead>\n",
              "  <tbody>\n",
              "    <tr>\n",
              "      <th>732</th>\n",
              "      <td>0.733</td>\n",
              "      <td>1.00000</td>\n",
              "      <td>0.999680</td>\n",
              "      <td>0.99984</td>\n",
              "      <td>0.999840</td>\n",
              "    </tr>\n",
              "    <tr>\n",
              "      <th>739</th>\n",
              "      <td>0.740</td>\n",
              "      <td>1.00000</td>\n",
              "      <td>0.999680</td>\n",
              "      <td>0.99984</td>\n",
              "      <td>0.999840</td>\n",
              "    </tr>\n",
              "    <tr>\n",
              "      <th>731</th>\n",
              "      <td>0.732</td>\n",
              "      <td>1.00000</td>\n",
              "      <td>0.999680</td>\n",
              "      <td>0.99984</td>\n",
              "      <td>0.999840</td>\n",
              "    </tr>\n",
              "    <tr>\n",
              "      <th>733</th>\n",
              "      <td>0.734</td>\n",
              "      <td>1.00000</td>\n",
              "      <td>0.999680</td>\n",
              "      <td>0.99984</td>\n",
              "      <td>0.999840</td>\n",
              "    </tr>\n",
              "    <tr>\n",
              "      <th>734</th>\n",
              "      <td>0.735</td>\n",
              "      <td>1.00000</td>\n",
              "      <td>0.999680</td>\n",
              "      <td>0.99984</td>\n",
              "      <td>0.999840</td>\n",
              "    </tr>\n",
              "    <tr>\n",
              "      <th>...</th>\n",
              "      <td>...</td>\n",
              "      <td>...</td>\n",
              "      <td>...</td>\n",
              "      <td>...</td>\n",
              "      <td>...</td>\n",
              "    </tr>\n",
              "    <tr>\n",
              "      <th>997</th>\n",
              "      <td>0.998</td>\n",
              "      <td>1.00000</td>\n",
              "      <td>0.993167</td>\n",
              "      <td>0.99656</td>\n",
              "      <td>0.996572</td>\n",
              "    </tr>\n",
              "    <tr>\n",
              "      <th>2</th>\n",
              "      <td>0.003</td>\n",
              "      <td>0.99232</td>\n",
              "      <td>1.000000</td>\n",
              "      <td>0.99616</td>\n",
              "      <td>0.996145</td>\n",
              "    </tr>\n",
              "    <tr>\n",
              "      <th>1</th>\n",
              "      <td>0.002</td>\n",
              "      <td>0.99120</td>\n",
              "      <td>1.000000</td>\n",
              "      <td>0.99560</td>\n",
              "      <td>0.995581</td>\n",
              "    </tr>\n",
              "    <tr>\n",
              "      <th>0</th>\n",
              "      <td>0.001</td>\n",
              "      <td>0.98872</td>\n",
              "      <td>1.000000</td>\n",
              "      <td>0.99436</td>\n",
              "      <td>0.994328</td>\n",
              "    </tr>\n",
              "    <tr>\n",
              "      <th>998</th>\n",
              "      <td>0.999</td>\n",
              "      <td>1.00000</td>\n",
              "      <td>0.988455</td>\n",
              "      <td>0.99416</td>\n",
              "      <td>0.994194</td>\n",
              "    </tr>\n",
              "  </tbody>\n",
              "</table>\n",
              "<p>999 rows × 5 columns</p>\n",
              "</div>\n",
              "      <button class=\"colab-df-convert\" onclick=\"convertToInteractive('df-0416684a-5675-49b4-b327-5c0eba575dc6')\"\n",
              "              title=\"Convert this dataframe to an interactive table.\"\n",
              "              style=\"display:none;\">\n",
              "        \n",
              "  <svg xmlns=\"http://www.w3.org/2000/svg\" height=\"24px\"viewBox=\"0 0 24 24\"\n",
              "       width=\"24px\">\n",
              "    <path d=\"M0 0h24v24H0V0z\" fill=\"none\"/>\n",
              "    <path d=\"M18.56 5.44l.94 2.06.94-2.06 2.06-.94-2.06-.94-.94-2.06-.94 2.06-2.06.94zm-11 1L8.5 8.5l.94-2.06 2.06-.94-2.06-.94L8.5 2.5l-.94 2.06-2.06.94zm10 10l.94 2.06.94-2.06 2.06-.94-2.06-.94-.94-2.06-.94 2.06-2.06.94z\"/><path d=\"M17.41 7.96l-1.37-1.37c-.4-.4-.92-.59-1.43-.59-.52 0-1.04.2-1.43.59L10.3 9.45l-7.72 7.72c-.78.78-.78 2.05 0 2.83L4 21.41c.39.39.9.59 1.41.59.51 0 1.02-.2 1.41-.59l7.78-7.78 2.81-2.81c.8-.78.8-2.07 0-2.86zM5.41 20L4 18.59l7.72-7.72 1.47 1.35L5.41 20z\"/>\n",
              "  </svg>\n",
              "      </button>\n",
              "      \n",
              "  <style>\n",
              "    .colab-df-container {\n",
              "      display:flex;\n",
              "      flex-wrap:wrap;\n",
              "      gap: 12px;\n",
              "    }\n",
              "\n",
              "    .colab-df-convert {\n",
              "      background-color: #E8F0FE;\n",
              "      border: none;\n",
              "      border-radius: 50%;\n",
              "      cursor: pointer;\n",
              "      display: none;\n",
              "      fill: #1967D2;\n",
              "      height: 32px;\n",
              "      padding: 0 0 0 0;\n",
              "      width: 32px;\n",
              "    }\n",
              "\n",
              "    .colab-df-convert:hover {\n",
              "      background-color: #E2EBFA;\n",
              "      box-shadow: 0px 1px 2px rgba(60, 64, 67, 0.3), 0px 1px 3px 1px rgba(60, 64, 67, 0.15);\n",
              "      fill: #174EA6;\n",
              "    }\n",
              "\n",
              "    [theme=dark] .colab-df-convert {\n",
              "      background-color: #3B4455;\n",
              "      fill: #D2E3FC;\n",
              "    }\n",
              "\n",
              "    [theme=dark] .colab-df-convert:hover {\n",
              "      background-color: #434B5C;\n",
              "      box-shadow: 0px 1px 3px 1px rgba(0, 0, 0, 0.15);\n",
              "      filter: drop-shadow(0px 1px 2px rgba(0, 0, 0, 0.3));\n",
              "      fill: #FFFFFF;\n",
              "    }\n",
              "  </style>\n",
              "\n",
              "      <script>\n",
              "        const buttonEl =\n",
              "          document.querySelector('#df-0416684a-5675-49b4-b327-5c0eba575dc6 button.colab-df-convert');\n",
              "        buttonEl.style.display =\n",
              "          google.colab.kernel.accessAllowed ? 'block' : 'none';\n",
              "\n",
              "        async function convertToInteractive(key) {\n",
              "          const element = document.querySelector('#df-0416684a-5675-49b4-b327-5c0eba575dc6');\n",
              "          const dataTable =\n",
              "            await google.colab.kernel.invokeFunction('convertToInteractive',\n",
              "                                                     [key], {});\n",
              "          if (!dataTable) return;\n",
              "\n",
              "          const docLinkHtml = 'Like what you see? Visit the ' +\n",
              "            '<a target=\"_blank\" href=https://colab.research.google.com/notebooks/data_table.ipynb>data table notebook</a>'\n",
              "            + ' to learn more about interactive tables.';\n",
              "          element.innerHTML = '';\n",
              "          dataTable['output_type'] = 'display_data';\n",
              "          await google.colab.output.renderOutput(dataTable, element);\n",
              "          const docLink = document.createElement('div');\n",
              "          docLink.innerHTML = docLinkHtml;\n",
              "          element.appendChild(docLink);\n",
              "        }\n",
              "      </script>\n",
              "    </div>\n",
              "  </div>\n",
              "  "
            ],
            "text/plain": [
              "     Threshold  Precision    Recall  Accuracy        F1\n",
              "732      0.733    1.00000  0.999680   0.99984  0.999840\n",
              "739      0.740    1.00000  0.999680   0.99984  0.999840\n",
              "731      0.732    1.00000  0.999680   0.99984  0.999840\n",
              "733      0.734    1.00000  0.999680   0.99984  0.999840\n",
              "734      0.735    1.00000  0.999680   0.99984  0.999840\n",
              "..         ...        ...       ...       ...       ...\n",
              "997      0.998    1.00000  0.993167   0.99656  0.996572\n",
              "2        0.003    0.99232  1.000000   0.99616  0.996145\n",
              "1        0.002    0.99120  1.000000   0.99560  0.995581\n",
              "0        0.001    0.98872  1.000000   0.99436  0.994328\n",
              "998      0.999    1.00000  0.988455   0.99416  0.994194\n",
              "\n",
              "[999 rows x 5 columns]"
            ]
          },
          "execution_count": 58,
          "metadata": {},
          "output_type": "execute_result"
        }
      ],
      "source": [
        "model_result"
      ]
    },
    {
      "cell_type": "code",
      "execution_count": null,
      "metadata": {
        "colab": {
          "base_uri": "https://localhost:8080/"
        },
        "id": "EnVLBXEBgv-N",
        "outputId": "4e3f225d-50f4-404a-f866-329bdc70e5d7"
      },
      "outputs": [
        {
          "name": "stdout",
          "output_type": "stream",
          "text": [
            "Selected Threshold on Training Set :  0.733\n"
          ]
        }
      ],
      "source": [
        "selected_threshold = model_result[model_result['Accuracy'] == max(model_result['Accuracy'])]['Threshold'].values[0]\n",
        "print(\"Selected Threshold on Training Set : \" , selected_threshold)"
      ]
    },
    {
      "cell_type": "markdown",
      "metadata": {
        "id": "QJC9KHiXiXPs"
      },
      "source": [
        "**Generating Predictions on Sample of Test Set**"
      ]
    },
    {
      "cell_type": "code",
      "execution_count": null,
      "metadata": {
        "id": "912-aE3IZda2"
      },
      "outputs": [],
      "source": [
        "predictions_sample = model.predict([sample_testX,sample_testX,sample_testX], batch_size = 16)"
      ]
    },
    {
      "cell_type": "code",
      "execution_count": null,
      "metadata": {
        "colab": {
          "base_uri": "https://localhost:8080/"
        },
        "id": "D8pvUroyS-ln",
        "outputId": "e00a4c3d-24c0-4ec3-d358-3f62bf742cc6"
      },
      "outputs": [
        {
          "name": "stdout",
          "output_type": "stream",
          "text": [
            "Sample Test Accuracy: 86.10\n"
          ]
        }
      ],
      "source": [
        "_, acc = model.evaluate([sample_testX,sample_testX,sample_testX], array(sample_test_Labels), verbose=0)\n",
        "print('Sample Test Accuracy: %.2f' % (acc*100))"
      ]
    },
    {
      "cell_type": "markdown",
      "metadata": {
        "id": "JVHkAFpMiqZ7"
      },
      "source": [
        "**Converting Sample Test Set Prediction Probabilities to Labels using selected threshold**"
      ]
    },
    {
      "cell_type": "code",
      "execution_count": null,
      "metadata": {
        "id": "1lUqJR9TZz4e"
      },
      "outputs": [],
      "source": [
        "predictions_sample = model.predict([sample_testX,sample_testX,sample_testX], batch_size = 16)\n",
        "predictions_sample = list(predictions_sample)\n",
        "predictions_sample = pd.DataFrame(predictions_sample, columns = ['Probabilities'])\n",
        "selected_threshold = 0.733\n",
        "predictions_sample['Labels'] = predictions_sample['Probabilities'].apply(lambda x :  1 if x >= selected_threshold else  0)"
      ]
    },
    {
      "cell_type": "code",
      "execution_count": null,
      "metadata": {
        "colab": {
          "base_uri": "https://localhost:8080/",
          "height": 441
        },
        "id": "4T4KHNV6hIsE",
        "outputId": "2b29872f-79b5-4efc-fd0e-9c00a0d992fb"
      },
      "outputs": [
        {
          "name": "stdout",
          "output_type": "stream",
          "text": [
            "Sample Test Probabilities and Labels\n"
          ]
        },
        {
          "data": {
            "text/html": [
              "\n",
              "  <div id=\"df-84d2455e-a83b-4623-b313-511cf7313e58\">\n",
              "    <div class=\"colab-df-container\">\n",
              "      <div>\n",
              "<style scoped>\n",
              "    .dataframe tbody tr th:only-of-type {\n",
              "        vertical-align: middle;\n",
              "    }\n",
              "\n",
              "    .dataframe tbody tr th {\n",
              "        vertical-align: top;\n",
              "    }\n",
              "\n",
              "    .dataframe thead th {\n",
              "        text-align: right;\n",
              "    }\n",
              "</style>\n",
              "<table border=\"1\" class=\"dataframe\">\n",
              "  <thead>\n",
              "    <tr style=\"text-align: right;\">\n",
              "      <th></th>\n",
              "      <th>Probabilities</th>\n",
              "      <th>Labels</th>\n",
              "    </tr>\n",
              "  </thead>\n",
              "  <tbody>\n",
              "    <tr>\n",
              "      <th>0</th>\n",
              "      <td>2.154480e-19</td>\n",
              "      <td>0</td>\n",
              "    </tr>\n",
              "    <tr>\n",
              "      <th>1</th>\n",
              "      <td>9.998713e-01</td>\n",
              "      <td>1</td>\n",
              "    </tr>\n",
              "    <tr>\n",
              "      <th>2</th>\n",
              "      <td>9.999994e-01</td>\n",
              "      <td>1</td>\n",
              "    </tr>\n",
              "    <tr>\n",
              "      <th>3</th>\n",
              "      <td>1.610951e-07</td>\n",
              "      <td>0</td>\n",
              "    </tr>\n",
              "    <tr>\n",
              "      <th>4</th>\n",
              "      <td>7.397356e-09</td>\n",
              "      <td>0</td>\n",
              "    </tr>\n",
              "    <tr>\n",
              "      <th>...</th>\n",
              "      <td>...</td>\n",
              "      <td>...</td>\n",
              "    </tr>\n",
              "    <tr>\n",
              "      <th>995</th>\n",
              "      <td>9.999995e-01</td>\n",
              "      <td>1</td>\n",
              "    </tr>\n",
              "    <tr>\n",
              "      <th>996</th>\n",
              "      <td>8.580864e-01</td>\n",
              "      <td>1</td>\n",
              "    </tr>\n",
              "    <tr>\n",
              "      <th>997</th>\n",
              "      <td>1.000000e+00</td>\n",
              "      <td>1</td>\n",
              "    </tr>\n",
              "    <tr>\n",
              "      <th>998</th>\n",
              "      <td>3.211959e-03</td>\n",
              "      <td>0</td>\n",
              "    </tr>\n",
              "    <tr>\n",
              "      <th>999</th>\n",
              "      <td>9.999998e-01</td>\n",
              "      <td>1</td>\n",
              "    </tr>\n",
              "  </tbody>\n",
              "</table>\n",
              "<p>1000 rows × 2 columns</p>\n",
              "</div>\n",
              "      <button class=\"colab-df-convert\" onclick=\"convertToInteractive('df-84d2455e-a83b-4623-b313-511cf7313e58')\"\n",
              "              title=\"Convert this dataframe to an interactive table.\"\n",
              "              style=\"display:none;\">\n",
              "        \n",
              "  <svg xmlns=\"http://www.w3.org/2000/svg\" height=\"24px\"viewBox=\"0 0 24 24\"\n",
              "       width=\"24px\">\n",
              "    <path d=\"M0 0h24v24H0V0z\" fill=\"none\"/>\n",
              "    <path d=\"M18.56 5.44l.94 2.06.94-2.06 2.06-.94-2.06-.94-.94-2.06-.94 2.06-2.06.94zm-11 1L8.5 8.5l.94-2.06 2.06-.94-2.06-.94L8.5 2.5l-.94 2.06-2.06.94zm10 10l.94 2.06.94-2.06 2.06-.94-2.06-.94-.94-2.06-.94 2.06-2.06.94z\"/><path d=\"M17.41 7.96l-1.37-1.37c-.4-.4-.92-.59-1.43-.59-.52 0-1.04.2-1.43.59L10.3 9.45l-7.72 7.72c-.78.78-.78 2.05 0 2.83L4 21.41c.39.39.9.59 1.41.59.51 0 1.02-.2 1.41-.59l7.78-7.78 2.81-2.81c.8-.78.8-2.07 0-2.86zM5.41 20L4 18.59l7.72-7.72 1.47 1.35L5.41 20z\"/>\n",
              "  </svg>\n",
              "      </button>\n",
              "      \n",
              "  <style>\n",
              "    .colab-df-container {\n",
              "      display:flex;\n",
              "      flex-wrap:wrap;\n",
              "      gap: 12px;\n",
              "    }\n",
              "\n",
              "    .colab-df-convert {\n",
              "      background-color: #E8F0FE;\n",
              "      border: none;\n",
              "      border-radius: 50%;\n",
              "      cursor: pointer;\n",
              "      display: none;\n",
              "      fill: #1967D2;\n",
              "      height: 32px;\n",
              "      padding: 0 0 0 0;\n",
              "      width: 32px;\n",
              "    }\n",
              "\n",
              "    .colab-df-convert:hover {\n",
              "      background-color: #E2EBFA;\n",
              "      box-shadow: 0px 1px 2px rgba(60, 64, 67, 0.3), 0px 1px 3px 1px rgba(60, 64, 67, 0.15);\n",
              "      fill: #174EA6;\n",
              "    }\n",
              "\n",
              "    [theme=dark] .colab-df-convert {\n",
              "      background-color: #3B4455;\n",
              "      fill: #D2E3FC;\n",
              "    }\n",
              "\n",
              "    [theme=dark] .colab-df-convert:hover {\n",
              "      background-color: #434B5C;\n",
              "      box-shadow: 0px 1px 3px 1px rgba(0, 0, 0, 0.15);\n",
              "      filter: drop-shadow(0px 1px 2px rgba(0, 0, 0, 0.3));\n",
              "      fill: #FFFFFF;\n",
              "    }\n",
              "  </style>\n",
              "\n",
              "      <script>\n",
              "        const buttonEl =\n",
              "          document.querySelector('#df-84d2455e-a83b-4623-b313-511cf7313e58 button.colab-df-convert');\n",
              "        buttonEl.style.display =\n",
              "          google.colab.kernel.accessAllowed ? 'block' : 'none';\n",
              "\n",
              "        async function convertToInteractive(key) {\n",
              "          const element = document.querySelector('#df-84d2455e-a83b-4623-b313-511cf7313e58');\n",
              "          const dataTable =\n",
              "            await google.colab.kernel.invokeFunction('convertToInteractive',\n",
              "                                                     [key], {});\n",
              "          if (!dataTable) return;\n",
              "\n",
              "          const docLinkHtml = 'Like what you see? Visit the ' +\n",
              "            '<a target=\"_blank\" href=https://colab.research.google.com/notebooks/data_table.ipynb>data table notebook</a>'\n",
              "            + ' to learn more about interactive tables.';\n",
              "          element.innerHTML = '';\n",
              "          dataTable['output_type'] = 'display_data';\n",
              "          await google.colab.output.renderOutput(dataTable, element);\n",
              "          const docLink = document.createElement('div');\n",
              "          docLink.innerHTML = docLinkHtml;\n",
              "          element.appendChild(docLink);\n",
              "        }\n",
              "      </script>\n",
              "    </div>\n",
              "  </div>\n",
              "  "
            ],
            "text/plain": [
              "     Probabilities  Labels\n",
              "0     2.154480e-19       0\n",
              "1     9.998713e-01       1\n",
              "2     9.999994e-01       1\n",
              "3     1.610951e-07       0\n",
              "4     7.397356e-09       0\n",
              "..             ...     ...\n",
              "995   9.999995e-01       1\n",
              "996   8.580864e-01       1\n",
              "997   1.000000e+00       1\n",
              "998   3.211959e-03       0\n",
              "999   9.999998e-01       1\n",
              "\n",
              "[1000 rows x 2 columns]"
            ]
          },
          "execution_count": 151,
          "metadata": {},
          "output_type": "execute_result"
        }
      ],
      "source": [
        "print(\"Sample Test Probabilities and Labels\")\n",
        "\n",
        "predictions_sample"
      ]
    },
    {
      "cell_type": "markdown",
      "metadata": {
        "id": "VoUktT5dUIZX"
      },
      "source": [
        "#### c. (2 points) Evaluate and report **your model’s** performance on these 1000 examples using the metric specified in 1.2 (c)."
      ]
    },
    {
      "cell_type": "code",
      "execution_count": null,
      "metadata": {
        "id": "C8goGh3NuX9C"
      },
      "outputs": [],
      "source": [
        "################## YOUR CODE HERE ##################\n",
        "\n",
        "####################################################"
      ]
    },
    {
      "cell_type": "code",
      "execution_count": null,
      "metadata": {
        "id": "sEECisBnVVJt"
      },
      "outputs": [],
      "source": [
        "def get_model_performance(sample_test_Labels, predictions_sample):\n",
        "    \n",
        "\n",
        "  a = confusion_matrix(sample_test_Labels,predictions_sample)\n",
        "\n",
        "  tp = a[0,0]\n",
        "  fp = a[0,1]\n",
        "  fn = a[1,0]\n",
        "  tn = a[1,1]\n",
        "\n",
        "  precision = tp/(tp+fp)\n",
        "  recall = tp/(tp+fn)\n",
        "  accuracy = (tp+tn)/(tp+tn+fp+fn)\n",
        "\n",
        "  F1 = 2 * (precision * recall) / (precision + recall)\n",
        "  print(\"Model's performance on \" , len(sample_test_Labels) ,  \" samples of Test Set :  \")\n",
        "  print(\"Accuracy : \", accuracy)\n",
        "  print(\"Precision : \", precision)\n",
        "  print(\"Recall : \", recall)\n",
        "  print(\"F1 : \", F1)"
      ]
    },
    {
      "cell_type": "code",
      "execution_count": null,
      "metadata": {
        "colab": {
          "base_uri": "https://localhost:8080/"
        },
        "id": "Uyhgh_uMX9JN",
        "outputId": "57f0da4f-ee92-443b-eb50-957b072730e6"
      },
      "outputs": [
        {
          "name": "stdout",
          "output_type": "stream",
          "text": [
            "Model's performance on 1000 samples of Test Set :  \n",
            "Accuracy :  0.852\n",
            "Precision :  0.8793456032719836\n",
            "Recall :  0.8285163776493256\n",
            "F1 :  0.8531746031746031\n"
          ]
        }
      ],
      "source": [
        "get_model_performance(list(sample_test_Labels), list(predictions_sample['Labels']))"
      ]
    },
    {
      "cell_type": "markdown",
      "metadata": {
        "id": "-jgkP9ZYUS_i"
      },
      "source": [
        "#### d. (2 points) Use the **fine-tuned model** to make predictions on these examples and output predicted labels and associated probabilities.\n"
      ]
    },
    {
      "cell_type": "code",
      "execution_count": null,
      "metadata": {
        "id": "czc90w5Au2H-"
      },
      "outputs": [],
      "source": [
        "################## YOUR CODE HERE ##################\n",
        "# nlp = pipeline(...)\n",
        "####################################################"
      ]
    },
    {
      "cell_type": "code",
      "execution_count": null,
      "metadata": {
        "id": "2Z-5mqOO9K_G"
      },
      "outputs": [],
      "source": [
        ""
      ]
    },
    {
      "cell_type": "code",
      "execution_count": 65,
      "metadata": {
        "colab": {
          "base_uri": "https://localhost:8080/",
          "height": 410,
          "referenced_widgets": [
            "0389f8deb70643e2a57404bcf1ebeaf8",
            "8de90961ad9d482f97186bcc53c68c18",
            "1bd8db509217423bab8a9f81cab768d6",
            "ba94602665f54bf9b53eed12d630a5f0",
            "c930e922ab8940b0abcd908ff6e33204",
            "ef58a91eaa7849da8f79c9409c882100",
            "544df2cb6f48499f95517e1154490e60",
            "046d867255844f60b20831593c89b59b",
            "f1b2d98872f14ccb904cfcd0b5595079",
            "b1ad20b2bcef4848a66523771d1bf567",
            "989776b59d214c34ba5661a9fda574ca",
            "475d2581bc33486d98a2718a2add54f9",
            "7955256392c2460ea85a3398cfe14885",
            "073bd850fc214fccaa4e7fb77c811082",
            "89dfa57313da4fd393e60fb1cf8d6bba",
            "a69f2910d52b4f69ba2542dcefac9835",
            "7826073fca7d4e869b47e68f33967c9a",
            "b0ebd8e3c8aa49e4b426db970dad3ca7",
            "8fc0910d5618488da7cf609826b52639",
            "387ed29967624bf5855fa34a5287c738",
            "b198845b86cd410cb805d1d8b2ee6328",
            "ff578f1074804624a31f71fde9532dbd",
            "84a0dbcfb5a14cc187364c4eafc3dd1c",
            "9a9cdccc9b6f403d851cdced2a46faf8",
            "d7381fe541284621b043dc2ae91a4cbf",
            "276e1287ef4f4500bc1f106f2c8bc043",
            "f6a9551e46a349da8be4d6011dacf364",
            "6e3db4e135e1424c94d49881390bfe97",
            "b8d45454e8704062a4b7470e310a4839",
            "90b343e69d244781a86b58465784a8aa",
            "507b1bd1e27f4b07b47bb7615a3cbfdf",
            "003a76d3b38f4c01933bd4cf85032c7d",
            "eea0d908c4664b938473e34b180db18d",
            "11e1062344eb423baee9ab3733bdf4b4",
            "8e6590dbf7684edd8e2d46cae2e8ff16",
            "aba59f7feb73452f9a6f790e5fe3eca4",
            "7e622cd33e5349ebade9e0e7e9c0ea55",
            "7aa9522cfbe244f893669213dead9a10",
            "e578f9b073b443c38ec52a3bc21cc23a",
            "8208bee4ab934ceba712a032a14c461d",
            "f9d0cc3c3df84092811414984e665bd4",
            "84fc3758274942409db2aaf24655c2f9",
            "3695a553d51f470d8f923fa918ae48d5",
            "1c48ec65e7494d61ad1622b3d04a81cc",
            "4235f4e49c764625bed2bc27ff58ec06",
            "0eecb0a20e8c40a4ae3bf0f4f343f5fe",
            "a1b61744580144dd8235e62796be6af8",
            "9f46148e57b74aa1ac494ec06b052d62",
            "4b7994b37a1a4a60b60982ef0813a97d",
            "ad27c6afa66b4c70a25ea32b0cf96028",
            "0e11dedfea434880b3ae185d97d99baf",
            "f33fbbec35a9479cb159cf1ad556076c",
            "ffe960b7fe8f4a84b5fb8fb84a111abb",
            "86683cb0cbee453ab2eb0b7cddfd00ef",
            "dfbd8f04144f4b4e96d82920028254ba"
          ]
        },
        "id": "9afYfKME9Stm",
        "outputId": "1fc17565-935e-420c-b3d9-12a062e78acf"
      },
      "outputs": [
        {
          "output_type": "stream",
          "name": "stdout",
          "text": [
            "1000 samples in terms of  Percetange :  0.04\n"
          ]
        },
        {
          "output_type": "display_data",
          "data": {
            "application/vnd.jupyter.widget-view+json": {
              "model_id": "0389f8deb70643e2a57404bcf1ebeaf8",
              "version_minor": 0,
              "version_major": 2
            },
            "text/plain": [
              "Downloading:   0%|          | 0.00/483 [00:00<?, ?B/s]"
            ]
          },
          "metadata": {}
        },
        {
          "output_type": "display_data",
          "data": {
            "application/vnd.jupyter.widget-view+json": {
              "model_id": "475d2581bc33486d98a2718a2add54f9",
              "version_minor": 0,
              "version_major": 2
            },
            "text/plain": [
              "Downloading:   0%|          | 0.00/256M [00:00<?, ?B/s]"
            ]
          },
          "metadata": {}
        },
        {
          "output_type": "stream",
          "name": "stderr",
          "text": [
            "Some weights of the model checkpoint at distilbert-base-uncased were not used when initializing DistilBertForSequenceClassification: ['vocab_layer_norm.bias', 'vocab_layer_norm.weight', 'vocab_projector.bias', 'vocab_transform.bias', 'vocab_projector.weight', 'vocab_transform.weight']\n",
            "- This IS expected if you are initializing DistilBertForSequenceClassification from the checkpoint of a model trained on another task or with another architecture (e.g. initializing a BertForSequenceClassification model from a BertForPreTraining model).\n",
            "- This IS NOT expected if you are initializing DistilBertForSequenceClassification from the checkpoint of a model that you expect to be exactly identical (initializing a BertForSequenceClassification model from a BertForSequenceClassification model).\n",
            "Some weights of DistilBertForSequenceClassification were not initialized from the model checkpoint at distilbert-base-uncased and are newly initialized: ['classifier.bias', 'classifier.weight', 'pre_classifier.weight', 'pre_classifier.bias']\n",
            "You should probably TRAIN this model on a down-stream task to be able to use it for predictions and inference.\n"
          ]
        },
        {
          "output_type": "display_data",
          "data": {
            "application/vnd.jupyter.widget-view+json": {
              "model_id": "84a0dbcfb5a14cc187364c4eafc3dd1c",
              "version_minor": 0,
              "version_major": 2
            },
            "text/plain": [
              "Downloading:   0%|          | 0.00/28.0 [00:00<?, ?B/s]"
            ]
          },
          "metadata": {}
        },
        {
          "output_type": "display_data",
          "data": {
            "application/vnd.jupyter.widget-view+json": {
              "model_id": "11e1062344eb423baee9ab3733bdf4b4",
              "version_minor": 0,
              "version_major": 2
            },
            "text/plain": [
              "Downloading:   0%|          | 0.00/226k [00:00<?, ?B/s]"
            ]
          },
          "metadata": {}
        },
        {
          "output_type": "display_data",
          "data": {
            "application/vnd.jupyter.widget-view+json": {
              "model_id": "4235f4e49c764625bed2bc27ff58ec06",
              "version_minor": 0,
              "version_major": 2
            },
            "text/plain": [
              "Downloading:   0%|          | 0.00/455k [00:00<?, ?B/s]"
            ]
          },
          "metadata": {}
        },
        {
          "output_type": "execute_result",
          "data": {
            "text/plain": [
              "{'distilbert-base-cased': 512,\n",
              " 'distilbert-base-cased-distilled-squad': 512,\n",
              " 'distilbert-base-german-cased': 512,\n",
              " 'distilbert-base-multilingual-cased': 512,\n",
              " 'distilbert-base-uncased': 512,\n",
              " 'distilbert-base-uncased-distilled-squad': 512}"
            ]
          },
          "metadata": {},
          "execution_count": 65
        }
      ],
      "source": [
        "# loading train and test dataset\n",
        "\n",
        "\n",
        "\n",
        "# trainLines, trainLabels = load_dataset('train.pkl')\n",
        "# testLines, testLabels = load_dataset('test.pkl')\n",
        "\n",
        "\n",
        "# test_texts, test_labels\n",
        "\n",
        "trainLines = pd.DataFrame(train_texts)\n",
        "testLines = pd.DataFrame(test_texts)\n",
        "\n",
        "trainLabels = pd.DataFrame(train_labels)\n",
        "testLabels = pd.DataFrame(test_labels)\n",
        "\n",
        "train = pd.concat([trainLines,trainLabels], axis = 1)\n",
        "test = pd.concat([testLines,testLabels], axis = 1)\n",
        "train.columns = ['reviews','labels']\n",
        "test.columns = ['reviews','labels']\n",
        "\n",
        "\n",
        "\n",
        "# creating sample dataset from test dataset\n",
        "print( \"1000 samples in terms of  Percetange : \", 1000 / testLines.shape[0])\n",
        "sample_percentage = 1000 / test.shape[0]\n",
        "sample_testData = test.sample(frac= sample_percentage, replace=True, random_state=412)\n",
        "train, val = train_test_split(train, test_size=0.2, random_state=42, shuffle=True)\n",
        "\n",
        "\n",
        "\n",
        "# building model and tokenizer object\n",
        "model = DistilBertForSequenceClassification.from_pretrained(\"distilbert-base-uncased\", num_labels=len(set(train['labels']))).to('cuda')\n",
        "tokenizer = DistilBertTokenizerFast.from_pretrained('distilbert-base-uncased')\n",
        "tokenizer.max_model_input_sizes"
      ]
    },
    {
      "cell_type": "code",
      "execution_count": 66,
      "metadata": {
        "id": "3Mxx9hffDisS"
      },
      "outputs": [],
      "source": [
        "# encoding train, validation , test and sample_test datasets\n",
        "\n",
        "train_encodings = tokenizer(train['reviews'].to_list(), truncation=True, padding = \"max_length\")\n",
        "val_encodings = tokenizer(val['reviews'].to_list(), truncation=True, padding = \"max_length\")\n",
        "test_encodings = tokenizer(test['reviews'].to_list(), truncation=True, padding = \"max_length\")\n",
        "\n",
        "sample_testData_encodings = tokenizer(sample_testData['reviews'].to_list(), truncation=True, padding = \"max_length\")"
      ]
    },
    {
      "cell_type": "code",
      "execution_count": 68,
      "metadata": {
        "id": "V3-CuEesrScr"
      },
      "outputs": [],
      "source": [
        "# make torch dataset\n",
        "class my_Dataset(torch.utils.data.Dataset):\n",
        "    def __init__(self, encodings, labels):\n",
        "        self.encodings = encodings\n",
        "        self.labels = labels\n",
        "\n",
        "    def __getitem__(self, idx):\n",
        "        item = {key: torch.tensor(val[idx]) for key, val in self.encodings.items()}\n",
        "        item['labels'] = torch.tensor(self.labels[idx])\n",
        "        return item\n",
        "\n",
        "    def __len__(self):\n",
        "        return len(self.labels)"
      ]
    },
    {
      "cell_type": "code",
      "execution_count": 69,
      "metadata": {
        "id": "-EZIQ4PZESCz"
      },
      "outputs": [],
      "source": [
        "# transforming pandas dataset to toch dataset\n",
        "\n",
        "train_dataset = my_Dataset(train_encodings, train['labels'].to_list())\n",
        "val_dataset = my_Dataset(val_encodings, val['labels'].to_list())\n",
        "test_dataset = my_Dataset(test_encodings, test['labels'].to_list())\n",
        "sample_testDataset = my_Dataset(sample_testData_encodings, sample_testData['labels'].to_list())"
      ]
    },
    {
      "cell_type": "code",
      "execution_count": 70,
      "metadata": {
        "id": "9fZGpNRw9wzl"
      },
      "outputs": [],
      "source": [
        "# setting up training arguments\n",
        "\n",
        "training_args = TrainingArguments(\n",
        "    output_dir='./results',\n",
        "    num_train_epochs=3,\n",
        "    per_device_train_batch_size=8,\n",
        "    per_device_eval_batch_size=4,\n",
        "    weight_decay=0.01,\n",
        "    eval_steps=10,                      #print every 10 instead of default 500\n",
        "    logging_steps=10,\n",
        ")"
      ]
    },
    {
      "cell_type": "code",
      "execution_count": 71,
      "metadata": {
        "id": "VsNdcobiE6cS"
      },
      "outputs": [],
      "source": [
        "# setting up trainer object\n",
        "\n",
        "trainer = Trainer(\n",
        "    model=model,                         # the instantiated Transformers model to be trained\n",
        "    args=training_args,                  # training arguments, defined above\n",
        "    train_dataset=train_dataset,         # training dataset\n",
        "    eval_dataset=val_dataset             # evaluation dataset\n",
        ")"
      ]
    },
    {
      "cell_type": "code",
      "execution_count": null,
      "metadata": {
        "colab": {
          "base_uri": "https://localhost:8080/",
          "height": 1000
        },
        "id": "EenLRJdSFA0q",
        "outputId": "70088164-0742-43e5-b624-0261eedf21a2"
      },
      "outputs": [
        {
          "metadata": {
            "tags": null
          },
          "name": "stderr",
          "output_type": "stream",
          "text": [
            "/usr/local/lib/python3.7/dist-packages/transformers/optimization.py:309: FutureWarning: This implementation of AdamW is deprecated and will be removed in a future version. Use thePyTorch implementation torch.optim.AdamW instead, or set `no_deprecation_warning=True` to disable this warning\n",
            "  FutureWarning,\n",
            "***** Running training *****\n",
            "  Num examples = 20000\n",
            "  Num Epochs = 3\n",
            "  Instantaneous batch size per device = 8\n",
            "  Total train batch size (w. parallel, distributed & accumulation) = 8\n",
            "  Gradient Accumulation steps = 1\n",
            "  Total optimization steps = 7500\n"
          ]
        },
        {
          "data": {
            "text/html": [
              "\n",
              "    <div>\n",
              "      \n",
              "      <progress value='1934' max='7500' style='width:300px; height:20px; vertical-align: middle;'></progress>\n",
              "      [1934/7500 07:42 < 22:11, 4.18 it/s, Epoch 0.77/3]\n",
              "    </div>\n",
              "    <table border=\"1\" class=\"dataframe\">\n",
              "  <thead>\n",
              " <tr style=\"text-align: left;\">\n",
              "      <th>Step</th>\n",
              "      <th>Training Loss</th>\n",
              "    </tr>\n",
              "  </thead>\n",
              "  <tbody>\n",
              "    <tr>\n",
              "      <td>10</td>\n",
              "      <td>0.694600</td>\n",
              "    </tr>\n",
              "    <tr>\n",
              "      <td>20</td>\n",
              "      <td>0.651400</td>\n",
              "    </tr>\n",
              "    <tr>\n",
              "      <td>30</td>\n",
              "      <td>0.481500</td>\n",
              "    </tr>\n",
              "    <tr>\n",
              "      <td>40</td>\n",
              "      <td>0.518000</td>\n",
              "    </tr>\n",
              "    <tr>\n",
              "      <td>50</td>\n",
              "      <td>0.389900</td>\n",
              "    </tr>\n",
              "    <tr>\n",
              "      <td>60</td>\n",
              "      <td>0.342300</td>\n",
              "    </tr>\n",
              "    <tr>\n",
              "      <td>70</td>\n",
              "      <td>0.510000</td>\n",
              "    </tr>\n",
              "    <tr>\n",
              "      <td>80</td>\n",
              "      <td>0.426500</td>\n",
              "    </tr>\n",
              "    <tr>\n",
              "      <td>90</td>\n",
              "      <td>0.349400</td>\n",
              "    </tr>\n",
              "    <tr>\n",
              "      <td>100</td>\n",
              "      <td>0.352000</td>\n",
              "    </tr>\n",
              "    <tr>\n",
              "      <td>110</td>\n",
              "      <td>0.409600</td>\n",
              "    </tr>\n",
              "    <tr>\n",
              "      <td>120</td>\n",
              "      <td>0.255600</td>\n",
              "    </tr>\n",
              "    <tr>\n",
              "      <td>130</td>\n",
              "      <td>0.829500</td>\n",
              "    </tr>\n",
              "    <tr>\n",
              "      <td>140</td>\n",
              "      <td>0.320200</td>\n",
              "    </tr>\n",
              "    <tr>\n",
              "      <td>150</td>\n",
              "      <td>0.454800</td>\n",
              "    </tr>\n",
              "    <tr>\n",
              "      <td>160</td>\n",
              "      <td>0.458600</td>\n",
              "    </tr>\n",
              "    <tr>\n",
              "      <td>170</td>\n",
              "      <td>0.322700</td>\n",
              "    </tr>\n",
              "    <tr>\n",
              "      <td>180</td>\n",
              "      <td>0.368600</td>\n",
              "    </tr>\n",
              "    <tr>\n",
              "      <td>190</td>\n",
              "      <td>0.395500</td>\n",
              "    </tr>\n",
              "    <tr>\n",
              "      <td>200</td>\n",
              "      <td>0.573600</td>\n",
              "    </tr>\n",
              "    <tr>\n",
              "      <td>210</td>\n",
              "      <td>0.477300</td>\n",
              "    </tr>\n",
              "    <tr>\n",
              "      <td>220</td>\n",
              "      <td>0.391100</td>\n",
              "    </tr>\n",
              "    <tr>\n",
              "      <td>230</td>\n",
              "      <td>0.498900</td>\n",
              "    </tr>\n",
              "    <tr>\n",
              "      <td>240</td>\n",
              "      <td>0.378400</td>\n",
              "    </tr>\n",
              "    <tr>\n",
              "      <td>250</td>\n",
              "      <td>0.361500</td>\n",
              "    </tr>\n",
              "    <tr>\n",
              "      <td>260</td>\n",
              "      <td>0.442100</td>\n",
              "    </tr>\n",
              "    <tr>\n",
              "      <td>270</td>\n",
              "      <td>0.331200</td>\n",
              "    </tr>\n",
              "    <tr>\n",
              "      <td>280</td>\n",
              "      <td>0.330700</td>\n",
              "    </tr>\n",
              "    <tr>\n",
              "      <td>290</td>\n",
              "      <td>0.450500</td>\n",
              "    </tr>\n",
              "    <tr>\n",
              "      <td>300</td>\n",
              "      <td>0.411000</td>\n",
              "    </tr>\n",
              "    <tr>\n",
              "      <td>310</td>\n",
              "      <td>0.454000</td>\n",
              "    </tr>\n",
              "    <tr>\n",
              "      <td>320</td>\n",
              "      <td>0.293900</td>\n",
              "    </tr>\n",
              "    <tr>\n",
              "      <td>330</td>\n",
              "      <td>0.558100</td>\n",
              "    </tr>\n",
              "    <tr>\n",
              "      <td>340</td>\n",
              "      <td>0.430400</td>\n",
              "    </tr>\n",
              "    <tr>\n",
              "      <td>350</td>\n",
              "      <td>0.363800</td>\n",
              "    </tr>\n",
              "    <tr>\n",
              "      <td>360</td>\n",
              "      <td>0.301600</td>\n",
              "    </tr>\n",
              "    <tr>\n",
              "      <td>370</td>\n",
              "      <td>0.328200</td>\n",
              "    </tr>\n",
              "    <tr>\n",
              "      <td>380</td>\n",
              "      <td>0.351500</td>\n",
              "    </tr>\n",
              "    <tr>\n",
              "      <td>390</td>\n",
              "      <td>0.523200</td>\n",
              "    </tr>\n",
              "    <tr>\n",
              "      <td>400</td>\n",
              "      <td>0.273600</td>\n",
              "    </tr>\n",
              "    <tr>\n",
              "      <td>410</td>\n",
              "      <td>0.302000</td>\n",
              "    </tr>\n",
              "    <tr>\n",
              "      <td>420</td>\n",
              "      <td>0.379300</td>\n",
              "    </tr>\n",
              "    <tr>\n",
              "      <td>430</td>\n",
              "      <td>0.202400</td>\n",
              "    </tr>\n",
              "    <tr>\n",
              "      <td>440</td>\n",
              "      <td>0.454700</td>\n",
              "    </tr>\n",
              "    <tr>\n",
              "      <td>450</td>\n",
              "      <td>0.518300</td>\n",
              "    </tr>\n",
              "    <tr>\n",
              "      <td>460</td>\n",
              "      <td>0.519900</td>\n",
              "    </tr>\n",
              "    <tr>\n",
              "      <td>470</td>\n",
              "      <td>0.411600</td>\n",
              "    </tr>\n",
              "    <tr>\n",
              "      <td>480</td>\n",
              "      <td>0.434000</td>\n",
              "    </tr>\n",
              "    <tr>\n",
              "      <td>490</td>\n",
              "      <td>0.328700</td>\n",
              "    </tr>\n",
              "    <tr>\n",
              "      <td>500</td>\n",
              "      <td>0.188200</td>\n",
              "    </tr>\n",
              "    <tr>\n",
              "      <td>510</td>\n",
              "      <td>0.345800</td>\n",
              "    </tr>\n",
              "    <tr>\n",
              "      <td>520</td>\n",
              "      <td>0.321300</td>\n",
              "    </tr>\n",
              "    <tr>\n",
              "      <td>530</td>\n",
              "      <td>0.256600</td>\n",
              "    </tr>\n",
              "    <tr>\n",
              "      <td>540</td>\n",
              "      <td>0.413600</td>\n",
              "    </tr>\n",
              "    <tr>\n",
              "      <td>550</td>\n",
              "      <td>0.246700</td>\n",
              "    </tr>\n",
              "    <tr>\n",
              "      <td>560</td>\n",
              "      <td>0.341000</td>\n",
              "    </tr>\n",
              "    <tr>\n",
              "      <td>570</td>\n",
              "      <td>0.259800</td>\n",
              "    </tr>\n",
              "    <tr>\n",
              "      <td>580</td>\n",
              "      <td>0.187900</td>\n",
              "    </tr>\n",
              "    <tr>\n",
              "      <td>590</td>\n",
              "      <td>0.306100</td>\n",
              "    </tr>\n",
              "    <tr>\n",
              "      <td>600</td>\n",
              "      <td>0.371700</td>\n",
              "    </tr>\n",
              "    <tr>\n",
              "      <td>610</td>\n",
              "      <td>0.449100</td>\n",
              "    </tr>\n",
              "    <tr>\n",
              "      <td>620</td>\n",
              "      <td>0.385500</td>\n",
              "    </tr>\n",
              "    <tr>\n",
              "      <td>630</td>\n",
              "      <td>0.393600</td>\n",
              "    </tr>\n",
              "    <tr>\n",
              "      <td>640</td>\n",
              "      <td>0.461100</td>\n",
              "    </tr>\n",
              "    <tr>\n",
              "      <td>650</td>\n",
              "      <td>0.195100</td>\n",
              "    </tr>\n",
              "    <tr>\n",
              "      <td>660</td>\n",
              "      <td>0.245500</td>\n",
              "    </tr>\n",
              "    <tr>\n",
              "      <td>670</td>\n",
              "      <td>0.542500</td>\n",
              "    </tr>\n",
              "    <tr>\n",
              "      <td>680</td>\n",
              "      <td>0.290900</td>\n",
              "    </tr>\n",
              "    <tr>\n",
              "      <td>690</td>\n",
              "      <td>0.390300</td>\n",
              "    </tr>\n",
              "    <tr>\n",
              "      <td>700</td>\n",
              "      <td>0.257400</td>\n",
              "    </tr>\n",
              "    <tr>\n",
              "      <td>710</td>\n",
              "      <td>0.393800</td>\n",
              "    </tr>\n",
              "    <tr>\n",
              "      <td>720</td>\n",
              "      <td>0.324200</td>\n",
              "    </tr>\n",
              "    <tr>\n",
              "      <td>730</td>\n",
              "      <td>0.391500</td>\n",
              "    </tr>\n",
              "    <tr>\n",
              "      <td>740</td>\n",
              "      <td>0.247700</td>\n",
              "    </tr>\n",
              "    <tr>\n",
              "      <td>750</td>\n",
              "      <td>0.407600</td>\n",
              "    </tr>\n",
              "    <tr>\n",
              "      <td>760</td>\n",
              "      <td>0.237400</td>\n",
              "    </tr>\n",
              "    <tr>\n",
              "      <td>770</td>\n",
              "      <td>0.289800</td>\n",
              "    </tr>\n",
              "    <tr>\n",
              "      <td>780</td>\n",
              "      <td>0.441600</td>\n",
              "    </tr>\n",
              "    <tr>\n",
              "      <td>790</td>\n",
              "      <td>0.215500</td>\n",
              "    </tr>\n",
              "    <tr>\n",
              "      <td>800</td>\n",
              "      <td>0.477300</td>\n",
              "    </tr>\n",
              "    <tr>\n",
              "      <td>810</td>\n",
              "      <td>0.487700</td>\n",
              "    </tr>\n",
              "    <tr>\n",
              "      <td>820</td>\n",
              "      <td>0.305700</td>\n",
              "    </tr>\n",
              "    <tr>\n",
              "      <td>830</td>\n",
              "      <td>0.344400</td>\n",
              "    </tr>\n",
              "    <tr>\n",
              "      <td>840</td>\n",
              "      <td>0.305800</td>\n",
              "    </tr>\n",
              "    <tr>\n",
              "      <td>850</td>\n",
              "      <td>0.238300</td>\n",
              "    </tr>\n",
              "    <tr>\n",
              "      <td>860</td>\n",
              "      <td>0.363200</td>\n",
              "    </tr>\n",
              "    <tr>\n",
              "      <td>870</td>\n",
              "      <td>0.170800</td>\n",
              "    </tr>\n",
              "    <tr>\n",
              "      <td>880</td>\n",
              "      <td>0.320800</td>\n",
              "    </tr>\n",
              "    <tr>\n",
              "      <td>890</td>\n",
              "      <td>0.447600</td>\n",
              "    </tr>\n",
              "    <tr>\n",
              "      <td>900</td>\n",
              "      <td>0.339100</td>\n",
              "    </tr>\n",
              "    <tr>\n",
              "      <td>910</td>\n",
              "      <td>0.184900</td>\n",
              "    </tr>\n",
              "    <tr>\n",
              "      <td>920</td>\n",
              "      <td>0.426200</td>\n",
              "    </tr>\n",
              "    <tr>\n",
              "      <td>930</td>\n",
              "      <td>0.398600</td>\n",
              "    </tr>\n",
              "    <tr>\n",
              "      <td>940</td>\n",
              "      <td>0.161400</td>\n",
              "    </tr>\n",
              "    <tr>\n",
              "      <td>950</td>\n",
              "      <td>0.441100</td>\n",
              "    </tr>\n",
              "    <tr>\n",
              "      <td>960</td>\n",
              "      <td>0.179000</td>\n",
              "    </tr>\n",
              "    <tr>\n",
              "      <td>970</td>\n",
              "      <td>0.361500</td>\n",
              "    </tr>\n",
              "    <tr>\n",
              "      <td>980</td>\n",
              "      <td>0.423500</td>\n",
              "    </tr>\n",
              "    <tr>\n",
              "      <td>990</td>\n",
              "      <td>0.170300</td>\n",
              "    </tr>\n",
              "    <tr>\n",
              "      <td>1000</td>\n",
              "      <td>0.430800</td>\n",
              "    </tr>\n",
              "    <tr>\n",
              "      <td>1010</td>\n",
              "      <td>0.323800</td>\n",
              "    </tr>\n",
              "    <tr>\n",
              "      <td>1020</td>\n",
              "      <td>0.318700</td>\n",
              "    </tr>\n",
              "    <tr>\n",
              "      <td>1030</td>\n",
              "      <td>0.298600</td>\n",
              "    </tr>\n",
              "    <tr>\n",
              "      <td>1040</td>\n",
              "      <td>0.337000</td>\n",
              "    </tr>\n",
              "    <tr>\n",
              "      <td>1050</td>\n",
              "      <td>0.475700</td>\n",
              "    </tr>\n",
              "    <tr>\n",
              "      <td>1060</td>\n",
              "      <td>0.177000</td>\n",
              "    </tr>\n",
              "    <tr>\n",
              "      <td>1070</td>\n",
              "      <td>0.370800</td>\n",
              "    </tr>\n",
              "    <tr>\n",
              "      <td>1080</td>\n",
              "      <td>0.347000</td>\n",
              "    </tr>\n",
              "    <tr>\n",
              "      <td>1090</td>\n",
              "      <td>0.363700</td>\n",
              "    </tr>\n",
              "    <tr>\n",
              "      <td>1100</td>\n",
              "      <td>0.331600</td>\n",
              "    </tr>\n",
              "    <tr>\n",
              "      <td>1110</td>\n",
              "      <td>0.168900</td>\n",
              "    </tr>\n",
              "    <tr>\n",
              "      <td>1120</td>\n",
              "      <td>0.337000</td>\n",
              "    </tr>\n",
              "    <tr>\n",
              "      <td>1130</td>\n",
              "      <td>0.353600</td>\n",
              "    </tr>\n",
              "    <tr>\n",
              "      <td>1140</td>\n",
              "      <td>0.338000</td>\n",
              "    </tr>\n",
              "    <tr>\n",
              "      <td>1150</td>\n",
              "      <td>0.439700</td>\n",
              "    </tr>\n",
              "    <tr>\n",
              "      <td>1160</td>\n",
              "      <td>0.275200</td>\n",
              "    </tr>\n",
              "    <tr>\n",
              "      <td>1170</td>\n",
              "      <td>0.210700</td>\n",
              "    </tr>\n",
              "    <tr>\n",
              "      <td>1180</td>\n",
              "      <td>0.424700</td>\n",
              "    </tr>\n",
              "    <tr>\n",
              "      <td>1190</td>\n",
              "      <td>0.359000</td>\n",
              "    </tr>\n",
              "    <tr>\n",
              "      <td>1200</td>\n",
              "      <td>0.421300</td>\n",
              "    </tr>\n",
              "    <tr>\n",
              "      <td>1210</td>\n",
              "      <td>0.465600</td>\n",
              "    </tr>\n",
              "    <tr>\n",
              "      <td>1220</td>\n",
              "      <td>0.302700</td>\n",
              "    </tr>\n",
              "    <tr>\n",
              "      <td>1230</td>\n",
              "      <td>0.242600</td>\n",
              "    </tr>\n",
              "    <tr>\n",
              "      <td>1240</td>\n",
              "      <td>0.563500</td>\n",
              "    </tr>\n",
              "    <tr>\n",
              "      <td>1250</td>\n",
              "      <td>0.307600</td>\n",
              "    </tr>\n",
              "    <tr>\n",
              "      <td>1260</td>\n",
              "      <td>0.236400</td>\n",
              "    </tr>\n",
              "    <tr>\n",
              "      <td>1270</td>\n",
              "      <td>0.441300</td>\n",
              "    </tr>\n",
              "    <tr>\n",
              "      <td>1280</td>\n",
              "      <td>0.370500</td>\n",
              "    </tr>\n",
              "    <tr>\n",
              "      <td>1290</td>\n",
              "      <td>0.340400</td>\n",
              "    </tr>\n",
              "    <tr>\n",
              "      <td>1300</td>\n",
              "      <td>0.333700</td>\n",
              "    </tr>\n",
              "    <tr>\n",
              "      <td>1310</td>\n",
              "      <td>0.360900</td>\n",
              "    </tr>\n",
              "    <tr>\n",
              "      <td>1320</td>\n",
              "      <td>0.287200</td>\n",
              "    </tr>\n",
              "    <tr>\n",
              "      <td>1330</td>\n",
              "      <td>0.328700</td>\n",
              "    </tr>\n",
              "    <tr>\n",
              "      <td>1340</td>\n",
              "      <td>0.266000</td>\n",
              "    </tr>\n",
              "    <tr>\n",
              "      <td>1350</td>\n",
              "      <td>0.323500</td>\n",
              "    </tr>\n",
              "    <tr>\n",
              "      <td>1360</td>\n",
              "      <td>0.582200</td>\n",
              "    </tr>\n",
              "    <tr>\n",
              "      <td>1370</td>\n",
              "      <td>0.382500</td>\n",
              "    </tr>\n",
              "    <tr>\n",
              "      <td>1380</td>\n",
              "      <td>0.276200</td>\n",
              "    </tr>\n",
              "    <tr>\n",
              "      <td>1390</td>\n",
              "      <td>0.297500</td>\n",
              "    </tr>\n",
              "    <tr>\n",
              "      <td>1400</td>\n",
              "      <td>0.276900</td>\n",
              "    </tr>\n",
              "    <tr>\n",
              "      <td>1410</td>\n",
              "      <td>0.462400</td>\n",
              "    </tr>\n",
              "    <tr>\n",
              "      <td>1420</td>\n",
              "      <td>0.385000</td>\n",
              "    </tr>\n",
              "    <tr>\n",
              "      <td>1430</td>\n",
              "      <td>0.255200</td>\n",
              "    </tr>\n",
              "    <tr>\n",
              "      <td>1440</td>\n",
              "      <td>0.272600</td>\n",
              "    </tr>\n",
              "    <tr>\n",
              "      <td>1450</td>\n",
              "      <td>0.105200</td>\n",
              "    </tr>\n",
              "    <tr>\n",
              "      <td>1460</td>\n",
              "      <td>0.501800</td>\n",
              "    </tr>\n",
              "    <tr>\n",
              "      <td>1470</td>\n",
              "      <td>0.383700</td>\n",
              "    </tr>\n",
              "    <tr>\n",
              "      <td>1480</td>\n",
              "      <td>0.369300</td>\n",
              "    </tr>\n",
              "    <tr>\n",
              "      <td>1490</td>\n",
              "      <td>0.311300</td>\n",
              "    </tr>\n",
              "    <tr>\n",
              "      <td>1500</td>\n",
              "      <td>0.335200</td>\n",
              "    </tr>\n",
              "    <tr>\n",
              "      <td>1510</td>\n",
              "      <td>0.375200</td>\n",
              "    </tr>\n",
              "    <tr>\n",
              "      <td>1520</td>\n",
              "      <td>0.281000</td>\n",
              "    </tr>\n",
              "    <tr>\n",
              "      <td>1530</td>\n",
              "      <td>0.208800</td>\n",
              "    </tr>\n",
              "    <tr>\n",
              "      <td>1540</td>\n",
              "      <td>0.074700</td>\n",
              "    </tr>\n",
              "    <tr>\n",
              "      <td>1550</td>\n",
              "      <td>0.464900</td>\n",
              "    </tr>\n",
              "    <tr>\n",
              "      <td>1560</td>\n",
              "      <td>0.404100</td>\n",
              "    </tr>\n",
              "    <tr>\n",
              "      <td>1570</td>\n",
              "      <td>0.352600</td>\n",
              "    </tr>\n",
              "    <tr>\n",
              "      <td>1580</td>\n",
              "      <td>0.160800</td>\n",
              "    </tr>\n",
              "    <tr>\n",
              "      <td>1590</td>\n",
              "      <td>0.356100</td>\n",
              "    </tr>\n",
              "    <tr>\n",
              "      <td>1600</td>\n",
              "      <td>0.164100</td>\n",
              "    </tr>\n",
              "    <tr>\n",
              "      <td>1610</td>\n",
              "      <td>0.178400</td>\n",
              "    </tr>\n",
              "    <tr>\n",
              "      <td>1620</td>\n",
              "      <td>0.378000</td>\n",
              "    </tr>\n",
              "    <tr>\n",
              "      <td>1630</td>\n",
              "      <td>0.419600</td>\n",
              "    </tr>\n",
              "    <tr>\n",
              "      <td>1640</td>\n",
              "      <td>0.226900</td>\n",
              "    </tr>\n",
              "    <tr>\n",
              "      <td>1650</td>\n",
              "      <td>0.351300</td>\n",
              "    </tr>\n",
              "    <tr>\n",
              "      <td>1660</td>\n",
              "      <td>0.316200</td>\n",
              "    </tr>\n",
              "    <tr>\n",
              "      <td>1670</td>\n",
              "      <td>0.114200</td>\n",
              "    </tr>\n",
              "    <tr>\n",
              "      <td>1680</td>\n",
              "      <td>0.239600</td>\n",
              "    </tr>\n",
              "    <tr>\n",
              "      <td>1690</td>\n",
              "      <td>0.261100</td>\n",
              "    </tr>\n",
              "    <tr>\n",
              "      <td>1700</td>\n",
              "      <td>0.305800</td>\n",
              "    </tr>\n",
              "    <tr>\n",
              "      <td>1710</td>\n",
              "      <td>0.344800</td>\n",
              "    </tr>\n",
              "    <tr>\n",
              "      <td>1720</td>\n",
              "      <td>0.200500</td>\n",
              "    </tr>\n",
              "    <tr>\n",
              "      <td>1730</td>\n",
              "      <td>0.327100</td>\n",
              "    </tr>\n",
              "    <tr>\n",
              "      <td>1740</td>\n",
              "      <td>0.515900</td>\n",
              "    </tr>\n",
              "    <tr>\n",
              "      <td>1750</td>\n",
              "      <td>0.259400</td>\n",
              "    </tr>\n",
              "    <tr>\n",
              "      <td>1760</td>\n",
              "      <td>0.417200</td>\n",
              "    </tr>\n",
              "    <tr>\n",
              "      <td>1770</td>\n",
              "      <td>0.227000</td>\n",
              "    </tr>\n",
              "    <tr>\n",
              "      <td>1780</td>\n",
              "      <td>0.394200</td>\n",
              "    </tr>\n",
              "    <tr>\n",
              "      <td>1790</td>\n",
              "      <td>0.374700</td>\n",
              "    </tr>\n",
              "    <tr>\n",
              "      <td>1800</td>\n",
              "      <td>0.177100</td>\n",
              "    </tr>\n",
              "    <tr>\n",
              "      <td>1810</td>\n",
              "      <td>0.186700</td>\n",
              "    </tr>\n",
              "    <tr>\n",
              "      <td>1820</td>\n",
              "      <td>0.518900</td>\n",
              "    </tr>\n",
              "    <tr>\n",
              "      <td>1830</td>\n",
              "      <td>0.211200</td>\n",
              "    </tr>\n",
              "    <tr>\n",
              "      <td>1840</td>\n",
              "      <td>0.180100</td>\n",
              "    </tr>\n",
              "    <tr>\n",
              "      <td>1850</td>\n",
              "      <td>0.207400</td>\n",
              "    </tr>\n",
              "    <tr>\n",
              "      <td>1860</td>\n",
              "      <td>0.375100</td>\n",
              "    </tr>\n",
              "    <tr>\n",
              "      <td>1870</td>\n",
              "      <td>0.300100</td>\n",
              "    </tr>\n",
              "    <tr>\n",
              "      <td>1880</td>\n",
              "      <td>0.268800</td>\n",
              "    </tr>\n",
              "    <tr>\n",
              "      <td>1890</td>\n",
              "      <td>0.341600</td>\n",
              "    </tr>\n",
              "    <tr>\n",
              "      <td>1900</td>\n",
              "      <td>0.036200</td>\n",
              "    </tr>\n",
              "    <tr>\n",
              "      <td>1910</td>\n",
              "      <td>0.258400</td>\n",
              "    </tr>\n",
              "    <tr>\n",
              "      <td>1920</td>\n",
              "      <td>0.254000</td>\n",
              "    </tr>\n",
              "    <tr>\n",
              "      <td>1930</td>\n",
              "      <td>0.326900</td>\n",
              "    </tr>\n",
              "  </tbody>\n",
              "</table><p>"
            ],
            "text/plain": [
              "<IPython.core.display.HTML object>"
            ]
          },
          "metadata": {},
          "output_type": "display_data"
        },
        {
          "metadata": {
            "tags": null
          },
          "name": "stderr",
          "output_type": "stream",
          "text": [
            "Saving model checkpoint to ./results/checkpoint-500\n",
            "Configuration saved in ./results/checkpoint-500/config.json\n",
            "Model weights saved in ./results/checkpoint-500/pytorch_model.bin\n",
            "Saving model checkpoint to ./results/checkpoint-1000\n",
            "Configuration saved in ./results/checkpoint-1000/config.json\n",
            "Model weights saved in ./results/checkpoint-1000/pytorch_model.bin\n",
            "Saving model checkpoint to ./results/checkpoint-1500\n",
            "Configuration saved in ./results/checkpoint-1500/config.json\n",
            "Model weights saved in ./results/checkpoint-1500/pytorch_model.bin\n"
          ]
        },
        {
          "output_type": "display_data",
          "data": {
            "text/html": [
              "\n",
              "    <div>\n",
              "      \n",
              "      <progress value='2271' max='7500' style='width:300px; height:20px; vertical-align: middle;'></progress>\n",
              "      [2271/7500 09:03 < 20:52, 4.17 it/s, Epoch 0.91/3]\n",
              "    </div>\n",
              "    <table border=\"1\" class=\"dataframe\">\n",
              "  <thead>\n",
              " <tr style=\"text-align: left;\">\n",
              "      <th>Step</th>\n",
              "      <th>Training Loss</th>\n",
              "    </tr>\n",
              "  </thead>\n",
              "  <tbody>\n",
              "    <tr>\n",
              "      <td>10</td>\n",
              "      <td>0.694600</td>\n",
              "    </tr>\n",
              "    <tr>\n",
              "      <td>20</td>\n",
              "      <td>0.651400</td>\n",
              "    </tr>\n",
              "    <tr>\n",
              "      <td>30</td>\n",
              "      <td>0.481500</td>\n",
              "    </tr>\n",
              "    <tr>\n",
              "      <td>40</td>\n",
              "      <td>0.518000</td>\n",
              "    </tr>\n",
              "    <tr>\n",
              "      <td>50</td>\n",
              "      <td>0.389900</td>\n",
              "    </tr>\n",
              "    <tr>\n",
              "      <td>60</td>\n",
              "      <td>0.342300</td>\n",
              "    </tr>\n",
              "    <tr>\n",
              "      <td>70</td>\n",
              "      <td>0.510000</td>\n",
              "    </tr>\n",
              "    <tr>\n",
              "      <td>80</td>\n",
              "      <td>0.426500</td>\n",
              "    </tr>\n",
              "    <tr>\n",
              "      <td>90</td>\n",
              "      <td>0.349400</td>\n",
              "    </tr>\n",
              "    <tr>\n",
              "      <td>100</td>\n",
              "      <td>0.352000</td>\n",
              "    </tr>\n",
              "    <tr>\n",
              "      <td>110</td>\n",
              "      <td>0.409600</td>\n",
              "    </tr>\n",
              "    <tr>\n",
              "      <td>120</td>\n",
              "      <td>0.255600</td>\n",
              "    </tr>\n",
              "    <tr>\n",
              "      <td>130</td>\n",
              "      <td>0.829500</td>\n",
              "    </tr>\n",
              "    <tr>\n",
              "      <td>140</td>\n",
              "      <td>0.320200</td>\n",
              "    </tr>\n",
              "    <tr>\n",
              "      <td>150</td>\n",
              "      <td>0.454800</td>\n",
              "    </tr>\n",
              "    <tr>\n",
              "      <td>160</td>\n",
              "      <td>0.458600</td>\n",
              "    </tr>\n",
              "    <tr>\n",
              "      <td>170</td>\n",
              "      <td>0.322700</td>\n",
              "    </tr>\n",
              "    <tr>\n",
              "      <td>180</td>\n",
              "      <td>0.368600</td>\n",
              "    </tr>\n",
              "    <tr>\n",
              "      <td>190</td>\n",
              "      <td>0.395500</td>\n",
              "    </tr>\n",
              "    <tr>\n",
              "      <td>200</td>\n",
              "      <td>0.573600</td>\n",
              "    </tr>\n",
              "    <tr>\n",
              "      <td>210</td>\n",
              "      <td>0.477300</td>\n",
              "    </tr>\n",
              "    <tr>\n",
              "      <td>220</td>\n",
              "      <td>0.391100</td>\n",
              "    </tr>\n",
              "    <tr>\n",
              "      <td>230</td>\n",
              "      <td>0.498900</td>\n",
              "    </tr>\n",
              "    <tr>\n",
              "      <td>240</td>\n",
              "      <td>0.378400</td>\n",
              "    </tr>\n",
              "    <tr>\n",
              "      <td>250</td>\n",
              "      <td>0.361500</td>\n",
              "    </tr>\n",
              "    <tr>\n",
              "      <td>260</td>\n",
              "      <td>0.442100</td>\n",
              "    </tr>\n",
              "    <tr>\n",
              "      <td>270</td>\n",
              "      <td>0.331200</td>\n",
              "    </tr>\n",
              "    <tr>\n",
              "      <td>280</td>\n",
              "      <td>0.330700</td>\n",
              "    </tr>\n",
              "    <tr>\n",
              "      <td>290</td>\n",
              "      <td>0.450500</td>\n",
              "    </tr>\n",
              "    <tr>\n",
              "      <td>300</td>\n",
              "      <td>0.411000</td>\n",
              "    </tr>\n",
              "    <tr>\n",
              "      <td>310</td>\n",
              "      <td>0.454000</td>\n",
              "    </tr>\n",
              "    <tr>\n",
              "      <td>320</td>\n",
              "      <td>0.293900</td>\n",
              "    </tr>\n",
              "    <tr>\n",
              "      <td>330</td>\n",
              "      <td>0.558100</td>\n",
              "    </tr>\n",
              "    <tr>\n",
              "      <td>340</td>\n",
              "      <td>0.430400</td>\n",
              "    </tr>\n",
              "    <tr>\n",
              "      <td>350</td>\n",
              "      <td>0.363800</td>\n",
              "    </tr>\n",
              "    <tr>\n",
              "      <td>360</td>\n",
              "      <td>0.301600</td>\n",
              "    </tr>\n",
              "    <tr>\n",
              "      <td>370</td>\n",
              "      <td>0.328200</td>\n",
              "    </tr>\n",
              "    <tr>\n",
              "      <td>380</td>\n",
              "      <td>0.351500</td>\n",
              "    </tr>\n",
              "    <tr>\n",
              "      <td>390</td>\n",
              "      <td>0.523200</td>\n",
              "    </tr>\n",
              "    <tr>\n",
              "      <td>400</td>\n",
              "      <td>0.273600</td>\n",
              "    </tr>\n",
              "    <tr>\n",
              "      <td>410</td>\n",
              "      <td>0.302000</td>\n",
              "    </tr>\n",
              "    <tr>\n",
              "      <td>420</td>\n",
              "      <td>0.379300</td>\n",
              "    </tr>\n",
              "    <tr>\n",
              "      <td>430</td>\n",
              "      <td>0.202400</td>\n",
              "    </tr>\n",
              "    <tr>\n",
              "      <td>440</td>\n",
              "      <td>0.454700</td>\n",
              "    </tr>\n",
              "    <tr>\n",
              "      <td>450</td>\n",
              "      <td>0.518300</td>\n",
              "    </tr>\n",
              "    <tr>\n",
              "      <td>460</td>\n",
              "      <td>0.519900</td>\n",
              "    </tr>\n",
              "    <tr>\n",
              "      <td>470</td>\n",
              "      <td>0.411600</td>\n",
              "    </tr>\n",
              "    <tr>\n",
              "      <td>480</td>\n",
              "      <td>0.434000</td>\n",
              "    </tr>\n",
              "    <tr>\n",
              "      <td>490</td>\n",
              "      <td>0.328700</td>\n",
              "    </tr>\n",
              "    <tr>\n",
              "      <td>500</td>\n",
              "      <td>0.188200</td>\n",
              "    </tr>\n",
              "    <tr>\n",
              "      <td>510</td>\n",
              "      <td>0.345800</td>\n",
              "    </tr>\n",
              "    <tr>\n",
              "      <td>520</td>\n",
              "      <td>0.321300</td>\n",
              "    </tr>\n",
              "    <tr>\n",
              "      <td>530</td>\n",
              "      <td>0.256600</td>\n",
              "    </tr>\n",
              "    <tr>\n",
              "      <td>540</td>\n",
              "      <td>0.413600</td>\n",
              "    </tr>\n",
              "    <tr>\n",
              "      <td>550</td>\n",
              "      <td>0.246700</td>\n",
              "    </tr>\n",
              "    <tr>\n",
              "      <td>560</td>\n",
              "      <td>0.341000</td>\n",
              "    </tr>\n",
              "    <tr>\n",
              "      <td>570</td>\n",
              "      <td>0.259800</td>\n",
              "    </tr>\n",
              "    <tr>\n",
              "      <td>580</td>\n",
              "      <td>0.187900</td>\n",
              "    </tr>\n",
              "    <tr>\n",
              "      <td>590</td>\n",
              "      <td>0.306100</td>\n",
              "    </tr>\n",
              "    <tr>\n",
              "      <td>600</td>\n",
              "      <td>0.371700</td>\n",
              "    </tr>\n",
              "    <tr>\n",
              "      <td>610</td>\n",
              "      <td>0.449100</td>\n",
              "    </tr>\n",
              "    <tr>\n",
              "      <td>620</td>\n",
              "      <td>0.385500</td>\n",
              "    </tr>\n",
              "    <tr>\n",
              "      <td>630</td>\n",
              "      <td>0.393600</td>\n",
              "    </tr>\n",
              "    <tr>\n",
              "      <td>640</td>\n",
              "      <td>0.461100</td>\n",
              "    </tr>\n",
              "    <tr>\n",
              "      <td>650</td>\n",
              "      <td>0.195100</td>\n",
              "    </tr>\n",
              "    <tr>\n",
              "      <td>660</td>\n",
              "      <td>0.245500</td>\n",
              "    </tr>\n",
              "    <tr>\n",
              "      <td>670</td>\n",
              "      <td>0.542500</td>\n",
              "    </tr>\n",
              "    <tr>\n",
              "      <td>680</td>\n",
              "      <td>0.290900</td>\n",
              "    </tr>\n",
              "    <tr>\n",
              "      <td>690</td>\n",
              "      <td>0.390300</td>\n",
              "    </tr>\n",
              "    <tr>\n",
              "      <td>700</td>\n",
              "      <td>0.257400</td>\n",
              "    </tr>\n",
              "    <tr>\n",
              "      <td>710</td>\n",
              "      <td>0.393800</td>\n",
              "    </tr>\n",
              "    <tr>\n",
              "      <td>720</td>\n",
              "      <td>0.324200</td>\n",
              "    </tr>\n",
              "    <tr>\n",
              "      <td>730</td>\n",
              "      <td>0.391500</td>\n",
              "    </tr>\n",
              "    <tr>\n",
              "      <td>740</td>\n",
              "      <td>0.247700</td>\n",
              "    </tr>\n",
              "    <tr>\n",
              "      <td>750</td>\n",
              "      <td>0.407600</td>\n",
              "    </tr>\n",
              "    <tr>\n",
              "      <td>760</td>\n",
              "      <td>0.237400</td>\n",
              "    </tr>\n",
              "    <tr>\n",
              "      <td>770</td>\n",
              "      <td>0.289800</td>\n",
              "    </tr>\n",
              "    <tr>\n",
              "      <td>780</td>\n",
              "      <td>0.441600</td>\n",
              "    </tr>\n",
              "    <tr>\n",
              "      <td>790</td>\n",
              "      <td>0.215500</td>\n",
              "    </tr>\n",
              "    <tr>\n",
              "      <td>800</td>\n",
              "      <td>0.477300</td>\n",
              "    </tr>\n",
              "    <tr>\n",
              "      <td>810</td>\n",
              "      <td>0.487700</td>\n",
              "    </tr>\n",
              "    <tr>\n",
              "      <td>820</td>\n",
              "      <td>0.305700</td>\n",
              "    </tr>\n",
              "    <tr>\n",
              "      <td>830</td>\n",
              "      <td>0.344400</td>\n",
              "    </tr>\n",
              "    <tr>\n",
              "      <td>840</td>\n",
              "      <td>0.305800</td>\n",
              "    </tr>\n",
              "    <tr>\n",
              "      <td>850</td>\n",
              "      <td>0.238300</td>\n",
              "    </tr>\n",
              "    <tr>\n",
              "      <td>860</td>\n",
              "      <td>0.363200</td>\n",
              "    </tr>\n",
              "    <tr>\n",
              "      <td>870</td>\n",
              "      <td>0.170800</td>\n",
              "    </tr>\n",
              "    <tr>\n",
              "      <td>880</td>\n",
              "      <td>0.320800</td>\n",
              "    </tr>\n",
              "    <tr>\n",
              "      <td>890</td>\n",
              "      <td>0.447600</td>\n",
              "    </tr>\n",
              "    <tr>\n",
              "      <td>900</td>\n",
              "      <td>0.339100</td>\n",
              "    </tr>\n",
              "    <tr>\n",
              "      <td>910</td>\n",
              "      <td>0.184900</td>\n",
              "    </tr>\n",
              "    <tr>\n",
              "      <td>920</td>\n",
              "      <td>0.426200</td>\n",
              "    </tr>\n",
              "    <tr>\n",
              "      <td>930</td>\n",
              "      <td>0.398600</td>\n",
              "    </tr>\n",
              "    <tr>\n",
              "      <td>940</td>\n",
              "      <td>0.161400</td>\n",
              "    </tr>\n",
              "    <tr>\n",
              "      <td>950</td>\n",
              "      <td>0.441100</td>\n",
              "    </tr>\n",
              "    <tr>\n",
              "      <td>960</td>\n",
              "      <td>0.179000</td>\n",
              "    </tr>\n",
              "    <tr>\n",
              "      <td>970</td>\n",
              "      <td>0.361500</td>\n",
              "    </tr>\n",
              "    <tr>\n",
              "      <td>980</td>\n",
              "      <td>0.423500</td>\n",
              "    </tr>\n",
              "    <tr>\n",
              "      <td>990</td>\n",
              "      <td>0.170300</td>\n",
              "    </tr>\n",
              "    <tr>\n",
              "      <td>1000</td>\n",
              "      <td>0.430800</td>\n",
              "    </tr>\n",
              "    <tr>\n",
              "      <td>1010</td>\n",
              "      <td>0.323800</td>\n",
              "    </tr>\n",
              "    <tr>\n",
              "      <td>1020</td>\n",
              "      <td>0.318700</td>\n",
              "    </tr>\n",
              "    <tr>\n",
              "      <td>1030</td>\n",
              "      <td>0.298600</td>\n",
              "    </tr>\n",
              "    <tr>\n",
              "      <td>1040</td>\n",
              "      <td>0.337000</td>\n",
              "    </tr>\n",
              "    <tr>\n",
              "      <td>1050</td>\n",
              "      <td>0.475700</td>\n",
              "    </tr>\n",
              "    <tr>\n",
              "      <td>1060</td>\n",
              "      <td>0.177000</td>\n",
              "    </tr>\n",
              "    <tr>\n",
              "      <td>1070</td>\n",
              "      <td>0.370800</td>\n",
              "    </tr>\n",
              "    <tr>\n",
              "      <td>1080</td>\n",
              "      <td>0.347000</td>\n",
              "    </tr>\n",
              "    <tr>\n",
              "      <td>1090</td>\n",
              "      <td>0.363700</td>\n",
              "    </tr>\n",
              "    <tr>\n",
              "      <td>1100</td>\n",
              "      <td>0.331600</td>\n",
              "    </tr>\n",
              "    <tr>\n",
              "      <td>1110</td>\n",
              "      <td>0.168900</td>\n",
              "    </tr>\n",
              "    <tr>\n",
              "      <td>1120</td>\n",
              "      <td>0.337000</td>\n",
              "    </tr>\n",
              "    <tr>\n",
              "      <td>1130</td>\n",
              "      <td>0.353600</td>\n",
              "    </tr>\n",
              "    <tr>\n",
              "      <td>1140</td>\n",
              "      <td>0.338000</td>\n",
              "    </tr>\n",
              "    <tr>\n",
              "      <td>1150</td>\n",
              "      <td>0.439700</td>\n",
              "    </tr>\n",
              "    <tr>\n",
              "      <td>1160</td>\n",
              "      <td>0.275200</td>\n",
              "    </tr>\n",
              "    <tr>\n",
              "      <td>1170</td>\n",
              "      <td>0.210700</td>\n",
              "    </tr>\n",
              "    <tr>\n",
              "      <td>1180</td>\n",
              "      <td>0.424700</td>\n",
              "    </tr>\n",
              "    <tr>\n",
              "      <td>1190</td>\n",
              "      <td>0.359000</td>\n",
              "    </tr>\n",
              "    <tr>\n",
              "      <td>1200</td>\n",
              "      <td>0.421300</td>\n",
              "    </tr>\n",
              "    <tr>\n",
              "      <td>1210</td>\n",
              "      <td>0.465600</td>\n",
              "    </tr>\n",
              "    <tr>\n",
              "      <td>1220</td>\n",
              "      <td>0.302700</td>\n",
              "    </tr>\n",
              "    <tr>\n",
              "      <td>1230</td>\n",
              "      <td>0.242600</td>\n",
              "    </tr>\n",
              "    <tr>\n",
              "      <td>1240</td>\n",
              "      <td>0.563500</td>\n",
              "    </tr>\n",
              "    <tr>\n",
              "      <td>1250</td>\n",
              "      <td>0.307600</td>\n",
              "    </tr>\n",
              "    <tr>\n",
              "      <td>1260</td>\n",
              "      <td>0.236400</td>\n",
              "    </tr>\n",
              "    <tr>\n",
              "      <td>1270</td>\n",
              "      <td>0.441300</td>\n",
              "    </tr>\n",
              "    <tr>\n",
              "      <td>1280</td>\n",
              "      <td>0.370500</td>\n",
              "    </tr>\n",
              "    <tr>\n",
              "      <td>1290</td>\n",
              "      <td>0.340400</td>\n",
              "    </tr>\n",
              "    <tr>\n",
              "      <td>1300</td>\n",
              "      <td>0.333700</td>\n",
              "    </tr>\n",
              "    <tr>\n",
              "      <td>1310</td>\n",
              "      <td>0.360900</td>\n",
              "    </tr>\n",
              "    <tr>\n",
              "      <td>1320</td>\n",
              "      <td>0.287200</td>\n",
              "    </tr>\n",
              "    <tr>\n",
              "      <td>1330</td>\n",
              "      <td>0.328700</td>\n",
              "    </tr>\n",
              "    <tr>\n",
              "      <td>1340</td>\n",
              "      <td>0.266000</td>\n",
              "    </tr>\n",
              "    <tr>\n",
              "      <td>1350</td>\n",
              "      <td>0.323500</td>\n",
              "    </tr>\n",
              "    <tr>\n",
              "      <td>1360</td>\n",
              "      <td>0.582200</td>\n",
              "    </tr>\n",
              "    <tr>\n",
              "      <td>1370</td>\n",
              "      <td>0.382500</td>\n",
              "    </tr>\n",
              "    <tr>\n",
              "      <td>1380</td>\n",
              "      <td>0.276200</td>\n",
              "    </tr>\n",
              "    <tr>\n",
              "      <td>1390</td>\n",
              "      <td>0.297500</td>\n",
              "    </tr>\n",
              "    <tr>\n",
              "      <td>1400</td>\n",
              "      <td>0.276900</td>\n",
              "    </tr>\n",
              "    <tr>\n",
              "      <td>1410</td>\n",
              "      <td>0.462400</td>\n",
              "    </tr>\n",
              "    <tr>\n",
              "      <td>1420</td>\n",
              "      <td>0.385000</td>\n",
              "    </tr>\n",
              "    <tr>\n",
              "      <td>1430</td>\n",
              "      <td>0.255200</td>\n",
              "    </tr>\n",
              "    <tr>\n",
              "      <td>1440</td>\n",
              "      <td>0.272600</td>\n",
              "    </tr>\n",
              "    <tr>\n",
              "      <td>1450</td>\n",
              "      <td>0.105200</td>\n",
              "    </tr>\n",
              "    <tr>\n",
              "      <td>1460</td>\n",
              "      <td>0.501800</td>\n",
              "    </tr>\n",
              "    <tr>\n",
              "      <td>1470</td>\n",
              "      <td>0.383700</td>\n",
              "    </tr>\n",
              "    <tr>\n",
              "      <td>1480</td>\n",
              "      <td>0.369300</td>\n",
              "    </tr>\n",
              "    <tr>\n",
              "      <td>1490</td>\n",
              "      <td>0.311300</td>\n",
              "    </tr>\n",
              "    <tr>\n",
              "      <td>1500</td>\n",
              "      <td>0.335200</td>\n",
              "    </tr>\n",
              "    <tr>\n",
              "      <td>1510</td>\n",
              "      <td>0.375200</td>\n",
              "    </tr>\n",
              "    <tr>\n",
              "      <td>1520</td>\n",
              "      <td>0.281000</td>\n",
              "    </tr>\n",
              "    <tr>\n",
              "      <td>1530</td>\n",
              "      <td>0.208800</td>\n",
              "    </tr>\n",
              "    <tr>\n",
              "      <td>1540</td>\n",
              "      <td>0.074700</td>\n",
              "    </tr>\n",
              "    <tr>\n",
              "      <td>1550</td>\n",
              "      <td>0.464900</td>\n",
              "    </tr>\n",
              "    <tr>\n",
              "      <td>1560</td>\n",
              "      <td>0.404100</td>\n",
              "    </tr>\n",
              "    <tr>\n",
              "      <td>1570</td>\n",
              "      <td>0.352600</td>\n",
              "    </tr>\n",
              "    <tr>\n",
              "      <td>1580</td>\n",
              "      <td>0.160800</td>\n",
              "    </tr>\n",
              "    <tr>\n",
              "      <td>1590</td>\n",
              "      <td>0.356100</td>\n",
              "    </tr>\n",
              "    <tr>\n",
              "      <td>1600</td>\n",
              "      <td>0.164100</td>\n",
              "    </tr>\n",
              "    <tr>\n",
              "      <td>1610</td>\n",
              "      <td>0.178400</td>\n",
              "    </tr>\n",
              "    <tr>\n",
              "      <td>1620</td>\n",
              "      <td>0.378000</td>\n",
              "    </tr>\n",
              "    <tr>\n",
              "      <td>1630</td>\n",
              "      <td>0.419600</td>\n",
              "    </tr>\n",
              "    <tr>\n",
              "      <td>1640</td>\n",
              "      <td>0.226900</td>\n",
              "    </tr>\n",
              "    <tr>\n",
              "      <td>1650</td>\n",
              "      <td>0.351300</td>\n",
              "    </tr>\n",
              "    <tr>\n",
              "      <td>1660</td>\n",
              "      <td>0.316200</td>\n",
              "    </tr>\n",
              "    <tr>\n",
              "      <td>1670</td>\n",
              "      <td>0.114200</td>\n",
              "    </tr>\n",
              "    <tr>\n",
              "      <td>1680</td>\n",
              "      <td>0.239600</td>\n",
              "    </tr>\n",
              "    <tr>\n",
              "      <td>1690</td>\n",
              "      <td>0.261100</td>\n",
              "    </tr>\n",
              "    <tr>\n",
              "      <td>1700</td>\n",
              "      <td>0.305800</td>\n",
              "    </tr>\n",
              "    <tr>\n",
              "      <td>1710</td>\n",
              "      <td>0.344800</td>\n",
              "    </tr>\n",
              "    <tr>\n",
              "      <td>1720</td>\n",
              "      <td>0.200500</td>\n",
              "    </tr>\n",
              "    <tr>\n",
              "      <td>1730</td>\n",
              "      <td>0.327100</td>\n",
              "    </tr>\n",
              "    <tr>\n",
              "      <td>1740</td>\n",
              "      <td>0.515900</td>\n",
              "    </tr>\n",
              "    <tr>\n",
              "      <td>1750</td>\n",
              "      <td>0.259400</td>\n",
              "    </tr>\n",
              "    <tr>\n",
              "      <td>1760</td>\n",
              "      <td>0.417200</td>\n",
              "    </tr>\n",
              "    <tr>\n",
              "      <td>1770</td>\n",
              "      <td>0.227000</td>\n",
              "    </tr>\n",
              "    <tr>\n",
              "      <td>1780</td>\n",
              "      <td>0.394200</td>\n",
              "    </tr>\n",
              "    <tr>\n",
              "      <td>1790</td>\n",
              "      <td>0.374700</td>\n",
              "    </tr>\n",
              "    <tr>\n",
              "      <td>1800</td>\n",
              "      <td>0.177100</td>\n",
              "    </tr>\n",
              "    <tr>\n",
              "      <td>1810</td>\n",
              "      <td>0.186700</td>\n",
              "    </tr>\n",
              "    <tr>\n",
              "      <td>1820</td>\n",
              "      <td>0.518900</td>\n",
              "    </tr>\n",
              "    <tr>\n",
              "      <td>1830</td>\n",
              "      <td>0.211200</td>\n",
              "    </tr>\n",
              "    <tr>\n",
              "      <td>1840</td>\n",
              "      <td>0.180100</td>\n",
              "    </tr>\n",
              "    <tr>\n",
              "      <td>1850</td>\n",
              "      <td>0.207400</td>\n",
              "    </tr>\n",
              "    <tr>\n",
              "      <td>1860</td>\n",
              "      <td>0.375100</td>\n",
              "    </tr>\n",
              "    <tr>\n",
              "      <td>1870</td>\n",
              "      <td>0.300100</td>\n",
              "    </tr>\n",
              "    <tr>\n",
              "      <td>1880</td>\n",
              "      <td>0.268800</td>\n",
              "    </tr>\n",
              "    <tr>\n",
              "      <td>1890</td>\n",
              "      <td>0.341600</td>\n",
              "    </tr>\n",
              "    <tr>\n",
              "      <td>1900</td>\n",
              "      <td>0.036200</td>\n",
              "    </tr>\n",
              "    <tr>\n",
              "      <td>1910</td>\n",
              "      <td>0.258400</td>\n",
              "    </tr>\n",
              "    <tr>\n",
              "      <td>1920</td>\n",
              "      <td>0.254000</td>\n",
              "    </tr>\n",
              "    <tr>\n",
              "      <td>1930</td>\n",
              "      <td>0.326900</td>\n",
              "    </tr>\n",
              "    <tr>\n",
              "      <td>1940</td>\n",
              "      <td>0.295600</td>\n",
              "    </tr>\n",
              "    <tr>\n",
              "      <td>1950</td>\n",
              "      <td>0.416200</td>\n",
              "    </tr>\n",
              "    <tr>\n",
              "      <td>1960</td>\n",
              "      <td>0.210700</td>\n",
              "    </tr>\n",
              "    <tr>\n",
              "      <td>1970</td>\n",
              "      <td>0.146000</td>\n",
              "    </tr>\n",
              "    <tr>\n",
              "      <td>1980</td>\n",
              "      <td>0.402000</td>\n",
              "    </tr>\n",
              "    <tr>\n",
              "      <td>1990</td>\n",
              "      <td>0.372200</td>\n",
              "    </tr>\n",
              "    <tr>\n",
              "      <td>2000</td>\n",
              "      <td>0.176400</td>\n",
              "    </tr>\n",
              "    <tr>\n",
              "      <td>2010</td>\n",
              "      <td>0.165100</td>\n",
              "    </tr>\n",
              "    <tr>\n",
              "      <td>2020</td>\n",
              "      <td>0.227200</td>\n",
              "    </tr>\n",
              "    <tr>\n",
              "      <td>2030</td>\n",
              "      <td>0.138300</td>\n",
              "    </tr>\n",
              "    <tr>\n",
              "      <td>2040</td>\n",
              "      <td>0.447600</td>\n",
              "    </tr>\n",
              "    <tr>\n",
              "      <td>2050</td>\n",
              "      <td>0.468400</td>\n",
              "    </tr>\n",
              "    <tr>\n",
              "      <td>2060</td>\n",
              "      <td>0.346700</td>\n",
              "    </tr>\n",
              "    <tr>\n",
              "      <td>2070</td>\n",
              "      <td>0.161300</td>\n",
              "    </tr>\n",
              "    <tr>\n",
              "      <td>2080</td>\n",
              "      <td>0.224600</td>\n",
              "    </tr>\n",
              "    <tr>\n",
              "      <td>2090</td>\n",
              "      <td>0.433400</td>\n",
              "    </tr>\n",
              "    <tr>\n",
              "      <td>2100</td>\n",
              "      <td>0.427600</td>\n",
              "    </tr>\n",
              "    <tr>\n",
              "      <td>2110</td>\n",
              "      <td>0.248800</td>\n",
              "    </tr>\n",
              "    <tr>\n",
              "      <td>2120</td>\n",
              "      <td>0.335900</td>\n",
              "    </tr>\n",
              "    <tr>\n",
              "      <td>2130</td>\n",
              "      <td>0.283900</td>\n",
              "    </tr>\n",
              "    <tr>\n",
              "      <td>2140</td>\n",
              "      <td>0.222600</td>\n",
              "    </tr>\n",
              "    <tr>\n",
              "      <td>2150</td>\n",
              "      <td>0.302200</td>\n",
              "    </tr>\n",
              "    <tr>\n",
              "      <td>2160</td>\n",
              "      <td>0.268600</td>\n",
              "    </tr>\n",
              "    <tr>\n",
              "      <td>2170</td>\n",
              "      <td>0.321000</td>\n",
              "    </tr>\n",
              "    <tr>\n",
              "      <td>2180</td>\n",
              "      <td>0.248800</td>\n",
              "    </tr>\n",
              "    <tr>\n",
              "      <td>2190</td>\n",
              "      <td>0.365700</td>\n",
              "    </tr>\n",
              "    <tr>\n",
              "      <td>2200</td>\n",
              "      <td>0.181900</td>\n",
              "    </tr>\n",
              "    <tr>\n",
              "      <td>2210</td>\n",
              "      <td>0.321600</td>\n",
              "    </tr>\n",
              "    <tr>\n",
              "      <td>2220</td>\n",
              "      <td>0.170400</td>\n",
              "    </tr>\n",
              "    <tr>\n",
              "      <td>2230</td>\n",
              "      <td>0.260600</td>\n",
              "    </tr>\n",
              "    <tr>\n",
              "      <td>2240</td>\n",
              "      <td>0.229000</td>\n",
              "    </tr>\n",
              "    <tr>\n",
              "      <td>2250</td>\n",
              "      <td>0.497500</td>\n",
              "    </tr>\n",
              "    <tr>\n",
              "      <td>2260</td>\n",
              "      <td>0.353300</td>\n",
              "    </tr>\n",
              "  </tbody>\n",
              "</table><p>"
            ],
            "text/plain": [
              "<IPython.core.display.HTML object>"
            ]
          },
          "metadata": {}
        },
        {
          "output_type": "stream",
          "name": "stderr",
          "text": [
            "Saving model checkpoint to ./results/checkpoint-2000\n",
            "Configuration saved in ./results/checkpoint-2000/config.json\n",
            "Model weights saved in ./results/checkpoint-2000/pytorch_model.bin\n"
          ]
        }
      ],
      "source": [
        "# initiating training of the pipeline\n",
        "trainer.train()\n",
        "metrics_train=trainer.state.log_history"
      ]
    },
    {
      "cell_type": "code",
      "execution_count": null,
      "metadata": {
        "id": "vn0HUoC3HD7u"
      },
      "outputs": [],
      "source": [
        "#print evaluation metrics on validation dataset\n",
        "metrics=trainer.evaluate()\n",
        "#print(metrics)\n",
        "\n",
        "out_path = './results'\n",
        "trainer.save_model(out_path)\n",
        "tokenizer.save_pretrained(out_path)\n",
        "\n",
        "# Accuracy metrics on entire test dataset\n",
        "predictions=trainer.predict(test_dataset)\n"
      ]
    },
    {
      "cell_type": "markdown",
      "metadata": {
        "id": "MT1gdQaTTvnO"
      },
      "source": [
        "**Predictions on Sample Test Dataset**"
      ]
    },
    {
      "cell_type": "code",
      "execution_count": null,
      "metadata": {
        "id": "Ff3PHeJ-PtNJ"
      },
      "outputs": [],
      "source": [
        "predictions_sample=trainer.predict(sample_testDataset)\n",
        "y_pred = list(predictions_sample.label_ids)\n",
        "ground_truth = sample_testData['labels'].values.tolist()"
      ]
    },
    {
      "cell_type": "code",
      "execution_count": null,
      "metadata": {
        "id": "CjygWPYFuiGz"
      },
      "outputs": [],
      "source": [
        "predictions_tensor = torch.from_numpy(predictions_sample.predictions)"
      ]
    },
    {
      "cell_type": "code",
      "execution_count": null,
      "metadata": {
        "id": "syWqchvaUkDf"
      },
      "outputs": [],
      "source": [
        "#predictions_tensor = torch.from_numpy(predictions_sample.predictions)\n",
        "predictions = torch.nn.functional.softmax(predictions_tensor, dim=-1)\n",
        "predictions = predictions.cpu().detach().numpy()\n",
        "resulting_probabilities = pd.DataFrame(predictions)\n",
        "class1_probabilities = list(predictions[:,1])\n",
        "class1_labels = [1 if item > 0.5 else 0 for item in class1_probabilities]\n",
        "result_sample_test = pd.DataFrame(list(zip(class1_probabilities,class1_labels)), columns = ['Probabilities','Labels'])"
      ]
    },
    {
      "cell_type": "code",
      "execution_count": null,
      "metadata": {
        "id": "559yXE3uyamm"
      },
      "outputs": [],
      "source": [
        "result_sample_test"
      ]
    },
    {
      "cell_type": "markdown",
      "metadata": {
        "id": "Vx-NL91yUWwQ"
      },
      "source": [
        "#### e. (2 points) Evaluate and report the **fine-tuned model’s** performance on these 1000 examples using the metric specified in 1.2 (c)."
      ]
    },
    {
      "cell_type": "code",
      "execution_count": null,
      "metadata": {
        "id": "f3einC_CvwOK"
      },
      "outputs": [],
      "source": [
        "ground_truth = list(sample_testData['labels'])"
      ]
    },
    {
      "cell_type": "code",
      "execution_count": null,
      "metadata": {
        "id": "LKCo4005ut0b"
      },
      "outputs": [],
      "source": [
        "################## YOUR CODE HERE ##################\n",
        "# Run inference on the sampled examples\n",
        "# - https://huggingface.co/transformers/main_classes/pipelines.html\n",
        "\n",
        "# Compute the metrics on your examples\n",
        "# - https://huggingface.co/docs/datasets/using_metrics.html\n",
        "\n",
        "####################################################"
      ]
    },
    {
      "cell_type": "code",
      "execution_count": null,
      "metadata": {
        "colab": {
          "base_uri": "https://localhost:8080/"
        },
        "id": "hZTEDK6HQEqK",
        "outputId": "792be018-88c8-4621-e2df-a63cd95a7b01"
      },
      "outputs": [
        {
          "name": "stdout",
          "output_type": "stream",
          "text": [
            "Model's performance on 1000 samples of Test Set :  \n",
            "Accuracy :  0.939\n",
            "Precision :  0.9468302658486708\n",
            "Recall :  0.929718875502008\n",
            "F1 :  0.9381965552178317\n"
          ]
        }
      ],
      "source": [
        "get_model_performance(ground_truth, list(result_sample_test['Labels']))"
      ]
    },
    {
      "cell_type": "markdown",
      "metadata": {
        "id": "xqSco5E9UedJ"
      },
      "source": [
        "#### f. (2 points) Compare the performance of the model trained from scratch and the fine-tuned model."
      ]
    },
    {
      "cell_type": "markdown",
      "metadata": {
        "id": "1u4I8yPfvQQL"
      },
      "source": [
        "**Answer**:\n",
        "\n",
        "The custom-model's performance as compared to the tuned-model is as follows:\n",
        "\n",
        "Custom-Model Performance Metrics : \n",
        "\n",
        "Accuracy :  0.852\n",
        "Precision :  0.8793456032719836\n",
        "Recall :  0.8285163776493256\n",
        "F1 :  0.8531746031746031\n",
        "\n",
        "Tuned Model Performance Metrics :\n",
        " \n",
        "Accuracy :  0.939\n",
        "Precision :  0.9468302658486708\n",
        "Recall :  0.929718875502008\n",
        "F1 :  0.9381965552178317"
      ]
    },
    {
      "cell_type": "markdown",
      "metadata": {
        "id": "pcaAxk0BUsZt"
      },
      "source": [
        "### 2.3 Error analysis of the fine-tuned model [10 points]\n",
        "\n",
        "Next, do error analysis on the examples that the fine-tuned model failed to predict correctly. This is a common debugging step where buckets of errors are identified to inform how the model might be improved."
      ]
    },
    {
      "cell_type": "markdown",
      "metadata": {
        "id": "9JCrBltvUxpF"
      },
      "source": [
        "#### a. (1 points) Pull out the examples that your fine-tuned model made errors on. Examine multiple examples to see if you can spot a pattern.\n"
      ]
    },
    {
      "cell_type": "code",
      "execution_count": null,
      "metadata": {
        "id": "ltEfFg_qv1HL"
      },
      "outputs": [],
      "source": [
        "################## YOUR CODE HERE ##################\n",
        "\n",
        "####################################################"
      ]
    },
    {
      "cell_type": "code",
      "execution_count": null,
      "metadata": {
        "id": "KS6AMXha0rPw"
      },
      "outputs": [],
      "source": [
        "sample_testData_copy = sample_testData.copy(deep = False)\n",
        "sample_testData_copy = sample_testData_copy.reset_index()\n",
        "sample_testData_copy = sample_testData_copy.iloc[:,1:]\n",
        "data_predictions_ground_truth= pd.concat([result_sample_test, sample_testData_copy], axis =  1)\n",
        "data_predictions_ground_truth.columns = ['Probabilities','Predicted_Label','Review','Ground_Truth']\n",
        "\n",
        "mismatches = data_predictions_ground_truth[data_predictions_ground_truth['Predicted_Label']!= data_predictions_ground_truth['Ground_Truth']]"
      ]
    },
    {
      "cell_type": "code",
      "execution_count": null,
      "metadata": {
        "id": "kQfSmV1c1E18"
      },
      "outputs": [],
      "source": [
        "mismatches"
      ]
    },
    {
      "cell_type": "code",
      "execution_count": null,
      "metadata": {
        "colab": {
          "base_uri": "https://localhost:8080/",
          "height": 139
        },
        "id": "Y4WKksiY1wOV",
        "outputId": "f3ed4121-81ad-45dd-b7dc-6f1fe4877699"
      },
      "outputs": [
        {
          "data": {
            "application/vnd.google.colaboratory.intrinsic+json": {
              "type": "string"
            },
            "text/plain": [
              "'This short was in part four of the \"Short Cinema Journal\"--a film I rented from Netflix but which appears to have originally been a monthly film series for people who like mediocre modern short films AND love to have the DVD chock full of commercials. I have so far tried two of the Journal\\'s DVDs and felt enraged at the horrible way that a viewer needs to navigate the disk in order to see the films. Talk about an over-produced and overly complicated way of doing this! While I have and will continue to see as many shorts as I can, I really doubt if I\\'ll bother with the Journals because of these factors.<br /><br />Now it could be that because I disliked the disk so much that I was not favorably disposed towards this Portuguese animated short. This is definitely possible. However, even if this is the case, I feel that the other reviews were way too positive about this simple little film. Some of the artwork was indeed nice--I liked how the simple black and white drawings suddenly became 3-D environments as the camera went from a dull distant shot and dove into the city below. This was lovely and took some work. But as for the story about a cat who wants to go to the moon, it just did nothing for me.<br /><br />IMPORTANT UPDATE--I saw this film again on a DVD entitled \"Cartoon Noir\" on 5/09. It was a pretty unappealing collection of art films. However, this time I saw THE STORY OF THE CAT AND THE MOON with an entirely different audio track and boy did it make a difference. Instead of Portuguese with subtitles, it had a French accented narrator who spoke English in a Film Noir style. While I usually hate dubbing, this time it really made the film. The narration of the Portuguese version leaves a lot to be desired if you don\\'t know the language or understand the subtleties. Unless you speak the language, try looking for the other version (provided you understand English).'"
            ]
          },
          "execution_count": 69,
          "metadata": {},
          "output_type": "execute_result"
        }
      ],
      "source": [
        "mismatches['Review'].values.tolist()[0]"
      ]
    },
    {
      "cell_type": "code",
      "execution_count": null,
      "metadata": {
        "colab": {
          "base_uri": "https://localhost:8080/",
          "height": 104
        },
        "id": "R3XgNtH213FK",
        "outputId": "a1a75663-bfe6-4a9f-8a75-bc0d5e50231e"
      },
      "outputs": [
        {
          "data": {
            "application/vnd.google.colaboratory.intrinsic+json": {
              "type": "string"
            },
            "text/plain": [
              "'I\\'m accustomed to being patient with films because I\\'ve generally found it usually pays off. But a few works take tedium to new levels and enter the realm of provocation....\"Last Year at Marienbad\" comes to mind. Well, \"Pola X\" ain\\'t no \"Last Year at Marienbad\". I can count on one hand the number of films I\\'ve walked out on over the years. \"Pola X\" achieved membership in that august group. In my defense, I believe I made a valiant effort to stand my ground - hoping things would turn around. However, I finally threw in the towel just shy of the 90 minute mark - quite respectable under the circumstances. \"Pola X\" does not come anywhere near living up to the promise of Carax\\'s earlier work. After a 10 year hiatus, that must have been bitter for him indeed. Melville is still spinning in his grave!'"
            ]
          },
          "execution_count": 70,
          "metadata": {},
          "output_type": "execute_result"
        }
      ],
      "source": [
        "mismatches['Review'].values.tolist()[1]"
      ]
    },
    {
      "cell_type": "code",
      "execution_count": null,
      "metadata": {
        "colab": {
          "base_uri": "https://localhost:8080/",
          "height": 139
        },
        "id": "z0CluJcGD36W",
        "outputId": "96c8fca4-7bb5-47d2-d3d5-f5096ea783a7"
      },
      "outputs": [
        {
          "data": {
            "application/vnd.google.colaboratory.intrinsic+json": {
              "type": "string"
            },
            "text/plain": [
              "'hello. hello and goodbye. but, before i go, i want to talk to you. i just want to quickly mention a few keys points about this film. the first being erotica. especially homo-erotica.<br /><br />yes, well. let us begin. When a man and a man love each other very much they fuse together in a spectacular, not to mention tender, explosion of cinema which we call merchant of venice.<br /><br />the homo erotic love was sensual at worse. and even more sensual at best. it was hardcore and emotional. it touched me inappropriately and I\\'m pretty sure i touched it back. and when no one was looking i touched myself a little too.<br /><br />i laughed because portia was denied. she was second in line to our friend, the homo erotic love. oh antonio. antoni. just toni. i love you. more than you loved that guy. whos name may or may not have contained an \"B\". he was well ugly.<br /><br />antoni was very greasy. he lathered his body in an encasement of his own hair grease and sensual juices and proceed to writhe accoss the screena and present himself to the guy with the name i like the movie in conclusion, go see the movie if not for the homo erotic connotations, for the love of a man such as antoni. just toni.'"
            ]
          },
          "execution_count": 71,
          "metadata": {},
          "output_type": "execute_result"
        }
      ],
      "source": [
        "mismatches['Review'].values.tolist()[2]"
      ]
    },
    {
      "cell_type": "code",
      "execution_count": null,
      "metadata": {
        "colab": {
          "base_uri": "https://localhost:8080/",
          "height": 139
        },
        "id": "d26fUtUREIPO",
        "outputId": "1f5a5200-603d-4316-9bdd-3c6e307b87ae"
      },
      "outputs": [
        {
          "data": {
            "application/vnd.google.colaboratory.intrinsic+json": {
              "type": "string"
            },
            "text/plain": [
              "'It\\'s too bad iameracing wants to deny the reality of Faulkner\\'s and Clarence Brown\\'s purpose in the creating of the story and film of \"Intruder In The Dust\". I suppose the burden of a history of racism is difficult for any Southerner to bear and I can understand that. But to say that this film was not specifically about racism is ridiculous and inaccurate. YES (to borrow your use of the upper case) iameracing, there are many many many places where blacks and white people in the South get along quite well. But to deny the way that black people were and sometimes still are forced to live, the conditions and injustices they have had to endure are not imaginary. Sometimes black and white people got along because of genuine affection and understanding. Sometimes it was only as long as blacks \\'knew their place\\'. The point of making Juano Hernandez character (in film and print) a somewhat prickly type, not warm and fuzzy, was to underscore the fact that bigotry is wrong in and of itself and human rights are just that for everyone regardless of whether we like a particular individual or not. <br /><br />It would do iameracing good to stop denying the existence of racism and the great harm it has done to Americans of all stripes. The fact is that black people (among others) did not, as a rule, not an exception, receive the benefits of the justice system as even-handedly as whites. Segregation, discrimination and lynching are historical fact. People like iameracing might claim these things were not as widespread as some think and would probably love to exonerate their ancestors and heroes from any connection with such behavior. It would be a wonderful thing if iameracing\\'s Southern ancestors (if any)never participated in any of the horrible racist actions that mar this country\\'s history and I hope they didn\\'t. If that is so congratulations to them but that fact, if true, does not erase the fact that others did. And even if the horrible things that were done to blacks in the South (and other areas, let\\'s not forget the Draft Riots of the Civil War Era)were only half as numerous, only a third, does that make them any less horrible? Is the murder of ten children the hanging of ten men the sexual assault of ten women any less horrible than the same things happening to a hundred? <br /><br />Iameracing asks us to get the \"Mississippi Burning\" chip off of our shoulders before we see \"Intruder In The Dust\", well I ask you, did the murders of the civil rights activists happen or not? Why should that be forgotten? Forgiven? Maybe. But in order to prevent their recurrence they cannot be forgotten or revised into minor occurrences. The racism that is displayed in \"Intruder In The Dust\" is displayed there quite purposely. It is there to make a point. <br /><br />On a cinematically historical level it is also ridiculous for iameracing to discount the racial angle. Any viewer of films that were filmed before the 1960\\'s knows that black actors/characters/extras were usually deliberately cast. To judge from our movie history; wars were always fought by middle aged white men; There were no black people in the Old West; it was possible to walk down a street in a major city and never encounter a black person; there were no black hospital orderlies,taxi drivers,clerks, salespeople etc. Blacks were almost never cast with regard to a role unless race was a factor. If Falukner (and Brown) had wanted to tell a simple murder story he probably would not have made the Hernandez character black. <br /><br />Racism exists iameracing. Probably for different reasons I am sure, we both wish that it didn\\'t but it does. Wanting things to be the way we would like them to be probably can\\'t be helped but it still does not make them so.'"
            ]
          },
          "execution_count": 72,
          "metadata": {},
          "output_type": "execute_result"
        }
      ],
      "source": [
        "mismatches['Review'].values.tolist()[3]"
      ]
    },
    {
      "cell_type": "code",
      "execution_count": null,
      "metadata": {
        "colab": {
          "base_uri": "https://localhost:8080/",
          "height": 139
        },
        "id": "mHvilhopE3fS",
        "outputId": "c566c144-b7ea-4e2b-db45-e4612a8de478"
      },
      "outputs": [
        {
          "data": {
            "application/vnd.google.colaboratory.intrinsic+json": {
              "type": "string"
            },
            "text/plain": [
              "'There is a special heaven reserved for people who make the world laugh. Alongside Chaplin,Stan and Ollie,The Marx Bros and.....(fill in your own special favourites)space must be made for everybody connected with \"Airport 80 - Concorde,the movie\". Robert Wagner in particular exceeds all expectations giving the comedy performance of a lifetime.I would never have thought he had it in him. The only way he could have been funnier would have been to have worn a red nose and a revolving bow tie. British moviegoers will recognise the fat one from Cannon and Ball pretending to be a Russian athlete,a nice trick if he could have pulled it off but,tragically,he couldn\\'t.I have a 14 year old labrador more athletic and almost as funny. George Kennedy - bless him - has a part that requires him talk and move at the same time,and my goodness he triumphs!Brow wrinkled with effort he utters timeless dialogue,each word lovingly polished into Coward-like brilliance. Only once in twenty years does Hollywood turn out a film like \"Airport 80\".All the years of toil and struggle,the sweat,the tears,the lessons with Lee Strasberg,living out of suitcases,born in a trunk etc etc,all come to fruition.A work of art is created that will last as long as there are movies and machines to show them on. I think I\\'m ready for my medication now.'"
            ]
          },
          "execution_count": 73,
          "metadata": {},
          "output_type": "execute_result"
        }
      ],
      "source": [
        "mismatches['Review'].values.tolist()[4]"
      ]
    },
    {
      "cell_type": "markdown",
      "metadata": {
        "id": "B4zT0lt0U4g6"
      },
      "source": [
        "#### b. (3 points) Identify at least 1 pattern that you believe your model is missing. Include at least 3 examples from the data that support your hypothesis.\n"
      ]
    },
    {
      "cell_type": "markdown",
      "metadata": {
        "id": "RxO_nQmFv86A"
      },
      "source": [
        "**Answer**:\n",
        "\n",
        "In my opinion the model is unable to correctly classify sentenes where the reviewer expresses his own opinion on the subject discussed in the film rather than the film itself. The model falsely classifies those data points in the wrong category without taking into account the context in which the user expresses their opinion. \n",
        "\n",
        "Below are the examples which support this hypothesis"
      ]
    },
    {
      "cell_type": "markdown",
      "metadata": {
        "id": "MFHthaqvU8fT"
      },
      "source": [
        "#### c. (2 points) Explain why these examples might have been difficult for the fine-tuned model to correctly make predictions on."
      ]
    },
    {
      "cell_type": "code",
      "execution_count": null,
      "metadata": {
        "colab": {
          "base_uri": "https://localhost:8080/",
          "height": 104
        },
        "id": "ghbgJm9cLtUk",
        "outputId": "623a75f1-9cf6-475b-9768-108090983831"
      },
      "outputs": [
        {
          "data": {
            "application/vnd.google.colaboratory.intrinsic+json": {
              "type": "string"
            },
            "text/plain": [
              "'I\\'m accustomed to being patient with films because I\\'ve generally found it usually pays off. But a few works take tedium to new levels and enter the realm of provocation....\"Last Year at Marienbad\" comes to mind. Well, \"Pola X\" ain\\'t no \"Last Year at Marienbad\". I can count on one hand the number of films I\\'ve walked out on over the years. \"Pola X\" achieved membership in that august group. In my defense, I believe I made a valiant effort to stand my ground - hoping things would turn around. However, I finally threw in the towel just shy of the 90 minute mark - quite respectable under the circumstances. \"Pola X\" does not come anywhere near living up to the promise of Carax\\'s earlier work. After a 10 year hiatus, that must have been bitter for him indeed. Melville is still spinning in his grave!'"
            ]
          },
          "execution_count": 74,
          "metadata": {},
          "output_type": "execute_result"
        }
      ],
      "source": [
        "mismatches['Review'].values.tolist()[1]"
      ]
    },
    {
      "cell_type": "code",
      "execution_count": null,
      "metadata": {
        "colab": {
          "base_uri": "https://localhost:8080/",
          "height": 139
        },
        "id": "hp3srWV5LvWG",
        "outputId": "36ae4710-52da-4ac4-d5f1-781e0df146ac"
      },
      "outputs": [
        {
          "data": {
            "application/vnd.google.colaboratory.intrinsic+json": {
              "type": "string"
            },
            "text/plain": [
              "'hello. hello and goodbye. but, before i go, i want to talk to you. i just want to quickly mention a few keys points about this film. the first being erotica. especially homo-erotica.<br /><br />yes, well. let us begin. When a man and a man love each other very much they fuse together in a spectacular, not to mention tender, explosion of cinema which we call merchant of venice.<br /><br />the homo erotic love was sensual at worse. and even more sensual at best. it was hardcore and emotional. it touched me inappropriately and I\\'m pretty sure i touched it back. and when no one was looking i touched myself a little too.<br /><br />i laughed because portia was denied. she was second in line to our friend, the homo erotic love. oh antonio. antoni. just toni. i love you. more than you loved that guy. whos name may or may not have contained an \"B\". he was well ugly.<br /><br />antoni was very greasy. he lathered his body in an encasement of his own hair grease and sensual juices and proceed to writhe accoss the screena and present himself to the guy with the name i like the movie in conclusion, go see the movie if not for the homo erotic connotations, for the love of a man such as antoni. just toni.'"
            ]
          },
          "execution_count": 75,
          "metadata": {},
          "output_type": "execute_result"
        }
      ],
      "source": [
        "mismatches['Review'].values.tolist()[2]\n"
      ]
    },
    {
      "cell_type": "code",
      "execution_count": null,
      "metadata": {
        "colab": {
          "base_uri": "https://localhost:8080/",
          "height": 139
        },
        "id": "a57p4zhTLzwB",
        "outputId": "78448307-6425-4a9a-efc9-d22dab33f097"
      },
      "outputs": [
        {
          "data": {
            "application/vnd.google.colaboratory.intrinsic+json": {
              "type": "string"
            },
            "text/plain": [
              "'There is a special heaven reserved for people who make the world laugh. Alongside Chaplin,Stan and Ollie,The Marx Bros and.....(fill in your own special favourites)space must be made for everybody connected with \"Airport 80 - Concorde,the movie\". Robert Wagner in particular exceeds all expectations giving the comedy performance of a lifetime.I would never have thought he had it in him. The only way he could have been funnier would have been to have worn a red nose and a revolving bow tie. British moviegoers will recognise the fat one from Cannon and Ball pretending to be a Russian athlete,a nice trick if he could have pulled it off but,tragically,he couldn\\'t.I have a 14 year old labrador more athletic and almost as funny. George Kennedy - bless him - has a part that requires him talk and move at the same time,and my goodness he triumphs!Brow wrinkled with effort he utters timeless dialogue,each word lovingly polished into Coward-like brilliance. Only once in twenty years does Hollywood turn out a film like \"Airport 80\".All the years of toil and struggle,the sweat,the tears,the lessons with Lee Strasberg,living out of suitcases,born in a trunk etc etc,all come to fruition.A work of art is created that will last as long as there are movies and machines to show them on. I think I\\'m ready for my medication now.'"
            ]
          },
          "execution_count": 76,
          "metadata": {},
          "output_type": "execute_result"
        }
      ],
      "source": [
        "mismatches['Review'].values.tolist()[4]"
      ]
    },
    {
      "cell_type": "markdown",
      "metadata": {
        "id": "s_Xsu687v-oy"
      },
      "source": [
        "**Answer**:\n",
        "\n",
        "The sentences associated with the highlighted sections are displayed above. The following section reviews the inherent structure of the reviews which isn't understood by the model leading to incorrect flagging.\n",
        "\n",
        "Firstly, in **mismatches['Review'].values.tolist()[1]**, the reviewer expresses his opinion on racism, murders, civil rights and the unjust faced by the black community, which may be in sync with what the user may have towards the subhect discussed in the film or based on comments by an artist in the film, however, based on the vocabulary being used the model flags it as a negative comment, but other users who more resonated with the ideas put forth by the reviewer thought it to be a positive review based on the truthfullness of the statements.\n",
        "\n",
        "\n",
        "Secondly, in  **mismatches['Review'].values.tolist()[2]** , the reviewer talks about how once in several years hollywood produces comedy films which are liked by the US viewers and forein audience. And makes a subltle snide comment about the actor who potrayed a comedic role, by comparing his athelitic and comic skills to his dog. While the other words used by the reviewer are seemingly positive, yet the context of the review is incorrectly understood by the model and thus this review is mistakely labelled as postive.\n",
        "\n",
        "\n",
        "Lastly, in **mismatches['Review'].values.tolist()[4]**, in this comment too, the reviewer discussed the main protagonist's idea of establishing a private army simply because of his inability of joining the army, and further exaplains the comical side of the movie which is supposedly the aim of the movie towards it audience. However, the reviewer further goes on to comment about the bad timing of the movie due to the raging vietnam conflict,which may have resonated more with human readers who thus flagged it as a negative review. However, maybe based on vocabulary alone the model flagged it as positive review."
      ]
    },
    {
      "cell_type": "markdown",
      "metadata": {
        "id": "vzLQvzyiU_xN"
      },
      "source": [
        "#### d. (2 points) Manually create 3 examples that conform to the pattern you observed, and run inference on them using the model. What did you find?"
      ]
    },
    {
      "cell_type": "code",
      "execution_count": null,
      "metadata": {
        "id": "pFldA0lzwB0E"
      },
      "outputs": [],
      "source": [
        "################## YOUR CODE HERE ##################\n",
        "# Inference on your own examples\n",
        "####################################################"
      ]
    },
    {
      "cell_type": "markdown",
      "metadata": {
        "id": "Ao21-dAFwANW"
      },
      "source": [
        "**Answer**:\n",
        "\n",
        "[YOUR ANSWER HERE]"
      ]
    },
    {
      "cell_type": "code",
      "execution_count": null,
      "metadata": {
        "id": "unfC4s5rL3sn"
      },
      "outputs": [],
      "source": [
        "custom_review1 = [\"The spider man movie is a work of fiction which is both good and bad. Overall the acting by tom holland is okay however nothing compared to what the actors of 60s. Those guys were the masters of their skill and showed real class. It's hard to find such talent today but I guess spider man is watchable \" ]\n",
        "labels = [1]"
      ]
    },
    {
      "cell_type": "code",
      "execution_count": null,
      "metadata": {
        "colab": {
          "base_uri": "https://localhost:8080/",
          "height": 153
        },
        "id": "7Q8p3jAeN6Aa",
        "outputId": "500df6a4-aa98-40f3-d341-db0b27790e7b"
      },
      "outputs": [
        {
          "name": "stderr",
          "output_type": "stream",
          "text": [
            "***** Running Prediction *****\n",
            "  Num examples = 1\n",
            "  Batch size = 4\n"
          ]
        },
        {
          "data": {
            "text/html": [
              "\n",
              "    <div>\n",
              "      \n",
              "      <progress value='7751' max='1250' style='width:300px; height:20px; vertical-align: middle;'></progress>\n",
              "      [1250/1250 06:20]\n",
              "    </div>\n",
              "    "
            ],
            "text/plain": [
              "<IPython.core.display.HTML object>"
            ]
          },
          "metadata": {},
          "output_type": "display_data"
        },
        {
          "data": {
            "text/html": [
              "\n",
              "  <div id=\"df-b7903199-7204-4e7b-8ba6-27aaa77d0649\">\n",
              "    <div class=\"colab-df-container\">\n",
              "      <div>\n",
              "<style scoped>\n",
              "    .dataframe tbody tr th:only-of-type {\n",
              "        vertical-align: middle;\n",
              "    }\n",
              "\n",
              "    .dataframe tbody tr th {\n",
              "        vertical-align: top;\n",
              "    }\n",
              "\n",
              "    .dataframe thead th {\n",
              "        text-align: right;\n",
              "    }\n",
              "</style>\n",
              "<table border=\"1\" class=\"dataframe\">\n",
              "  <thead>\n",
              "    <tr style=\"text-align: right;\">\n",
              "      <th></th>\n",
              "      <th>0</th>\n",
              "      <th>1</th>\n",
              "    </tr>\n",
              "  </thead>\n",
              "  <tbody>\n",
              "    <tr>\n",
              "      <th>0</th>\n",
              "      <td>0.993101</td>\n",
              "      <td>0.006899</td>\n",
              "    </tr>\n",
              "  </tbody>\n",
              "</table>\n",
              "</div>\n",
              "      <button class=\"colab-df-convert\" onclick=\"convertToInteractive('df-b7903199-7204-4e7b-8ba6-27aaa77d0649')\"\n",
              "              title=\"Convert this dataframe to an interactive table.\"\n",
              "              style=\"display:none;\">\n",
              "        \n",
              "  <svg xmlns=\"http://www.w3.org/2000/svg\" height=\"24px\"viewBox=\"0 0 24 24\"\n",
              "       width=\"24px\">\n",
              "    <path d=\"M0 0h24v24H0V0z\" fill=\"none\"/>\n",
              "    <path d=\"M18.56 5.44l.94 2.06.94-2.06 2.06-.94-2.06-.94-.94-2.06-.94 2.06-2.06.94zm-11 1L8.5 8.5l.94-2.06 2.06-.94-2.06-.94L8.5 2.5l-.94 2.06-2.06.94zm10 10l.94 2.06.94-2.06 2.06-.94-2.06-.94-.94-2.06-.94 2.06-2.06.94z\"/><path d=\"M17.41 7.96l-1.37-1.37c-.4-.4-.92-.59-1.43-.59-.52 0-1.04.2-1.43.59L10.3 9.45l-7.72 7.72c-.78.78-.78 2.05 0 2.83L4 21.41c.39.39.9.59 1.41.59.51 0 1.02-.2 1.41-.59l7.78-7.78 2.81-2.81c.8-.78.8-2.07 0-2.86zM5.41 20L4 18.59l7.72-7.72 1.47 1.35L5.41 20z\"/>\n",
              "  </svg>\n",
              "      </button>\n",
              "      \n",
              "  <style>\n",
              "    .colab-df-container {\n",
              "      display:flex;\n",
              "      flex-wrap:wrap;\n",
              "      gap: 12px;\n",
              "    }\n",
              "\n",
              "    .colab-df-convert {\n",
              "      background-color: #E8F0FE;\n",
              "      border: none;\n",
              "      border-radius: 50%;\n",
              "      cursor: pointer;\n",
              "      display: none;\n",
              "      fill: #1967D2;\n",
              "      height: 32px;\n",
              "      padding: 0 0 0 0;\n",
              "      width: 32px;\n",
              "    }\n",
              "\n",
              "    .colab-df-convert:hover {\n",
              "      background-color: #E2EBFA;\n",
              "      box-shadow: 0px 1px 2px rgba(60, 64, 67, 0.3), 0px 1px 3px 1px rgba(60, 64, 67, 0.15);\n",
              "      fill: #174EA6;\n",
              "    }\n",
              "\n",
              "    [theme=dark] .colab-df-convert {\n",
              "      background-color: #3B4455;\n",
              "      fill: #D2E3FC;\n",
              "    }\n",
              "\n",
              "    [theme=dark] .colab-df-convert:hover {\n",
              "      background-color: #434B5C;\n",
              "      box-shadow: 0px 1px 3px 1px rgba(0, 0, 0, 0.15);\n",
              "      filter: drop-shadow(0px 1px 2px rgba(0, 0, 0, 0.3));\n",
              "      fill: #FFFFFF;\n",
              "    }\n",
              "  </style>\n",
              "\n",
              "      <script>\n",
              "        const buttonEl =\n",
              "          document.querySelector('#df-b7903199-7204-4e7b-8ba6-27aaa77d0649 button.colab-df-convert');\n",
              "        buttonEl.style.display =\n",
              "          google.colab.kernel.accessAllowed ? 'block' : 'none';\n",
              "\n",
              "        async function convertToInteractive(key) {\n",
              "          const element = document.querySelector('#df-b7903199-7204-4e7b-8ba6-27aaa77d0649');\n",
              "          const dataTable =\n",
              "            await google.colab.kernel.invokeFunction('convertToInteractive',\n",
              "                                                     [key], {});\n",
              "          if (!dataTable) return;\n",
              "\n",
              "          const docLinkHtml = 'Like what you see? Visit the ' +\n",
              "            '<a target=\"_blank\" href=https://colab.research.google.com/notebooks/data_table.ipynb>data table notebook</a>'\n",
              "            + ' to learn more about interactive tables.';\n",
              "          element.innerHTML = '';\n",
              "          dataTable['output_type'] = 'display_data';\n",
              "          await google.colab.output.renderOutput(dataTable, element);\n",
              "          const docLink = document.createElement('div');\n",
              "          docLink.innerHTML = docLinkHtml;\n",
              "          element.appendChild(docLink);\n",
              "        }\n",
              "      </script>\n",
              "    </div>\n",
              "  </div>\n",
              "  "
            ],
            "text/plain": [
              "          0         1\n",
              "0  0.993101  0.006899"
            ]
          },
          "execution_count": 100,
          "metadata": {},
          "output_type": "execute_result"
        }
      ],
      "source": [
        "custom_review1_encodings = tokenizer(custom_review1, truncation=True, padding = \"max_length\")\n",
        "custom_review1_testDataset = my_Dataset(custom_review1_encodings, labels)\n",
        "predictions_custom_review1 =trainer.predict(custom_review1_testDataset)\n",
        "predictions_tensor = torch.from_numpy(predictions_custom_review1.predictions)\n",
        "predictions = torch.nn.functional.softmax(predictions_tensor, dim=-1)\n",
        "predictions = predictions.cpu().detach().numpy()\n",
        "resulting_probabilities = pd.DataFrame(predictions)\n",
        "resulting_probabilities"
      ]
    },
    {
      "cell_type": "code",
      "execution_count": null,
      "metadata": {
        "id": "FB_Qs9scN2WJ"
      },
      "outputs": [],
      "source": [
        "custom_review2 = [\"There is a special place reserved for people who think they make the world work. The policies established by these great coutries are funny. Even my dog, alfie makes good policies than the greatest leaders I know. But I believe these are my opinion only :)\"]\n",
        "labels = [0]"
      ]
    },
    {
      "cell_type": "code",
      "execution_count": null,
      "metadata": {
        "colab": {
          "base_uri": "https://localhost:8080/",
          "height": 153
        },
        "id": "XRfMvG9UOUWq",
        "outputId": "580d2c89-4c26-4820-f4f7-92671291933e"
      },
      "outputs": [
        {
          "name": "stderr",
          "output_type": "stream",
          "text": [
            "***** Running Prediction *****\n",
            "  Num examples = 1\n",
            "  Batch size = 4\n"
          ]
        },
        {
          "data": {
            "text/html": [
              "\n",
              "    <div>\n",
              "      \n",
              "      <progress value='7752' max='1250' style='width:300px; height:20px; vertical-align: middle;'></progress>\n",
              "      [1250/1250 06:32]\n",
              "    </div>\n",
              "    "
            ],
            "text/plain": [
              "<IPython.core.display.HTML object>"
            ]
          },
          "metadata": {},
          "output_type": "display_data"
        },
        {
          "data": {
            "text/html": [
              "\n",
              "  <div id=\"df-57583618-5ca5-46c0-a1d3-01e38ff2af3f\">\n",
              "    <div class=\"colab-df-container\">\n",
              "      <div>\n",
              "<style scoped>\n",
              "    .dataframe tbody tr th:only-of-type {\n",
              "        vertical-align: middle;\n",
              "    }\n",
              "\n",
              "    .dataframe tbody tr th {\n",
              "        vertical-align: top;\n",
              "    }\n",
              "\n",
              "    .dataframe thead th {\n",
              "        text-align: right;\n",
              "    }\n",
              "</style>\n",
              "<table border=\"1\" class=\"dataframe\">\n",
              "  <thead>\n",
              "    <tr style=\"text-align: right;\">\n",
              "      <th></th>\n",
              "      <th>0</th>\n",
              "      <th>1</th>\n",
              "    </tr>\n",
              "  </thead>\n",
              "  <tbody>\n",
              "    <tr>\n",
              "      <th>0</th>\n",
              "      <td>0.000015</td>\n",
              "      <td>0.999985</td>\n",
              "    </tr>\n",
              "  </tbody>\n",
              "</table>\n",
              "</div>\n",
              "      <button class=\"colab-df-convert\" onclick=\"convertToInteractive('df-57583618-5ca5-46c0-a1d3-01e38ff2af3f')\"\n",
              "              title=\"Convert this dataframe to an interactive table.\"\n",
              "              style=\"display:none;\">\n",
              "        \n",
              "  <svg xmlns=\"http://www.w3.org/2000/svg\" height=\"24px\"viewBox=\"0 0 24 24\"\n",
              "       width=\"24px\">\n",
              "    <path d=\"M0 0h24v24H0V0z\" fill=\"none\"/>\n",
              "    <path d=\"M18.56 5.44l.94 2.06.94-2.06 2.06-.94-2.06-.94-.94-2.06-.94 2.06-2.06.94zm-11 1L8.5 8.5l.94-2.06 2.06-.94-2.06-.94L8.5 2.5l-.94 2.06-2.06.94zm10 10l.94 2.06.94-2.06 2.06-.94-2.06-.94-.94-2.06-.94 2.06-2.06.94z\"/><path d=\"M17.41 7.96l-1.37-1.37c-.4-.4-.92-.59-1.43-.59-.52 0-1.04.2-1.43.59L10.3 9.45l-7.72 7.72c-.78.78-.78 2.05 0 2.83L4 21.41c.39.39.9.59 1.41.59.51 0 1.02-.2 1.41-.59l7.78-7.78 2.81-2.81c.8-.78.8-2.07 0-2.86zM5.41 20L4 18.59l7.72-7.72 1.47 1.35L5.41 20z\"/>\n",
              "  </svg>\n",
              "      </button>\n",
              "      \n",
              "  <style>\n",
              "    .colab-df-container {\n",
              "      display:flex;\n",
              "      flex-wrap:wrap;\n",
              "      gap: 12px;\n",
              "    }\n",
              "\n",
              "    .colab-df-convert {\n",
              "      background-color: #E8F0FE;\n",
              "      border: none;\n",
              "      border-radius: 50%;\n",
              "      cursor: pointer;\n",
              "      display: none;\n",
              "      fill: #1967D2;\n",
              "      height: 32px;\n",
              "      padding: 0 0 0 0;\n",
              "      width: 32px;\n",
              "    }\n",
              "\n",
              "    .colab-df-convert:hover {\n",
              "      background-color: #E2EBFA;\n",
              "      box-shadow: 0px 1px 2px rgba(60, 64, 67, 0.3), 0px 1px 3px 1px rgba(60, 64, 67, 0.15);\n",
              "      fill: #174EA6;\n",
              "    }\n",
              "\n",
              "    [theme=dark] .colab-df-convert {\n",
              "      background-color: #3B4455;\n",
              "      fill: #D2E3FC;\n",
              "    }\n",
              "\n",
              "    [theme=dark] .colab-df-convert:hover {\n",
              "      background-color: #434B5C;\n",
              "      box-shadow: 0px 1px 3px 1px rgba(0, 0, 0, 0.15);\n",
              "      filter: drop-shadow(0px 1px 2px rgba(0, 0, 0, 0.3));\n",
              "      fill: #FFFFFF;\n",
              "    }\n",
              "  </style>\n",
              "\n",
              "      <script>\n",
              "        const buttonEl =\n",
              "          document.querySelector('#df-57583618-5ca5-46c0-a1d3-01e38ff2af3f button.colab-df-convert');\n",
              "        buttonEl.style.display =\n",
              "          google.colab.kernel.accessAllowed ? 'block' : 'none';\n",
              "\n",
              "        async function convertToInteractive(key) {\n",
              "          const element = document.querySelector('#df-57583618-5ca5-46c0-a1d3-01e38ff2af3f');\n",
              "          const dataTable =\n",
              "            await google.colab.kernel.invokeFunction('convertToInteractive',\n",
              "                                                     [key], {});\n",
              "          if (!dataTable) return;\n",
              "\n",
              "          const docLinkHtml = 'Like what you see? Visit the ' +\n",
              "            '<a target=\"_blank\" href=https://colab.research.google.com/notebooks/data_table.ipynb>data table notebook</a>'\n",
              "            + ' to learn more about interactive tables.';\n",
              "          element.innerHTML = '';\n",
              "          dataTable['output_type'] = 'display_data';\n",
              "          await google.colab.output.renderOutput(dataTable, element);\n",
              "          const docLink = document.createElement('div');\n",
              "          docLink.innerHTML = docLinkHtml;\n",
              "          element.appendChild(docLink);\n",
              "        }\n",
              "      </script>\n",
              "    </div>\n",
              "  </div>\n",
              "  "
            ],
            "text/plain": [
              "          0         1\n",
              "0  0.000015  0.999985"
            ]
          },
          "execution_count": 102,
          "metadata": {},
          "output_type": "execute_result"
        }
      ],
      "source": [
        "custom_review2_encodings = tokenizer(custom_review2, truncation=True, padding = \"max_length\")\n",
        "custom_review2_testDataset = my_Dataset(custom_review2_encodings, labels)\n",
        "predictions_custom_review2 =trainer.predict(custom_review2_testDataset)\n",
        "predictions_tensor = torch.from_numpy(predictions_custom_review2.predictions)\n",
        "predictions = torch.nn.functional.softmax(predictions_tensor, dim=-1)\n",
        "predictions = predictions.cpu().detach().numpy()\n",
        "resulting_probabilities = pd.DataFrame(predictions)\n",
        "resulting_probabilities"
      ]
    },
    {
      "cell_type": "code",
      "execution_count": null,
      "metadata": {
        "id": "ZPXG2iQGYtnL"
      },
      "outputs": [],
      "source": [
        "\n",
        "custom_review3 = [\"a new trend has emerged among the rich where people spend chunk of money and visit the space to showcase their acheivements. While it may be exciting and fun :))), the core idea is the opposite of logic as the the same money could be distributed among college graduates have to pay high loan tuition amounts to become successful.\"]\n",
        "labels = [0]"
      ]
    },
    {
      "cell_type": "code",
      "execution_count": null,
      "metadata": {
        "colab": {
          "base_uri": "https://localhost:8080/",
          "height": 153
        },
        "id": "Co0w_msJOmO5",
        "outputId": "9573ebc8-22e8-4209-c8d2-4c3d228b7898"
      },
      "outputs": [
        {
          "name": "stderr",
          "output_type": "stream",
          "text": [
            "***** Running Prediction *****\n",
            "  Num examples = 1\n",
            "  Batch size = 4\n"
          ]
        },
        {
          "data": {
            "text/html": [
              "\n",
              "    <div>\n",
              "      \n",
              "      <progress value='7753' max='1250' style='width:300px; height:20px; vertical-align: middle;'></progress>\n",
              "      [1250/1250 06:51]\n",
              "    </div>\n",
              "    "
            ],
            "text/plain": [
              "<IPython.core.display.HTML object>"
            ]
          },
          "metadata": {},
          "output_type": "display_data"
        },
        {
          "data": {
            "text/html": [
              "\n",
              "  <div id=\"df-f3c5e608-7c88-48e6-bf3b-3813c34b4cfa\">\n",
              "    <div class=\"colab-df-container\">\n",
              "      <div>\n",
              "<style scoped>\n",
              "    .dataframe tbody tr th:only-of-type {\n",
              "        vertical-align: middle;\n",
              "    }\n",
              "\n",
              "    .dataframe tbody tr th {\n",
              "        vertical-align: top;\n",
              "    }\n",
              "\n",
              "    .dataframe thead th {\n",
              "        text-align: right;\n",
              "    }\n",
              "</style>\n",
              "<table border=\"1\" class=\"dataframe\">\n",
              "  <thead>\n",
              "    <tr style=\"text-align: right;\">\n",
              "      <th></th>\n",
              "      <th>0</th>\n",
              "      <th>1</th>\n",
              "    </tr>\n",
              "  </thead>\n",
              "  <tbody>\n",
              "    <tr>\n",
              "      <th>0</th>\n",
              "      <td>0.011255</td>\n",
              "      <td>0.988745</td>\n",
              "    </tr>\n",
              "  </tbody>\n",
              "</table>\n",
              "</div>\n",
              "      <button class=\"colab-df-convert\" onclick=\"convertToInteractive('df-f3c5e608-7c88-48e6-bf3b-3813c34b4cfa')\"\n",
              "              title=\"Convert this dataframe to an interactive table.\"\n",
              "              style=\"display:none;\">\n",
              "        \n",
              "  <svg xmlns=\"http://www.w3.org/2000/svg\" height=\"24px\"viewBox=\"0 0 24 24\"\n",
              "       width=\"24px\">\n",
              "    <path d=\"M0 0h24v24H0V0z\" fill=\"none\"/>\n",
              "    <path d=\"M18.56 5.44l.94 2.06.94-2.06 2.06-.94-2.06-.94-.94-2.06-.94 2.06-2.06.94zm-11 1L8.5 8.5l.94-2.06 2.06-.94-2.06-.94L8.5 2.5l-.94 2.06-2.06.94zm10 10l.94 2.06.94-2.06 2.06-.94-2.06-.94-.94-2.06-.94 2.06-2.06.94z\"/><path d=\"M17.41 7.96l-1.37-1.37c-.4-.4-.92-.59-1.43-.59-.52 0-1.04.2-1.43.59L10.3 9.45l-7.72 7.72c-.78.78-.78 2.05 0 2.83L4 21.41c.39.39.9.59 1.41.59.51 0 1.02-.2 1.41-.59l7.78-7.78 2.81-2.81c.8-.78.8-2.07 0-2.86zM5.41 20L4 18.59l7.72-7.72 1.47 1.35L5.41 20z\"/>\n",
              "  </svg>\n",
              "      </button>\n",
              "      \n",
              "  <style>\n",
              "    .colab-df-container {\n",
              "      display:flex;\n",
              "      flex-wrap:wrap;\n",
              "      gap: 12px;\n",
              "    }\n",
              "\n",
              "    .colab-df-convert {\n",
              "      background-color: #E8F0FE;\n",
              "      border: none;\n",
              "      border-radius: 50%;\n",
              "      cursor: pointer;\n",
              "      display: none;\n",
              "      fill: #1967D2;\n",
              "      height: 32px;\n",
              "      padding: 0 0 0 0;\n",
              "      width: 32px;\n",
              "    }\n",
              "\n",
              "    .colab-df-convert:hover {\n",
              "      background-color: #E2EBFA;\n",
              "      box-shadow: 0px 1px 2px rgba(60, 64, 67, 0.3), 0px 1px 3px 1px rgba(60, 64, 67, 0.15);\n",
              "      fill: #174EA6;\n",
              "    }\n",
              "\n",
              "    [theme=dark] .colab-df-convert {\n",
              "      background-color: #3B4455;\n",
              "      fill: #D2E3FC;\n",
              "    }\n",
              "\n",
              "    [theme=dark] .colab-df-convert:hover {\n",
              "      background-color: #434B5C;\n",
              "      box-shadow: 0px 1px 3px 1px rgba(0, 0, 0, 0.15);\n",
              "      filter: drop-shadow(0px 1px 2px rgba(0, 0, 0, 0.3));\n",
              "      fill: #FFFFFF;\n",
              "    }\n",
              "  </style>\n",
              "\n",
              "      <script>\n",
              "        const buttonEl =\n",
              "          document.querySelector('#df-f3c5e608-7c88-48e6-bf3b-3813c34b4cfa button.colab-df-convert');\n",
              "        buttonEl.style.display =\n",
              "          google.colab.kernel.accessAllowed ? 'block' : 'none';\n",
              "\n",
              "        async function convertToInteractive(key) {\n",
              "          const element = document.querySelector('#df-f3c5e608-7c88-48e6-bf3b-3813c34b4cfa');\n",
              "          const dataTable =\n",
              "            await google.colab.kernel.invokeFunction('convertToInteractive',\n",
              "                                                     [key], {});\n",
              "          if (!dataTable) return;\n",
              "\n",
              "          const docLinkHtml = 'Like what you see? Visit the ' +\n",
              "            '<a target=\"_blank\" href=https://colab.research.google.com/notebooks/data_table.ipynb>data table notebook</a>'\n",
              "            + ' to learn more about interactive tables.';\n",
              "          element.innerHTML = '';\n",
              "          dataTable['output_type'] = 'display_data';\n",
              "          await google.colab.output.renderOutput(dataTable, element);\n",
              "          const docLink = document.createElement('div');\n",
              "          docLink.innerHTML = docLinkHtml;\n",
              "          element.appendChild(docLink);\n",
              "        }\n",
              "      </script>\n",
              "    </div>\n",
              "  </div>\n",
              "  "
            ],
            "text/plain": [
              "          0         1\n",
              "0  0.011255  0.988745"
            ]
          },
          "execution_count": 104,
          "metadata": {},
          "output_type": "execute_result"
        }
      ],
      "source": [
        "custom_review3_encodings = tokenizer(custom_review3, truncation=True, padding = \"max_length\")\n",
        "custom_review3_testDataset = my_Dataset(custom_review3_encodings, labels)\n",
        "predictions_custom_review3 =trainer.predict(custom_review3_testDataset)\n",
        "predictions_tensor = torch.from_numpy(predictions_custom_review3.predictions)\n",
        "predictions = torch.nn.functional.softmax(predictions_tensor, dim=-1)\n",
        "predictions = predictions.cpu().detach().numpy()\n",
        "resulting_probabilities = pd.DataFrame(predictions)\n",
        "\n",
        "\n",
        "\n",
        "resulting_probabilities"
      ]
    },
    {
      "cell_type": "markdown",
      "metadata": {
        "id": "01YT6sZOZm7K"
      },
      "source": [
        "**Answer**\n",
        "\n",
        "\n",
        "In these examples I found that expressing opinions by comparing the work done by one actor with actors of another era and making a positive comment about the movie as a whole, along with making comments with a tone of sarcasm and the sense of using  words like 'funny' and avoiding negative connotations words by using 'opposite of logical' (which would ideally translate to illogical) are not understood by the model , i.e. the context of the words, and thus the sentences are missclassified."
      ]
    },
    {
      "cell_type": "markdown",
      "metadata": {
        "id": "XxaviDJkVF7F"
      },
      "source": [
        "#### e. (2 points) Suggest what steps we might take to address this error bucket.\n"
      ]
    },
    {
      "cell_type": "markdown",
      "metadata": {
        "id": "M0_n5JC1wEu2"
      },
      "source": [
        "**Answer**:\n",
        "\n",
        "In my opinion, to truly classify the labels correctly, the model needs to also understand the context in which words are being written. While Sarcasm can be subtle, yet the relative placement of words can also be used by the model as a feature to understand the true intent behind a review/comment. An ideal way to approach this would be to gather a stack of target words that display sentiment shifts (sarcastic words) based on context; And with an objective word given an expression, to then identify whether the objective word is used in an exact or sarcastic sense. This information can be collected by the use of an information retrieval system.\n",
        "\n",
        "\n",
        "References :\n",
        "\n",
        "https://www.sciencedirect.com/science/article/pii/S2214785320368164"
      ]
    },
    {
      "cell_type": "markdown",
      "metadata": {
        "id": "8JulVmjPVK7g"
      },
      "source": [
        "### 2.4 Pertubation Analysis [10 points]\n",
        "\n",
        "Inputs, especially inputs by users, might contain a lot of noise (e.g. misspelling, repeated chaaaaaaaaracter, missing punctuation, etc.). You want to see how well your models perform on input with noises."
      ]
    },
    {
      "cell_type": "markdown",
      "metadata": {
        "id": "WrS6IzqqV2E8"
      },
      "source": [
        "#### a. (2 points) Write a function to randomly add noise to an input while preserving its label. Here are some ideas to consider (you can combine them too, e.g. 10% of the time do this, 20% of the time do this):\n",
        "\n",
        "- Randomly remove a character\n",
        "- Randomly repeat a character or a phrase\n",
        "- Replace a word with a similar word \n"
      ]
    },
    {
      "cell_type": "code",
      "execution_count": null,
      "metadata": {
        "colab": {
          "base_uri": "https://localhost:8080/"
        },
        "id": "l5evTR5YRqS5",
        "outputId": "a18b2afb-907e-4bde-914b-ef350ff2b05d"
      },
      "outputs": [
        {
          "name": "stdout",
          "output_type": "stream",
          "text": [
            "[nltk_data] Downloading package stopwords to /root/nltk_data...\n",
            "[nltk_data]   Package stopwords is already up-to-date!\n"
          ]
        }
      ],
      "source": [
        "import string\n",
        "import re\n",
        "from os import listdir\n",
        "import nltk\n",
        "nltk.download('stopwords')\n",
        "from nltk.corpus import stopwords\n",
        "from pickle import dump"
      ]
    },
    {
      "cell_type": "code",
      "execution_count": null,
      "metadata": {
        "id": "0yyxGRFd5DvG"
      },
      "outputs": [],
      "source": [
        "\n",
        "def add_random_noice(sentence):\n",
        "\n",
        "  # repeat characters\n",
        "  for i in range(10):\n",
        "    sentence = sentence.split()\n",
        "    string_variable = random.choice(sentence)\n",
        "    new_string = string_variable + string_variable[-1] * len(string_variable)\n",
        "    sentence = ' '.join(sentence)\n",
        "    sentence = sentence.replace(string_variable, new_string)\n",
        "\n",
        "  # remoeve punctuations from the sentence\n",
        "  sentence = sentence.split()\n",
        "  re_punc = re.compile('[%s]' % re.escape(string.punctuation))\n",
        "  # remove punctuation from each word\n",
        "  tokens = [re_punc.sub('', w) for w in sentence]\n",
        "  # remove remaining tokens that are not alphabetic\n",
        "  sentence = ' '.join(tokens)\n",
        "\n",
        "\n",
        "\n",
        "  return sentence"
      ]
    },
    {
      "cell_type": "code",
      "execution_count": null,
      "metadata": {
        "id": "YX_74Kg5QOwT"
      },
      "outputs": [],
      "source": [
        "# sentence = add_random_noice(sentence)"
      ]
    },
    {
      "cell_type": "markdown",
      "metadata": {
        "id": "GHGaFeHtZpjL"
      },
      "source": [
        "#### b. (1 point) Apply this function to 500 samples in your test split.\n"
      ]
    },
    {
      "cell_type": "code",
      "execution_count": null,
      "metadata": {
        "id": "8gphrTzqSeyo"
      },
      "outputs": [],
      "source": [
        "sample_percentage = 500 / test.shape[0]\n",
        "sample_testData = test.sample(frac= sample_percentage, replace=True, random_state=412)\n",
        "sample_testData['reviews'] = sample_testData['reviews'].apply(lambda x : add_random_noice(x)) "
      ]
    },
    {
      "cell_type": "markdown",
      "metadata": {
        "id": "10TRENSZZvBJ"
      },
      "source": [
        "#### c. (2 points) Use your model to make predictions on these noisy examples and output predicted labels and associated probabilities."
      ]
    },
    {
      "cell_type": "code",
      "execution_count": null,
      "metadata": {
        "id": "26ELRKp9wWFa"
      },
      "outputs": [],
      "source": [
        "################## YOUR CODE HERE ##################\n",
        "\n",
        "####################################################"
      ]
    },
    {
      "cell_type": "code",
      "execution_count": null,
      "metadata": {
        "id": "E3s1lOyMVgV2"
      },
      "outputs": [],
      "source": [
        "def transform_sample_data(sample_testData):\n",
        "\n",
        "  trainLines, trainLabels = load_dataset('train.pkl')\n",
        "  \n",
        "  # create tokenizer\n",
        "  tokenizer = create_tokenizer(trainLines)\n",
        "  # calculate max document length\n",
        "  length = max_length(trainLines)\n",
        "  print('Max document length: %d' % length)\n",
        "  # calculate vocabulary size\n",
        "  vocab_size = len(tokenizer.word_index) + 1\n",
        "  print('Vocabulary size: %d' % vocab_size)\n",
        "  # encode data\n",
        "  #trainX = encode_text(tokenizer, trainLines, length)\n",
        "\n",
        "  sample_lines = [item for item in sample_testData['reviews']]\n",
        "  sample_labels = [label for label in sample_testData['labels']]\n",
        "\n",
        "  sample_lines_encodings = encode_text(tokenizer, sample_lines, length)\n",
        "\n",
        "  return sample_lines_encodings, sample_labels"
      ]
    },
    {
      "cell_type": "code",
      "execution_count": null,
      "metadata": {
        "colab": {
          "base_uri": "https://localhost:8080/"
        },
        "id": "Zxd1LdG4XV9T",
        "outputId": "a1d35054-e838-4c28-b85e-3f852eaeb4bc"
      },
      "outputs": [
        {
          "name": "stdout",
          "output_type": "stream",
          "text": [
            "Max document length: 1480\n",
            "Vocabulary size: 117362\n"
          ]
        }
      ],
      "source": [
        "sample_lines_encodings, sample_labels = transform_sample_data(sample_testData)"
      ]
    },
    {
      "cell_type": "code",
      "execution_count": null,
      "metadata": {
        "id": "nqZN3D5QYs8a"
      },
      "outputs": [],
      "source": [
        "predictions_sample = model.predict([sample_lines_encodings,sample_lines_encodings,sample_lines_encodings], batch_size = 16)\n",
        "predictions_sample = list(predictions_sample)\n",
        "predictions_sample = pd.DataFrame(predictions_sample, columns = ['Probabilities'])\n",
        "selected_threshold = 0.733\n",
        "predictions_sample['Labels'] = predictions_sample['Probabilities'].apply(lambda x :  1 if x >= selected_threshold else  0)"
      ]
    },
    {
      "cell_type": "code",
      "execution_count": null,
      "metadata": {
        "colab": {
          "base_uri": "https://localhost:8080/",
          "height": 423
        },
        "id": "GTGp6rlvZDex",
        "outputId": "4c262203-8e6b-444c-8f17-dc84ed5f7c53"
      },
      "outputs": [
        {
          "data": {
            "text/html": [
              "\n",
              "  <div id=\"df-36173c57-b115-40d5-852c-b8249680e190\">\n",
              "    <div class=\"colab-df-container\">\n",
              "      <div>\n",
              "<style scoped>\n",
              "    .dataframe tbody tr th:only-of-type {\n",
              "        vertical-align: middle;\n",
              "    }\n",
              "\n",
              "    .dataframe tbody tr th {\n",
              "        vertical-align: top;\n",
              "    }\n",
              "\n",
              "    .dataframe thead th {\n",
              "        text-align: right;\n",
              "    }\n",
              "</style>\n",
              "<table border=\"1\" class=\"dataframe\">\n",
              "  <thead>\n",
              "    <tr style=\"text-align: right;\">\n",
              "      <th></th>\n",
              "      <th>Probabilities</th>\n",
              "      <th>Labels</th>\n",
              "    </tr>\n",
              "  </thead>\n",
              "  <tbody>\n",
              "    <tr>\n",
              "      <th>0</th>\n",
              "      <td>4.723801e-12</td>\n",
              "      <td>0</td>\n",
              "    </tr>\n",
              "    <tr>\n",
              "      <th>1</th>\n",
              "      <td>9.999944e-01</td>\n",
              "      <td>1</td>\n",
              "    </tr>\n",
              "    <tr>\n",
              "      <th>2</th>\n",
              "      <td>9.999962e-01</td>\n",
              "      <td>1</td>\n",
              "    </tr>\n",
              "    <tr>\n",
              "      <th>3</th>\n",
              "      <td>1.475050e-06</td>\n",
              "      <td>0</td>\n",
              "    </tr>\n",
              "    <tr>\n",
              "      <th>4</th>\n",
              "      <td>3.833757e-07</td>\n",
              "      <td>0</td>\n",
              "    </tr>\n",
              "    <tr>\n",
              "      <th>...</th>\n",
              "      <td>...</td>\n",
              "      <td>...</td>\n",
              "    </tr>\n",
              "    <tr>\n",
              "      <th>495</th>\n",
              "      <td>6.152004e-03</td>\n",
              "      <td>0</td>\n",
              "    </tr>\n",
              "    <tr>\n",
              "      <th>496</th>\n",
              "      <td>4.142446e-07</td>\n",
              "      <td>0</td>\n",
              "    </tr>\n",
              "    <tr>\n",
              "      <th>497</th>\n",
              "      <td>9.511322e-01</td>\n",
              "      <td>1</td>\n",
              "    </tr>\n",
              "    <tr>\n",
              "      <th>498</th>\n",
              "      <td>4.513667e-01</td>\n",
              "      <td>0</td>\n",
              "    </tr>\n",
              "    <tr>\n",
              "      <th>499</th>\n",
              "      <td>4.307085e-02</td>\n",
              "      <td>0</td>\n",
              "    </tr>\n",
              "  </tbody>\n",
              "</table>\n",
              "<p>500 rows × 2 columns</p>\n",
              "</div>\n",
              "      <button class=\"colab-df-convert\" onclick=\"convertToInteractive('df-36173c57-b115-40d5-852c-b8249680e190')\"\n",
              "              title=\"Convert this dataframe to an interactive table.\"\n",
              "              style=\"display:none;\">\n",
              "        \n",
              "  <svg xmlns=\"http://www.w3.org/2000/svg\" height=\"24px\"viewBox=\"0 0 24 24\"\n",
              "       width=\"24px\">\n",
              "    <path d=\"M0 0h24v24H0V0z\" fill=\"none\"/>\n",
              "    <path d=\"M18.56 5.44l.94 2.06.94-2.06 2.06-.94-2.06-.94-.94-2.06-.94 2.06-2.06.94zm-11 1L8.5 8.5l.94-2.06 2.06-.94-2.06-.94L8.5 2.5l-.94 2.06-2.06.94zm10 10l.94 2.06.94-2.06 2.06-.94-2.06-.94-.94-2.06-.94 2.06-2.06.94z\"/><path d=\"M17.41 7.96l-1.37-1.37c-.4-.4-.92-.59-1.43-.59-.52 0-1.04.2-1.43.59L10.3 9.45l-7.72 7.72c-.78.78-.78 2.05 0 2.83L4 21.41c.39.39.9.59 1.41.59.51 0 1.02-.2 1.41-.59l7.78-7.78 2.81-2.81c.8-.78.8-2.07 0-2.86zM5.41 20L4 18.59l7.72-7.72 1.47 1.35L5.41 20z\"/>\n",
              "  </svg>\n",
              "      </button>\n",
              "      \n",
              "  <style>\n",
              "    .colab-df-container {\n",
              "      display:flex;\n",
              "      flex-wrap:wrap;\n",
              "      gap: 12px;\n",
              "    }\n",
              "\n",
              "    .colab-df-convert {\n",
              "      background-color: #E8F0FE;\n",
              "      border: none;\n",
              "      border-radius: 50%;\n",
              "      cursor: pointer;\n",
              "      display: none;\n",
              "      fill: #1967D2;\n",
              "      height: 32px;\n",
              "      padding: 0 0 0 0;\n",
              "      width: 32px;\n",
              "    }\n",
              "\n",
              "    .colab-df-convert:hover {\n",
              "      background-color: #E2EBFA;\n",
              "      box-shadow: 0px 1px 2px rgba(60, 64, 67, 0.3), 0px 1px 3px 1px rgba(60, 64, 67, 0.15);\n",
              "      fill: #174EA6;\n",
              "    }\n",
              "\n",
              "    [theme=dark] .colab-df-convert {\n",
              "      background-color: #3B4455;\n",
              "      fill: #D2E3FC;\n",
              "    }\n",
              "\n",
              "    [theme=dark] .colab-df-convert:hover {\n",
              "      background-color: #434B5C;\n",
              "      box-shadow: 0px 1px 3px 1px rgba(0, 0, 0, 0.15);\n",
              "      filter: drop-shadow(0px 1px 2px rgba(0, 0, 0, 0.3));\n",
              "      fill: #FFFFFF;\n",
              "    }\n",
              "  </style>\n",
              "\n",
              "      <script>\n",
              "        const buttonEl =\n",
              "          document.querySelector('#df-36173c57-b115-40d5-852c-b8249680e190 button.colab-df-convert');\n",
              "        buttonEl.style.display =\n",
              "          google.colab.kernel.accessAllowed ? 'block' : 'none';\n",
              "\n",
              "        async function convertToInteractive(key) {\n",
              "          const element = document.querySelector('#df-36173c57-b115-40d5-852c-b8249680e190');\n",
              "          const dataTable =\n",
              "            await google.colab.kernel.invokeFunction('convertToInteractive',\n",
              "                                                     [key], {});\n",
              "          if (!dataTable) return;\n",
              "\n",
              "          const docLinkHtml = 'Like what you see? Visit the ' +\n",
              "            '<a target=\"_blank\" href=https://colab.research.google.com/notebooks/data_table.ipynb>data table notebook</a>'\n",
              "            + ' to learn more about interactive tables.';\n",
              "          element.innerHTML = '';\n",
              "          dataTable['output_type'] = 'display_data';\n",
              "          await google.colab.output.renderOutput(dataTable, element);\n",
              "          const docLink = document.createElement('div');\n",
              "          docLink.innerHTML = docLinkHtml;\n",
              "          element.appendChild(docLink);\n",
              "        }\n",
              "      </script>\n",
              "    </div>\n",
              "  </div>\n",
              "  "
            ],
            "text/plain": [
              "     Probabilities  Labels\n",
              "0     4.723801e-12       0\n",
              "1     9.999944e-01       1\n",
              "2     9.999962e-01       1\n",
              "3     1.475050e-06       0\n",
              "4     3.833757e-07       0\n",
              "..             ...     ...\n",
              "495   6.152004e-03       0\n",
              "496   4.142446e-07       0\n",
              "497   9.511322e-01       1\n",
              "498   4.513667e-01       0\n",
              "499   4.307085e-02       0\n",
              "\n",
              "[500 rows x 2 columns]"
            ]
          },
          "execution_count": 251,
          "metadata": {},
          "output_type": "execute_result"
        }
      ],
      "source": [
        "predictions_sample"
      ]
    },
    {
      "cell_type": "markdown",
      "metadata": {
        "id": "JXfxdn4EZyEm"
      },
      "source": [
        "#### d. (1 point) Evaluate your model’s performance on these noisy examples using the metric specified in 1.2 (c)."
      ]
    },
    {
      "cell_type": "code",
      "execution_count": null,
      "metadata": {
        "colab": {
          "base_uri": "https://localhost:8080/"
        },
        "id": "HNCVt_CPYBnC",
        "outputId": "6ee67725-50be-487f-f6b1-a9aed9a666b7"
      },
      "outputs": [
        {
          "name": "stdout",
          "output_type": "stream",
          "text": [
            "Model's performance on 1000 samples of Test Set :  \n",
            "Accuracy :  0.79\n",
            "Precision :  0.8779527559055118\n",
            "Recall :  0.7508417508417509\n",
            "F1 :  0.809437386569873\n"
          ]
        }
      ],
      "source": [
        "get_model_performance(sample_labels, list(predictions_sample['Labels']))"
      ]
    },
    {
      "cell_type": "code",
      "execution_count": null,
      "metadata": {
        "id": "wkVIpV_RwXKm"
      },
      "outputs": [],
      "source": [
        "################## YOUR CODE HERE ##################\n",
        "\n",
        "####################################################"
      ]
    },
    {
      "cell_type": "markdown",
      "metadata": {
        "id": "uiA0Iv3vZ1dw"
      },
      "source": [
        "#### e. (2 points) Use the fine-tuned model to make predictions on these noisy examples and output predicted labels and associated probabilities."
      ]
    },
    {
      "cell_type": "code",
      "execution_count": null,
      "metadata": {
        "colab": {
          "base_uri": "https://localhost:8080/",
          "height": 89
        },
        "id": "d_2aay4HUiUU",
        "outputId": "89ea1aec-9123-43f8-e090-1ee340707a06"
      },
      "outputs": [
        {
          "name": "stderr",
          "output_type": "stream",
          "text": [
            "***** Running Prediction *****\n",
            "  Num examples = 500\n",
            "  Batch size = 4\n"
          ]
        },
        {
          "data": {
            "text/html": [
              "\n",
              "    <div>\n",
              "      \n",
              "      <progress value='7878' max='1250' style='width:300px; height:20px; vertical-align: middle;'></progress>\n",
              "      [1250/1250 2:14:46]\n",
              "    </div>\n",
              "    "
            ],
            "text/plain": [
              "<IPython.core.display.HTML object>"
            ]
          },
          "metadata": {},
          "output_type": "display_data"
        }
      ],
      "source": [
        "sample_testData_encodings = tokenizer(sample_testData['reviews'].to_list(), truncation=True, padding = \"max_length\")\n",
        "sample_testDataset = my_Dataset(sample_testData_encodings, sample_testData['labels'].to_list())\n",
        "predictions_sample=trainer.predict(sample_testDataset)\n",
        "y_pred = list(predictions_sample.label_ids)\n",
        "ground_truth = sample_testData['labels'].values.tolist()\n",
        "predictions_tensor = torch.from_numpy(predictions_sample.predictions)\n",
        "#predictions_tensor = torch.from_numpy(predictions_sample.predictions)\n",
        "predictions = torch.nn.functional.softmax(predictions_tensor, dim=-1)\n",
        "predictions = predictions.cpu().detach().numpy()\n",
        "resulting_probabilities = pd.DataFrame(predictions)\n",
        "class1_probabilities = list(predictions[:,1])\n",
        "class1_labels = [1 if item > 0.5 else 0 for item in class1_probabilities]\n",
        "result_sample_test = pd.DataFrame(list(zip(class1_probabilities,class1_labels)), columns = ['Probabilities','Labels'])"
      ]
    },
    {
      "cell_type": "code",
      "execution_count": null,
      "metadata": {
        "colab": {
          "base_uri": "https://localhost:8080/",
          "height": 423
        },
        "id": "QLaPCYYBVTwh",
        "outputId": "97009a3a-ce2f-45ff-b4c6-bcd62e253266"
      },
      "outputs": [
        {
          "data": {
            "text/html": [
              "\n",
              "  <div id=\"df-0eeb8c84-490c-469c-8cdd-031c1f942d52\">\n",
              "    <div class=\"colab-df-container\">\n",
              "      <div>\n",
              "<style scoped>\n",
              "    .dataframe tbody tr th:only-of-type {\n",
              "        vertical-align: middle;\n",
              "    }\n",
              "\n",
              "    .dataframe tbody tr th {\n",
              "        vertical-align: top;\n",
              "    }\n",
              "\n",
              "    .dataframe thead th {\n",
              "        text-align: right;\n",
              "    }\n",
              "</style>\n",
              "<table border=\"1\" class=\"dataframe\">\n",
              "  <thead>\n",
              "    <tr style=\"text-align: right;\">\n",
              "      <th></th>\n",
              "      <th>Probabilities</th>\n",
              "      <th>Labels</th>\n",
              "    </tr>\n",
              "  </thead>\n",
              "  <tbody>\n",
              "    <tr>\n",
              "      <th>0</th>\n",
              "      <td>0.000011</td>\n",
              "      <td>0</td>\n",
              "    </tr>\n",
              "    <tr>\n",
              "      <th>1</th>\n",
              "      <td>0.999974</td>\n",
              "      <td>1</td>\n",
              "    </tr>\n",
              "    <tr>\n",
              "      <th>2</th>\n",
              "      <td>0.999554</td>\n",
              "      <td>1</td>\n",
              "    </tr>\n",
              "    <tr>\n",
              "      <th>3</th>\n",
              "      <td>0.000015</td>\n",
              "      <td>0</td>\n",
              "    </tr>\n",
              "    <tr>\n",
              "      <th>4</th>\n",
              "      <td>0.000020</td>\n",
              "      <td>0</td>\n",
              "    </tr>\n",
              "    <tr>\n",
              "      <th>...</th>\n",
              "      <td>...</td>\n",
              "      <td>...</td>\n",
              "    </tr>\n",
              "    <tr>\n",
              "      <th>495</th>\n",
              "      <td>0.000013</td>\n",
              "      <td>0</td>\n",
              "    </tr>\n",
              "    <tr>\n",
              "      <th>496</th>\n",
              "      <td>0.000009</td>\n",
              "      <td>0</td>\n",
              "    </tr>\n",
              "    <tr>\n",
              "      <th>497</th>\n",
              "      <td>0.999911</td>\n",
              "      <td>1</td>\n",
              "    </tr>\n",
              "    <tr>\n",
              "      <th>498</th>\n",
              "      <td>0.999985</td>\n",
              "      <td>1</td>\n",
              "    </tr>\n",
              "    <tr>\n",
              "      <th>499</th>\n",
              "      <td>0.999821</td>\n",
              "      <td>1</td>\n",
              "    </tr>\n",
              "  </tbody>\n",
              "</table>\n",
              "<p>500 rows × 2 columns</p>\n",
              "</div>\n",
              "      <button class=\"colab-df-convert\" onclick=\"convertToInteractive('df-0eeb8c84-490c-469c-8cdd-031c1f942d52')\"\n",
              "              title=\"Convert this dataframe to an interactive table.\"\n",
              "              style=\"display:none;\">\n",
              "        \n",
              "  <svg xmlns=\"http://www.w3.org/2000/svg\" height=\"24px\"viewBox=\"0 0 24 24\"\n",
              "       width=\"24px\">\n",
              "    <path d=\"M0 0h24v24H0V0z\" fill=\"none\"/>\n",
              "    <path d=\"M18.56 5.44l.94 2.06.94-2.06 2.06-.94-2.06-.94-.94-2.06-.94 2.06-2.06.94zm-11 1L8.5 8.5l.94-2.06 2.06-.94-2.06-.94L8.5 2.5l-.94 2.06-2.06.94zm10 10l.94 2.06.94-2.06 2.06-.94-2.06-.94-.94-2.06-.94 2.06-2.06.94z\"/><path d=\"M17.41 7.96l-1.37-1.37c-.4-.4-.92-.59-1.43-.59-.52 0-1.04.2-1.43.59L10.3 9.45l-7.72 7.72c-.78.78-.78 2.05 0 2.83L4 21.41c.39.39.9.59 1.41.59.51 0 1.02-.2 1.41-.59l7.78-7.78 2.81-2.81c.8-.78.8-2.07 0-2.86zM5.41 20L4 18.59l7.72-7.72 1.47 1.35L5.41 20z\"/>\n",
              "  </svg>\n",
              "      </button>\n",
              "      \n",
              "  <style>\n",
              "    .colab-df-container {\n",
              "      display:flex;\n",
              "      flex-wrap:wrap;\n",
              "      gap: 12px;\n",
              "    }\n",
              "\n",
              "    .colab-df-convert {\n",
              "      background-color: #E8F0FE;\n",
              "      border: none;\n",
              "      border-radius: 50%;\n",
              "      cursor: pointer;\n",
              "      display: none;\n",
              "      fill: #1967D2;\n",
              "      height: 32px;\n",
              "      padding: 0 0 0 0;\n",
              "      width: 32px;\n",
              "    }\n",
              "\n",
              "    .colab-df-convert:hover {\n",
              "      background-color: #E2EBFA;\n",
              "      box-shadow: 0px 1px 2px rgba(60, 64, 67, 0.3), 0px 1px 3px 1px rgba(60, 64, 67, 0.15);\n",
              "      fill: #174EA6;\n",
              "    }\n",
              "\n",
              "    [theme=dark] .colab-df-convert {\n",
              "      background-color: #3B4455;\n",
              "      fill: #D2E3FC;\n",
              "    }\n",
              "\n",
              "    [theme=dark] .colab-df-convert:hover {\n",
              "      background-color: #434B5C;\n",
              "      box-shadow: 0px 1px 3px 1px rgba(0, 0, 0, 0.15);\n",
              "      filter: drop-shadow(0px 1px 2px rgba(0, 0, 0, 0.3));\n",
              "      fill: #FFFFFF;\n",
              "    }\n",
              "  </style>\n",
              "\n",
              "      <script>\n",
              "        const buttonEl =\n",
              "          document.querySelector('#df-0eeb8c84-490c-469c-8cdd-031c1f942d52 button.colab-df-convert');\n",
              "        buttonEl.style.display =\n",
              "          google.colab.kernel.accessAllowed ? 'block' : 'none';\n",
              "\n",
              "        async function convertToInteractive(key) {\n",
              "          const element = document.querySelector('#df-0eeb8c84-490c-469c-8cdd-031c1f942d52');\n",
              "          const dataTable =\n",
              "            await google.colab.kernel.invokeFunction('convertToInteractive',\n",
              "                                                     [key], {});\n",
              "          if (!dataTable) return;\n",
              "\n",
              "          const docLinkHtml = 'Like what you see? Visit the ' +\n",
              "            '<a target=\"_blank\" href=https://colab.research.google.com/notebooks/data_table.ipynb>data table notebook</a>'\n",
              "            + ' to learn more about interactive tables.';\n",
              "          element.innerHTML = '';\n",
              "          dataTable['output_type'] = 'display_data';\n",
              "          await google.colab.output.renderOutput(dataTable, element);\n",
              "          const docLink = document.createElement('div');\n",
              "          docLink.innerHTML = docLinkHtml;\n",
              "          element.appendChild(docLink);\n",
              "        }\n",
              "      </script>\n",
              "    </div>\n",
              "  </div>\n",
              "  "
            ],
            "text/plain": [
              "     Probabilities  Labels\n",
              "0         0.000011       0\n",
              "1         0.999974       1\n",
              "2         0.999554       1\n",
              "3         0.000015       0\n",
              "4         0.000020       0\n",
              "..             ...     ...\n",
              "495       0.000013       0\n",
              "496       0.000009       0\n",
              "497       0.999911       1\n",
              "498       0.999985       1\n",
              "499       0.999821       1\n",
              "\n",
              "[500 rows x 2 columns]"
            ]
          },
          "execution_count": 241,
          "metadata": {},
          "output_type": "execute_result"
        }
      ],
      "source": [
        "result_sample_test"
      ]
    },
    {
      "cell_type": "markdown",
      "metadata": {
        "id": "Ti5yTl7AZ5iP"
      },
      "source": [
        "#### f. (1 point) Evaluate the fine-tuned model’s performance on these noisy examples using the metric specified in 1.2 (c)."
      ]
    },
    {
      "cell_type": "code",
      "execution_count": null,
      "metadata": {
        "id": "ojBDjlIGwaTW"
      },
      "outputs": [],
      "source": [
        "################## YOUR CODE HERE ##################\n",
        "\n",
        "####################################################"
      ]
    },
    {
      "cell_type": "code",
      "execution_count": null,
      "metadata": {
        "colab": {
          "base_uri": "https://localhost:8080/"
        },
        "id": "5YUC_YsoZe0c",
        "outputId": "51dab6a2-7af6-45c9-a531-f4517c2e2290"
      },
      "outputs": [
        {
          "name": "stdout",
          "output_type": "stream",
          "text": [
            "Model's performance on 1000 samples of Test Set :  \n",
            "Accuracy :  0.87\n",
            "Precision :  0.9448818897637795\n",
            "Recall :  0.8247422680412371\n",
            "F1 :  0.8807339449541285\n"
          ]
        }
      ],
      "source": [
        "get_model_performance(sample_labels, list(result_sample_test['Labels']))"
      ]
    },
    {
      "cell_type": "markdown",
      "metadata": {
        "id": "sY4pGgtSZ-bW"
      },
      "source": [
        "#### g. (1 point) Compare the performance of your model and the fine-tuned model on these noisy samples.\n"
      ]
    },
    {
      "cell_type": "markdown",
      "metadata": {
        "id": "JEgXnMOSZ7IC"
      },
      "source": [
        "The performance of the custom model in comparison to the fine-tuned model is as follows:\n",
        "\n",
        "Custom-Model:\n",
        "\n",
        "Accuracy :  0.79\n",
        "Precision :  0.8779527559055118\n",
        "Recall :  0.7508417508417509\n",
        "F1 :  0.809437386569873\n",
        "\n",
        "Fine-Tuned Model:\n",
        "\n",
        "Accuracy :  0.87\n",
        "Precision :  0.9448818897637795\n",
        "Recall :  0.8247422680412371\n",
        "F1 :  0.8807339449541285\n"
      ]
    },
    {
      "cell_type": "markdown",
      "metadata": {
        "id": "8pCEHok3ant4"
      },
      "source": [
        "### 2.5 Slice-based analysis [10 points]\n",
        "\n",
        "We’ve been evaluating both models on a coarse-grained metric. Let’s take a deeper look into how we can evaluate them on different slices.\n",
        "\n",
        "Play around with the test split of IMDB -- slice it into different subgroups. Some ideas for slicing your test split:\n",
        "\n",
        "- By **input lengths** (e.g. maybe your model will perform well on inputs of less than 10 characters but horribly for inputs of more than 1000 characters).\n",
        "- By **movie names** (can you figure out how to extract movie names from reviews?).\n",
        "- By **the number of punctuations** in each review.\n",
        "- etc. Play around with your data!\n",
        "\n",
        "Choose two slices of data on which your model’s performances are non-trivially different. Each slice should have at least 100 samples.\n",
        "\n",
        "\n",
        "\n"
      ]
    },
    {
      "cell_type": "markdown",
      "metadata": {
        "id": "8cXL7E6ItUBA"
      },
      "source": [
        "**Length of Review**"
      ]
    },
    {
      "cell_type": "code",
      "execution_count": null,
      "metadata": {
        "id": "QeNj67wbbZF0"
      },
      "outputs": [],
      "source": [
        "# Cell for you to play around with your data. (not graded)"
      ]
    },
    {
      "cell_type": "markdown",
      "metadata": {
        "id": "96gtz0GMtMnQ"
      },
      "source": [
        "Punctuations"
      ]
    },
    {
      "cell_type": "code",
      "execution_count": null,
      "metadata": {
        "colab": {
          "base_uri": "https://localhost:8080/",
          "height": 282
        },
        "id": "pvbTJeg2tERC",
        "outputId": "ffc73482-0040-4cbe-b9fc-5572a33aefe3"
      },
      "outputs": [
        {
          "data": {
            "text/plain": [
              "<matplotlib.axes._subplots.AxesSubplot at 0x7f508b5a9890>"
            ]
          },
          "execution_count": 273,
          "metadata": {},
          "output_type": "execute_result"
        },
        {
          "data": {
            "image/png": "[encoded data removed]",
            "text/plain": [
              "<Figure size 432x288 with 1 Axes>"
            ]
          },
          "metadata": {},
          "output_type": "display_data"
        }
      ],
      "source": [
        "count = lambda l1,l2: sum([1 for x in l1 if x in l2])\n",
        "test['punctuations'] = test['reviews'].apply(lambda x : count(x,set(string.punctuation))   )\n",
        "test['punctuations'].hist()"
      ]
    },
    {
      "cell_type": "code",
      "execution_count": null,
      "metadata": {
        "id": "l8SvsWAdtYvW"
      },
      "outputs": [],
      "source": [
        "split1_length_0_50 = test[test['punctuations'] <= 50]\n",
        "split2_length_50_max = test[test['punctuations'] > 50]"
      ]
    },
    {
      "cell_type": "code",
      "execution_count": null,
      "metadata": {
        "id": "gOOB8dUEtjQs"
      },
      "outputs": [],
      "source": [
        "# get_performance(split1_length_0_50)\n",
        "\n",
        "# predictions for reviews with length less than 2000\n",
        "# Max document length: 1480\n",
        "# Vocabulary size: 117362\n",
        "# Model's performance on 1000 samples of Test Set :  \n",
        "# Accuracy :  0.834141362592498\n",
        "# Precision :  0.8779599271402551\n",
        "# Recall :  0.8023781212841855\n",
        "# F1 :  0.8384691848906561"
      ]
    },
    {
      "cell_type": "code",
      "execution_count": null,
      "metadata": {
        "id": "FTsivFh7tl9D"
      },
      "outputs": [],
      "source": [
        "# get_performance(split2_length_50_max)\n",
        "\n",
        "# predictions for reviews with length less than 2000\n",
        "# Max document length: 1480\n",
        "# Vocabulary size: 117362\n",
        "# Model's performance on 1000 samples of Test Set :  \n",
        "# Accuracy :  0.7935435435435435\n",
        "# Precision :  0.8834648940589946\n",
        "# Recall :  0.7571657468399502\n",
        "# F1 :  0.8154539353849104"
      ]
    },
    {
      "cell_type": "code",
      "execution_count": null,
      "metadata": {
        "id": "lqorFAkgtyii"
      },
      "outputs": [],
      "source": [
        "#print( \"Percentage Difference in Accuracy : \", (0.834141362592498 - 0.7935435435435435)*100)\n",
        "#Percentage Difference in Accuracy :  4.059781904895454"
      ]
    },
    {
      "cell_type": "markdown",
      "metadata": {
        "id": "WEq8wS0Gz-lc"
      },
      "source": [
        "**Entities**"
      ]
    },
    {
      "cell_type": "markdown",
      "metadata": {
        "id": "pWFhVdGQbesS"
      },
      "source": [
        "#### a. (5 points) Describe your reason for choosing these two slices. Explain why the model might perform differently on them."
      ]
    },
    {
      "cell_type": "markdown",
      "metadata": {
        "id": "KI8pIAEDwifS"
      },
      "source": [
        "**Answer:**\n",
        "\n",
        "For this section, I evaluated the difference in the model's performance \n",
        "based on accuracy scores for the following splits:\n",
        "\n",
        "**1) Length of Review**\n",
        "> a) Split 1 with all reviews having length <= 2000\n",
        "\n",
        "> b) Split 2 with all reviews having length > 2000\n",
        "\n",
        "\n",
        "**2) Number of Punctuations**\n",
        "> a) Split 1 with all reviews having <= 50 punctuation marks\n",
        "\n",
        "> b) split 2 with all reviews having > 50 punctuation marks\n",
        "\n",
        "\n",
        "3) Number of Entities (using spacy Named Entity Recognition)\n",
        "> a) Split 1 with all reviews having total entities <= 15\n",
        "\n",
        "> b) Split 2 with all reviews having total entities > 15\n",
        "\n",
        "\n",
        "**Results**\n",
        "\n",
        "> From the above three categories we chose ***Length of Review*** and ***Number of Entities*** to evalute the performance of our model. That is because, within these slice categories, we could create two subsets of data on which the predictions generated, had on average 5% drop in performance (accuracy) when performance of one slice was compared with the other one.\n",
        "\n",
        "**Difference in Performance**\n",
        "\n",
        "> Length of Review : The custom model uses 3 parallel Convolutional layers which extact features from the dataset. These features are then passed through  maxpooling and other fully connected layers with dropout. On this note, in my opinion, as the length of review increases, the CNN model could suffer from the vanishing gradient problem and hence the overall model's performance could degrade with increase in length of the input sequences. The same can be observed from the two category of inputs(short vs long sequences) tested on the model where we notice a 5.77% drop in classification accuracy of the model when working on long sequences, which may be less for this toy dataset, but could result in significant performance issues for larger datasets.\n",
        "\n",
        "References : https://dl.acm.org/doi/10.1145/1882471.1882478\n",
        "\n",
        "\n",
        "> Number of Entities : After  looking at the 'length of review' feature distribution for the two slices of data based on 'number of entities' type, we can observe that the slice with more than 15 entities in general are the ones which had longer length reviews in them. This again results in the vanishing gradient problem which was impacting the previous slice type. The distribution is shown below in 2.5 b.\n",
        "\n",
        "\n",
        "\n",
        "\n",
        "\n"
      ]
    },
    {
      "cell_type": "markdown",
      "metadata": {
        "id": "acmwnDNHbr7F"
      },
      "source": [
        "#### b. (2 points) Write code to extract these two slices from your test split.\n"
      ]
    },
    {
      "cell_type": "code",
      "execution_count": null,
      "metadata": {
        "id": "AxRigg0pb5Oe"
      },
      "outputs": [],
      "source": [
        "################## YOUR CODE HERE ##################\n",
        "\n",
        "####################################################"
      ]
    },
    {
      "cell_type": "markdown",
      "metadata": {
        "id": "NvnCXLGMRInj"
      },
      "source": [
        "**Slice 1  : Length of Review**"
      ]
    },
    {
      "cell_type": "code",
      "execution_count": null,
      "metadata": {
        "colab": {
          "base_uri": "https://localhost:8080/",
          "height": 282
        },
        "id": "qyj4BtDrgha7",
        "outputId": "b210039f-c98e-40d4-e67a-c9308078197d"
      },
      "outputs": [
        {
          "data": {
            "text/plain": [
              "<matplotlib.axes._subplots.AxesSubplot at 0x7f5096490e50>"
            ]
          },
          "execution_count": 257,
          "metadata": {},
          "output_type": "execute_result"
        },
        {
          "data": {
            "image/png": "[encoded data removed]",
            "text/plain": [
              "<Figure size 432x288 with 1 Axes>"
            ]
          },
          "metadata": {},
          "output_type": "display_data"
        }
      ],
      "source": [
        "test['input_length'] = test['reviews'].apply(lambda x : len(x))\n",
        "test['input_length'].hist()"
      ]
    },
    {
      "cell_type": "code",
      "execution_count": null,
      "metadata": {
        "id": "aT0isYNlgnPa"
      },
      "outputs": [],
      "source": [
        "split1_length_0_2000 = test[test['input_length'] <= 2000]\n",
        "split2_length_2000_max = test[test['input_length'] > 2000]"
      ]
    },
    {
      "cell_type": "markdown",
      "metadata": {
        "id": "-PIN4jFpROtu"
      },
      "source": [
        "**Slice 2 : Number of Entities**"
      ]
    },
    {
      "cell_type": "code",
      "execution_count": null,
      "metadata": {
        "id": "Vqb-oFnM2jWz"
      },
      "outputs": [],
      "source": [
        "import spacy\n",
        "!python -m spacy download en_core_web_sm\n",
        "nlp = spacy.load(\"en_core_web_sm\")"
      ]
    },
    {
      "cell_type": "code",
      "execution_count": null,
      "metadata": {
        "id": "3bcnVP1N3xWm"
      },
      "outputs": [],
      "source": [
        "def get_entities(text):\n",
        "  doc = nlp(text)\n",
        "  count = 0\n",
        "  for ent in doc.ents:\n",
        "      count = count + 1\n",
        "  return count"
      ]
    },
    {
      "cell_type": "code",
      "execution_count": null,
      "metadata": {
        "id": "5TnZmQHI3qDw"
      },
      "outputs": [],
      "source": [
        "test['entities'] = test['reviews'].apply(lambda x : get_entities(x))"
      ]
    },
    {
      "cell_type": "code",
      "execution_count": null,
      "metadata": {
        "colab": {
          "base_uri": "https://localhost:8080/",
          "height": 282
        },
        "id": "ltTMc2QZ7nSr",
        "outputId": "b408a75f-f760-491a-b732-0de8bf7f689e"
      },
      "outputs": [
        {
          "data": {
            "text/plain": [
              "<matplotlib.axes._subplots.AxesSubplot at 0x7f4ec5460050>"
            ]
          },
          "execution_count": 309,
          "metadata": {},
          "output_type": "execute_result"
        },
        {
          "data": {
            "image/png": "[encoded data removed]",
            "text/plain": [
              "<Figure size 432x288 with 1 Axes>"
            ]
          },
          "metadata": {},
          "output_type": "display_data"
        }
      ],
      "source": [
        "test['entities'].hist()"
      ]
    },
    {
      "cell_type": "code",
      "execution_count": null,
      "metadata": {
        "id": "6lhUQveN7bPU"
      },
      "outputs": [],
      "source": [
        "split1_length_0_15 = test[test['entities'] <= 15]\n",
        "split2_length_15_max = test[test['entities'] > 15]"
      ]
    },
    {
      "cell_type": "code",
      "execution_count": null,
      "metadata": {
        "colab": {
          "base_uri": "https://localhost:8080/",
          "height": 282
        },
        "id": "yVWIFqTaMWrK",
        "outputId": "9ea38fd4-41ba-483b-8588-c4ce6a63f69e"
      },
      "outputs": [
        {
          "data": {
            "text/plain": [
              "<matplotlib.axes._subplots.AxesSubplot at 0x7f4ec545f310>"
            ]
          },
          "execution_count": 321,
          "metadata": {},
          "output_type": "execute_result"
        },
        {
          "data": {
            "image/png": "[encoded data removed]",
            "text/plain": [
              "<Figure size 432x288 with 1 Axes>"
            ]
          },
          "metadata": {},
          "output_type": "display_data"
        }
      ],
      "source": [
        "split1_length_0_15['input_length'].hist()"
      ]
    },
    {
      "cell_type": "code",
      "execution_count": null,
      "metadata": {
        "colab": {
          "base_uri": "https://localhost:8080/",
          "height": 282
        },
        "id": "_EXdL9xzMNZW",
        "outputId": "8614f04c-275a-41d3-f24c-30420323e368"
      },
      "outputs": [
        {
          "data": {
            "text/plain": [
              "<matplotlib.axes._subplots.AxesSubplot at 0x7f4ec531a310>"
            ]
          },
          "execution_count": 320,
          "metadata": {},
          "output_type": "execute_result"
        },
        {
          "data": {
            "image/png": "[encoded data removed]",
            "text/plain": [
              "<Figure size 432x288 with 1 Axes>"
            ]
          },
          "metadata": {},
          "output_type": "display_data"
        }
      ],
      "source": [
        "split2_length_15_max['input_length'].hist()"
      ]
    },
    {
      "cell_type": "markdown",
      "metadata": {
        "id": "fd9zedcebtua"
      },
      "source": [
        "#### c. (1 point) Write code to report each slice’s statistics. Report the statistics. \n",
        "1. Slice size\n",
        "2. Label distribution"
      ]
    },
    {
      "cell_type": "code",
      "execution_count": null,
      "metadata": {
        "id": "sOKkjjxwb2U4"
      },
      "outputs": [],
      "source": [
        "################## YOUR CODE HERE ##################\n",
        "\n",
        "####################################################"
      ]
    },
    {
      "cell_type": "markdown",
      "metadata": {
        "id": "lNGM-YMqRi5W"
      },
      "source": [
        "**Slice 1 - Length of Review**"
      ]
    },
    {
      "cell_type": "markdown",
      "metadata": {
        "id": "Wjp9UJDSR1EP"
      },
      "source": [
        "**Size of Slices**"
      ]
    },
    {
      "cell_type": "code",
      "execution_count": null,
      "metadata": {
        "colab": {
          "base_uri": "https://localhost:8080/"
        },
        "id": "eU3DdkYBQGzN",
        "outputId": "92603a04-1444-41f4-fa7a-8701e3b35db0"
      },
      "outputs": [
        {
          "name": "stdout",
          "output_type": "stream",
          "text": [
            "The size of the slices are as follows : \n",
            "\n",
            "Total rows in split1_length_0_2000  20909\n",
            "Total rows in split2_length_2000_max  4091\n",
            "The percentage of split1_length_0_2000 as a percentage of all test data :  83.636\n",
            "The percentage of split2_length_2000_max as a percentage of all test data :  16.364\n"
          ]
        }
      ],
      "source": [
        "print(\"The size of the slices are as follows : \\n\")\n",
        "print( \"Total rows in split1_length_0_2000 \",split1_length_0_2000.shape[0])\n",
        "print( \"Total rows in split2_length_2000_max \",split2_length_2000_max.shape[0])\n",
        "\n",
        "print(\"The percentage of split1_length_0_2000 as a percentage of all test data : \", (split1_length_0_2000.shape[0]/test.shape[0])*100)\n",
        "print(\"The percentage of split2_length_2000_max as a percentage of all test data : \", (split2_length_2000_max.shape[0]/test.shape[0])*100)"
      ]
    },
    {
      "cell_type": "markdown",
      "metadata": {
        "id": "4yjN6IWDR6DE"
      },
      "source": [
        "**Label Distribution**"
      ]
    },
    {
      "cell_type": "code",
      "execution_count": null,
      "metadata": {
        "colab": {
          "base_uri": "https://localhost:8080/"
        },
        "id": "wEROG-xfQqtP",
        "outputId": "c1935e9a-07e7-4cf2-e5e2-3023eff8a8dd"
      },
      "outputs": [
        {
          "name": "stdout",
          "output_type": "stream",
          "text": [
            "Label Distribution : \n",
            "\n",
            "Label Distribution of split1_length_0_2000:\n",
            " 0    10507\n",
            "1    10402\n",
            "Name: labels, dtype: int64\n",
            "Label Distribution of split2_length_2000_max:\n",
            " 1    2098\n",
            "0    1993\n",
            "Name: labels, dtype: int64\n"
          ]
        }
      ],
      "source": [
        "print(\"Label Distribution : \\n\")\n",
        "\n",
        "print(\"Label Distribution of split1_length_0_2000:\\n\", split1_length_0_2000['labels'].value_counts())\n",
        "print(\"Label Distribution of split2_length_2000_max:\\n\", split2_length_2000_max['labels'].value_counts())"
      ]
    },
    {
      "cell_type": "markdown",
      "metadata": {
        "id": "9O8Rg8yrRsWw"
      },
      "source": [
        "**Slice 2 - Number of Entities**"
      ]
    },
    {
      "cell_type": "markdown",
      "metadata": {
        "id": "SO0sxpusSByt"
      },
      "source": [
        "**Size of Slices**"
      ]
    },
    {
      "cell_type": "code",
      "execution_count": null,
      "metadata": {
        "colab": {
          "base_uri": "https://localhost:8080/"
        },
        "id": "MIZTSYbnSISJ",
        "outputId": "0f050778-7563-43b0-8bdb-dc5ea6fb5e4a"
      },
      "outputs": [
        {
          "name": "stdout",
          "output_type": "stream",
          "text": [
            "The size of the slices are as follows : \n",
            "\n",
            "Total rows in split1_length_0_15  19470\n",
            "Total rows in split2_length_15_max  5530\n",
            "The percentage of split1_length_0_15 as a percentage of all test data :  77.88000000000001\n",
            "The percentage of split2_length_15_max as a percentage of all test data :  22.12\n"
          ]
        }
      ],
      "source": [
        "\n",
        "print(\"The size of the slices are as follows : \\n\")\n",
        "print( \"Total rows in split1_length_0_15 \",split1_length_0_15.shape[0])\n",
        "print( \"Total rows in split2_length_15_max \",split2_length_15_max.shape[0])\n",
        "\n",
        "print(\"The percentage of split1_length_0_15 as a percentage of all test data : \", (split1_length_0_15.shape[0]/test.shape[0])*100)\n",
        "print(\"The percentage of split2_length_15_max as a percentage of all test data : \", (split2_length_15_max.shape[0]/test.shape[0])*100)"
      ]
    },
    {
      "cell_type": "markdown",
      "metadata": {
        "id": "1386PROhSZwG"
      },
      "source": [
        "**Label Distribution**"
      ]
    },
    {
      "cell_type": "code",
      "execution_count": null,
      "metadata": {
        "colab": {
          "base_uri": "https://localhost:8080/"
        },
        "id": "wmWGWgLpSfhr",
        "outputId": "cfc386e5-ff3a-4be0-ffca-270e403afcf2"
      },
      "outputs": [
        {
          "name": "stdout",
          "output_type": "stream",
          "text": [
            "Label Distribution : \n",
            "\n",
            "Label Distribution of split1_length_0_15:\n",
            " 0    10162\n",
            "1     9308\n",
            "Name: labels, dtype: int64\n",
            "Label Distribution of split2_length_15_max:\n",
            " 1    3192\n",
            "0    2338\n",
            "Name: labels, dtype: int64\n"
          ]
        }
      ],
      "source": [
        "print(\"Label Distribution : \\n\")\n",
        "\n",
        "print(\"Label Distribution of split1_length_0_15:\\n\", split1_length_0_15['labels'].value_counts())\n",
        "print(\"Label Distribution of split2_length_15_max:\\n\", split2_length_15_max['labels'].value_counts())"
      ]
    },
    {
      "cell_type": "markdown",
      "metadata": {
        "id": "_2M6sOvGbk36"
      },
      "source": [
        "#### d. (1 point) Write code to evaluate **your model** performance on these two slices, including the metric specified in 1.2 (c) and the confusion matrix.\n",
        "- [sklearn.metrics.confusion_matrix](https://scikit-learn.org/stable/modules/generated/sklearn.metrics.confusion_matrix.html) may be useful here\n"
      ]
    },
    {
      "cell_type": "markdown",
      "metadata": {
        "id": "7J8NwtJbS4HR"
      },
      "source": [
        "**Performance Evaluation : Length of Review Slices**"
      ]
    },
    {
      "cell_type": "code",
      "execution_count": null,
      "metadata": {
        "id": "MswDOoLpmEwu"
      },
      "outputs": [],
      "source": [
        "def get_performance(data):\n",
        "  print(\"predictions for reviews with length less than 2000\")\n",
        "  sample_encoding, labels = transform_sample_data(data)\n",
        "  predictions_sample = model.predict([sample_encoding,sample_encoding,sample_encoding], batch_size = 16)\n",
        "  predictions_sample = list(predictions_sample)\n",
        "  predictions_sample = pd.DataFrame(predictions_sample, columns = ['Probabilities'])\n",
        "  selected_threshold = 0.733\n",
        "  predictions_sample['Labels'] = predictions_sample['Probabilities'].apply(lambda x :  1 if x >= selected_threshold else  0)\n",
        "  get_model_performance(labels, list(predictions_sample['Labels']))"
      ]
    },
    {
      "cell_type": "code",
      "execution_count": null,
      "metadata": {
        "colab": {
          "base_uri": "https://localhost:8080/"
        },
        "id": "Ux6_huv_hBQU",
        "outputId": "beb75889-e265-4056-c8ea-13cfa9d5d9da"
      },
      "outputs": [
        {
          "name": "stdout",
          "output_type": "stream",
          "text": [
            "predictions for reviews with length less than 2000\n",
            "Max document length: 1480\n",
            "Vocabulary size: 117362\n",
            "Model's performance on 1000 samples of Test Set :  \n",
            "Accuracy :  0.8284470802046966\n",
            "Precision :  0.8773198819834396\n",
            "Recall :  0.8004515456755817\n",
            "F1 :  0.8371248240475865\n"
          ]
        }
      ],
      "source": [
        "get_performance(split1_length_0_2000)"
      ]
    },
    {
      "cell_type": "code",
      "execution_count": null,
      "metadata": {
        "colab": {
          "base_uri": "https://localhost:8080/"
        },
        "id": "S-smsnHvmCqN",
        "outputId": "8344150c-8e3b-4794-e542-1f4ddbf2735f"
      },
      "outputs": [
        {
          "name": "stdout",
          "output_type": "stream",
          "text": [
            "predictions for reviews with length less than 2000\n",
            "Max document length: 1480\n",
            "Vocabulary size: 117362\n",
            "Model's performance on 1000 samples of Test Set :  \n",
            "Accuracy :  0.7707162063065265\n",
            "Precision :  0.8946312092323131\n",
            "Recall :  0.7100756670649144\n",
            "F1 :  0.7917406749555952\n"
          ]
        }
      ],
      "source": [
        "get_performance(split2_length_2000_max)"
      ]
    },
    {
      "cell_type": "code",
      "execution_count": null,
      "metadata": {
        "colab": {
          "base_uri": "https://localhost:8080/"
        },
        "id": "2B0rqQ0SuYh_",
        "outputId": "b3aaa1fe-1981-4c32-928a-a6382dbb33e0"
      },
      "outputs": [
        {
          "name": "stdout",
          "output_type": "stream",
          "text": [
            "Percentage Difference in Accuracy :  5.773087389817011\n"
          ]
        }
      ],
      "source": [
        "print( \"Percentage Difference in Accuracy : \", (0.8284470802046966 - 0.7707162063065265) * 100)"
      ]
    },
    {
      "cell_type": "markdown",
      "metadata": {
        "id": "09KJubp3S__D"
      },
      "source": [
        "**Performance Evaluation : Number of Entities**"
      ]
    },
    {
      "cell_type": "code",
      "execution_count": null,
      "metadata": {
        "colab": {
          "base_uri": "https://localhost:8080/"
        },
        "id": "eXWFSuQ57zXE",
        "outputId": "80873c74-696c-46fe-9183-b7ae318cf737"
      },
      "outputs": [
        {
          "name": "stdout",
          "output_type": "stream",
          "text": [
            "predictions for reviews with length less than 2000\n",
            "Max document length: 1480\n",
            "Vocabulary size: 117362\n",
            "Model's performance on 1000 samples of Test Set :  \n",
            "Accuracy :  0.8330251669234721\n",
            "Precision :  0.8873253296595158\n",
            "Recall :  0.8106625910276005\n",
            "F1 :  0.8472633309842613\n"
          ]
        }
      ],
      "source": [
        "get_performance(split1_length_0_15)"
      ]
    },
    {
      "cell_type": "code",
      "execution_count": null,
      "metadata": {
        "colab": {
          "base_uri": "https://localhost:8080/"
        },
        "id": "PumQucyn731k",
        "outputId": "5609f00f-c76d-41a9-d384-bc110ea53937"
      },
      "outputs": [
        {
          "name": "stdout",
          "output_type": "stream",
          "text": [
            "predictions for reviews with length less than 2000\n",
            "Max document length: 1480\n",
            "Vocabulary size: 117362\n",
            "Model's performance on 1000 samples of Test Set :  \n",
            "Accuracy :  0.769620253164557\n",
            "Precision :  0.8485885372112917\n",
            "Recall :  0.6831955922865014\n",
            "F1 :  0.7569629912247234\n"
          ]
        }
      ],
      "source": [
        "get_performance(split2_length_15_max)"
      ]
    },
    {
      "cell_type": "code",
      "execution_count": null,
      "metadata": {
        "colab": {
          "base_uri": "https://localhost:8080/"
        },
        "id": "dhMyZfPL78Rb",
        "outputId": "27a1351a-fc2d-4899-8f6a-03e7b4c8bd19"
      },
      "outputs": [
        {
          "name": "stdout",
          "output_type": "stream",
          "text": [
            "Percentage Difference in Accuracy :  6.34049137589151\n"
          ]
        }
      ],
      "source": [
        "print( \"Percentage Difference in Accuracy : \", (0.8330251669234721 - 0.769620253164557)*100)"
      ]
    },
    {
      "cell_type": "markdown",
      "metadata": {
        "id": "WT22WTCBcENu"
      },
      "source": [
        "#### e. (1 point) Write code to evaluate the **fine-tuned model** performance on these two slices, including the metric specified in 1.2 (c) and the confusion matrix."
      ]
    },
    {
      "cell_type": "code",
      "execution_count": null,
      "metadata": {
        "id": "R91RMWmCcHcB"
      },
      "outputs": [],
      "source": [
        "################## YOUR CODE HERE ##################\n",
        "\n",
        "####################################################"
      ]
    },
    {
      "cell_type": "markdown",
      "metadata": {
        "id": "fUa_HWXTTtmG"
      },
      "source": [
        "**Model Performance - Length of Review**"
      ]
    },
    {
      "cell_type": "code",
      "execution_count": null,
      "metadata": {
        "id": "UZAakkXpTyiR"
      },
      "outputs": [],
      "source": [
        "def get_performance_on_slice(data):\n",
        "  sample_testData_encodings = tokenizer(data['reviews'].to_list(), truncation=True, padding = \"max_length\")\n",
        "  sample_testDataset = my_Dataset(sample_testData_encodings, data['labels'].to_list())\n",
        "  predictions_sample=trainer.predict(sample_testDataset)\n",
        "  y_pred = list(predictions_sample.label_ids)\n",
        "  predictions_tensor = torch.from_numpy(predictions_sample.predictions)\n",
        "  #predictions_tensor = torch.from_numpy(predictions_sample.predictions)\n",
        "  predictions = torch.nn.functional.softmax(predictions_tensor, dim=-1)\n",
        "  predictions = predictions.cpu().detach().numpy()\n",
        "  resulting_probabilities = pd.DataFrame(predictions)\n",
        "  class1_probabilities = list(predictions[:,1])\n",
        "  class1_labels = [1 if item > 0.5 else 0 for item in class1_probabilities]\n",
        "  result_sample_test = pd.DataFrame(list(zip(class1_probabilities,class1_labels)), columns = ['Probabilities','Labels'])\n",
        "  get_model_performance(data['labels'], list(result_sample_test['Labels']))\n",
        "  return "
      ]
    },
    {
      "cell_type": "code",
      "execution_count": null,
      "metadata": {
        "colab": {
          "base_uri": "https://localhost:8080/",
          "height": 176
        },
        "id": "6jQo2SVCUL3x",
        "outputId": "83c62751-9048-46e4-9cbd-b91f9090b074"
      },
      "outputs": [
        {
          "name": "stderr",
          "output_type": "stream",
          "text": [
            "***** Running Prediction *****\n",
            "  Num examples = 20909\n",
            "  Batch size = 4\n"
          ]
        },
        {
          "data": {
            "text/html": [
              "\n",
              "    <div>\n",
              "      \n",
              "      <progress value='18584' max='1250' style='width:300px; height:20px; vertical-align: middle;'></progress>\n",
              "      [1250/1250 7:04:28]\n",
              "    </div>\n",
              "    "
            ],
            "text/plain": [
              "<IPython.core.display.HTML object>"
            ]
          },
          "metadata": {},
          "output_type": "display_data"
        },
        {
          "name": "stdout",
          "output_type": "stream",
          "text": [
            "Model's performance on 1000 samples of Test Set :  \n",
            "Accuracy :  0.9288822994882586\n",
            "Precision :  0.9365185114685448\n",
            "Recall :  0.9230769230769231\n",
            "F1 :  0.9297491378088534\n"
          ]
        }
      ],
      "source": [
        "get_performance_on_slice(split1_length_0_2000)"
      ]
    },
    {
      "cell_type": "code",
      "execution_count": null,
      "metadata": {
        "colab": {
          "base_uri": "https://localhost:8080/",
          "height": 176
        },
        "id": "WTIJUmHlWw-S",
        "outputId": "bd9a4e9e-69e8-490f-cd39-921d6ecb9ca6"
      },
      "outputs": [
        {
          "name": "stderr",
          "output_type": "stream",
          "text": [
            "***** Running Prediction *****\n",
            "  Num examples = 4091\n",
            "  Batch size = 4\n"
          ]
        },
        {
          "data": {
            "text/html": [
              "\n",
              "    <div>\n",
              "      \n",
              "      <progress value='19607' max='1250' style='width:300px; height:20px; vertical-align: middle;'></progress>\n",
              "      [1250/1250 7:06:46]\n",
              "    </div>\n",
              "    "
            ],
            "text/plain": [
              "<IPython.core.display.HTML object>"
            ]
          },
          "metadata": {},
          "output_type": "display_data"
        },
        {
          "name": "stdout",
          "output_type": "stream",
          "text": [
            "Model's performance on 1000 samples of Test Set :  \n",
            "Accuracy :  0.8880469322903936\n",
            "Precision :  0.9006522829904666\n",
            "Recall :  0.8734793187347932\n",
            "F1 :  0.8868577075098815\n"
          ]
        }
      ],
      "source": [
        "get_performance_on_slice(split2_length_2000_max)"
      ]
    },
    {
      "cell_type": "markdown",
      "metadata": {
        "id": "rmisJyejW09s"
      },
      "source": [
        "***Performance Evaluation : **Number** of Entities***"
      ]
    },
    {
      "cell_type": "code",
      "execution_count": null,
      "metadata": {
        "colab": {
          "base_uri": "https://localhost:8080/",
          "height": 176
        },
        "id": "ol7js0lmW_JC",
        "outputId": "66a9c1f9-00a8-4792-a179-5a165390a24f"
      },
      "outputs": [
        {
          "name": "stderr",
          "output_type": "stream",
          "text": [
            "***** Running Prediction *****\n",
            "  Num examples = 19470\n",
            "  Batch size = 4\n"
          ]
        },
        {
          "data": {
            "text/html": [
              "\n",
              "    <div>\n",
              "      \n",
              "      <progress value='24475' max='1250' style='width:300px; height:20px; vertical-align: middle;'></progress>\n",
              "      [1250/1250 7:10:14]\n",
              "    </div>\n",
              "    "
            ],
            "text/plain": [
              "<IPython.core.display.HTML object>"
            ]
          },
          "metadata": {},
          "output_type": "display_data"
        },
        {
          "name": "stdout",
          "output_type": "stream",
          "text": [
            "Model's performance on 1000 samples of Test Set :  \n",
            "Accuracy :  0.9312275295326142\n",
            "Precision :  0.942432592009447\n",
            "Recall :  0.9270157777562675\n",
            "F1 :  0.934660615820036\n"
          ]
        }
      ],
      "source": [
        "get_performance_on_slice(split1_length_0_15)"
      ]
    },
    {
      "cell_type": "code",
      "execution_count": null,
      "metadata": {
        "colab": {
          "base_uri": "https://localhost:8080/",
          "height": 176
        },
        "id": "Y_yOcCY1XFd3",
        "outputId": "79df141c-b754-40a6-ff2f-59b6a4a0f6fe"
      },
      "outputs": [
        {
          "name": "stderr",
          "output_type": "stream",
          "text": [
            "***** Running Prediction *****\n",
            "  Num examples = 5530\n",
            "  Batch size = 4\n"
          ]
        },
        {
          "data": {
            "text/html": [
              "\n",
              "    <div>\n",
              "      \n",
              "      <progress value='25858' max='1250' style='width:300px; height:20px; vertical-align: middle;'></progress>\n",
              "      [1250/1250 7:11:15]\n",
              "    </div>\n",
              "    "
            ],
            "text/plain": [
              "<IPython.core.display.HTML object>"
            ]
          },
          "metadata": {},
          "output_type": "display_data"
        },
        {
          "name": "stdout",
          "output_type": "stream",
          "text": [
            "Model's performance on 1000 samples of Test Set :  \n",
            "Accuracy :  0.8904159132007233\n",
            "Precision :  0.8802395209580839\n",
            "Recall :  0.863255033557047\n",
            "F1 :  0.8716645489199494\n"
          ]
        }
      ],
      "source": [
        "get_performance_on_slice(split2_length_15_max)"
      ]
    },
    {
      "cell_type": "markdown",
      "metadata": {
        "id": "2lpQD5EicG7c"
      },
      "source": [
        "## Problem 3. In-Distribution v.s. Out-of-Distribution\n",
        "\n",
        "In problem 2, when we evaluate the fine-tuned model on the test split that comes from the same distribution the model was fine-tuned on. In this problem, we’ll evaluate the fine-tuned model’s performance on an out-of-distribution test set.\n"
      ]
    },
    {
      "cell_type": "markdown",
      "metadata": {
        "id": "cjR-QhBZdS6P"
      },
      "source": [
        "### 3.1 Evaluate the fine-tuned model on an out-of-distribution task [4 points]\n"
      ]
    },
    {
      "cell_type": "markdown",
      "metadata": {
        "id": "P0thRp1bdWSS"
      },
      "source": [
        "#### a. (1 point) If the dataset has a test split, randomly sample 500 examples from the test split. If it doesn’t have a test split, randomly sample 500 samples from the entire dataset.\n"
      ]
    },
    {
      "cell_type": "code",
      "execution_count": null,
      "metadata": {
        "colab": {
          "base_uri": "https://localhost:8080/"
        },
        "id": "3V1dRlPtw_ZN",
        "outputId": "5e50a62e-8762-445d-d2be-afb127e99003"
      },
      "outputs": [
        {
          "name": "stdout",
          "output_type": "stream",
          "text": [
            "acronym_identification, ade_corpus_v2, adversarial_qa, aeslc, afrikaans_ner_corpus, ag_news, ai2_arc, air_dialogue, ajgt_twitter_ar, allegro_reviews, allocine, alt, amazon_polarity, amazon_reviews_multi, amazon_us_reviews, ambig_qa, americas_nli, ami, amttl, anli, app_reviews, aqua_rat, aquamuse, ar_cov19, ar_res_reviews, ar_sarcasm, arabic_billion_words, arabic_pos_dialect, arabic_speech_corpus, arcd, arsentd_lev, art, arxiv_dataset, ascent_kb, aslg_pc12, asnq, asset, assin, assin2, atomic, autshumato, babi_qa, banking77, bbaw_egyptian, bbc_hindi_nli, bc2gm_corpus, beans, best2009, bianet, bible_para, big_patent, billsum, bing_coronavirus_query_set, biomrc, biosses, blbooks, blbooksgenre, blended_skill_talk, blimp, blog_authorship_corpus, bn_hate_speech, bnl_newspapers, bookcorpus, bookcorpusopen, boolq, bprec, break_data, brwac, bsd_ja_en, bswac, c3, c4, cail2018, caner, capes, casino, catalonia_independence, cats_vs_dogs, cawac, cbt, cc100, cc_news, ccaligned_multilingual, cdsc, cdt, cedr, cfq, chr_en, cifar10, cifar100, circa, civil_comments, clickbait_news_bg, climate_fever, clinc_oos, clue, cmrc2018, cmu_hinglish_dog, cnn_dailymail, coached_conv_pref, coarse_discourse, codah, code_search_net, code_x_glue_cc_clone_detection_big_clone_bench, code_x_glue_cc_clone_detection_poj104, code_x_glue_cc_cloze_testing_all, code_x_glue_cc_cloze_testing_maxmin, code_x_glue_cc_code_completion_line, code_x_glue_cc_code_completion_token, code_x_glue_cc_code_refinement, code_x_glue_cc_code_to_code_trans, code_x_glue_cc_defect_detection, code_x_glue_ct_code_to_text, code_x_glue_tc_nl_code_search_adv, code_x_glue_tc_text_to_code, code_x_glue_tt_text_to_text, com_qa, common_gen, common_language, common_voice, commonsense_qa, competition_math, compguesswhat, conceptnet5, conll2000, conll2002, conll2003, conllpp, consumer-finance-complaints, conv_ai, conv_ai_2, conv_ai_3, conv_questions, coqa, cord19, cornell_movie_dialog, cos_e, cosmos_qa, counter, covid_qa_castorini, covid_qa_deepset, covid_qa_ucsd, covid_tweets_japanese, covost2, cppe-5, craigslist_bargains, crawl_domain, crd3, crime_and_punish, crows_pairs, cryptonite, cs_restaurants, cuad, curiosity_dialogs, daily_dialog, dane, danish_political_comments, dart, datacommons_factcheck, dbpedia_14, dbrd, deal_or_no_dialog, definite_pronoun_resolution, dengue_filipino, dialog_re, diplomacy_detection, disaster_response_messages, discofuse, discovery, disfl_qa, doc2dial, docred, doqa, dream, drop, duorc, dutch_social, dyk, e2e_nlg, e2e_nlg_cleaned, ecb, ecthr_cases, eduge, ehealth_kd, eitb_parcc, eli5, eli5_category, emea, emo, emotion, emotone_ar, empathetic_dialogues, enriched_web_nlg, eraser_multi_rc, esnli, eth_py150_open, ethos, eu_regulatory_ir, eurlex, euronews, europa_eac_tm, europa_ecdc_tm, europarl_bilingual, event2Mind, evidence_infer_treatment, exams, factckbr, fake_news_english, fake_news_filipino, farsi_news, fashion_mnist, fever, few_rel, financial_phrasebank, finer, flores, flue, food101, fquad, freebase_qa, gap, gem, generated_reviews_enth, generics_kb, german_legal_entity_recognition, germaner, germeval_14, giga_fren, gigaword, glucose, glue, gnad10, go_emotions, gooaq, google_wellformed_query, grail_qa, great_code, greek_legal_code, guardian_authorship, gutenberg_time, hans, hansards, hard, harem, has_part, hate_offensive, hate_speech18, hate_speech_filipino, hate_speech_offensive, hate_speech_pl, hate_speech_portuguese, hatexplain, hausa_voa_ner, hausa_voa_topics, hda_nli_hindi, head_qa, health_fact, hebrew_projectbenyehuda, hebrew_sentiment, hebrew_this_world, hellaswag, hendrycks_test, hind_encorp, hindi_discourse, hippocorpus, hkcancor, hlgd, hope_edi, hotpot_qa, hover, hrenwac_para, hrwac, humicroedit, hybrid_qa, hyperpartisan_news_detection, iapp_wiki_qa_squad, id_clickbait, id_liputan6, id_nergrit_corpus, id_newspapers_2018, id_panl_bppt, id_puisi, igbo_english_machine_translation, igbo_monolingual, igbo_ner, ilist, imdb, imdb_urdu_reviews, imppres, indic_glue, indonli, indonlu, inquisitive_qg, interpress_news_category_tr, interpress_news_category_tr_lite, irc_disentangle, isixhosa_ner_corpus, isizulu_ner_corpus, iwslt2017, jeopardy, jfleg, jigsaw_toxicity_pred, jigsaw_unintended_bias, jnlpba, journalists_questions, kan_hope, kannada_news, kd_conv, kde4, kelm, kilt_tasks, kilt_wikipedia, kinnews_kirnews, klue, kor_3i4k, kor_hate, kor_ner, kor_nli, kor_nlu, kor_qpair, kor_sae, kor_sarcasm, labr, lama, lambada, large_spanish_corpus, laroseda, lc_quad, lener_br, lex_glue, liar, librispeech_asr, librispeech_lm, limit, lince, linnaeus, liveqa, lj_speech, lm1b, lst20, m_lama, mac_morpho, makhzan, masakhaner, math_dataset, math_qa, matinf, mbpp, mc4, mc_taco, md_gender_bias, mdd, med_hop, medal, medical_dialog, medical_questions_pairs, menyo20k_mt, meta_woz, metooma, metrec, miam, mkb, mkqa, mlqa, mlsum, mnist, mocha, moroco, movie_rationales, mrqa, ms_marco, ms_terms, msr_genomics_kbcomp, msr_sqa, msr_text_compression, msr_zhen_translation_parity, msra_ner, mt_eng_vietnamese, muchocine, multi_booked, multi_eurlex, multi_news, multi_nli, multi_nli_mismatch, multi_para_crawl, multi_re_qa, multi_woz_v22, multi_x_science_sum, multidoc2dial, multilingual_librispeech, mutual_friends, mwsc, myanmar_news, narrativeqa, narrativeqa_manual, natural_questions, ncbi_disease, nchlt, ncslgr, nell, neural_code_search, news_commentary, newsgroup, newsph, newsph_nli, newspop, newsqa, newsroom, nkjp-ner, nli_tr, nlu_evaluation_data, norec, norne, norwegian_ner, nq_open, nsmc, numer_sense, numeric_fused_head, oclar, offcombr, offenseval2020_tr, offenseval_dravidian, ofis_publik, ohsumed, ollie, omp, onestop_english, onestop_qa, open_subtitles, openai_humaneval, openbookqa, openslr, openwebtext, opinosis, opus100, opus_books, opus_dgt, opus_dogc, opus_elhuyar, opus_euconst, opus_finlex, opus_fiskmo, opus_gnome, opus_infopankki, opus_memat, opus_montenegrinsubs, opus_openoffice, opus_paracrawl, opus_rf, opus_tedtalks, opus_ubuntu, opus_wikipedia, opus_xhosanavy, orange_sum, oscar, para_crawl, para_pat, parsinlu_reading_comprehension, pass, paws-x, paws, pec, peer_read, peoples_daily_ner, per_sent, persian_ner, pg19, php, piaf, pib, piqa, pn_summary, poem_sentiment, polemo2, poleval2019_cyberbullying, poleval2019_mt, polsum, polyglot_ner, prachathai67k, pragmeval, proto_qa, psc, ptb_text_only, pubmed, pubmed_qa, py_ast, qa4mre, qa_srl, qa_zre, qangaroo, qanta, qasc, qasper, qed, qed_amara, quac, quail, quarel, quartz, quora, quoref, race, re_dial, reasoning_bg, recipe_nlg, reclor, red_caps, reddit, reddit_tifu, refresd, reuters21578, riddle_sense, ro_sent, ro_sts, ro_sts_parallel, roman_urdu, ronec, ropes, rotten_tomatoes, russian_super_glue, s2orc, samsum, sanskrit_classic, saudinewsnet, sberquad, scan, scb_mt_enth_2020, schema_guided_dstc8, scicite, scielo, scientific_papers, scifact, sciq, scitail, scitldr, search_qa, sede, selqa, sem_eval_2010_task_8, sem_eval_2014_task_1, sem_eval_2018_task_1, sem_eval_2020_task_11, sent_comp, senti_lex, senti_ws, sentiment140, sepedi_ner, sesotho_ner_corpus, setimes, setswana_ner_corpus, sharc, sharc_modified, sick, silicone, simple_questions_v2, siswati_ner_corpus, smartdata, sms_spam, snips_built_in_intents, snli, snow_simplified_japanese_corpus, so_stacksample, social_bias_frames, social_i_qa, sofc_materials_articles, sogou_news, spanish_billion_words, spc, species_800, speech_commands, spider, squad, squad_adversarial, squad_es, squad_it, squad_kor_v1, squad_kor_v2, squad_v1_pt, squad_v2, squadshifts, srwac, sst, stereoset, story_cloze, stsb_mt_sv, stsb_multi_mt, style_change_detection, subjqa, super_glue, superb, svhn, swag, swahili, swahili_news, swda, swedish_medical_ner, swedish_ner_corpus, swedish_reviews, swiss_judgment_prediction, tab_fact, tamilmixsentiment, tanzil, tapaco, tashkeela, taskmaster1, taskmaster2, taskmaster3, tatoeba, ted_hrlr, ted_iwlst2013, ted_multi, ted_talks_iwslt, telugu_books, telugu_news, tep_en_fa_para, text2log, thai_toxicity_tweet, thainer, thaiqa_squad, thaisum, the_pile, the_pile_books3, the_pile_openwebtext2, the_pile_stack_exchange, tilde_model, time_dial, times_of_india_news_headlines, timit_asr, tiny_shakespeare, tlc, tmu_gfm_dataset, told-br, totto, trec, trivia_qa, tsac, ttc4900, tunizi, tuple_ie, turk, turkic_xwmt, turkish_movie_sentiment, turkish_ner, turkish_product_reviews, turkish_shrinked_ner, turku_ner_corpus, tweet_eval, tweet_qa, tweets_ar_en_parallel, tweets_hate_speech_detection, twi_text_c3, twi_wordsim353, tydiqa, ubuntu_dialogs_corpus, udhr, um005, un_ga, un_multi, un_pc, universal_dependencies, universal_morphologies, urdu_fake_news, urdu_sentiment_corpus, vctk, vivos, web_nlg, web_of_science, web_questions, weibo_ner, wi_locness, wider_face, wiki40b, wiki_asp, wiki_atomic_edits, wiki_auto, wiki_bio, wiki_dpr, wiki_hop, wiki_lingua, wiki_movies, wiki_qa, wiki_qa_ar, wiki_snippets, wiki_source, wiki_split, wiki_summary, wikiann, wikicorpus, wikihow, wikipedia, wikisql, wikitext, wikitext_tl39, wili_2018, wino_bias, winograd_wsc, winogrande, wiqa, wisesight1000, wisesight_sentiment, wmt14, wmt15, wmt16, wmt17, wmt18, wmt19, wmt20_mlqe_task1, wmt20_mlqe_task2, wmt20_mlqe_task3, wmt_t2t, wnut_17, wongnai_reviews, woz_dialogue, wrbsc, x_stance, xcopa, xcsr, xed_en_fi, xglue, xnli, xor_tydi_qa, xquad, xquad_r, xsum, xsum_factuality, xtreme, yahoo_answers_qa, yahoo_answers_topics, yelp_polarity, yelp_review_full, yoruba_bbc_topics, yoruba_gv_ner, yoruba_text_c3, yoruba_wordsim353, youtube_caption_corrections, zest, 0n1xus/codexglue, 0n1xus/pytorrent-standalone, AConsApart/anime_subtitles_DialoGPT, AHussain0418/day2_data, AHussain0418/day4data, AHussain0418/demo_data, AI-Sweden/SuperLim, AI-it/khs_service_test, AI-it/korean-hate-speech, ARKseal/YFCC14M_subset_webdataset, ARTeLab/fanpage, ARTeLab/ilpost, ARTeLab/mlsum-it, Abdo1Kamr/Arabic_Hadith, Abirate/code_net_dataset, Abirate/code_net_dev_dataset, Abirate/code_net_test_final_dataset, Abirate/english_quotes, Abirate/french_book_reviews, AdWeeb/DravidianMT, Adnan/Urdu_News_Headlines, AhmadSawal/qa, AhmedSSoliman/CoNaLa, Aisha/BAAD16, Aisha/BAAD6, Akila/ForgottenRealmsWikiDataset, Akshith/aa, Akshith/g_rock, Akshith/test, AlekseyDorkin/extended_tweet_emojis, AlekseyKorshuk/comedy-scripts, AlekseyKorshuk/horror-scripts, AlexMaclean/all-deletion-compressions, AlexMaclean/wikipedia-deletion-compressions, AlexZapolskii/zapolskii-amazon, AlgoveraAI/CryptoPunks, Aliseyfi/event_token_type, Alvenir/nst-da-16khz, AndrewMcDowell/de_corpora_parliament_processed, Annabelleabbott/real-fake-news-workshop, Annielytics/DoctorsNotes, Anurag-Singh-creator/task, Anurag-Singh-creator/tasks, ApiInferenceTest/asr_dummy, Arnold/hausa_common_voice, AryanLala/autonlp-data-Scientific_Title_Generator, Avishekavi/Avi, Ayou/mobile_bert_datas, BSC-TeMU/SQAC, BSC-TeMU/ancora-ca-ner, BSC-TeMU/sts-ca, BSC-TeMU/tecla, BSC-TeMU/viquiquad, BSC-TeMU/xquad-ca, Babelscape/rebel-dataset, Babelscape/wikineural, BatuhanYilmaz/github-issues, Baybars/parla_text_corpus, BeIR/beir-corpus, BeIR/beir, Binbin/my_dataset, BlakesOrb6/Fred-Flintstone, Bosio/pacman, Bosio/pacman_descriptions, BritishLibraryLabs/EThOS-PhD-metadata, CAGER/rick, CALM/arwiki, CAiRE/ASCEND, CShorten/KerasBERT, CShorten/ZillowPrize, ChadxxxxHall/Inter-vision, Champion/vpc2020_clear_anon_speech, Check/a_re_gi, Check/region_1, Check/region_2, Check/region_3, Check/region_4, Check/region_5, Check/region_6, Check/region_7, Check/region_8, Check/region_9, Check/regions, Check/vverify, Cheranga/test, ChristophSchuhmann/MS_COCO_2017_URL_TEXT, Chun/dataset, Chuu/Vhh, CodedotAI/code-clippy-tfrecords, CodedotAI/code_clippy, Cropinky/flatearther, Cropinky/rap_lyrics_english, Cropinky/wow_fishing_bobber, Cyberfish/pos_tagger, Cyberfish/text_error_correction, DDSC/angry-tweets, DDSC/dkhate, DDSC/europarl, DDSC/lcc, DDSC/partial-danish-gigaword-no-twitter, DDSC/reddit-da-asr-preprocessed, DDSC/reddit-da, DDSC/squad-da, DDSC/twitter-sent, DELith/github-issues, DSCI511G1/COP26_Energy_Transition_Tweets, DanL/scientific-challenges-and-directions-dataset, Daniele/dante-corpus, Darren/data, Datatang/accented_english, Datatang/accented_mandarin, Datatang/chinese_dialect, Datatang/mandarin_chinese, Datatang/mixed_speech_chinese_english, Datatang/multi_language, Datatang/multi_language_conversation, Davlan/conll2003_de_noMISC, Davlan/conll2003_noMISC, Davlan/masakhanerV1, DelgadoPanadero/Pokemon, DeskDown/ALTDataset, DeskDown/ALTDataset_en-to-fil-vi-id-ms-ja-khm, DiFronzo/Human_Activity_Recognition, Dmitriy612/1, DoctorSlimm/yipee, Doohae/klue-mrc-bm25, Doohae/modern_music_re, DoyyingFace/github-embeddings-doy, DoyyingFace/github-issues-doy, DrishtiSharma/_CV8_processed, DrishtiSharma/as_opus100_processed, DrishtiSharma/bg_opus100_processed, DrishtiSharma/br_opus100_processed, DrishtiSharma/hi_opus100_processed, DrishtiSharma/kk_opus100_processed, DrishtiSharma/mr_opus100_processed, DrishtiSharma/or_opus100_processed, DrishtiSharma/sl_opus100_processed, DrishtiSharma/sr_opus100_processed, Dumiiii/common-voice-romaniarss, EMBO/biolang, EMBO/sd-nlp, ESZER/H, Emanuel/UD_Portuguese-Bosque, Emon/sobuj, Enes3774/data, Exr0n/wiki-entity-similarity, Eymen3455/xsum_tr, FIG-Loneliness/FIG-Loneliness, FL33TW00D/test-dataset, FRTNX/cosuju, FRTNX/worldbank-projects, Felix-ML/quoteli3, Fhrozen/JTubeSpeech, Finnish-NLP/mc4_fi_cleaned, Firoj/CrisisBench, Francois/futures_es, Fraser/mnist-text-default, Fraser/mnist-text-no-spaces, Fraser/mnist-text-small, Fraser/news-category-dataset, Fraser/program-synthesis, Fraser/python-lines, Fraser/python-state-changes, Fraser/short-jokes, Fraser/wiki_sentences, GEM/ART, GEM/BiSECT, GEM/CrossWOZ, GEM/OrangeSum, GEM/RiSAWOZ, GEM/RotoWire_English-German, GEM/SIMPITIKI, GEM/SciDuet, GEM/Taskmaster, GEM/cochrane-simplification, GEM/common_gen, GEM/conversational_weather, GEM/cs_restaurants, GEM/dart, GEM/dstc10_track2_task2, GEM/e2e_nlg, GEM/indonlg, GEM/mlb_data_to_text, GEM/mlsum, GEM/opusparcus, GEM/references, GEM/schema_guided_dialog, GEM/sportsett_basketball, GEM/squad_v2, GEM/surface_realisation_st_2020, GEM/totto, GEM/turku_hockey_data2text, GEM/turku_paraphrase_corpus, GEM/viggo, GEM/web_nlg, GEM/wiki_auto_asset_turk, GEM/wiki_cat_sum, GEM/wiki_lingua, GEM/xlsum, GEM/xsum, GEM-submissions/submission-scores, GV05/shlomit_speech, Gabriel/quora_swe, Gabriel/squad_v2_sv, GalacticAI/Noirset, Gauravadlakha1509/new_one, GeoffVdr/cv8_trainval_processed, GonzaloA/fake_news, Graphcore/gqa-lxmert, Graphcore/gqa, Graphcore/vqa-lxmert, Graphcore/vqa, Graphcore/wikipedia-bert-128, Graphcore/wikipedia-bert-512, GroNLP/ik-nlp-22_pestyle, GroNLP/ik-nlp-22_slp, GroNLP/ik-nlp-22_transqe, GroNLP/ik-nlp-22_winemag, Gwangho/NCBI-Sars-Cov-2, HHousen/ParaSCI, HHousen/msrp, HHousen/quora, Halilyesilceng/autonlp-data-nameEntityRecognition, Hamhams/pile_full, HarleyQ/WitcherDialogue, HarrisDePerceptron/sv_corpora_parliament_processed, HarrisDePerceptron/ur_corpora_pib, Harveenchadha/bol-models, HarveyBWest/mybot, Hellisotherpeople/DebateSum, Helsinki-NLP/tatoeba_mt, HenryAI/KerasAPIReference.txt, HenryAI/KerasBERTv1-Data, HenryAI/KerasCodeExamples.txt, HenryAI/KerasDeveloperGuides.txt, Husain/intent-classification-en-fr, IFSTalfredoswald/MBTI, IGESML/pubmed_neg, Iftoo95/Arabic_Sentiment_and_Topics, IlyaGusev/gazeta, IlyaGusev/headline_cause, Intel/WEC-Eng, Ishwar/Senti, Iskaj/dutch_corpora_parliament_processed, JIWON/nil_dataset, JIsanan/war-ceb-wikipedia, Jack0508/TED2020_kor, Jack0508/TED2020_vi, Jack0508/TED2020vi_kor, Jack0508/demo, Jack0508/eng_vi_demo, Jack0508/test, Jack0508/vi-ko-TED-txt, Jean-Baptiste/wikiner_fr, Jeska/autonlp-data-vaccinfaq, Jeska/vaccinchat, JesseParvess/book_snippets_asr, Jikiwa/demo1, Jikiwa/demo2, Jikiwa/demo3, Jikiwa/demo4, Jikiwa/glue-mnli-train, Jikiwa/push-to-hub, Jikiwa/pushe-to-hub, Jikiwa/pushed-to-hub, Jikiwa/pushedd-to-hub, Jikiwa/random_repo, Jikiwa/stargazers, Jikiwa/temp-repo-valid, Jikiwa/test-16336477963335, Jikiwa/test-16336478042515, Jikiwa/test-16336479967338, Jikiwa/test-16336480189315, Jikiwa/test-16336486877862, Jikiwa/test-16340052901609, Jikiwa/test-16340052972855, Jikiwa/test-16344347220590, Jikiwa/test-16344347234752, Jikiwa/test-16344349332219, Jikiwa/test-16344349440339, Jikiwa/test-16344351925697, Jikiwa/test-16344360501144, Jikiwa/test-16344361893586, Jikiwa/test-16344362261113, Jikiwa/test-16344362895458, Jikiwa/test-16344364230608, Jikiwa/test-16344364547167, Jikiwa/test-16344367190179, Jikiwa/test-16344368182003, JonathanSum/github-issues, JustinE/Test, KBLab/overlim, KBLab/suc3_1, KETI-AIR/aihub, KETI-AIR/klue, KETI-AIR/kor_corpora, KETI-AIR/korquad, KETI-AIR/nikl, KTH/martin, KTH/nst, KTH/speechdat, KTH/waxholm, Karavet/ARPA-Armenian-Paraphrase-Corpus, Karavet/ILUR-news-text-classification-corpus, Karavet/pioNER-Armenian-Named-Entity, Khanoooo/autonlp-data-Corona, Khondoker/SentNoB, Kili/plastic_in_river, Kira-Asimov/gender_clinical_trial, LIAMF-USP/arc-retrieval-c4, Langame/waiting-messages, Language/Fren, Language/trans, Lenn/github-issues, LeoCordoba/CC-NEWS-ES-titles, LeoCordoba/CC-NEWS-ES, LeverageX/book-summarization, LeverageX/klue-mrc, LeverageX/klue-re, Linda/test1111, Llamacha/Monolingual-cha, Llamacha/monolingual-quechua-iic, LoganKells/amazon_product_reviews_video_games, Lucylulu/amazon, Lucylulu/imdb, Lumos/yahoo_hga, MBAH/MOVIESON, MKK/Dhivehi-English, MLCommons/multilingual-spoken-words, Mahalakshmi/ta_lm_processed, Mansooreh/sharif-emotional-speech-dataset, MarianaSahagun/test, MarkusDressel/cord, Marzipan/QA4PC, Mateo/test_dataset, Mateo/testdataset, McGill-NLP/mlquestions, Mcy/random_uselesstestsequence, Melinoe/TheLabTexts, MickyMike/large_c_corpus, Motahar/github-issues, Mrleo1nid/Test_ru_dataset, Mulin/my_second_dataset, Mulin/my_third_dataset, NLPC-UOM/English-Tamil-Parallel-Corpus, NLPC-UOM/Sinhala-POS-Data, NTUYG/RAGTest, NYTK/HuCOLA, NYTK/HuCoPA, NYTK/HuRC, NYTK/HuSST, NYTK/HuWSC, NahedAbdelgaber/evaluating-student-writing, Narsil/asr_dummy, Narsil/conversational_dummy, Narsil/image_dummy, Nathanael/NPS, NbAiLab/NCC, NbAiLab/NCC_small_100, NbAiLab/NCC_small_divided, NbAiLab/NPSC, NbAiLab/NPSC_test, NbAiLab/NPSC_test2, NbAiLab/bokmaal_admin, NbAiLab/norec_agg, NbAiLab/norne, NbAiLab/norwegian_parliament, NikolajW/NPS_nonNormalized-Cased, NishinoTSK/leishmaniav1, Ofrit/tmp, Omar2027/caner_replicate, OmarN121/train, PDJ107/riot-data, Paul/hatecheck, Pengfei/asfwe, Pengfei/test, Pengfei/test1, PereLluis13/parla_text_corpus, PereLluis13/spanish_speech_text, Perkhad/corejur, PlanTL-GOB-ES/SQAC, Plim/common_voice_7_0_fr_processed, Plim/fr_corpora_parliament_processed, Plim/fr_wikipedia_processed, Plim/language_model_fr, Pongsaky/Wiki_SCG, Pratik/Gujarati_OpenSLR, Pyke/patent_abstract, QA/abk-eng, R0bk/XFUN, RBG-AI/CoRePooL, Recognai/ag_news_corrected_labels, Recognai/corrected_labels_ag_news, Recognai/veganuary, Remesita/tagged_reviews, Renukswamy/Patent_sentiment_analysis, RohanAiLab/persian_blog, RohanAiLab/persian_daily_news, RohanAiLab/persian_news_dataset, Romrawin/mn-sim, RuudVelo/commonvoice_mt_8_processed, RuudVelo/commonvoice_nl_8_processed, RuudVelo/nl_corpora_parliament_processed, SCourthial/test, Sabokou/qg_squad_modified, Sabokou/qg_squad_modified_dev, SajjadAyoubi/persian_qa, Sam2021/Arguement_Mining_CL2017, Samip/func, SaulLu/Natural_Questions_HTML, SaulLu/Natural_Questions_HTML_Toy, SaulLu/Natural_Questions_HTML_reduced_all, SaulLu/test, SaulLu/toy_struc_dataset, SebastianS/github-issues, SergeiGKS/wikiner_fr_job, Serhii/Custom_SQuAD, SetFit/20_newsgroups, SetFit/TREC-QC, SetFit/ag_news, SetFit/amazon_counterfactual, SetFit/amazon_counterfactual_en, SetFit/amazon_polarity, SetFit/bbc-news, SetFit/emotion, SetFit/enron_spam, SetFit/ethos, SetFit/ethos_binary, SetFit/go_emotions, SetFit/hate_speech18, SetFit/hate_speech_offensive, SetFit/imdb, SetFit/insincere-questions, SetFit/sst2, SetFit/sst5, SetFit/student-question-categories, SetFit/subj, SetFit/toxic_conversations, SetFit/tweet_eval_stance, SetFit/tweet_sentiment_extraction, SetFit/yelp_review_full, Shanna/Jamaica, ShinyQ/PPKM_Pemerintah, Shushant/ContaminationQA, Shushant/NepaliSentiment, Shushant/nepali, SkelterLabsInc/JaQuAD, Smiling/webnovels-en, SoLID/shellcode_i_a32, SocialGrep/one-million-reddit-confessions, SocialGrep/one-million-reddit-jokes, SocialGrep/one-million-reddit-questions, SocialGrep/one-year-of-r-india, SocialGrep/reddit-crypto-aug-2021, SocialGrep/reddit-nonewnormal-complete, SocialGrep/reddit-wallstreetbets-aug-2021, SocialGrep/ten-million-reddit-answers, SocialGrep/the-2022-trucker-strike-on-reddit, SocialGrep/the-reddit-covid-dataset, SophieTr/reddit_clean, TRoboto/masc, TRoboto/names, TaahaKazi/FCE, Tahsin-Mayeesha/Bengali-SQuAD, Tatyana/ru_sentiment_dataset, Terry0107/RiSAWOZ, TestCher/Testi, Tevatron/msmarco-passage-corpus, Tevatron/msmarco-passage, Tevatron/scifact-corpus, Tevatron/scifact, Tevatron/wikipedia-curated-corpus, Tevatron/wikipedia-curated, Tevatron/wikipedia-nq-corpus, Tevatron/wikipedia-nq, Tevatron/wikipedia-squad-corpus, Tevatron/wikipedia-squad, Tevatron/wikipedia-trivia-corpus, Tevatron/wikipedia-trivia, Tevatron/wikipedia-wq-corpus, Tevatron/wikipedia-wq, TheBlindBandit/SpongeNot, TimTreasure4/Test, Trainmaster9977/957, Trainmaster9977/zbakuman, TristanBehrens/js-fakes-4bars, TurkuNLP/register_mc4, TurkuNLP/register_oscar, TurkuNLP/turku_hockey_data2text, TurkuNLP/turku_paraphrase_corpus, Tyler/wikimatrix_collapsed, UMU/spanish-saticorpus-2021, Usin2705/test, VJGamer/test, VadorMazer/skyrimdialogstest, Valahaar/wsdmt, Vishnu393831/VICTORY_dataset, Vishva/UniFAQ_DataSET, Voxcroft/alffa_amharic, Voxcroft/alffa_wolof, Wiedy/be, Wiedy/wav2vec2-large-xls-r-300m-tr-colab, Wikidepia/IndoParaCrawl, Wikidepia/IndoSQuAD, Wikidepia/mc4-filter, WillFerreiraSantos/halos, Wuhu0/output, WyrdCurt/AO4W, Xenova/sponsorblock-base, Xenova/sponsorblock-small, XiangPan/iflytek, XiangPan/snli_break, XiangXiang/clt, Xinghua/test, Yatoro/github-issues, Yatoro/github_issues, Yeva/arm-summary, YuAnthony/tnews, Yves/fhnw_swiss_parliament, Zaid/coqa_expanded, Zaid/quac_expanded, Zoe10/ner_dataset, abhishek/autonlp-data-imdb_eval, abhishek/autonlp-data-prodigy-10, abidlabs/crowdsourced-notes, abidlabs/crowdsourced-speech-demo, abidlabs/crowdsourced-speech, abidlabs/crowdsourced-speech2, abidlabs/crowdsourced-speech3, abidlabs/crowdsourced-speech4, abidlabs/crowdsourced-speech5, abidlabs/crowdsourced-speech6, abidlabs/crowdsourced-speech7, abidlabs/test-audio-1, abidlabs/test-audio-13, abidlabs/test-image-13, abidlabs/test-image-classifier-dataset, abidlabs/test-translation-dataset, abidlabs/voice-verification-adversarial-dataset, abwicke/C-B-R, abwicke/koplo, adalbertojunior/punctuation-ptbr-light, adalbertojunior/punctuation-ptbr, adamlin/FewShotWoz, adamlin/companion, adamlin/coqa_squad, adamlin/daily_dialog, adamlin/domain_classification, adamlin/mail-classification, adamlin/multiwoz_dst, adamlin/qa_verification, adamlin/roc_story, adamlin/rs, adamlin/weibo_ner, addy88/nq-question-answeronly, addy88/sanskrit-asr-84-eval, addy88/sanskrit-asr-84, afasafen/mydataset, afasafen/newDataSet, ai4bharat/samanantar, aidystark/Yt, aiface/prj, ajmbell/test-dataset, akumar33/manufacturing, albertvillanova/carbon_24, albertvillanova/datasets-tests-compression, albertvillanova/dummy_libri2mix, albertvillanova/legal_contracts, albertvillanova/lm_en_dummy0, albertvillanova/lm_en_dummy1, albertvillanova/lm_en_dummy2, albertvillanova/lm_en_dummy3, albertvillanova/lm_en_dummy4, albertvillanova/multilingual_spoken_words, albertvillanova/pmc_open_access, albertvillanova/sat, albertvillanova/tests-public-raw-jsonl, albertvillanova/tests-raw-jsonl, albertvillanova/tmp-tests-zip, albertvillanova/tmp-tests, aliabd/crowdsourced-calculator-demo, aliabd/crowdsourced-speech4, aliabd/hello-world, alireza655/alireza655, alistvt/coqa-flat, alistvt/coqa-stories, alistvt/coqa, alittleie/mis_238, allegro/klej-allegro-reviews, allegro/klej-cbd, allegro/klej-cdsc-e, allegro/klej-cdsc-r, allegro/klej-dyk, allegro/klej-nkjp-ner, allegro/klej-polemo2-in, allegro/klej-polemo2-out, allegro/klej-psc, allegro/polish-question-passage-pairs, allegro/summarization-allegro-articles, allegro/summarization-polish-summaries-corpus, allenai/c4, allenai/scico, alperbayram/TwitterDuygu, alperiox/autonlp-data-user-review-classification, alvp/autonlp-data-alberti-stanza-names, alvp/autonlp-data-alberti-stanzas-finetuning, ami-wav2vec2/ami_multi_headset_segmented_and_chunked, ami-wav2vec2/ami_multi_headset_segmented_and_chunked_and_concatenated, ami-wav2vec2/ami_multi_headset_segmented_and_chunked_dummy, ami-wav2vec2/ami_single_headset_segmented, ami-wav2vec2/ami_single_headset_segmented_and_chunked, ami-wav2vec2/ami_single_headset_segmented_and_chunked_and_concatenated, ami-wav2vec2/ami_single_headset_segmented_and_chunked_dummy, ami-wav2vec2/ami_single_headset_segmented_dummy, aminedjebbie/Multi-Arabic-dialects, anechaev/med_history, anechaev/ru_med_history, animesh/autonlp-data-peptides, antoinegk/HealthChallenge_dataset, anton-l/common_language, anton-l/common_voice_7_0_test, anton-l/superb, anton-l/superb_demo, anton-l/superb_dummy, anukaver/EstQA, anuragshas/bg_opus100_processed, anuragshas/ha_cc100_processed, anuragshas/ha_opus100_processed, anuragshas/hi_opus100_processed, anuragshas/lv_opus100_processed, anuragshas/mr_cc100_processed, anuragshas/mt_opus100_processed, anuragshas/pa_cc100_processed, anuragshas/sk_opus100_processed, anuragshas/sl_opus100_processed, anuragshas/ur_opus100_processed, anushakamath/sv_corpora_parliament_processed_v0, anzorq/kbd-ru-1.67M-temp, anzorq/kbd-ru-jsonl-tmp, anzorq/kbd-ru-temp, arch-raven/MAMI, arjunth2001/online_privacy_qna, artemis13fowl/github-issues, artyeth/Dorian, asahi417/qg_jaquad, asahi417/qg_squad, aseifert/merlin, aseifert/pie-synthetic, ashish-shrivastava/dont-know-dataset, ashraq/dhivehi-corpus, asi/wikitext_fr, asoroa/bsbasque, astarostap/antisemitic-tweets, astarostap/antisemitic_tweets, astarostap/autonlp-data-antisemitism-2, astremo/friendly_JA_corpus, astrideducation/cefr-combined-no-cefr-test, atelders/politweets, athar/QA, athivvat/thai-rap-lyrics, ausgequetschtem/jtrddfhfgh, austin/rheum_abstracts, avadesian/dddd, avanishcobaltest/datasetavanish, averyanalex/panorama, azuur/es_corpora_parliament_processed, azuur/gn_wiki_cleaned, badranx/opus_raw, batelicm/feedback-prize-2021-qa-concluding-statement, batelicm/feedback-prize-2021-qa-lead, batelicm/feedback-prize-2021-qa-ner, batelicm/feedback-prize-2021-qa-position, batelicm/feedback-prize-2021-qa, bavard/personachat_truecased, beacon/test, bemanningssitua/dplremjfjfj, benjaminbeilharz/better_daily_dialog, benjaminbeilharz/librivoxdeen, berkergurcay/2020-10K-Reports, bertin-project/mc4-es-sampled, bertin-project/mc4-sampling, bhadresh-savani/web_split, bhavnicksm/sentihood, bhigy/buckeye_asr, bigscience/LanguageResourceCatalogue, bigscience/P3, bigscience/mc4-sampled, bigscience/open_subtitles_monolingual, bigscience-catalogue-lm-data/lm_ar_wikibooks, bigscience-catalogue-lm-data/lm_ar_wikisource, bigscience-catalogue-lm-data/lm_as_wikisource, bigscience-catalogue-lm-data/lm_code_stackexchange, bigscience-catalogue-lm-data/lm_en_no_code_stackexchange, bigscience-catalogue-lm-data/lm_en_wiktionary, bigscience-catalogue-lm-data/lm_eu_wiktionary, bigscience-catalogue-lm-data/lm_fr_wikibooks, bigscience-catalogue-lm-data/lm_fr_wikinews, bigscience-catalogue-lm-data/lm_fr_wikiquote, bigscience-catalogue-lm-data/lm_fr_wikivoyage, bigscience-catalogue-lm-data/lm_zu_wiktionary, bigscience-historical-texts/hipe2020, bingzhen/test2, birgermoell/sv_corpora_parliament_processed, bitmorse/kickstarter_2022-2021, biu-nlp/qa_align, biu-nlp/qa_discourse, biu-nlp/qa_srl2018, biu-nlp/qa_srl2020, biu-nlp/qamr, biu-nlp/qanom, blinoff/medical_qa_ru_data, bobbydylan/top2k, bondarchukb/autonlp-data-iab_classification, braincode/braincode, brunodorneles/ner, bryantpwhite/Medieval_Sermons_in_French, bryantpwhite/Medieval_Texts_in_French, bs-modeling-metadata/OSCAR_Entity_13_000, bs-modeling-metadata/c4_newslike_url_only, bs-modeling-metadata/website_metadata_c4, bs-modeling-metadata/wiki_dump, bsc/ancora-ca-ner, bsc/sts-ca, bsc/tecla, bsc/viquiquad, bsc/xquad-ca, bstad/github-issues, bwu2018/anime-tagging-dataset, caca/zscczs, cakiki/args_me, cakiki/arxiv-metadata, cakiki/en_wiki_quote, cakiki/paperswithcode, caltonji/harrypotter_squad_v2, caltonji/harrypotter_squad_v2_2, calvpang/github-issues, cameronbc/synthtiger, cankeles/eval-senh, canwenxu/dogwhistle, cassandra-themis/QR-AN, castorini/afriberta-corpus, castorini/mr-tydi-corpus, castorini/mr-tydi, castorini/msmarco_v1_doc_doc2query-t5_expansions, castorini/msmarco_v1_doc_segmented_doc2query-t5_expansions, castorini/msmarco_v1_passage_doc2query-t5_expansions, castorini/msmarco_v2_doc_doc2query-t5_expansions, castorini/msmarco_v2_doc_segmented_doc2query-t5_expansions, castorini/msmarco_v2_passage_doc2query-t5_expansions, caythuoc/caoduoclieu, cbrew475/hwu66, ccccccc/hdjw_94ejrjr, ccdv/arxiv-classification, ccdv/arxiv-summarization, ccdv/cnn_dailymail, ccdv/govreport-summarization, ccdv/patent-classification, ccdv/pubmed-summarization, cdleong/piglatin-mt, cdleong/temp_africaNLP_keyword_spotting_for_african_languages, cdminix/iwslt2011, cdminix/mgb1, cem/dnm, cem/film, cemigo/taylor_vs_shakes, cemigo/test-data, cestwc/adapted-msrcomp, cestwc/adapted-paranmt5m, cestwc/adapted-sentcomp, cestwc/adapted-synonym, cestwc/adapted-wikismall, cestwc/adapted-wordnet, cestwc/asrc, cestwc/cnn_dailymail-metaeval100, cestwc/cnn_dailymail-snippets, cestwc/cnn_dailymail-test50, cestwc/sac-approx-1, cestwc/sac-na, cestwc/sac, cfilt/iitb-english-hindi, cgarciae/point-cloud-mnist, cgarciae/point_cloud_mnist, chenghao/mc4_eu_dedup, chenghao/mc4_sw_dedup, chenghao/scielo_books, chenyuxuan/wikigold, cheulyop/dementiabank, cheulyop/ksponspeech, chitra/contradiction, chitra/contradictionNLI, chmanoj/ai4bharat__samanantar_processed_te, chopey/dhivehi, clarin-pl/aspectemo, clarin-pl/cst-wikinews, clarin-pl/kpwr-ner, clarin-pl/multiwiki_90k, clarin-pl/nkjp-pos, clarin-pl/polemo2-official, classla/FRENK-hate-en, classla/FRENK-hate-hr, classla/FRENK-hate-sl, classla/copa_hr, classla/hr500k, classla/janes_tag, classla/reldi_hr, classla/reldi_sr, classla/setimes_sr, classla/ssj500k, clem/autonlp-data-french_word_detection, clips/mfaq, clips/mqa, cnrcastroli/aaaa, coala/kkk, codeceejay/ng_accent, cointegrated/ru-paraphrase-NMT-Leipzig, collectivat/tv3_parla, comodoro/pscr, comodoro/vystadial2016, congpt/dstc23_asr, corypaik/coda, corypaik/prost, coyotte508/dataset, craffel/openai_lambada, crich/cider, cristinakuo/latino40, crystina-z/inlang-mrtydi-corpus, crystina-z/inlang-mrtydi, crystina-z/mbert-mrtydi-corpus, crystina-z/mbert-mrtydi, csarron/image-captions, csebuetnlp/xlsum, csebuetnlp/xnli_bn, csikasote/bemba_train_dev_sets_processed, csikasote/bemba_trainset_processed, csikasote/bembaspeech_plus_jw_processed, csikasote/sv_corpora_parliament_processed, cstrathe435/Task2Dial, ctgowrie/chessgames, ctl/ConceptualCaptions, ctu-aic/ctkfacts_nli, cyko/books, cylee/github-issues, dalle-mini/YFCC100M_OpenAI_subset, dalle-mini/wit, damlab/HIV_FLT, damlab/HIV_PI, damlab/HIV_V3_bodysite, damlab/HIV_V3_coreceptor, dansbecker/hackernews_hiring_posts, darentang/generated, darentang/sroie, darkraipro/recipe-instructions, dasago78/dasago78dataset, dataset/wikipedia_bn, davanstrien/19th-century-ads, davanstrien/ads-im-test, davanstrien/ads-test, davanstrien/crowdsourced-keywords, davanstrien/embellishments, davanstrien/hmd_newspapers, davanstrien/kitten, davanstrien/manuscript_iiif_test, davanstrien/snorkel_genre, davanstrien/test_iiif, davanstrien/testpush, david-wb/zeshel, davidwisdom/reddit-randomness, dcfidalgo/test, debajyotidatta/biosses, debatelab/aaac, deepset/germandpr, deepset/germanquad, dennlinger/klexikon, deokgu/fooddetection, dev/untitled_imgs, dfgvhxfgv/fghghj, dfki-nlp/few-nerd, dfki-nlp/mobie, dgao/librispeech_nc_test, dgknrsln/Yorumsepeti, diiogo/annotations, diiogo/brwac-clean, diiogo/harem-seletivo, diiogo/harem-total, diiogo/ocr-galdino, diiogo/oscar, dispenst/jhghdghfd, dispix/test-dataset, dk-crazydiv/huggingface-modelhub, dlb/plue, dog/friends-of-mine, dog/punks, dongpil/test, dragosnicolae555/RoITD, dram-conflict/horror-scripts, dvilasuero/ag_news_error_analysis, dvilasuero/ag_news_training_set_losses, dvilasuero/test-dataset, dweb/squad_with_cola_scores, dynabench/dynasent, dynabench/qa, eason929/test, ebrigham/asr_files, ebrigham/labels, echarlaix/gqa-lxmert, echarlaix/gqa, echarlaix/vqa-lxmert, echarlaix/vqa, edbeeching/decision_transformer_atari_dqn_replay, edbeeching/decision_transformer_gym_replay, edbeeching/github-issues, edfews/szdfcszdf, edge2992/github-issues, edge2992/rri-short, edge2992/rri_short, edsas/fgrdtgrdtdr, edsas/grttyi, ehcalabres/ravdess_speech, ejjaffe/onion_headlines_2_sources, eliza-dukim/load_klue_re, elonmuskceo/persistent-space-dataset, elonmuskceo/wordle, emre/Open_SLR108_Turkish_10_hours, emrecan/stsb-mt-turkish, enelpol/czywiesz, erikacardenas300/Zillow_Economics_Dataset, ervis/aaa, ervis/qqq, erwanlc/cocktails_recipe, erwanlc/cocktails_recipe_no_brand, eugenesiow/BSD100, eugenesiow/Div2k, eugenesiow/PIRM, eugenesiow/Set14, eugenesiow/Set5, eugenesiow/Urban100, evageon/IADD, ewdrtfwe/54refyghrtf, facebook/multilingual_librispeech, fatvvs/autonlp-data-entity_model_conll2003, fededeleon/CriteriosClasificacion, fengzhang/fzTestDatasets, fhamborg/news_sentiment_newsmtsc, fihtrotuld/asu, flax-community/code_clippy_data, flax-community/conceptual-12m-mbart-50-multilingual, flax-community/conceptual-12m-multilingual-marian-128, flax-community/conceptual-12m-multilingual-marian-es, flax-community/conceptual-12m-multilingual-marian, flax-community/conceptual-captions-12, flax-community/dummy-oscar-als-32, flax-community/german-common-voice-processed, flax-community/german_common_crawl, flax-community/multilingual-vqa, flax-community/norwegian-clean-dummy, flax-community/swahili-safi, flax-sentence-embeddings/Gender_Bias_Evaluation_Set, flax-sentence-embeddings/paws-jsonl, flax-sentence-embeddings/stackexchange_math_jsonl, flax-sentence-embeddings/stackexchange_title_best_voted_answer_jsonl, flax-sentence-embeddings/stackexchange_title_body_jsonl, flax-sentence-embeddings/stackexchange_titlebody_best_and_down_voted_answer_jsonl, flax-sentence-embeddings/stackexchange_titlebody_best_voted_answer_jsonl, flax-sentence-embeddings/stackexchange_xml, flexthink/librig2p-nostress-space, flexthink/librig2p-nostress, flexthink/ljspeech, flexudy/OMQD, florianbussmann/FUNSD-vu2020revising, florianbussmann/train_tickets-yu2020pick, flxclxc/encoded_drug_reviews, formermagic/github_python_1m, formu/CVT, fractalego/QA_to_statements, frahman/github-issues, frtna/all_about_that_base, frtna/cukumicin, frtna/deneme, frtna/es_it_Results-base-OPUS_Tatoeba, frtna/gezelimgorelim, frtna/jwt300_mt, frtna/opensubtitles_mt, frtna/sabahaKKarsi, frtna/ted_mt, frtna/test, frtna/test2, fulai/DuReader, fuliucansheng/coco, fuliucansheng/minicoco, fuliucansheng/mininlp, fuliucansheng/pascal_voc, fuyun1107/clip-for-vlp, fvillena/cantemist, fvillena/spanish_diagnostics, gabella/demo_data_raw, gagan3012/fake-news, gagan3012/grover-data, gar1t/test, gayanin/pubmed-gastro-maskfilling, gayanin/pubmed-gastro-paraphrasing, gayanin/pubmed-gastro-summarisation, gcaillaut/citeseer, gcaillaut/cora, gcaillaut/frwiki_good_pages_el, gcaillaut/pubmed, geekydevu/mlquestions, geninhu/vi_opus100_processed, geninhu/vi_vivos-cv-tts-fpt_processed, german-nlp-group/german_common_crawl, gfigueroa/wikitext_processed, gfissore/arxiv-abstracts-2021, ghadeermobasher/BC5CDR-Chemical-Disease, ghadeermobasher/CRAFT-Chem, ghomasHudson/ao3_style_change, ghomasHudson/character_id, ghomasHudson/hotpotExtended, ghomasHudson/long_contra_pro, ghomasHudson/vlsp, gigant/african_accented_french, gigant/m-ailabs_speech_dataset_fr, gigant/ro_corpora_parliament_processed, gigant/romanian_speech_synthesis_0_8_1, gmnlp/tico19, gorkemgoknar/tr_ted_talk_translated, gpt3mix/rt20, gpt3mix/sst2, gsarti/change_it, gsarti/clean_mc4_it, gsarti/flores_101, gsarti/itacola, gsarti/wmt_vat, guoqiang/cuge, gusu/mymodel1, habu24/fdz, happifyhealth/twitter_pnn, hartzeer/kdfjdshfje, henrychess/gutenberg-fulltext-dirty-locc, herbievore/test, hf-internal-testing/cats_vs_dogs_sample, hf-internal-testing/fixtures_ade20k, hf-internal-testing/fixtures_docvqa, hf-internal-testing/fixtures_image_utils, hf-internal-testing/fixtures_nlvr2, hf-internal-testing/fixtures_ocr, hf-internal-testing/fixtures_sintel, hf-internal-testing/librispeech_asr_demo, hf-internal-testing/librispeech_asr_dummy, hf-internal-testing/test-dataset, hf-internal-testing/transformers-metadata, hf-test/sv_corpora_parliament_processed, hfface/poopi, holodata/sensai, holylovenia/recam, hong/autonlp-data-zoo_test, honghungle/dataset, howardmiddleton382/esuyertusutr, howardmiddleton382/wgweagwege, huggingFaceUser02/air21_grp13_inference_results, huggingFaceUser02/air21_grp13_tokenized_results, huggingartists/100-gecs, huggingartists/21-savage, huggingartists/25-17, huggingartists/50-cent, huggingartists/5nizza, huggingartists/5opka, huggingartists/6ix9ine, huggingartists/aaron-watson, huggingartists/abba, huggingartists/adele, huggingartists/agata-christie, huggingartists/aikko, huggingartists/aimer, huggingartists/ajr, huggingartists/alan-walker, huggingartists/andre-3000, huggingartists/arash, huggingartists/architects, huggingartists/arctic-monkeys, huggingartists/ariana-grande, huggingartists/ariya, huggingartists/armin-van-buuren, huggingartists/as-i-lay-dying, huggingartists/asdfgfa, huggingartists/asper-x, huggingartists/baklan, huggingartists/big-baby-tape, huggingartists/big-russian-boss, huggingartists/bill-wurtz, huggingartists/billie-eilish, huggingartists/billy-talent, huggingartists/bladee, huggingartists/bob-dylan, huggingartists/bones, huggingartists/booker, huggingartists/boris-grebenshikov, huggingartists/braii, huggingartists/bring-me-the-horizon, huggingartists/bruce-springsteen, huggingartists/bryan-adams, huggingartists/burzum, huggingartists/bushido-zho, huggingartists/cardi-b, huggingartists/chester-bennington, huggingartists/chief-keef, huggingartists/cocomelon, huggingartists/coin, huggingartists/coldplay, huggingartists/dababy, huggingartists/david-bowie, huggingartists/ddt, huggingartists/death-grips, huggingartists/deep-purple, huggingartists/denderty, huggingartists/dermot-kennedy, huggingartists/dj-artem-artemov, huggingartists/doja-cat, huggingartists/drake, huggingartists/dua-lipa, huggingartists/duran-duran, huggingartists/dzhizus, huggingartists/ed-sheeran, huggingartists/egor-kreed, huggingartists/egor-letov, huggingartists/elton-john, huggingartists/eminem, huggingartists/enigma, huggingartists/enya, huggingartists/epic-rap-battles-of-history, huggingartists/face, huggingartists/fascinoma, huggingartists/fear-factory, huggingartists/florence-the-machine, huggingartists/freddie-dredd, huggingartists/freelancer, huggingartists/galenskaparna-and-after-shave, huggingartists/ghost, huggingartists/ghostemane, huggingartists/ghostmane, huggingartists/gizmo, huggingartists/gorillaz, huggingartists/green-day, huggingartists/grigory-leps, huggingartists/grimes, huggingartists/gspd, huggingartists/gunna, huggingartists/hillsong-worship, huggingartists/hyuna, huggingartists/i-dont-know-how-but-they-found-me, huggingartists/idktime, huggingartists/imagine-dragons, huggingartists/jah-khalib, huggingartists/jim-morrison, huggingartists/john-k-samson, huggingartists/john-lennon, huggingartists/joji, huggingartists/joni-mitchell, huggingartists/justin-bieber, huggingartists/kanye-west, huggingartists/kasta, huggingartists/katy-perry, huggingartists/kehlani, huggingartists/kendrick-lamar, huggingartists/kesha, huggingartists/king-krule, huggingartists/kipelov, huggingartists/kishlak, huggingartists/kizaru, huggingartists/kojey-radical, huggingartists/krechet, huggingartists/krept-and-konan-bugzy-malone-sl-morisson-abra-cadabra-rv-and-snap-capone, huggingartists/kurt-cobain, huggingartists/lady-gaga, huggingartists/lazy-jay, huggingartists/led-zeppelin, huggingartists/lil-baby, huggingartists/lil-nas-x, huggingartists/lil-peep, huggingartists/lil-skies, huggingartists/lil-uzi-vert, huggingartists/linkin-park, huggingartists/little-big, huggingartists/lizer, huggingartists/logic, huggingartists/lorde, huggingartists/loud-luxury, huggingartists/loverance, huggingartists/lovv66, huggingartists/lumen, huggingartists/lyapis-trubetskoy, huggingartists/macan, huggingartists/machine-gun-kelly, huggingartists/madonna, huggingartists/marillion, huggingartists/maroon-5, huggingartists/mashina-vremeni, huggingartists/mating-ritual, huggingartists/max-korzh, huggingartists/mayot, huggingartists/mc-ride, huggingartists/melanie-martinez, huggingartists/metallica, huggingartists/mf-doom, huggingartists/michael-jackson, huggingartists/mikhail-gorshenev, huggingartists/mikhail-krug, huggingartists/miyagi, huggingartists/mnogoznaal, huggingartists/morgenshtern, huggingartists/mumiy-troll, huggingartists/muse, huggingartists/nautilus-pompilius, huggingartists/nervy, huggingartists/nicki-minaj, huggingartists/nirvana, huggingartists/noize-mc, huggingartists/oasis, huggingartists/obladaet, huggingartists/og-buda, huggingartists/ot-rus, huggingartists/our-last-night, huggingartists/oxxxymiron, huggingartists/peter-paul-and-mary, huggingartists/pharaoh, huggingartists/phish, huggingartists/pink-floyd, huggingartists/placebo, huggingartists/platina, huggingartists/pop-smoke, huggingartists/post-malone, huggingartists/pyrokinesis, huggingartists/queen, huggingartists/radiohead, huggingartists/rage-against-the-machine, huggingartists/ramil, huggingartists/rammstein, huggingartists/red-hot-chili-peppers, huggingartists/rex-orange-county, huggingartists/rihanna, huggingartists/rocket, huggingartists/sam-kim, huggingartists/scriptonite, huggingartists/sektor-gaza, huggingartists/selena-gomez, huggingartists/sergei-letov, huggingartists/shadowraze, huggingartists/sia, huggingartists/sid-sriram, huggingartists/skillet, huggingartists/slava-kpss, huggingartists/slava-marlow, huggingartists/snoop-dogg, huggingartists/sqwore, huggingartists/sugar-ray, huggingartists/suicideoscope, huggingartists/sum-41, huggingartists/sundara-karma, huggingartists/system-of-a-down, huggingartists/t-fest, huggingartists/tanzy-minus, huggingartists/taylor-swift, huggingartists/tedeschi-trucks-band, huggingartists/the-69-eyes, huggingartists/the-avalanches, huggingartists/the-beatles, huggingartists/the-gazette, huggingartists/the-grateful-dead, huggingartists/the-king-and-the-jester, huggingartists/the-notorious-big, huggingartists/the-sugarcubes, huggingartists/the-the-pigs, huggingartists/the-velvet-underground, huggingartists/the-weeknd, huggingartists/tiamat, huggingartists/till-lindemann, huggingartists/tom-waits, huggingartists/tony-raut-and-garry-topor, huggingartists/tool, huggingartists/totpoc, huggingartists/travis-scott, huggingartists/twenty-one-pilots, huggingartists/tyler-the-creator, huggingartists/upsahl, huggingartists/v-x-v-prince, huggingartists/van-morrison, huggingartists/veggietales, huggingartists/viktor-tsoi, huggingartists/vladimir-vysotsky, huggingartists/xxxtentacion, huggingartists/young-thug, huggingartists/yung-lean, huggingartists/yung-plague, huggingartists/zemfira, huggingface/DataMeasurementsFiles, huggingface/cats-image, huggingface/documentation-images, huggingface/label-files, huggingface/task-page-images, huggingface/transformers-metadata, huggingface-course/codeparrot-ds-train, huggingface-course/codeparrot-ds-valid, husnu/tquad-v1v2, husnu/tquad2, huyongquan/d2, hyeonduck/whiteboard_abuse_dataset, hyeonduck/your_dataset_name, ia-bentebib/conv_ai_2_fr, ia-bentebib/conv_ai_3_fr, ia-bentebib/daily_dialog_fr, ia-bentebib/diafrag, ia-bentebib/dialog_re_fr, ia-bentebib/doc2dial_fr, ia-bentebib/empathetic_dialogues_fr, iamshsdf/sssssssssss, iarfmoose/qa_evaluator, iarfmoose/question_generator, image-search-2/unsplash_lite_image_dataset, imthanhlv/binhvq_dedup, imthanhlv/binhvq_news21_raw, imvladikon/knesset_meetings_corpus, indonesian-nlp/id_personachat, iohadrubin/mtop, iohadrubin/smcalflow, ixxi/my_v1, jacobbieker/open-crab-sample, jaimin/wav2vec2-large-xlsr-gujarati-demo, jakeazcona/short-text-labeled-emotion-classification, jakeazcona/short-text-multi-labeled-emotion-classification, jakemarcus/MATH, jamescalam/climate-fever-similarity, jamol1741/test_dataset, jcmc/ga-IE_opus_dgt_train, jcmc/ga_mc4_processed, jdepoix/junit_test_completion, jeffboudier/testing3, jegorkitskerkin/dutch-snli, jeree/fr_corpora_parliament_processed, jfarray/TFM, jgammack/MTL-abstracts, jgammack/SAE-door-abstracts, jgammack/THESES-abstracts, jglaser/binding_affinity, jhonparra18/spanish_billion_words_clean, jhqwqq/2, jianhong/dateset1, jianhong/dateset2, jimregan/clarinpl_sejmsenat, jimregan/clarinpl_studio, jimregan/foinse, jimregan/lasid, jinmang2/KorQuADv1, jinmang2/common-sense-mrc, jinmang2/load_klue_re, jinmang2/medical-mask, jinmang2/pred, jiyoojeong/targetizer, jlh/coco, jmamou/augmented-glue-sst2, joelito/ler, joelito/sem_eval_2010_task_8, johnpaulbin/autonlp-data-asag-v2, jonfd/ICC, jozierski/ecomwebtexts-pl, jpcorb20/multidogo, jsfactory/mental_health_reddit_posts, ju-bezdek/conll2003-SK-NER, julien-c/dummy-dataset-from-colab, julien-c/persistent-space-dataset, julien-c/reactiongif, juliensimon/autonlp-data-song-lyrics-demo, juliensimon/autonlp-data-song-lyrics, juniorrios/roi_leish_test, juny116/few_glue, justinqbui/covid_fact_checked_google_api, justinqbui/covid_fact_checked_polifact, k-halid/ar, k0t1k/test, kaka10/fgfgfgfg, karinev/lanuitdudroit, kartikay/review-summarizer, katoensp/VR-OP, kaushikacharya/github-issues, kenlevine/CUAD, keshan/clean-si-mc4, keshan/large-sinhala-asr-dataset, keshan/multispeaker-tts-sinhala, keshan/wit-dataset, kevinassobo/sales_2015_dataset, kevinjesse/ManyTypes4TypeScript, kevinlu1248/personificationgen, khalidsaifullaah/detecThreats, khanbaba/online_love, khursani8/sani, kiamehr74/CoarseWSD-20, kingabzpro/ar_corpora_parliament_processed, kingabzpro/ga_corpora_parliament_processed, kingabzpro/pan_corpora_parliament_processed, kingabzpro/tt_corpora_parliament_processed, kiyoung2/aistage-mrc, kiyoung2/temp, kleinay/qa_srl, kmfoda/booksum, kmfoda/name_finder_v1, kmyoo/klue-tc-dev, knilakshan20/wikigold, kowndinya23/bert-dataset, kresnik/librispeech_asr_test, kresnik/zeroth_korean, kroshan/BioASQ, kroshan/qa_evaluator, kudo-research/mustc-en-es-text-only, kyryl0s/ukbbc, laion/filtered-wit, laion/laion400m, laion/laion_100m_vqgan_f8, lara-martin/Scifi_TV_Shows, larcane/ko-WIT, laugustyniak/abusive-clauses-pl, lavis-nlp/german_legal_sentences, layboard/layboard.in, lc-col/sv_corpora_parliament_processed, leiping/jj, leiping/teeee, leoapolonio/AMI_Meeting_Corpus, lewtun/asr-preds-test, lewtun/asr_dummy, lewtun/benchmark-test, lewtun/binary_classification_dummy, lewtun/bulk-superb-s3p-superb-49606, lewtun/drug-reviews, lewtun/gem-multi-dataset-predictions, lewtun/gem-sub-03, lewtun/gem-test-predictions, lewtun/gem-test-references, lewtun/github-issues-test, lewtun/github-issues, lewtun/mnist-preds, lewtun/my-awesome-dataset, lewtun/s3prl-sd-dummy, lewtun/text_classification_dummy, lgrobol/openminuscule, lhoestq/conll2003, lhoestq/custom_squad, lhoestq/demo1, lhoestq/squad, lhoestq/test, lhoestq/test2, lhoestq/test_commit_descriptions, lhoestq/test_zip_txt, lhoestq/tmp, lhoestq/wikipedia_bn, liam168/nlp_c4_sentiment, lidia/202111, lijingxin/github-issues, lijingxin/squad_zen, lijingxin/squad_zh_1, limjiayi/hateful_memes_expanded, lincoln/newsquadfr, linhd-postdata/pulpo, linhd-postdata/stanzas, liweili/c4_200m, lkiouiou/o9ui7877687, lkndsjkndgskjngkjsndkj/jsjdjsdvkjvszlhdskb, lohanna/testedjkcxkf, lorsorlah/Dadedadedam, loveguruji609/dfdfsdfsdfsdfsdfsd, lsb/ancient-latin-passages, lsb/million-english-numbers, lucien/sciencemission, lucien/voacantonesed, lucien/wsaderfffjjjhhh, lucio/common_voice_eval, lukasmasuch/my-test-repo-3, lukasmasuch/my-test-repo-4, lukasmasuch/test-2, lukasmasuch/test-3, lukasmasuch/test, lukesjordan/worldbank-project-documents, luofengge/mydata, luofengge/testDataset, luomingshuang/GRID_audio, luomingshuang/GRID_text, luomingshuang/grid_lip_160_80, luozhouyang/dureader, luozhouyang/kgclue-knowledge, luozhouyang/question-answering-datasets, lvwerra/codeparrot-clean-train, lvwerra/codeparrot-clean-valid, lvwerra/codeparrot-clean, lvwerra/codeparrot-valid-clean-minimal, lvwerra/codeparrot-valid, lvwerra/github-alphacode, lvwerra/important_dataset, lvwerra/lm_ar_wikipedia, lvwerra/lm_nigercongo-ak_wikipedia, lvwerra/repo-images, lvwerra/test, lysandre/image-to-text, lysandre/my-cool-dataset, m-newhauser/dataset-isi-200, m3hrdadfi/recipe_nlg_lite, mad/IndonesiaNewsDataset, maji/npo_mission_statement_ucf, majod/CleanNaturalQuestionsDataset, makanan/umich, makarios19/neurips-paper, malay-huggingface/jelapang-padi, malay-huggingface/pembalakan, mammut/mammut-corpus-venezuela-test-set, mammut/mammut-corpus-venezuela, manandey/OSCAR_Entity_Toy, manandey/entity_experiments, manifoldix/sg_testset_fhnw, manifoldix/swg_parliament_fhnw, manishk31/Demo, manu/fr_corpora_parliament_processed-lowercased, manu/fr_corpora_parliament_processed, marinone94/nst_no, marinone94/nst_sv, mariosasko/PetImages, mariosasko/dummy_test, markscrivo/OddsOn, martiwey/codesearchnet-go, martiwey/codesearchnet-java, martiwey/codesearchnet-javascript, martiwey/codesearchnet-php, martiwey/codesearchnet-python, martiwey/codesearchnet-ruby, martodaniel/terere, masked-neuron/amazon, masked-neuron/ccd, masked-neuron/qb, mattchurgin/sv_corpora_parliament_processed, matteopilotto/github-issues, maximedb/mcqa_light, maximedb/mfaq_light, maximedb/paws-x-all, maximedb/vaccinchat, maximedb/vaccinchat_retrieval, maximedb/wow, maxmoynan/SemEval2017-Task4aEnglish, mbateman/github-issues, medzaf/test, meghanabhange/chaii, meghanabhange/hilm141021, meghanabhange/hitalm141021, meghanabhange/hitalmsandbox, meghanabhange/talm141021, merty/nateraw-food101-copy, merve/coco, merve/folk-mythology-tales, merve/poetry, merve/qqp, metaeval/blimp_classification, metaeval/colors, metaeval/crowdflower, metaeval/ethics, metaeval/linguisticprobing, metaeval/recast, metalearning/kaggale-nlp-tutorial, metamong1/summarization_optimization, metopedia/autonlp-data-Multiple-Source-Language-Consensus-Reconstruction-o, michaelbenayoun/wikipedia-bert-128, microsoft/codexglue_method_generation, midas/citeulike180, midas/cstr, midas/duc2001, midas/inspec, midas/inspec_ke_tagged, midas/kdd, midas/kp20k, midas/kpcrowd, midas/kptimes, midas/krapivin, midas/ldke3k_medium, midas/ldke3k_small, midas/ldkp10k, midas/ldkp3k, midas/ldkp3k_small, midas/nus, midas/openkp, midas/pubmed, midas/semeval2010, midas/semeval2010_ke_tagged, midas/semeval2017, midas/semeval2017_ke_tagged, midas/test_ldkp, midas/www, mideind/icelandic-common-crawl-corpus-IC3, mideind/icelandic-error-corpus-IceEC, mikeee/model-z, mirari/sv_corpora_parliament_processed, mishig/sample_images, mksaad/Arabic_news, ml6team/cnn_dailymail_nl, ml6team/xsum_nl, mldmm/glass_alloy_composition, mmcquade11-test/reuters-for-summarization-two, mmm-da/rutracker_anime_torrent_titles, mnaylor/evaluating-student-writing, mnemlaghi/widdd, morganchen1007/1215, morganchen1007/1216, morganchen1007/1216_00, morganchen1007/test_1213_00, moshew/my_raft, mostol/wiktionary-ipa, moumeneb1/French_arpa_lm, moumeneb1/filtered, moumeneb1/filtered_300, moumeneb1/fr_lm_dataset, moumeneb1/large_vocabulary_dataset, moumeneb1/osc_processed_lm, moxi43/github-issues, mozilla-foundation/common_voice_1_0, mozilla-foundation/common_voice_2_0, mozilla-foundation/common_voice_3_0, mozilla-foundation/common_voice_4_0, mozilla-foundation/common_voice_5_0, mozilla-foundation/common_voice_5_1, mozilla-foundation/common_voice_6_0, mozilla-foundation/common_voice_6_1, mozilla-foundation/common_voice_7_0, mozilla-foundation/common_voice_8_0, mpierrau/sv_corpora_parliament_processed, mr-robot/ec, mrm8488/fake-news, mrm8488/goemotions, mrojas/abbreviation, mrojas/body, mrojas/disease, mrojas/family, mrojas/finding, mrojas/medication, mrojas/procedure, mrp/Thai-Semantic-Textual-Similarity-Benchmark, msarmi9/korean-english-multitarget-ted-talks-task, msivanes/github-issues, mswedrowski/multiwiki_90k, muhtasham/autonlp-data-Doctor_DE, mulcyber/europarl-mono, munggok/mc4-id, mustafa12/db_ee, mustafa12/edaaaas, mustafa12/thors, mvarma/medwiki, nateraw/auto-cats-and-dogs, nateraw/auto-exp-2, nateraw/beans, nateraw/beans_old, nateraw/blahblah, nateraw/bulk-dummy, nateraw/cats-and-dogs, nateraw/cats_vs_dogs, nateraw/dummy-csv-dataset, nateraw/filings-10k, nateraw/food101, nateraw/food101_old, nateraw/huggingpics-data-2, nateraw/huggingpics-data, nateraw/image-folder, nateraw/imagefolder, nateraw/imagenette, nateraw/img-demo, nateraw/rock_paper_scissors, nateraw/sync_food101, nateraw/test, nateraw/wit, nathanlsl/news, naver-clova-conversation/klue-tc-dev-tsv, naver-clova-conversation/klue-tc-tsv, naver-clova-conversation-ul/klue-tc-dev, navjordj/nak_nb, ncats/EpiSet4BinaryClassification, ncats/EpiSet4NER-v1, ncats/GARD_EpiSet4TextClassification, ncduy/github-issues, ncduy/mt-en-vi, ncoop57/athena_data, ncoop57/csnc_human_judgement, ncoop57/rico_captions, neelalex/raft-predictions, newsha/PQuAD, nferruz/UR50_2021_04, nferruz/UR50_2021_04_text, ngdiana/hu_severity, ngdiana/uaspeech, ngdiana/uaspeech_severity, ngdiana/uaspeech_severity_high, ngdiana/uaspeech_severity_low, nickmuchi/fin_dataset, nickmuchi/financial-classification, nickmuchi/trade-the-event-finance, nid989/FNC-1, nielsr/FUNSD_layoutlmv2, nielsr/XFUN, nielsr/funsd, nlpaueb/test, nlpconnect/dpr-nq-reader-v2, nlpconnect/dpr-nq-reader, nlpconnect/ms_marco_subset_v2.1, nlpufg/brwac-pt, nlpufg/brwac, nlpufg/oscar-pt, nlpyeditepe/tr-qnli, nlpyeditepe/tr_rte, nntadotzip/iuQAchatbot, notional/notional-python, nouamanetazi/ar_common_voice_processed, nouamanetazi/ar_opus100_processed, nsi319/figures-dataset, nthngdy/bananas, nthngdy/ccnews_split, nthngdy/openwebtext_split, ntutexas/amazon, nucklehead/ht-voice-dataset, oelkrise/CRT, openclimatefix/eumetsat_uk_hrv, openclimatefix/goes-l2, openclimatefix/goes-mrms, openclimatefix/goes, openclimatefix/hrrr, openclimatefix/mrms, openclimatefix/nimrod-uk-1km, osanseviero/codeparrot-train, osanseviero/llama_test, osanseviero/test, oscar-corpus/OSCAR-2109, ought/raft-submission, ought/raft, outman/test, papluca/language-identification, pariajm/sharif_emotional_speech_dataset, parivartanayurveda/Malesexproblemsayurvedictreatment, pasinit/scotus, pasinit/xlwic, patrickvonplaten/ami_single_headset_segmented_and_chunked, patrickvonplaten/common_voice_6_tr, patrickvonplaten/common_voice_processed_turkish, patrickvonplaten/helena_coworking, patrickvonplaten/librispeech_asr_dummy, patrickvonplaten/librispeech_local, patrickvonplaten/librispeech_local_dummy, patrickvonplaten/scientific_papers_dummy, patrickvonplaten/sensitive_data_sv, pdesoyres/test, peixian/equity_evaluation_corpus, peixian/rtGender, pelican/test_100, persiannlp/parsinlu_entailment, persiannlp/parsinlu_query_paraphrasing, persiannlp/parsinlu_reading_comprehension, persiannlp/parsinlu_sentiment, persiannlp/parsinlu_translation_en_fa, persiannlp/parsinlu_translation_fa_en, peterbonnesoeur/autonlp-data-test_text_summarization, peterhsu/github-issues, philschmid/prompted-germanquad, philschmid/test_german_squad, phoelti/squad_dev, phongdtd/VinDataVLSP, phongdtd/custom_common_voice, phonlab-tcd/cngv1, phonlab-tcd/corpuscrawler-ga, piEsposito/br-quad-2.0, piEsposito/br_quad_20, piEsposito/squad_20_ptbr, pierreant-p/jcvd-or-linkedin, pierreguillou/lener_br_finetuning_language_model, pierreguillou/test_datasetdict, pierresi/cord, pietrolesci/ag_news, pmc/open_access, polinaeterna/dummy_dataset, polinaeterna/ml_spoken_words, polinaeterna/test_opus, poperson1205/mrtydi-v1.1-korean-fixed, prajin/ne_corpora_parliament_processed, princeton-nlp/datasets-for-simcse, pritamdeka/cord-19-abstract, pritamdeka/cord-19-fulltext, priya3301/Graduation_admission, priya3301/tes, priya3301/test, proffttega/ILLUMINATI, proffttega/doc, proffttega/join_illuminati_to_become_rich, proffttega/persian_daily_news, project2you/asr, projecte-aina/ancora-ca-ner, projecte-aina/catalan_general_crawling, projecte-aina/catalan_government_crawling, projecte-aina/catalan_textual_corpus, projecte-aina/parlament_parla, projecte-aina/sts-ca, projecte-aina/teca, projecte-aina/tecla, projecte-aina/vilaquad, projecte-aina/viquiquad, projecte-aina/xquad-ca, psrpsj/stop_words, pstroe/cc100-latin, pulmo/chest_xray, qa4pc/QA4PC, qanastek/ANTILLES, qfortier/instagram_ny, quarter100/boolq_log, quis/vnexpress-train, qwant/squad_fr, radhakri119/sv_corpora_parliament_processed, ragarwal/args-me-pairs, rahular/itihasa, rajeshradhakrishnan/malayalam_2020_wiki, rajeshradhakrishnan/malayalam_news, rajeshradhakrishnan/malayalam_wiki, ramitsurana/sanskrit, ramybaly/conll2012, ramybaly/nerd, ranim/Algerian-Arabic, ranpox/xfund, rays2pix/example, rays2pix/example_dataset, readerbench/ChatLinks, rewardsignal/reddit_writing_prompts, rgismondi/code-fill-dataset, rocca/sims4-faces, ronaldvanos/testdata, rony/soccer-dialogues, rookieguy12/dataset, rosettarandd/rosetta_balcanica, roskoN/dailydialog, roskoN/dstc8-reddit-corpus, rubenwol/multi_news_qasrl, rucyang/sales, rwebe/rwebe, s-myk/test, s3h/arabic-gec, s3h/arabic-grammar-corrections, s3h/custom-qalb-classification, s3h/customized-qalb-v2, s3h/customized-qalb, s3h/gec-arabic, s3h/gec-cleaned, s3h/gec-token-classification, s3h/poc-gec, safik/github-issues-comments, safik/github-issues, sagnikrayc/mctest, sagnikrayc/quasar, sagteam/author_profiling, sajadk/IranianCarLicencePlate, salesken/Paraphrase_category_detection, samarlune/Holy_Coran, samgin/FooReview, samgin/star_tagging, samirt8/fr_corpora_parliament_processed, samjgorman/sample, sammy786/finnish_traindata, sanyu/aw, sanyu/er, sanyu/hh, sanyu/vb, sc2qa/sc2q_commoncrawl, sc2qa/sc2q_commoncrawl_large, sc2qa/sc2qa_commoncrawl, sdfufygvjh/fgghuviugviu, sduong/genwiki, sduong/wikigraphs, seamew/ChnSentiCorp, seamew/Hotel, seamew/THUCNews, seamew/THUCNewsText, seamew/THUCNewsTitle, seamew/Weibo, seanbethard/autonlp-data-summarization_model, sebastiaan/test-cefr, sebastian-hofstaetter/tripclick-training, segments-bert/logo_dataset, segments-bert/pets, sentence-transformers/embedding-training-data, sentence-transformers/msmarco-hard-negatives, sentence-transformers/parallel-sentences, sentence-transformers/reddit-title-body, seregadgl/test_set, sevbqewre/vebdesbdty, severo/autonlp-data-sentiment_detection-3c8bcd36, severo/dummy_gated, severo/embellishments, severo/wit, seyia92coding/steam_games_2019.csv, shahp7575/sia_pile_sample, shahp7575/sia_tp_sample, shahrukhx01/questions-vs-statements, shaina/covid19, shanya/website_metadata_c4_toy, sharejing/BiPaR, sheryylli/utr_total_reads, shivam/hindi_pib_processed, shivam/marathi_pib_processed, shivam/marathi_samanantar_processed, shivam/test-translation-2, shivam/test-translation, shivam/test, shivkumarganesh/CoLA, shivmoha/squad-unanswerable, shivmoha/squad_adversarial_manual, shpotes/ms_coco, shpotes/tfcol, sia-precision-education/pile_cpp, sia-precision-education/pile_js, sia-precision-education/pile_python, sia-precision-education/sia_pile_sample, sijpapi/batch13, sijpapi/funsd, sijpapi/funsds, silentzone/test, sine/zzz, sismetanin/rureviews, smallv0221/my-test, softcatala/Europarl-catalan, softcatala/Softcatala-Web-Texts-Dataset, softcatala/Tilde-MODEL-Catalan, softcatala/ca_text_corpus, softcatala/catalan-dictionary, softcatala/open-source-english-catalan-corpus, solomonk/reddit_mental_health_posts, somaimanguyat/Genjer, somaimanguyat/Koboy, somaimanguyat/Movieonline2021, somaimanguyat/Salome, somaimanguyat/movie21, somaimanguyat/xiomay, spacemanidol/ms_marco_doc2query, spacemanidol/msmarco_passage_ranking, spasis/datasets-github-issues, spasis/github-issues, ssasaa/gghghgh, sshleifer/pseudo_bart_xsum, stas/c4-en-10k, stas/openwebtext-10k, stas/oscar-en-10k, stas/wmt14-en-de-pre-processed, stas/wmt16-en-ro-pre-processed, stevhliu/demo, stiel/skjdhjkasdhasjkd, subiksha/OwnDataset, superb/superb-data, susumu2357/squad_v2_sv, svakulenk0/qrecc, svakulenk0/spoken_kgqa, svalabs/all-nli-german-translation-wmt19, svalabs/ms-marco-german-translation-wmt19, svanhvit/iceErrorCorpus, svanhvit/icelandic-ner-MIM-GOLD-NER, tals/test, tanay/embed, tanfiona/causenet_wiki, tarudesu/UIT-ViCTSD, tasosk/airlines, tau/fs, tau/mrqa, tau/scientific_papers, tau/scrolls, tesemnikov-av/toxic_dataset_classification, tesemnikov-av/toxic_dataset_ner, testOrganization01/test05, teven/all_wikipedia_passages, teven/c4_15M, teven/github_all_lang_filtered, teven/matched_passages_wikidata, teven/mpww, teven/mpww_all_passages, teven/prompted_examples, teven/stackexchange, tharindu/MOLD, tharindu/SOLID, thiemowa/argumentationreviewcorpus, thiemowa/empathyreviewcorpus, thomwolf/codeparrot-train, thomwolf/codeparrot-valid, thomwolf/codeparrot, thomwolf/github-dataset, thomwolf/github-python, thomwolf/very-good-dataset, thomwolf/very-test-dataset-2, thomwolf/very-test-dataset, tianxing1994/temp, toddmorrill/github-issues, toloka/CrowdSpeech, toloka/VoxDIY-RusNews, tommy19970714/common_voice, toriving/kosimcse, toriving/talktalk-sentiment-210713-multi-singleturn-custom-multiturn, tranduyquang2205/vietnamese_dataset, transformersbook/codeparrot-train, transformersbook/codeparrot-valid, transformersbook/codeparrot, trnt/github-issues, ttj/metadata_arxiv, turingbench/TuringBench, uasoyasser/rgfes, ubamba98/ro_cv7_processed, ucberkeley-dlab/measuring-hate-speech, uit-nlp/vietnamese_students_feedback, ujjawal1612/quora, umangchaudhry/demo_data_raw, unicamp-dl/mmarco, unicamp-dl/mrobust, usc-isi/WikiConvert, uva-irlab/canard_quretec, uva-irlab/trec-cast-2019-multi-turn, uyeongjae/load_klue_re_agmented, valurank/hate-multi, valurank/offensive-multi, vanadhi/finlitqa, vannacute/AmazonReviewHelpfulness, vannora/pdata, vannynakamura/leish, vasilis/et_corpora_parliament_processed, vasudevgupta/amazon-ml-hack, vasudevgupta/bigbird-tokenized-natural-questions, vasudevgupta/data, vasudevgupta/fairseq-ljspeech, vasudevgupta/gsoc-librispeech, vasudevgupta/natural-questions-validation, vasudevgupta/prml_data_contest, vasudevgupta/temperature-distribution-2d-plate, vasudevgupta/temperature-distribution-3d-cylinder, vblagoje/lfqa, vblagoje/lfqa_support_docs, vblagoje/wikipedia_snippets_streamed, vctc92/sdsd, vctc92/test, vera-pro/ShadowLink, versae/bibles, versae/modernisa, versae/norwegian-t5-dataset-debug, versae/norwegian-t5-dataset-debug2, versae/norwegian-t5-dataset-debug3, vershasaxena91/datasets, vershasaxena91/squad_multitask, vesteinn/IC3, vesteinn/icelandic-ner-MIM-GOLD-NER, vesteinn/icelandic-qa-NQiI, vidhur2k/multilingual-hate-speech, vishnun/huggingpics-data, vivekverma239/question-generation, vkhangpham/github-issues, vs4vijay/VizDS, vumichien/common_voice_large, vumichien/common_voice_large_jsut_jsss_css10, vumichien/ja_opus100_processed, w-nicole/childes_data, w-nicole/childes_data_no_tags, w-nicole/childes_data_no_tags_, w-nicole/childes_data_with_tags, w-nicole/childes_data_with_tags_, w11wo/imdb-javanese, wanagenst/maslow-six-choices, wanagenst/maslow-stories, wanagenst/plutchik-nine-choices, wanagenst/plutchik-stories, wanagenst/reiss-stories, wanagenst/reiss-twenty-choices, wardenga/lsoie, warwickai/financial_phrasebank_mirror, webek18735/ddvoacantonesed, webek18735/dhikhscook, webimmunization/COVID-19-vaccine-attitude-tweets, webis/args_me, webis/conclugen, webis/ms-marco-anchor-text, weijieliu/senteval_cn, wifis/ouivirtual, wikilee/ADFA_Mapping, wikimedia/wikipedia, wikimedia/wikisource, winvoker/turkish-sentiment-analysis-dataset, wisdomify/story, wmt/europarl, wmt/news-commentary, wmt/uncorpus, wmt/wikititles, wmt/wmt10, wmt/wmt13, wmt/wmt14, wmt/wmt15, wmt/wmt16, wmt/wmt17, wmt/wmt18, wmt/wmt19, wpicard/nostradamus-propheties, wza/USTT, wzkariampuzha/EpiClassifySet, wzkariampuzha/EpiExtract4GARD, wzywzy/telegram_summary, x-tech/cantonese-mandarin-translations, xiaj/ds_test, xiaj/test0919, xiaobendanyn/demo, xiaobendanyn/nyt10, xiaobendanyn/tacred, xkang/github-issues, xuyeliu/notebookCDG, yannobla/Sunshine, yazdipour/text-to-sparql-kdwd, ydshieh/coco_dataset_script, yharyarias/tirads_tiroides, yhavinga/mc4_nl_cleaned, yluisfern/PBU, yo/devparty, yonesuke/Ising2D, yonesuke/Vicsek, yonesuke/kuramoto, ysharma/rickandmorty, ytsaig/news-12factor, yuanchuan/annotated_reference_strings, yuchenlin/OntoRock, yuvalkirstain/asset, yuvalkirstain/contract_nli-debug, yuvalkirstain/contract_nli_t5, yuvalkirstain/contract_nli_t5_lm, yuvalkirstain/qasper_t5, yuvalkirstain/qasper_t5_lm, yuvalkirstain/qmsum_t5, yuvalkirstain/qmsum_t5_lm, yuvalkirstain/quality, yuvalkirstain/quality_debug, yuvalkirstain/quality_squad, yuvalkirstain/quality_squad_debug, yuvalkirstain/quality_t5, yuvalkirstain/quality_t5_lm, yuvalkirstain/scrolls_t5, yuvalkirstain/squad_full_doc, yuvalkirstain/squad_seq2seq, yuvalkirstain/squad_t5, yuvalkirstain/summ_screen_fd_t5, yuvalkirstain/summ_screen_fd_t5_lm, yxchar/ag-tlm, yxchar/amazon-tlm, yxchar/chemprot-tlm, yxchar/citation_intent-tlm, yxchar/hyp-tlm, yxchar/imdb-tlm, yxchar/rct-20k-tlm, yxchar/sciie-tlm, z-uo/female-LJSpeech-italian, z-uo/male-LJSpeech-italian, z-uo/squad-it, zapsdcn/ag, zapsdcn/amazon, zapsdcn/chemprot, zapsdcn/citation_intent, zapsdcn/hyperpartisan_news, zapsdcn/imdb, zapsdcn/rct-20k, zapsdcn/sciie, zf-org/org_dataset, zfaB4Hmm/test, zhangruihan1/face-recognition-validation, zhangruihan1/face-recognition, zhangruihan1/fr-cfp_fp, zhoujun/hitab, zhufy/xquad_split, zj88zj/PubMed_200k_RCT, zj88zj/SCIERC, zloelias/kinopoisk-reviews-short, zloelias/kinopoisk-reviews, zloelias/lenta-ru-short, zloelias/lenta-ru, zlucia/casehold, zwang199/autonlp-data-traffic_nlp_binary, lvwerra/red-wine, mtfelix/datasetdemo, Narsil/test_data, shibing624/python-source-code, mohamed-illiyas/wav2vec2-base-lj-demo-colab, openclimatefix/gfs, Emma121/testtest, aryanpatke/github-issues, bergoliveira/pl_corpus_teste\n"
          ]
        }
      ],
      "source": [
        "################## YOUR CODE HERE ##################\n",
        "\n",
        "####################################################\n",
        "\n",
        "from datasets import list_datasets\n",
        "from datasets import load_dataset\n",
        "import pandas as pd\n",
        "datasets_list = list_datasets()\n",
        "len(datasets_list)\n",
        "print(', '.join(dataset for dataset in datasets_list))\n"
      ]
    },
    {
      "cell_type": "code",
      "execution_count": null,
      "metadata": {
        "colab": {
          "base_uri": "https://localhost:8080/",
          "height": 86,
          "referenced_widgets": [
            "3afa10182b6d40e98693339e325f0074",
            "c5f1c8326d56401393b5982cafb59de6",
            "c11d0d005f234185a492f251829a4eae",
            "47e3d29ee5634a38b1ddcf83bb164247",
            "a7809c58de144c2a9c7df55aa2c8f765",
            "ad389cc162204d17b600625c068fd5dc",
            "6c5166c545fa4861a7cdcb8bb5e0fbc7",
            "10fd44d2f36949afbef459b2c92c3f5d",
            "cb95be89938947b0a5ac7f54532396a5",
            "cc10808afbd94da38d57d50349e8760b",
            "4dec94e6054b40d7b84ea39ae25b8897"
          ]
        },
        "id": "INSrjh-kYY9E",
        "outputId": "c5f9f108-cd2f-4aac-f9da-6b2f15c448f7"
      },
      "outputs": [
        {
          "name": "stderr",
          "output_type": "stream",
          "text": [
            "Reusing dataset amazon_us_reviews (/root/.cache/huggingface/datasets/amazon_us_reviews/Mobile_Electronics_v1_00/0.1.0/17b2481be59723469538adeb8fd0a68b0ba363bbbdd71090e72c325ee6c7e563)\n"
          ]
        },
        {
          "data": {
            "application/vnd.jupyter.widget-view+json": {
              "model_id": "3afa10182b6d40e98693339e325f0074",
              "version_major": 2,
              "version_minor": 0
            },
            "text/plain": [
              "  0%|          | 0/1 [00:00<?, ?it/s]"
            ]
          },
          "metadata": {},
          "output_type": "display_data"
        }
      ],
      "source": [
        "dataset = load_dataset('amazon_us_reviews', 'Mobile_Electronics_v1_00')\n",
        "dataset = pd.DataFrame(dataset['train'][:])\n",
        "dataset[\"Sentiment\"] = dataset[\"star_rating\"].apply(lambda score: \"positive\" if score >= 3 else \"negative\")\n",
        "dataset['Sentiment'] = dataset['Sentiment'].map({'positive':1, 'negative':0})\n",
        "dataset = dataset[['review_body','Sentiment']]\n",
        "dataset.columns = ['reviews','labels']"
      ]
    },
    {
      "cell_type": "code",
      "execution_count": null,
      "metadata": {
        "id": "CBP7-sVIZ9MA"
      },
      "outputs": [],
      "source": [
        "sample_percentage = 500/dataset.shape[0]\n",
        "\n",
        "out_sample_500 = dataset.sample(frac= sample_percentage, replace=True, random_state=412)"
      ]
    },
    {
      "cell_type": "code",
      "execution_count": null,
      "metadata": {
        "colab": {
          "base_uri": "https://localhost:8080/",
          "height": 423
        },
        "id": "V_K9IKLpa_ko",
        "outputId": "88272fa7-858f-479e-8622-4f761cb9db66"
      },
      "outputs": [
        {
          "data": {
            "text/html": [
              "\n",
              "  <div id=\"df-19735680-4b15-4321-8b65-2256d645d7e8\">\n",
              "    <div class=\"colab-df-container\">\n",
              "      <div>\n",
              "<style scoped>\n",
              "    .dataframe tbody tr th:only-of-type {\n",
              "        vertical-align: middle;\n",
              "    }\n",
              "\n",
              "    .dataframe tbody tr th {\n",
              "        vertical-align: top;\n",
              "    }\n",
              "\n",
              "    .dataframe thead th {\n",
              "        text-align: right;\n",
              "    }\n",
              "</style>\n",
              "<table border=\"1\" class=\"dataframe\">\n",
              "  <thead>\n",
              "    <tr style=\"text-align: right;\">\n",
              "      <th></th>\n",
              "      <th>reviews</th>\n",
              "      <th>labels</th>\n",
              "    </tr>\n",
              "  </thead>\n",
              "  <tbody>\n",
              "    <tr>\n",
              "      <th>90098</th>\n",
              "      <td>This mount survived a motorcycle crash that th...</td>\n",
              "      <td>1</td>\n",
              "    </tr>\n",
              "    <tr>\n",
              "      <th>12172</th>\n",
              "      <td>Got these to use on desktop and laptop compute...</td>\n",
              "      <td>1</td>\n",
              "    </tr>\n",
              "    <tr>\n",
              "      <th>74597</th>\n",
              "      <td>I love this little guy. I actually own two of ...</td>\n",
              "      <td>1</td>\n",
              "    </tr>\n",
              "    <tr>\n",
              "      <th>29930</th>\n",
              "      <td>I bought this amp in need of something for my ...</td>\n",
              "      <td>1</td>\n",
              "    </tr>\n",
              "    <tr>\n",
              "      <th>90385</th>\n",
              "      <td>I love this ebook reader, I can change the fon...</td>\n",
              "      <td>1</td>\n",
              "    </tr>\n",
              "    <tr>\n",
              "      <th>...</th>\n",
              "      <td>...</td>\n",
              "      <td>...</td>\n",
              "    </tr>\n",
              "    <tr>\n",
              "      <th>65945</th>\n",
              "      <td>Best $20.00 I've ever spent.  Nice sound with ...</td>\n",
              "      <td>1</td>\n",
              "    </tr>\n",
              "    <tr>\n",
              "      <th>18593</th>\n",
              "      <td>The device works. The software fails to contro...</td>\n",
              "      <td>0</td>\n",
              "    </tr>\n",
              "    <tr>\n",
              "      <th>10565</th>\n",
              "      <td>Yeah bad idea to run these @ 1ohm on 3000 watt...</td>\n",
              "      <td>1</td>\n",
              "    </tr>\n",
              "    <tr>\n",
              "      <th>104162</th>\n",
              "      <td>This charger is great, it plugs directly into ...</td>\n",
              "      <td>1</td>\n",
              "    </tr>\n",
              "    <tr>\n",
              "      <th>15859</th>\n",
              "      <td>The P2030 is a replacement for an older Pionee...</td>\n",
              "      <td>1</td>\n",
              "    </tr>\n",
              "  </tbody>\n",
              "</table>\n",
              "<p>500 rows × 2 columns</p>\n",
              "</div>\n",
              "      <button class=\"colab-df-convert\" onclick=\"convertToInteractive('df-19735680-4b15-4321-8b65-2256d645d7e8')\"\n",
              "              title=\"Convert this dataframe to an interactive table.\"\n",
              "              style=\"display:none;\">\n",
              "        \n",
              "  <svg xmlns=\"http://www.w3.org/2000/svg\" height=\"24px\"viewBox=\"0 0 24 24\"\n",
              "       width=\"24px\">\n",
              "    <path d=\"M0 0h24v24H0V0z\" fill=\"none\"/>\n",
              "    <path d=\"M18.56 5.44l.94 2.06.94-2.06 2.06-.94-2.06-.94-.94-2.06-.94 2.06-2.06.94zm-11 1L8.5 8.5l.94-2.06 2.06-.94-2.06-.94L8.5 2.5l-.94 2.06-2.06.94zm10 10l.94 2.06.94-2.06 2.06-.94-2.06-.94-.94-2.06-.94 2.06-2.06.94z\"/><path d=\"M17.41 7.96l-1.37-1.37c-.4-.4-.92-.59-1.43-.59-.52 0-1.04.2-1.43.59L10.3 9.45l-7.72 7.72c-.78.78-.78 2.05 0 2.83L4 21.41c.39.39.9.59 1.41.59.51 0 1.02-.2 1.41-.59l7.78-7.78 2.81-2.81c.8-.78.8-2.07 0-2.86zM5.41 20L4 18.59l7.72-7.72 1.47 1.35L5.41 20z\"/>\n",
              "  </svg>\n",
              "      </button>\n",
              "      \n",
              "  <style>\n",
              "    .colab-df-container {\n",
              "      display:flex;\n",
              "      flex-wrap:wrap;\n",
              "      gap: 12px;\n",
              "    }\n",
              "\n",
              "    .colab-df-convert {\n",
              "      background-color: #E8F0FE;\n",
              "      border: none;\n",
              "      border-radius: 50%;\n",
              "      cursor: pointer;\n",
              "      display: none;\n",
              "      fill: #1967D2;\n",
              "      height: 32px;\n",
              "      padding: 0 0 0 0;\n",
              "      width: 32px;\n",
              "    }\n",
              "\n",
              "    .colab-df-convert:hover {\n",
              "      background-color: #E2EBFA;\n",
              "      box-shadow: 0px 1px 2px rgba(60, 64, 67, 0.3), 0px 1px 3px 1px rgba(60, 64, 67, 0.15);\n",
              "      fill: #174EA6;\n",
              "    }\n",
              "\n",
              "    [theme=dark] .colab-df-convert {\n",
              "      background-color: #3B4455;\n",
              "      fill: #D2E3FC;\n",
              "    }\n",
              "\n",
              "    [theme=dark] .colab-df-convert:hover {\n",
              "      background-color: #434B5C;\n",
              "      box-shadow: 0px 1px 3px 1px rgba(0, 0, 0, 0.15);\n",
              "      filter: drop-shadow(0px 1px 2px rgba(0, 0, 0, 0.3));\n",
              "      fill: #FFFFFF;\n",
              "    }\n",
              "  </style>\n",
              "\n",
              "      <script>\n",
              "        const buttonEl =\n",
              "          document.querySelector('#df-19735680-4b15-4321-8b65-2256d645d7e8 button.colab-df-convert');\n",
              "        buttonEl.style.display =\n",
              "          google.colab.kernel.accessAllowed ? 'block' : 'none';\n",
              "\n",
              "        async function convertToInteractive(key) {\n",
              "          const element = document.querySelector('#df-19735680-4b15-4321-8b65-2256d645d7e8');\n",
              "          const dataTable =\n",
              "            await google.colab.kernel.invokeFunction('convertToInteractive',\n",
              "                                                     [key], {});\n",
              "          if (!dataTable) return;\n",
              "\n",
              "          const docLinkHtml = 'Like what you see? Visit the ' +\n",
              "            '<a target=\"_blank\" href=https://colab.research.google.com/notebooks/data_table.ipynb>data table notebook</a>'\n",
              "            + ' to learn more about interactive tables.';\n",
              "          element.innerHTML = '';\n",
              "          dataTable['output_type'] = 'display_data';\n",
              "          await google.colab.output.renderOutput(dataTable, element);\n",
              "          const docLink = document.createElement('div');\n",
              "          docLink.innerHTML = docLinkHtml;\n",
              "          element.appendChild(docLink);\n",
              "        }\n",
              "      </script>\n",
              "    </div>\n",
              "  </div>\n",
              "  "
            ],
            "text/plain": [
              "                                                  reviews  labels\n",
              "90098   This mount survived a motorcycle crash that th...       1\n",
              "12172   Got these to use on desktop and laptop compute...       1\n",
              "74597   I love this little guy. I actually own two of ...       1\n",
              "29930   I bought this amp in need of something for my ...       1\n",
              "90385   I love this ebook reader, I can change the fon...       1\n",
              "...                                                   ...     ...\n",
              "65945   Best $20.00 I've ever spent.  Nice sound with ...       1\n",
              "18593   The device works. The software fails to contro...       0\n",
              "10565   Yeah bad idea to run these @ 1ohm on 3000 watt...       1\n",
              "104162  This charger is great, it plugs directly into ...       1\n",
              "15859   The P2030 is a replacement for an older Pionee...       1\n",
              "\n",
              "[500 rows x 2 columns]"
            ]
          },
          "execution_count": 369,
          "metadata": {},
          "output_type": "execute_result"
        }
      ],
      "source": [
        "out_sample_500"
      ]
    },
    {
      "cell_type": "markdown",
      "metadata": {
        "id": "ROwapfEHdbeD"
      },
      "source": [
        "#### b. (1 point) Use the fine-tuned model to make predictions on these examples and output predicted labels and associated probabilities.\n"
      ]
    },
    {
      "cell_type": "code",
      "execution_count": null,
      "metadata": {
        "id": "mSu3vZKaxDOe"
      },
      "outputs": [],
      "source": [
        "################## YOUR CODE HERE ##################\n",
        "\n",
        "####################################################"
      ]
    },
    {
      "cell_type": "code",
      "execution_count": null,
      "metadata": {
        "id": "aP1sCcsOaRH7"
      },
      "outputs": [],
      "source": [
        "def make_predictions_out_sample(data):\n",
        "  sample_testData_encodings = tokenizer(data['reviews'].to_list(), truncation=True, padding = \"max_length\")\n",
        "  sample_testDataset = my_Dataset(sample_testData_encodings, data['labels'].to_list())\n",
        "  predictions_sample=trainer.predict(sample_testDataset)\n",
        "  y_pred = list(predictions_sample.label_ids)\n",
        "  predictions_tensor = torch.from_numpy(predictions_sample.predictions)\n",
        "  #predictions_tensor = torch.from_numpy(predictions_sample.predictions)\n",
        "  predictions = torch.nn.functional.softmax(predictions_tensor, dim=-1)\n",
        "  predictions = predictions.cpu().detach().numpy()\n",
        "  resulting_probabilities = pd.DataFrame(predictions)\n",
        "  class1_probabilities = list(predictions[:,1])\n",
        "  class1_labels = [1 if item > 0.5 else 0 for item in class1_probabilities]\n",
        "  result_sample_test = pd.DataFrame(list(zip(class1_probabilities,class1_labels)), columns = ['Probabilities','Labels'])\n",
        "  return result_sample_test"
      ]
    },
    {
      "cell_type": "code",
      "execution_count": null,
      "metadata": {
        "colab": {
          "base_uri": "https://localhost:8080/",
          "height": 89
        },
        "id": "HCcvSg1ra80L",
        "outputId": "fa384d67-7dea-4caa-c7c7-1f320517f711"
      },
      "outputs": [
        {
          "name": "stderr",
          "output_type": "stream",
          "text": [
            "***** Running Prediction *****\n",
            "  Num examples = 500\n",
            "  Batch size = 4\n"
          ]
        },
        {
          "data": {
            "text/html": [
              "\n",
              "    <div>\n",
              "      \n",
              "      <progress value='26108' max='1250' style='width:300px; height:20px; vertical-align: middle;'></progress>\n",
              "      [1250/1250 7:47:52]\n",
              "    </div>\n",
              "    "
            ],
            "text/plain": [
              "<IPython.core.display.HTML object>"
            ]
          },
          "metadata": {},
          "output_type": "display_data"
        }
      ],
      "source": [
        "out_sample_500 = out_sample_500.reset_index().iloc[:,1:]\n",
        "\n",
        "result_out_sample_test = make_predictions_out_sample(out_sample_500)"
      ]
    },
    {
      "cell_type": "code",
      "execution_count": null,
      "metadata": {
        "colab": {
          "base_uri": "https://localhost:8080/",
          "height": 423
        },
        "id": "bqWZsR0pbOU4",
        "outputId": "0643afd1-9f64-494e-a3b5-9335bd33a75f"
      },
      "outputs": [
        {
          "data": {
            "text/html": [
              "\n",
              "  <div id=\"df-40c47052-24fe-4f80-8082-07355bde3fac\">\n",
              "    <div class=\"colab-df-container\">\n",
              "      <div>\n",
              "<style scoped>\n",
              "    .dataframe tbody tr th:only-of-type {\n",
              "        vertical-align: middle;\n",
              "    }\n",
              "\n",
              "    .dataframe tbody tr th {\n",
              "        vertical-align: top;\n",
              "    }\n",
              "\n",
              "    .dataframe thead th {\n",
              "        text-align: right;\n",
              "    }\n",
              "</style>\n",
              "<table border=\"1\" class=\"dataframe\">\n",
              "  <thead>\n",
              "    <tr style=\"text-align: right;\">\n",
              "      <th></th>\n",
              "      <th>Probabilities</th>\n",
              "      <th>Labels</th>\n",
              "    </tr>\n",
              "  </thead>\n",
              "  <tbody>\n",
              "    <tr>\n",
              "      <th>0</th>\n",
              "      <td>0.903601</td>\n",
              "      <td>1</td>\n",
              "    </tr>\n",
              "    <tr>\n",
              "      <th>1</th>\n",
              "      <td>0.999856</td>\n",
              "      <td>1</td>\n",
              "    </tr>\n",
              "    <tr>\n",
              "      <th>2</th>\n",
              "      <td>0.999986</td>\n",
              "      <td>1</td>\n",
              "    </tr>\n",
              "    <tr>\n",
              "      <th>3</th>\n",
              "      <td>0.003295</td>\n",
              "      <td>0</td>\n",
              "    </tr>\n",
              "    <tr>\n",
              "      <th>4</th>\n",
              "      <td>0.999985</td>\n",
              "      <td>1</td>\n",
              "    </tr>\n",
              "    <tr>\n",
              "      <th>...</th>\n",
              "      <td>...</td>\n",
              "      <td>...</td>\n",
              "    </tr>\n",
              "    <tr>\n",
              "      <th>495</th>\n",
              "      <td>0.998073</td>\n",
              "      <td>1</td>\n",
              "    </tr>\n",
              "    <tr>\n",
              "      <th>496</th>\n",
              "      <td>0.000010</td>\n",
              "      <td>0</td>\n",
              "    </tr>\n",
              "    <tr>\n",
              "      <th>497</th>\n",
              "      <td>0.000013</td>\n",
              "      <td>0</td>\n",
              "    </tr>\n",
              "    <tr>\n",
              "      <th>498</th>\n",
              "      <td>0.999828</td>\n",
              "      <td>1</td>\n",
              "    </tr>\n",
              "    <tr>\n",
              "      <th>499</th>\n",
              "      <td>0.999015</td>\n",
              "      <td>1</td>\n",
              "    </tr>\n",
              "  </tbody>\n",
              "</table>\n",
              "<p>500 rows × 2 columns</p>\n",
              "</div>\n",
              "      <button class=\"colab-df-convert\" onclick=\"convertToInteractive('df-40c47052-24fe-4f80-8082-07355bde3fac')\"\n",
              "              title=\"Convert this dataframe to an interactive table.\"\n",
              "              style=\"display:none;\">\n",
              "        \n",
              "  <svg xmlns=\"http://www.w3.org/2000/svg\" height=\"24px\"viewBox=\"0 0 24 24\"\n",
              "       width=\"24px\">\n",
              "    <path d=\"M0 0h24v24H0V0z\" fill=\"none\"/>\n",
              "    <path d=\"M18.56 5.44l.94 2.06.94-2.06 2.06-.94-2.06-.94-.94-2.06-.94 2.06-2.06.94zm-11 1L8.5 8.5l.94-2.06 2.06-.94-2.06-.94L8.5 2.5l-.94 2.06-2.06.94zm10 10l.94 2.06.94-2.06 2.06-.94-2.06-.94-.94-2.06-.94 2.06-2.06.94z\"/><path d=\"M17.41 7.96l-1.37-1.37c-.4-.4-.92-.59-1.43-.59-.52 0-1.04.2-1.43.59L10.3 9.45l-7.72 7.72c-.78.78-.78 2.05 0 2.83L4 21.41c.39.39.9.59 1.41.59.51 0 1.02-.2 1.41-.59l7.78-7.78 2.81-2.81c.8-.78.8-2.07 0-2.86zM5.41 20L4 18.59l7.72-7.72 1.47 1.35L5.41 20z\"/>\n",
              "  </svg>\n",
              "      </button>\n",
              "      \n",
              "  <style>\n",
              "    .colab-df-container {\n",
              "      display:flex;\n",
              "      flex-wrap:wrap;\n",
              "      gap: 12px;\n",
              "    }\n",
              "\n",
              "    .colab-df-convert {\n",
              "      background-color: #E8F0FE;\n",
              "      border: none;\n",
              "      border-radius: 50%;\n",
              "      cursor: pointer;\n",
              "      display: none;\n",
              "      fill: #1967D2;\n",
              "      height: 32px;\n",
              "      padding: 0 0 0 0;\n",
              "      width: 32px;\n",
              "    }\n",
              "\n",
              "    .colab-df-convert:hover {\n",
              "      background-color: #E2EBFA;\n",
              "      box-shadow: 0px 1px 2px rgba(60, 64, 67, 0.3), 0px 1px 3px 1px rgba(60, 64, 67, 0.15);\n",
              "      fill: #174EA6;\n",
              "    }\n",
              "\n",
              "    [theme=dark] .colab-df-convert {\n",
              "      background-color: #3B4455;\n",
              "      fill: #D2E3FC;\n",
              "    }\n",
              "\n",
              "    [theme=dark] .colab-df-convert:hover {\n",
              "      background-color: #434B5C;\n",
              "      box-shadow: 0px 1px 3px 1px rgba(0, 0, 0, 0.15);\n",
              "      filter: drop-shadow(0px 1px 2px rgba(0, 0, 0, 0.3));\n",
              "      fill: #FFFFFF;\n",
              "    }\n",
              "  </style>\n",
              "\n",
              "      <script>\n",
              "        const buttonEl =\n",
              "          document.querySelector('#df-40c47052-24fe-4f80-8082-07355bde3fac button.colab-df-convert');\n",
              "        buttonEl.style.display =\n",
              "          google.colab.kernel.accessAllowed ? 'block' : 'none';\n",
              "\n",
              "        async function convertToInteractive(key) {\n",
              "          const element = document.querySelector('#df-40c47052-24fe-4f80-8082-07355bde3fac');\n",
              "          const dataTable =\n",
              "            await google.colab.kernel.invokeFunction('convertToInteractive',\n",
              "                                                     [key], {});\n",
              "          if (!dataTable) return;\n",
              "\n",
              "          const docLinkHtml = 'Like what you see? Visit the ' +\n",
              "            '<a target=\"_blank\" href=https://colab.research.google.com/notebooks/data_table.ipynb>data table notebook</a>'\n",
              "            + ' to learn more about interactive tables.';\n",
              "          element.innerHTML = '';\n",
              "          dataTable['output_type'] = 'display_data';\n",
              "          await google.colab.output.renderOutput(dataTable, element);\n",
              "          const docLink = document.createElement('div');\n",
              "          docLink.innerHTML = docLinkHtml;\n",
              "          element.appendChild(docLink);\n",
              "        }\n",
              "      </script>\n",
              "    </div>\n",
              "  </div>\n",
              "  "
            ],
            "text/plain": [
              "     Probabilities  Labels\n",
              "0         0.903601       1\n",
              "1         0.999856       1\n",
              "2         0.999986       1\n",
              "3         0.003295       0\n",
              "4         0.999985       1\n",
              "..             ...     ...\n",
              "495       0.998073       1\n",
              "496       0.000010       0\n",
              "497       0.000013       0\n",
              "498       0.999828       1\n",
              "499       0.999015       1\n",
              "\n",
              "[500 rows x 2 columns]"
            ]
          },
          "execution_count": 383,
          "metadata": {},
          "output_type": "execute_result"
        }
      ],
      "source": [
        "result_out_sample_test"
      ]
    },
    {
      "cell_type": "markdown",
      "metadata": {
        "id": "PFoXo2H5dcKH"
      },
      "source": [
        "#### c. (1 point) Evaluate the fine-tuned model’s performance on these 500 examples using the metric specified in 1.2 (c).\n"
      ]
    },
    {
      "cell_type": "code",
      "execution_count": null,
      "metadata": {
        "id": "bzGTemcVxET-"
      },
      "outputs": [],
      "source": [
        "################## YOUR CODE HERE ##################\n",
        "\n",
        "####################################################"
      ]
    },
    {
      "cell_type": "code",
      "execution_count": null,
      "metadata": {
        "colab": {
          "base_uri": "https://localhost:8080/"
        },
        "id": "jbh8LocibQTY",
        "outputId": "c28389c5-042e-4677-d739-fccd1ee896e6"
      },
      "outputs": [
        {
          "name": "stdout",
          "output_type": "stream",
          "text": [
            "Model's performance on  500  samples of Test Set :  \n",
            "Accuracy :  0.816\n",
            "Precision :  0.936\n",
            "Recall :  0.582089552238806\n",
            "F1 :  0.7177914110429447\n"
          ]
        }
      ],
      "source": [
        "get_model_performance(list(out_sample_500['labels']), list(result_out_sample_test['Labels']))"
      ]
    },
    {
      "cell_type": "markdown",
      "metadata": {
        "id": "JmYgBCYVdfa3"
      },
      "source": [
        "#### d. (1 point) Compare the performance of the fine-tuned model on IMDB and this dataset.\n"
      ]
    },
    {
      "cell_type": "markdown",
      "metadata": {
        "id": "jE896ERXcDru"
      },
      "source": [
        "Answer\n",
        "\n",
        "\n",
        "Assumption : I am assuming that by IMDB dataset, the instructors are referring to the sample of the test set we created in 2.1 e.\n",
        "\n",
        "Model's performance on 1000 samples of Test Set :  \n",
        "  \n",
        "\n",
        "> Accuracy :  0.939\n",
        "\n",
        "> Precision :  0.9468302658486708\n",
        "\n",
        "> Recall :  0.929718875502008\n",
        "\n",
        "> F1 :  0.9381965552178317\n",
        "\n",
        "\n",
        "\n",
        "\n",
        "Model's performance on  500  samples of Test Set :  \n",
        "\n",
        "> Accuracy :  0.816\n",
        "\n",
        "> Precision :  0.936\n",
        "\n",
        "> Recall :  0.582089552238806\n",
        "\n",
        "> F1 :  0.7177914110429447\n",
        "\n",
        "\n",
        "\n",
        "\n"
      ]
    },
    {
      "cell_type": "markdown",
      "metadata": {
        "id": "iW21TCOodqRb"
      },
      "source": [
        "### 3.2 Error analysis of the fine-tuned model on out-of-distribution task [10 points]\n",
        "\n",
        "Next, do error analysis on the examples that the fine-tuned model failed to predict correctly. This is a common debugging step where buckets of errors are identified to inform how the model might be improved.\n"
      ]
    },
    {
      "cell_type": "markdown",
      "metadata": {
        "id": "9dO3_CEUd0F4"
      },
      "source": [
        "#### a. (1 point) Pull out the examples that your fine-tuned model made errors on.\n"
      ]
    },
    {
      "cell_type": "code",
      "execution_count": null,
      "metadata": {
        "id": "7Oe6-B0wxczb"
      },
      "outputs": [],
      "source": [
        "################## YOUR CODE HERE ##################\n",
        "\n",
        "####################################################"
      ]
    },
    {
      "cell_type": "code",
      "execution_count": null,
      "metadata": {
        "id": "otxkYAY0g78I"
      },
      "outputs": [],
      "source": [
        "all_predictions_gt = pd.concat([out_sample_500, result_out_sample_test], axis = 1)\n",
        "mismatches  = all_predictions_gt[all_predictions_gt['labels'] !=  all_predictions_gt['Labels']]"
      ]
    },
    {
      "cell_type": "code",
      "execution_count": null,
      "metadata": {
        "id": "sR3lHFufyQaU"
      },
      "outputs": [],
      "source": [
        "matches = all_predictions_gt[all_predictions_gt['labels'] ==  all_predictions_gt['Labels']]"
      ]
    },
    {
      "cell_type": "code",
      "execution_count": null,
      "metadata": {
        "colab": {
          "base_uri": "https://localhost:8080/",
          "height": 423
        },
        "id": "WORQCHF6hOix",
        "outputId": "d479c83b-731a-4601-95f7-aea6a71d02ae"
      },
      "outputs": [
        {
          "data": {
            "text/html": [
              "\n",
              "  <div id=\"df-a5ebe715-b2b8-4c0e-bd3a-321a65ea6239\">\n",
              "    <div class=\"colab-df-container\">\n",
              "      <div>\n",
              "<style scoped>\n",
              "    .dataframe tbody tr th:only-of-type {\n",
              "        vertical-align: middle;\n",
              "    }\n",
              "\n",
              "    .dataframe tbody tr th {\n",
              "        vertical-align: top;\n",
              "    }\n",
              "\n",
              "    .dataframe thead th {\n",
              "        text-align: right;\n",
              "    }\n",
              "</style>\n",
              "<table border=\"1\" class=\"dataframe\">\n",
              "  <thead>\n",
              "    <tr style=\"text-align: right;\">\n",
              "      <th></th>\n",
              "      <th>reviews</th>\n",
              "      <th>labels</th>\n",
              "      <th>Probabilities</th>\n",
              "      <th>Labels</th>\n",
              "    </tr>\n",
              "  </thead>\n",
              "  <tbody>\n",
              "    <tr>\n",
              "      <th>3</th>\n",
              "      <td>I bought this amp in need of something for my ...</td>\n",
              "      <td>1</td>\n",
              "      <td>0.003295</td>\n",
              "      <td>0</td>\n",
              "    </tr>\n",
              "    <tr>\n",
              "      <th>12</th>\n",
              "      <td>Well,&lt;br /&gt;I broke mine in under 48hrs, but it...</td>\n",
              "      <td>1</td>\n",
              "      <td>0.000033</td>\n",
              "      <td>0</td>\n",
              "    </tr>\n",
              "    <tr>\n",
              "      <th>16</th>\n",
              "      <td>This will protect your screen and help prevent...</td>\n",
              "      <td>1</td>\n",
              "      <td>0.000475</td>\n",
              "      <td>0</td>\n",
              "    </tr>\n",
              "    <tr>\n",
              "      <th>19</th>\n",
              "      <td>Portability, sound quality, battery life all w...</td>\n",
              "      <td>1</td>\n",
              "      <td>0.000184</td>\n",
              "      <td>0</td>\n",
              "    </tr>\n",
              "    <tr>\n",
              "      <th>22</th>\n",
              "      <td>I love the look of this case...It fits just fi...</td>\n",
              "      <td>1</td>\n",
              "      <td>0.001033</td>\n",
              "      <td>0</td>\n",
              "    </tr>\n",
              "    <tr>\n",
              "      <th>...</th>\n",
              "      <td>...</td>\n",
              "      <td>...</td>\n",
              "      <td>...</td>\n",
              "      <td>...</td>\n",
              "    </tr>\n",
              "    <tr>\n",
              "      <th>460</th>\n",
              "      <td>I bought this so I could listen to my podcasts...</td>\n",
              "      <td>1</td>\n",
              "      <td>0.000387</td>\n",
              "      <td>0</td>\n",
              "    </tr>\n",
              "    <tr>\n",
              "      <th>469</th>\n",
              "      <td>For some reason I did not think fingerprints w...</td>\n",
              "      <td>0</td>\n",
              "      <td>0.992239</td>\n",
              "      <td>1</td>\n",
              "    </tr>\n",
              "    <tr>\n",
              "      <th>489</th>\n",
              "      <td>Bought the product for a 10&amp;#34; kicker cvr. O...</td>\n",
              "      <td>0</td>\n",
              "      <td>0.998635</td>\n",
              "      <td>1</td>\n",
              "    </tr>\n",
              "    <tr>\n",
              "      <th>490</th>\n",
              "      <td>My RDS traffic service quit working on my GPS....</td>\n",
              "      <td>1</td>\n",
              "      <td>0.000029</td>\n",
              "      <td>0</td>\n",
              "    </tr>\n",
              "    <tr>\n",
              "      <th>497</th>\n",
              "      <td>Yeah bad idea to run these @ 1ohm on 3000 watt...</td>\n",
              "      <td>1</td>\n",
              "      <td>0.000013</td>\n",
              "      <td>0</td>\n",
              "    </tr>\n",
              "  </tbody>\n",
              "</table>\n",
              "<p>92 rows × 4 columns</p>\n",
              "</div>\n",
              "      <button class=\"colab-df-convert\" onclick=\"convertToInteractive('df-a5ebe715-b2b8-4c0e-bd3a-321a65ea6239')\"\n",
              "              title=\"Convert this dataframe to an interactive table.\"\n",
              "              style=\"display:none;\">\n",
              "        \n",
              "  <svg xmlns=\"http://www.w3.org/2000/svg\" height=\"24px\"viewBox=\"0 0 24 24\"\n",
              "       width=\"24px\">\n",
              "    <path d=\"M0 0h24v24H0V0z\" fill=\"none\"/>\n",
              "    <path d=\"M18.56 5.44l.94 2.06.94-2.06 2.06-.94-2.06-.94-.94-2.06-.94 2.06-2.06.94zm-11 1L8.5 8.5l.94-2.06 2.06-.94-2.06-.94L8.5 2.5l-.94 2.06-2.06.94zm10 10l.94 2.06.94-2.06 2.06-.94-2.06-.94-.94-2.06-.94 2.06-2.06.94z\"/><path d=\"M17.41 7.96l-1.37-1.37c-.4-.4-.92-.59-1.43-.59-.52 0-1.04.2-1.43.59L10.3 9.45l-7.72 7.72c-.78.78-.78 2.05 0 2.83L4 21.41c.39.39.9.59 1.41.59.51 0 1.02-.2 1.41-.59l7.78-7.78 2.81-2.81c.8-.78.8-2.07 0-2.86zM5.41 20L4 18.59l7.72-7.72 1.47 1.35L5.41 20z\"/>\n",
              "  </svg>\n",
              "      </button>\n",
              "      \n",
              "  <style>\n",
              "    .colab-df-container {\n",
              "      display:flex;\n",
              "      flex-wrap:wrap;\n",
              "      gap: 12px;\n",
              "    }\n",
              "\n",
              "    .colab-df-convert {\n",
              "      background-color: #E8F0FE;\n",
              "      border: none;\n",
              "      border-radius: 50%;\n",
              "      cursor: pointer;\n",
              "      display: none;\n",
              "      fill: #1967D2;\n",
              "      height: 32px;\n",
              "      padding: 0 0 0 0;\n",
              "      width: 32px;\n",
              "    }\n",
              "\n",
              "    .colab-df-convert:hover {\n",
              "      background-color: #E2EBFA;\n",
              "      box-shadow: 0px 1px 2px rgba(60, 64, 67, 0.3), 0px 1px 3px 1px rgba(60, 64, 67, 0.15);\n",
              "      fill: #174EA6;\n",
              "    }\n",
              "\n",
              "    [theme=dark] .colab-df-convert {\n",
              "      background-color: #3B4455;\n",
              "      fill: #D2E3FC;\n",
              "    }\n",
              "\n",
              "    [theme=dark] .colab-df-convert:hover {\n",
              "      background-color: #434B5C;\n",
              "      box-shadow: 0px 1px 3px 1px rgba(0, 0, 0, 0.15);\n",
              "      filter: drop-shadow(0px 1px 2px rgba(0, 0, 0, 0.3));\n",
              "      fill: #FFFFFF;\n",
              "    }\n",
              "  </style>\n",
              "\n",
              "      <script>\n",
              "        const buttonEl =\n",
              "          document.querySelector('#df-a5ebe715-b2b8-4c0e-bd3a-321a65ea6239 button.colab-df-convert');\n",
              "        buttonEl.style.display =\n",
              "          google.colab.kernel.accessAllowed ? 'block' : 'none';\n",
              "\n",
              "        async function convertToInteractive(key) {\n",
              "          const element = document.querySelector('#df-a5ebe715-b2b8-4c0e-bd3a-321a65ea6239');\n",
              "          const dataTable =\n",
              "            await google.colab.kernel.invokeFunction('convertToInteractive',\n",
              "                                                     [key], {});\n",
              "          if (!dataTable) return;\n",
              "\n",
              "          const docLinkHtml = 'Like what you see? Visit the ' +\n",
              "            '<a target=\"_blank\" href=https://colab.research.google.com/notebooks/data_table.ipynb>data table notebook</a>'\n",
              "            + ' to learn more about interactive tables.';\n",
              "          element.innerHTML = '';\n",
              "          dataTable['output_type'] = 'display_data';\n",
              "          await google.colab.output.renderOutput(dataTable, element);\n",
              "          const docLink = document.createElement('div');\n",
              "          docLink.innerHTML = docLinkHtml;\n",
              "          element.appendChild(docLink);\n",
              "        }\n",
              "      </script>\n",
              "    </div>\n",
              "  </div>\n",
              "  "
            ],
            "text/plain": [
              "                                               reviews  ...  Labels\n",
              "3    I bought this amp in need of something for my ...  ...       0\n",
              "12   Well,<br />I broke mine in under 48hrs, but it...  ...       0\n",
              "16   This will protect your screen and help prevent...  ...       0\n",
              "19   Portability, sound quality, battery life all w...  ...       0\n",
              "22   I love the look of this case...It fits just fi...  ...       0\n",
              "..                                                 ...  ...     ...\n",
              "460  I bought this so I could listen to my podcasts...  ...       0\n",
              "469  For some reason I did not think fingerprints w...  ...       1\n",
              "489  Bought the product for a 10&#34; kicker cvr. O...  ...       1\n",
              "490  My RDS traffic service quit working on my GPS....  ...       0\n",
              "497  Yeah bad idea to run these @ 1ohm on 3000 watt...  ...       0\n",
              "\n",
              "[92 rows x 4 columns]"
            ]
          },
          "execution_count": 390,
          "metadata": {},
          "output_type": "execute_result"
        }
      ],
      "source": [
        "mismatches"
      ]
    },
    {
      "cell_type": "markdown",
      "metadata": {
        "id": "uouC3NjGd2vI"
      },
      "source": [
        "#### b. (3 points) Identify at least 1 pattern that you believe your model is missing. Include at least 3 examples from the data that support your hypothesis.\n"
      ]
    },
    {
      "cell_type": "markdown",
      "metadata": {
        "id": "ItAj4tXSxfpt"
      },
      "source": [
        "**Answer:**\n",
        "\n",
        "In my opinion,a noticeable pattern in the reivews were incorrectly classified is the unclear distinction between which side the user is taking when talking about the product in question. For reviews where the user talks both in favor and against the product are missclassified by the model.\n",
        "\n",
        "**The below cells showcase reviews which had mismatches**\n"
      ]
    },
    {
      "cell_type": "markdown",
      "metadata": {
        "id": "uLpw2Y2wzjiN"
      },
      "source": [
        "***Mismatches***"
      ]
    },
    {
      "cell_type": "code",
      "execution_count": null,
      "metadata": {
        "colab": {
          "base_uri": "https://localhost:8080/",
          "height": 104
        },
        "id": "rNtMekLJiIrI",
        "outputId": "ca23368d-5cca-40a7-e8f6-7b1f9bb598fb"
      },
      "outputs": [
        {
          "data": {
            "application/vnd.google.colaboratory.intrinsic+json": {
              "type": "string"
            },
            "text/plain": [
              "\"This will protect your screen and help prevent fingerprints from accumulating all over.  It is a matte screen protector.  That means it WILL degrade the sharpness of the screen somewhat.  If you don't want fingerprints, this is for you.  If you don't mind the fingerprints and want a protector that will preserve the clarity of the screen, get a clear protector.  You can't have it both ways.<br /><br />Also, the matte finish will make the S-pen feel sluggish while using it on the protector.  Some say that it helps them write better.  Others say you can change the S-pen tip to get a more smooth feel from it.  I haven't tried replacing the tip because the different feel of the pen doesn't bother me.\""
            ]
          },
          "execution_count": 399,
          "metadata": {},
          "output_type": "execute_result"
        }
      ],
      "source": [
        "mismatches.iloc[2,0]"
      ]
    },
    {
      "cell_type": "code",
      "execution_count": null,
      "metadata": {
        "colab": {
          "base_uri": "https://localhost:8080/",
          "height": 122
        },
        "id": "Gi-TeGqRnK47",
        "outputId": "374b44ce-fba0-4993-c9a2-03f3d44cf2f0"
      },
      "outputs": [
        {
          "data": {
            "application/vnd.google.colaboratory.intrinsic+json": {
              "type": "string"
            },
            "text/plain": [
              "\"Well,<br />I broke mine in under 48hrs, but it was my own doing.<br /><br />- Seller delivered as promised, so you can trust these folks.<br />- Speaker isn't very good, but using your favorite headphones will be fine.<br />- microSD card support is true.<br />- It's pretty much in english.<br /><br />Warning#1 - Don't buy this if you're overweight; your fingers won't be able use the touch-screen well because the icons are small. I have no problem with it, but I'm not overweight... anymore.<br />Warning#2 - Don't be surprised if this doesn't play your MP4s well, or at all. Example, Diggnation podcasts.<br />Warning#3 - Don't upgrade the firmware, I did... and bricked it. I almost recovered it, but it went super-brick on me(not even seen by the PC/Linux at all) so now it's really broke. And that was in less than 48hrs of owning it!<br /><br />Would I order from these guys again? Sure, as soon as I figure out what other Korean PMP thing I want.\""
            ]
          },
          "execution_count": 398,
          "metadata": {},
          "output_type": "execute_result"
        }
      ],
      "source": [
        "mismatches.iloc[1,0]"
      ]
    },
    {
      "cell_type": "code",
      "execution_count": null,
      "metadata": {
        "colab": {
          "base_uri": "https://localhost:8080/",
          "height": 139
        },
        "id": "0brWknF8xy0w",
        "outputId": "b75fbf42-ff32-4f61-fd54-91da266e55e4"
      },
      "outputs": [
        {
          "data": {
            "application/vnd.google.colaboratory.intrinsic+json": {
              "type": "string"
            },
            "text/plain": [
              "'Despite what others have said, this being a difficult project, it is not as bad as it seems.  Took about a full day to do, but once it was done it worked like a charm.  Good range, starts immediately.  I have a 2002 GMC Sonoma with Passlock II that I had to bypass.  I used a PLJX (I believe it was) and grounded the wire that was supposed to go to the remote start (this completely disabled the anti-theft, as I didn\\'t want it active anyway) and used a wiring diagram from    [...]    The instructions were a little vague, but essentially all you need is the ignition, start, accessory,12v power, ground, and I would recommend the brake safety.  I opted not to install the hood mount safety and some of the other ones.  You do not need to hook your tach up to this unit, it has a \\\\\\\\\"self-learn\\\\\\\\\" feature that works rather well.  If you are not comfortable wiring or taking apart your vehicle or you are just incompetent in general, do not try this.  However, Best Buy quoted me $400 in labor, so......'"
            ]
          },
          "execution_count": 402,
          "metadata": {},
          "output_type": "execute_result"
        }
      ],
      "source": [
        "mismatches.iloc[5,0]"
      ]
    },
    {
      "cell_type": "markdown",
      "metadata": {
        "id": "Nl9eJgFQd4cW"
      },
      "source": [
        "#### c. (2 points) Explain why these examples might have been difficult for the fine-tuned model to correctly make predictions on.\n"
      ]
    },
    {
      "cell_type": "markdown",
      "metadata": {
        "id": "QJcUOKPZxgk2"
      },
      "source": [
        "**Answer:**\n",
        "\n",
        "\n",
        "I believe a reason for misclassification is that though reviewers are speaking in favor of the product they bought, yet the comparison they are making with other product, or discussion of shortcomings of the product in question is taken by the model in a negative light. For example:\n",
        "\n",
        "In the first example listed, the reviewer is in favor of the product and also makes the following comment : \"If you don't want fingerprints, this is for you.  If you don't mind the fingerprints and want a protector that will preserve the clarity of the screen, get a clear protector.\"\n",
        "\n",
        "Next, in the second example, the reviewer is in favor of buying the product by saying the following \"Would I order from these guys again? Sure, as soon as I figure out what other Korean PMP thing I want\", but also says \"Don't buy this if you're overweight; your fingers won't be able use the touch-screen well because the icons are small.\" which is against the product in question.\n",
        "\n",
        "Lastly, in the third review, the reviewer is seemingly in favor of using the product but then also says the following \"If you are not comfortable wiring or taking apart your vehicle or you are just incompetent in general, do not try this\" which has a negative connotation to it and is thus misclassified.\n",
        "\n",
        "We could also explore the usage of punctuation marks in both matches and mismatches datasets, and look at the distribution of punctuations in the reviews present in these datasets"
      ]
    },
    {
      "cell_type": "code",
      "execution_count": null,
      "metadata": {
        "colab": {
          "base_uri": "https://localhost:8080/"
        },
        "id": "pV4tCkiY1BKh",
        "outputId": "1f4c390b-996e-4c0c-dd69-549fc46597b4"
      },
      "outputs": [
        {
          "name": "stderr",
          "output_type": "stream",
          "text": [
            "/usr/local/lib/python3.7/dist-packages/ipykernel_launcher.py:2: SettingWithCopyWarning: \n",
            "A value is trying to be set on a copy of a slice from a DataFrame.\n",
            "Try using .loc[row_indexer,col_indexer] = value instead\n",
            "\n",
            "See the caveats in the documentation: https://pandas.pydata.org/pandas-docs/stable/user_guide/indexing.html#returning-a-view-versus-a-copy\n",
            "  \n"
          ]
        }
      ],
      "source": [
        "count = lambda l1,l2: sum([1 for x in l1 if x in l2])\n",
        "matches['punctuations'] = matches['reviews'].apply(lambda x : count(x,set(string.punctuation)))"
      ]
    },
    {
      "cell_type": "code",
      "execution_count": null,
      "metadata": {
        "colab": {
          "base_uri": "https://localhost:8080/",
          "height": 282
        },
        "id": "f5FDO_EG1Yus",
        "outputId": "1431765f-c44c-4652-9608-e6ece9030919"
      },
      "outputs": [
        {
          "data": {
            "text/plain": [
              "<matplotlib.axes._subplots.AxesSubplot at 0x7f5176cdd1d0>"
            ]
          },
          "execution_count": 417,
          "metadata": {},
          "output_type": "execute_result"
        },
        {
          "data": {
            "image/png": "[encoded data removed]",
            "text/plain": [
              "<Figure size 432x288 with 1 Axes>"
            ]
          },
          "metadata": {},
          "output_type": "display_data"
        }
      ],
      "source": [
        "matches['punctuations'].hist()"
      ]
    },
    {
      "cell_type": "code",
      "execution_count": null,
      "metadata": {
        "colab": {
          "base_uri": "https://localhost:8080/"
        },
        "id": "fOqSkpO21eEz",
        "outputId": "5028a8f2-16c8-4dc9-950f-bda27379d470"
      },
      "outputs": [
        {
          "name": "stderr",
          "output_type": "stream",
          "text": [
            "/usr/local/lib/python3.7/dist-packages/ipykernel_launcher.py:1: SettingWithCopyWarning: \n",
            "A value is trying to be set on a copy of a slice from a DataFrame.\n",
            "Try using .loc[row_indexer,col_indexer] = value instead\n",
            "\n",
            "See the caveats in the documentation: https://pandas.pydata.org/pandas-docs/stable/user_guide/indexing.html#returning-a-view-versus-a-copy\n",
            "  \"\"\"Entry point for launching an IPython kernel.\n"
          ]
        }
      ],
      "source": [
        "mismatches['punctuations'] = mismatches['reviews'].apply(lambda x : count(x,set(string.punctuation)))"
      ]
    },
    {
      "cell_type": "code",
      "execution_count": null,
      "metadata": {
        "colab": {
          "base_uri": "https://localhost:8080/",
          "height": 282
        },
        "id": "mH8t60Xs1ih2",
        "outputId": "bb1d6db9-aac2-49d9-f74f-158c2b60405c"
      },
      "outputs": [
        {
          "data": {
            "text/plain": [
              "<matplotlib.axes._subplots.AxesSubplot at 0x7f4ea5b09850>"
            ]
          },
          "execution_count": 419,
          "metadata": {},
          "output_type": "execute_result"
        },
        {
          "data": {
            "image/png": "[encoded data removed]",
            "text/plain": [
              "<Figure size 432x288 with 1 Axes>"
            ]
          },
          "metadata": {},
          "output_type": "display_data"
        }
      ],
      "source": [
        "mismatches['punctuations'].hist()"
      ]
    },
    {
      "cell_type": "markdown",
      "metadata": {
        "id": "fwMoA1HG2P5c"
      },
      "source": [
        "From the above histogram plots, we can observe that the reviews which were correctly classified (matches) actually had more punctuation marks, than the reviews having incorrect predicted labels. Therefore punctuation marks cannot be a reason for the low performance of the tuned-model on this out of sample dataset"
      ]
    },
    {
      "cell_type": "markdown",
      "metadata": {
        "id": "kBnlT6uLd6YW"
      },
      "source": [
        "#### d. (2 points) Manually write down 3 examples that conform to the pattern you observed, and run inference on them using the model. What did you find?\n"
      ]
    },
    {
      "cell_type": "code",
      "execution_count": null,
      "metadata": {
        "id": "rrenHC441hWR"
      },
      "outputs": [],
      "source": [
        "example1 = \"I loved the look! The knob to turn it on and off felt cheap hard to turn on and not pass FM always went to am and gently back to fm. Very cheap plastic but still super cute. I am sad it only lasted about 45 days and died if your handy you could probably take apart and solder some wires I did not attempt that just returned they kept about 5 bucks for my return. I’d love another just for the looks but don’t need if it’s gonna die quickly.\"\n",
        "label1 = 0\n",
        "example2 = \"It's true to the image, works well enough, easy tune, simple dials a monkey can figure out lol.... I like it. It is not bluetooth enabled however, it states this but I figured I would again because I ran into a teeny issue..... I saw it has the standard audio jack adaptor option... yes, more cords so annoying. But it's down in my greenhouse for my plants so it is fine. However, it won't play anything through it's headphone jack adaptor. No matter which tablet, iPhone, ipod device I've tried....even my mac book lol. So it was devices, so I tried switching the cords to see if it was pucky there. Nope. Nothing. My sound will be up on my device's media, it knows it isn't playing from it's speakers....but nothing comes from the stereo speakers.... The only reasonable thing I can imagine is maybe yhe a tual place you connect t to the Jack is jisy not having it lol Everything else works as expected. The usual dial that you turn from off to FM to AM with one dial. Then the other dial controls the volume. The tuner is located on the front area. It gives it the old look for sure. Sound is good not a lot of static except way up by edmonton in the boonies. But hey, who's surprised there?!\" \n",
        "label2 = 1\n",
        "example3 = \"Loved this radio for a few weeks, used it outside while gardening, worked great for a few weeks, then nothing but static. Changed batteries, etc. I don't think it's a quality product, but it is cute.\"\n",
        "label3 = 0"
      ]
    },
    {
      "cell_type": "code",
      "execution_count": null,
      "metadata": {
        "id": "6AgSHrW63n3c"
      },
      "outputs": [],
      "source": [
        "examples = [example1, example2, example3]\n",
        "labels = [label1, label2, label3]\n",
        "sample_ooo = pd.DataFrame(list(zip(examples, labels)), columns = ['reviews','labels'])"
      ]
    },
    {
      "cell_type": "code",
      "execution_count": null,
      "metadata": {
        "colab": {
          "base_uri": "https://localhost:8080/",
          "height": 143
        },
        "id": "U1ptIwzz35ng",
        "outputId": "6aa17209-7401-4481-c9ac-10af0747e98c"
      },
      "outputs": [
        {
          "data": {
            "text/html": [
              "\n",
              "  <div id=\"df-d5f550f7-2c0c-4b45-8423-c05c117b5d54\">\n",
              "    <div class=\"colab-df-container\">\n",
              "      <div>\n",
              "<style scoped>\n",
              "    .dataframe tbody tr th:only-of-type {\n",
              "        vertical-align: middle;\n",
              "    }\n",
              "\n",
              "    .dataframe tbody tr th {\n",
              "        vertical-align: top;\n",
              "    }\n",
              "\n",
              "    .dataframe thead th {\n",
              "        text-align: right;\n",
              "    }\n",
              "</style>\n",
              "<table border=\"1\" class=\"dataframe\">\n",
              "  <thead>\n",
              "    <tr style=\"text-align: right;\">\n",
              "      <th></th>\n",
              "      <th>reviews</th>\n",
              "      <th>labels</th>\n",
              "    </tr>\n",
              "  </thead>\n",
              "  <tbody>\n",
              "    <tr>\n",
              "      <th>0</th>\n",
              "      <td>I loved the look! The knob to turn it on and o...</td>\n",
              "      <td>0</td>\n",
              "    </tr>\n",
              "    <tr>\n",
              "      <th>1</th>\n",
              "      <td>It's true to the image, works well enough, eas...</td>\n",
              "      <td>1</td>\n",
              "    </tr>\n",
              "    <tr>\n",
              "      <th>2</th>\n",
              "      <td>Loved this radio for a few weeks, used it outs...</td>\n",
              "      <td>0</td>\n",
              "    </tr>\n",
              "  </tbody>\n",
              "</table>\n",
              "</div>\n",
              "      <button class=\"colab-df-convert\" onclick=\"convertToInteractive('df-d5f550f7-2c0c-4b45-8423-c05c117b5d54')\"\n",
              "              title=\"Convert this dataframe to an interactive table.\"\n",
              "              style=\"display:none;\">\n",
              "        \n",
              "  <svg xmlns=\"http://www.w3.org/2000/svg\" height=\"24px\"viewBox=\"0 0 24 24\"\n",
              "       width=\"24px\">\n",
              "    <path d=\"M0 0h24v24H0V0z\" fill=\"none\"/>\n",
              "    <path d=\"M18.56 5.44l.94 2.06.94-2.06 2.06-.94-2.06-.94-.94-2.06-.94 2.06-2.06.94zm-11 1L8.5 8.5l.94-2.06 2.06-.94-2.06-.94L8.5 2.5l-.94 2.06-2.06.94zm10 10l.94 2.06.94-2.06 2.06-.94-2.06-.94-.94-2.06-.94 2.06-2.06.94z\"/><path d=\"M17.41 7.96l-1.37-1.37c-.4-.4-.92-.59-1.43-.59-.52 0-1.04.2-1.43.59L10.3 9.45l-7.72 7.72c-.78.78-.78 2.05 0 2.83L4 21.41c.39.39.9.59 1.41.59.51 0 1.02-.2 1.41-.59l7.78-7.78 2.81-2.81c.8-.78.8-2.07 0-2.86zM5.41 20L4 18.59l7.72-7.72 1.47 1.35L5.41 20z\"/>\n",
              "  </svg>\n",
              "      </button>\n",
              "      \n",
              "  <style>\n",
              "    .colab-df-container {\n",
              "      display:flex;\n",
              "      flex-wrap:wrap;\n",
              "      gap: 12px;\n",
              "    }\n",
              "\n",
              "    .colab-df-convert {\n",
              "      background-color: #E8F0FE;\n",
              "      border: none;\n",
              "      border-radius: 50%;\n",
              "      cursor: pointer;\n",
              "      display: none;\n",
              "      fill: #1967D2;\n",
              "      height: 32px;\n",
              "      padding: 0 0 0 0;\n",
              "      width: 32px;\n",
              "    }\n",
              "\n",
              "    .colab-df-convert:hover {\n",
              "      background-color: #E2EBFA;\n",
              "      box-shadow: 0px 1px 2px rgba(60, 64, 67, 0.3), 0px 1px 3px 1px rgba(60, 64, 67, 0.15);\n",
              "      fill: #174EA6;\n",
              "    }\n",
              "\n",
              "    [theme=dark] .colab-df-convert {\n",
              "      background-color: #3B4455;\n",
              "      fill: #D2E3FC;\n",
              "    }\n",
              "\n",
              "    [theme=dark] .colab-df-convert:hover {\n",
              "      background-color: #434B5C;\n",
              "      box-shadow: 0px 1px 3px 1px rgba(0, 0, 0, 0.15);\n",
              "      filter: drop-shadow(0px 1px 2px rgba(0, 0, 0, 0.3));\n",
              "      fill: #FFFFFF;\n",
              "    }\n",
              "  </style>\n",
              "\n",
              "      <script>\n",
              "        const buttonEl =\n",
              "          document.querySelector('#df-d5f550f7-2c0c-4b45-8423-c05c117b5d54 button.colab-df-convert');\n",
              "        buttonEl.style.display =\n",
              "          google.colab.kernel.accessAllowed ? 'block' : 'none';\n",
              "\n",
              "        async function convertToInteractive(key) {\n",
              "          const element = document.querySelector('#df-d5f550f7-2c0c-4b45-8423-c05c117b5d54');\n",
              "          const dataTable =\n",
              "            await google.colab.kernel.invokeFunction('convertToInteractive',\n",
              "                                                     [key], {});\n",
              "          if (!dataTable) return;\n",
              "\n",
              "          const docLinkHtml = 'Like what you see? Visit the ' +\n",
              "            '<a target=\"_blank\" href=https://colab.research.google.com/notebooks/data_table.ipynb>data table notebook</a>'\n",
              "            + ' to learn more about interactive tables.';\n",
              "          element.innerHTML = '';\n",
              "          dataTable['output_type'] = 'display_data';\n",
              "          await google.colab.output.renderOutput(dataTable, element);\n",
              "          const docLink = document.createElement('div');\n",
              "          docLink.innerHTML = docLinkHtml;\n",
              "          element.appendChild(docLink);\n",
              "        }\n",
              "      </script>\n",
              "    </div>\n",
              "  </div>\n",
              "  "
            ],
            "text/plain": [
              "                                             reviews  labels\n",
              "0  I loved the look! The knob to turn it on and o...       0\n",
              "1  It's true to the image, works well enough, eas...       1\n",
              "2  Loved this radio for a few weeks, used it outs...       0"
            ]
          },
          "execution_count": 435,
          "metadata": {},
          "output_type": "execute_result"
        }
      ],
      "source": [
        "sample_ooo"
      ]
    },
    {
      "cell_type": "code",
      "execution_count": null,
      "metadata": {
        "colab": {
          "base_uri": "https://localhost:8080/",
          "height": 89
        },
        "id": "Jze_G6sR4ATB",
        "outputId": "d2efeb7c-cf60-4f07-ebb2-c313eff7a774"
      },
      "outputs": [
        {
          "name": "stderr",
          "output_type": "stream",
          "text": [
            "***** Running Prediction *****\n",
            "  Num examples = 3\n",
            "  Batch size = 4\n"
          ]
        },
        {
          "data": {
            "text/html": [
              "\n",
              "    <div>\n",
              "      \n",
              "      <progress value='26111' max='1250' style='width:300px; height:20px; vertical-align: middle;'></progress>\n",
              "      [1250/1250 9:40:26]\n",
              "    </div>\n",
              "    "
            ],
            "text/plain": [
              "<IPython.core.display.HTML object>"
            ]
          },
          "metadata": {},
          "output_type": "display_data"
        }
      ],
      "source": [
        "result_out_sample_test = make_predictions_out_sample(sample_ooo)"
      ]
    },
    {
      "cell_type": "code",
      "execution_count": null,
      "metadata": {
        "colab": {
          "base_uri": "https://localhost:8080/",
          "height": 143
        },
        "id": "PgNJqgCh4Cy7",
        "outputId": "9842a437-62e4-4109-adf9-04ebcd5e009d"
      },
      "outputs": [
        {
          "data": {
            "text/html": [
              "\n",
              "  <div id=\"df-f14eff81-11ff-4d81-95b3-95c85fce615e\">\n",
              "    <div class=\"colab-df-container\">\n",
              "      <div>\n",
              "<style scoped>\n",
              "    .dataframe tbody tr th:only-of-type {\n",
              "        vertical-align: middle;\n",
              "    }\n",
              "\n",
              "    .dataframe tbody tr th {\n",
              "        vertical-align: top;\n",
              "    }\n",
              "\n",
              "    .dataframe thead th {\n",
              "        text-align: right;\n",
              "    }\n",
              "</style>\n",
              "<table border=\"1\" class=\"dataframe\">\n",
              "  <thead>\n",
              "    <tr style=\"text-align: right;\">\n",
              "      <th></th>\n",
              "      <th>Probabilities</th>\n",
              "      <th>Labels</th>\n",
              "    </tr>\n",
              "  </thead>\n",
              "  <tbody>\n",
              "    <tr>\n",
              "      <th>0</th>\n",
              "      <td>0.997322</td>\n",
              "      <td>1</td>\n",
              "    </tr>\n",
              "    <tr>\n",
              "      <th>1</th>\n",
              "      <td>0.000548</td>\n",
              "      <td>0</td>\n",
              "    </tr>\n",
              "    <tr>\n",
              "      <th>2</th>\n",
              "      <td>0.999964</td>\n",
              "      <td>1</td>\n",
              "    </tr>\n",
              "  </tbody>\n",
              "</table>\n",
              "</div>\n",
              "      <button class=\"colab-df-convert\" onclick=\"convertToInteractive('df-f14eff81-11ff-4d81-95b3-95c85fce615e')\"\n",
              "              title=\"Convert this dataframe to an interactive table.\"\n",
              "              style=\"display:none;\">\n",
              "        \n",
              "  <svg xmlns=\"http://www.w3.org/2000/svg\" height=\"24px\"viewBox=\"0 0 24 24\"\n",
              "       width=\"24px\">\n",
              "    <path d=\"M0 0h24v24H0V0z\" fill=\"none\"/>\n",
              "    <path d=\"M18.56 5.44l.94 2.06.94-2.06 2.06-.94-2.06-.94-.94-2.06-.94 2.06-2.06.94zm-11 1L8.5 8.5l.94-2.06 2.06-.94-2.06-.94L8.5 2.5l-.94 2.06-2.06.94zm10 10l.94 2.06.94-2.06 2.06-.94-2.06-.94-.94-2.06-.94 2.06-2.06.94z\"/><path d=\"M17.41 7.96l-1.37-1.37c-.4-.4-.92-.59-1.43-.59-.52 0-1.04.2-1.43.59L10.3 9.45l-7.72 7.72c-.78.78-.78 2.05 0 2.83L4 21.41c.39.39.9.59 1.41.59.51 0 1.02-.2 1.41-.59l7.78-7.78 2.81-2.81c.8-.78.8-2.07 0-2.86zM5.41 20L4 18.59l7.72-7.72 1.47 1.35L5.41 20z\"/>\n",
              "  </svg>\n",
              "      </button>\n",
              "      \n",
              "  <style>\n",
              "    .colab-df-container {\n",
              "      display:flex;\n",
              "      flex-wrap:wrap;\n",
              "      gap: 12px;\n",
              "    }\n",
              "\n",
              "    .colab-df-convert {\n",
              "      background-color: #E8F0FE;\n",
              "      border: none;\n",
              "      border-radius: 50%;\n",
              "      cursor: pointer;\n",
              "      display: none;\n",
              "      fill: #1967D2;\n",
              "      height: 32px;\n",
              "      padding: 0 0 0 0;\n",
              "      width: 32px;\n",
              "    }\n",
              "\n",
              "    .colab-df-convert:hover {\n",
              "      background-color: #E2EBFA;\n",
              "      box-shadow: 0px 1px 2px rgba(60, 64, 67, 0.3), 0px 1px 3px 1px rgba(60, 64, 67, 0.15);\n",
              "      fill: #174EA6;\n",
              "    }\n",
              "\n",
              "    [theme=dark] .colab-df-convert {\n",
              "      background-color: #3B4455;\n",
              "      fill: #D2E3FC;\n",
              "    }\n",
              "\n",
              "    [theme=dark] .colab-df-convert:hover {\n",
              "      background-color: #434B5C;\n",
              "      box-shadow: 0px 1px 3px 1px rgba(0, 0, 0, 0.15);\n",
              "      filter: drop-shadow(0px 1px 2px rgba(0, 0, 0, 0.3));\n",
              "      fill: #FFFFFF;\n",
              "    }\n",
              "  </style>\n",
              "\n",
              "      <script>\n",
              "        const buttonEl =\n",
              "          document.querySelector('#df-f14eff81-11ff-4d81-95b3-95c85fce615e button.colab-df-convert');\n",
              "        buttonEl.style.display =\n",
              "          google.colab.kernel.accessAllowed ? 'block' : 'none';\n",
              "\n",
              "        async function convertToInteractive(key) {\n",
              "          const element = document.querySelector('#df-f14eff81-11ff-4d81-95b3-95c85fce615e');\n",
              "          const dataTable =\n",
              "            await google.colab.kernel.invokeFunction('convertToInteractive',\n",
              "                                                     [key], {});\n",
              "          if (!dataTable) return;\n",
              "\n",
              "          const docLinkHtml = 'Like what you see? Visit the ' +\n",
              "            '<a target=\"_blank\" href=https://colab.research.google.com/notebooks/data_table.ipynb>data table notebook</a>'\n",
              "            + ' to learn more about interactive tables.';\n",
              "          element.innerHTML = '';\n",
              "          dataTable['output_type'] = 'display_data';\n",
              "          await google.colab.output.renderOutput(dataTable, element);\n",
              "          const docLink = document.createElement('div');\n",
              "          docLink.innerHTML = docLinkHtml;\n",
              "          element.appendChild(docLink);\n",
              "        }\n",
              "      </script>\n",
              "    </div>\n",
              "  </div>\n",
              "  "
            ],
            "text/plain": [
              "   Probabilities  Labels\n",
              "0       0.997322       1\n",
              "1       0.000548       0\n",
              "2       0.999964       1"
            ]
          },
          "execution_count": 437,
          "metadata": {},
          "output_type": "execute_result"
        }
      ],
      "source": [
        "result_out_sample_test"
      ]
    },
    {
      "cell_type": "code",
      "execution_count": null,
      "metadata": {
        "colab": {
          "base_uri": "https://localhost:8080/",
          "height": 143
        },
        "id": "SrDTbyeJ7WMP",
        "outputId": "3c380c72-cd41-4bb4-b749-e82a548b9ae6"
      },
      "outputs": [
        {
          "data": {
            "text/html": [
              "\n",
              "  <div id=\"df-1eb30aa5-d986-40bb-91ac-f35e0a70be6b\">\n",
              "    <div class=\"colab-df-container\">\n",
              "      <div>\n",
              "<style scoped>\n",
              "    .dataframe tbody tr th:only-of-type {\n",
              "        vertical-align: middle;\n",
              "    }\n",
              "\n",
              "    .dataframe tbody tr th {\n",
              "        vertical-align: top;\n",
              "    }\n",
              "\n",
              "    .dataframe thead th {\n",
              "        text-align: right;\n",
              "    }\n",
              "</style>\n",
              "<table border=\"1\" class=\"dataframe\">\n",
              "  <thead>\n",
              "    <tr style=\"text-align: right;\">\n",
              "      <th></th>\n",
              "      <th>reviews</th>\n",
              "      <th>labels</th>\n",
              "      <th>Probabilities</th>\n",
              "      <th>Labels</th>\n",
              "    </tr>\n",
              "  </thead>\n",
              "  <tbody>\n",
              "    <tr>\n",
              "      <th>0</th>\n",
              "      <td>I loved the look! The knob to turn it on and o...</td>\n",
              "      <td>0</td>\n",
              "      <td>0.997322</td>\n",
              "      <td>1</td>\n",
              "    </tr>\n",
              "    <tr>\n",
              "      <th>1</th>\n",
              "      <td>It's true to the image, works well enough, eas...</td>\n",
              "      <td>1</td>\n",
              "      <td>0.000548</td>\n",
              "      <td>0</td>\n",
              "    </tr>\n",
              "    <tr>\n",
              "      <th>2</th>\n",
              "      <td>Loved this radio for a few weeks, used it outs...</td>\n",
              "      <td>0</td>\n",
              "      <td>0.999964</td>\n",
              "      <td>1</td>\n",
              "    </tr>\n",
              "  </tbody>\n",
              "</table>\n",
              "</div>\n",
              "      <button class=\"colab-df-convert\" onclick=\"convertToInteractive('df-1eb30aa5-d986-40bb-91ac-f35e0a70be6b')\"\n",
              "              title=\"Convert this dataframe to an interactive table.\"\n",
              "              style=\"display:none;\">\n",
              "        \n",
              "  <svg xmlns=\"http://www.w3.org/2000/svg\" height=\"24px\"viewBox=\"0 0 24 24\"\n",
              "       width=\"24px\">\n",
              "    <path d=\"M0 0h24v24H0V0z\" fill=\"none\"/>\n",
              "    <path d=\"M18.56 5.44l.94 2.06.94-2.06 2.06-.94-2.06-.94-.94-2.06-.94 2.06-2.06.94zm-11 1L8.5 8.5l.94-2.06 2.06-.94-2.06-.94L8.5 2.5l-.94 2.06-2.06.94zm10 10l.94 2.06.94-2.06 2.06-.94-2.06-.94-.94-2.06-.94 2.06-2.06.94z\"/><path d=\"M17.41 7.96l-1.37-1.37c-.4-.4-.92-.59-1.43-.59-.52 0-1.04.2-1.43.59L10.3 9.45l-7.72 7.72c-.78.78-.78 2.05 0 2.83L4 21.41c.39.39.9.59 1.41.59.51 0 1.02-.2 1.41-.59l7.78-7.78 2.81-2.81c.8-.78.8-2.07 0-2.86zM5.41 20L4 18.59l7.72-7.72 1.47 1.35L5.41 20z\"/>\n",
              "  </svg>\n",
              "      </button>\n",
              "      \n",
              "  <style>\n",
              "    .colab-df-container {\n",
              "      display:flex;\n",
              "      flex-wrap:wrap;\n",
              "      gap: 12px;\n",
              "    }\n",
              "\n",
              "    .colab-df-convert {\n",
              "      background-color: #E8F0FE;\n",
              "      border: none;\n",
              "      border-radius: 50%;\n",
              "      cursor: pointer;\n",
              "      display: none;\n",
              "      fill: #1967D2;\n",
              "      height: 32px;\n",
              "      padding: 0 0 0 0;\n",
              "      width: 32px;\n",
              "    }\n",
              "\n",
              "    .colab-df-convert:hover {\n",
              "      background-color: #E2EBFA;\n",
              "      box-shadow: 0px 1px 2px rgba(60, 64, 67, 0.3), 0px 1px 3px 1px rgba(60, 64, 67, 0.15);\n",
              "      fill: #174EA6;\n",
              "    }\n",
              "\n",
              "    [theme=dark] .colab-df-convert {\n",
              "      background-color: #3B4455;\n",
              "      fill: #D2E3FC;\n",
              "    }\n",
              "\n",
              "    [theme=dark] .colab-df-convert:hover {\n",
              "      background-color: #434B5C;\n",
              "      box-shadow: 0px 1px 3px 1px rgba(0, 0, 0, 0.15);\n",
              "      filter: drop-shadow(0px 1px 2px rgba(0, 0, 0, 0.3));\n",
              "      fill: #FFFFFF;\n",
              "    }\n",
              "  </style>\n",
              "\n",
              "      <script>\n",
              "        const buttonEl =\n",
              "          document.querySelector('#df-1eb30aa5-d986-40bb-91ac-f35e0a70be6b button.colab-df-convert');\n",
              "        buttonEl.style.display =\n",
              "          google.colab.kernel.accessAllowed ? 'block' : 'none';\n",
              "\n",
              "        async function convertToInteractive(key) {\n",
              "          const element = document.querySelector('#df-1eb30aa5-d986-40bb-91ac-f35e0a70be6b');\n",
              "          const dataTable =\n",
              "            await google.colab.kernel.invokeFunction('convertToInteractive',\n",
              "                                                     [key], {});\n",
              "          if (!dataTable) return;\n",
              "\n",
              "          const docLinkHtml = 'Like what you see? Visit the ' +\n",
              "            '<a target=\"_blank\" href=https://colab.research.google.com/notebooks/data_table.ipynb>data table notebook</a>'\n",
              "            + ' to learn more about interactive tables.';\n",
              "          element.innerHTML = '';\n",
              "          dataTable['output_type'] = 'display_data';\n",
              "          await google.colab.output.renderOutput(dataTable, element);\n",
              "          const docLink = document.createElement('div');\n",
              "          docLink.innerHTML = docLinkHtml;\n",
              "          element.appendChild(docLink);\n",
              "        }\n",
              "      </script>\n",
              "    </div>\n",
              "  </div>\n",
              "  "
            ],
            "text/plain": [
              "                                             reviews  ...  Labels\n",
              "0  I loved the look! The knob to turn it on and o...  ...       1\n",
              "1  It's true to the image, works well enough, eas...  ...       0\n",
              "2  Loved this radio for a few weeks, used it outs...  ...       1\n",
              "\n",
              "[3 rows x 4 columns]"
            ]
          },
          "execution_count": 439,
          "metadata": {},
          "output_type": "execute_result"
        }
      ],
      "source": [
        "result = pd.concat([sample_ooo, result_out_sample_test], axis = 1)\n",
        "result"
      ]
    },
    {
      "cell_type": "code",
      "execution_count": null,
      "metadata": {
        "id": "qa0ZE7FY7g8w"
      },
      "outputs": [],
      "source": [
        ""
      ]
    },
    {
      "cell_type": "code",
      "execution_count": null,
      "metadata": {
        "id": "sEVDg354xmOo"
      },
      "outputs": [],
      "source": [
        "################## YOUR CODE HERE ##################\n",
        "# Inference on your own examples\n",
        "####################################################"
      ]
    },
    {
      "cell_type": "markdown",
      "metadata": {
        "id": "dRwEgbQNxhRI"
      },
      "source": [
        "**Answer:**\n",
        "\n",
        "The above examples just like the mismatches talk about the product in both negativ and positive light, and as hypothesized earlier are incorrectly classified by the model "
      ]
    },
    {
      "cell_type": "markdown",
      "metadata": {
        "id": "1_8Fh9steQAU"
      },
      "source": [
        "#### e. (2 points) Suggest what steps we might take to address this error bucket.\n"
      ]
    },
    {
      "cell_type": "markdown",
      "metadata": {
        "id": "UwS8jntsxwZ5"
      },
      "source": [
        "**Answer:**\n",
        "\n",
        "[YOUR ANSWER HERE]"
      ]
    },
    {
      "cell_type": "markdown",
      "metadata": {
        "id": "8NQRHGXceRzU"
      },
      "source": [
        "### 3.3 Calibration [4 points]\n",
        "You will examine whether the fine-tuned model is calibrated. You might want to look into [sklearn.calibration.calibration_curve](https://scikit-learn.org/stable/modules/generated/sklearn.calibration.calibration_curve.html).\n"
      ]
    },
    {
      "cell_type": "markdown",
      "metadata": {
        "id": "7uhO5ncZetR3"
      },
      "source": [
        "#### a. (1 point) Compute the average calibration error of the fine-tuned model on IMDB.\n"
      ]
    },
    {
      "cell_type": "code",
      "execution_count": null,
      "metadata": {
        "id": "zr4_iyZvyFuj"
      },
      "outputs": [],
      "source": [
        "################## YOUR CODE HERE ##################\n",
        "\n",
        "####################################################"
      ]
    },
    {
      "cell_type": "markdown",
      "metadata": {
        "id": "R3T7_YVhevT4"
      },
      "source": [
        "#### b. (1 point) Compute the average calibration error of the fine-tuned model on the out-of-distribution dataset\n"
      ]
    },
    {
      "cell_type": "code",
      "execution_count": null,
      "metadata": {
        "id": "6sQ5SW10yHv5"
      },
      "outputs": [],
      "source": [
        "################## YOUR CODE HERE ##################\n",
        "\n",
        "####################################################"
      ]
    },
    {
      "cell_type": "markdown",
      "metadata": {
        "id": "g41sOEMfexi7"
      },
      "source": [
        "#### c. (2 points) Plot the calibration curves for the fine-tuned model on both datasets.\n"
      ]
    },
    {
      "cell_type": "code",
      "execution_count": null,
      "metadata": {
        "id": "C2D-dHNZyJYj"
      },
      "outputs": [],
      "source": [
        "################## YOUR CODE HERE ##################\n",
        "\n",
        "####################################################"
      ]
    },
    {
      "cell_type": "markdown",
      "metadata": {
        "id": "jjYcVsIyyMTV"
      },
      "source": [
        "**Answer:**\n",
        "\n",
        "[YOUR ANSWER HERE]"
      ]
    },
    {
      "cell_type": "markdown",
      "metadata": {
        "id": "iIEN2eFHfL5p"
      },
      "source": [
        "## Problem 4. Multilabel Tasks [20 points]\n",
        "\n",
        "Now we’ll be using our understanding of pretrained models and fine-tuned models to try to get good performance on a difficult dataset.\n",
        "\n",
        "Choose one of the following multilabel tasks:\n",
        "- Circa dataset: https://huggingface.co/datasets/circa \n",
        "- PUBHEALTH dataset: https://huggingface.co/datasets/health_fact\n",
        "- GoEmotions dataset: https://huggingface.co/datasets/go_emotions\n",
        "\n",
        "**Tip:** read the paper associated with each dataset.\n"
      ]
    },
    {
      "cell_type": "markdown",
      "metadata": {
        "id": "urBCgkqNvdTV"
      },
      "source": [
        "### 4.1 Analyze a multi-label classification dataset [7 points]"
      ]
    },
    {
      "cell_type": "markdown",
      "metadata": {
        "id": "Xcifhdl7fZhD"
      },
      "source": [
        "#### a. (2 points) Describe the train/test split distributions, the dataset’s columns, and their statistics.\n"
      ]
    },
    {
      "cell_type": "markdown",
      "metadata": {
        "id": "UXffBPHJySW5"
      },
      "source": [
        "**Answer:**\n",
        "\n",
        "[YOUR ANSWER HERE]"
      ]
    },
    {
      "cell_type": "markdown",
      "metadata": {
        "id": "vZ0fa9nYfa3q"
      },
      "source": [
        "#### b. (1 point) Plot its label distribution as a bar graph, with the labels on the x-axis and number of examples for each labels on the y-axis.\n"
      ]
    },
    {
      "cell_type": "code",
      "execution_count": null,
      "metadata": {
        "id": "jHSNImviyWaR"
      },
      "outputs": [],
      "source": [
        "################## YOUR CODE HERE ##################\n",
        "# See https://matplotlib.org/3.3.3/api/_as_gen/matplotlib.pyplot.bar.html\n",
        "####################################################"
      ]
    },
    {
      "cell_type": "markdown",
      "metadata": {
        "id": "rfK77Q5PyS28"
      },
      "source": [
        "**Answer:**\n",
        "\n",
        "[YOUR ANSWER HERE]"
      ]
    },
    {
      "cell_type": "markdown",
      "metadata": {
        "id": "pQulicAaftcC"
      },
      "source": [
        "#### c. (2 points) What metric(s) would be appropriate for this dataset? Why?\n"
      ]
    },
    {
      "cell_type": "markdown",
      "metadata": {
        "id": "YMq7z3RxyUiy"
      },
      "source": [
        "**Answer:**\n",
        "\n",
        "[YOUR ANSWER HERE]"
      ]
    },
    {
      "cell_type": "markdown",
      "metadata": {
        "id": "XY4u1i8PfwHi"
      },
      "source": [
        "#### d. (2 points) Explain why you might think that this dataset is hard.\n"
      ]
    },
    {
      "cell_type": "markdown",
      "metadata": {
        "id": "nMIPdOAlyhQF"
      },
      "source": [
        "**Answer:**\n",
        "\n",
        "[YOUR ANSWER HERE]"
      ]
    },
    {
      "cell_type": "markdown",
      "metadata": {
        "id": "bqgKisaChb4o"
      },
      "source": [
        "### 4.2 Fine-tuning a model for your multi-label classification task [13 points]"
      ]
    },
    {
      "cell_type": "markdown",
      "metadata": {
        "id": "Qs1MjwqIhki3"
      },
      "source": [
        "#### a. (1 point) Select a pre-trained model and instantiate it with the appropriate number of classes for your task. You are free to choose any framework you'd like for this part (HuggingFace's models, PyTorch, TensorFlow, etc.) "
      ]
    },
    {
      "cell_type": "code",
      "execution_count": null,
      "metadata": {
        "id": "jfHmHwKUhj5f"
      },
      "outputs": [],
      "source": [
        "################## YOUR CODE HERE ##################\n",
        "\n",
        "####################################################"
      ]
    },
    {
      "cell_type": "markdown",
      "metadata": {
        "id": "FuwCKd6oiHB7"
      },
      "source": [
        "#### b. (3 points) Pre-process the dataset for training and evaluation "
      ]
    },
    {
      "cell_type": "code",
      "execution_count": null,
      "metadata": {
        "id": "ovq3Pf7LiFSw"
      },
      "outputs": [],
      "source": [
        "################## YOUR CODE HERE ##################\n",
        "\n",
        "####################################################"
      ]
    },
    {
      "cell_type": "markdown",
      "metadata": {
        "id": "9Q1xPhANiXyb"
      },
      "source": [
        "#### c. (3 points) Fine tune the model on the pre-processed dataset"
      ]
    },
    {
      "cell_type": "code",
      "execution_count": null,
      "metadata": {
        "id": "fuLjku40lauW"
      },
      "outputs": [],
      "source": [
        "################## YOUR CODE HERE ##################\n",
        "\n",
        "####################################################"
      ]
    },
    {
      "cell_type": "markdown",
      "metadata": {
        "id": "yKu9bzIRl6oV"
      },
      "source": [
        "#### d. (3 points) Evaluate your model using the metrics you identified in 4.1 (c). "
      ]
    },
    {
      "cell_type": "code",
      "execution_count": null,
      "metadata": {
        "id": "MBOc4GiamFa7"
      },
      "outputs": [],
      "source": [
        "################## YOUR CODE HERE ##################\n",
        "\n",
        "####################################################"
      ]
    },
    {
      "cell_type": "markdown",
      "metadata": {
        "id": "8lDDc40Am_Qj"
      },
      "source": [
        "#### e. (3 points) On what class of labels does your fine-tuned model perform particularly well? On what class of labels does your model not do well? Where might you find or how might you construct new examples of this class to supplement your model's training? \n",
        "\n",
        "For those who chose to analyze the GoEmotions dataset, a list of the emotions used in the dataset can be found [here](https://github.com/google-research/google-research/blob/master/goemotions/data/emotions.txt)"
      ]
    },
    {
      "cell_type": "markdown",
      "metadata": {
        "id": "Xg7iR40Ono6E"
      },
      "source": [
        "**Answer:**\n",
        "\n",
        "[YOUR ANSWER HERE]"
      ]
    }
  ],
  "metadata": {
    "accelerator": "GPU",
    "colab": {
      "collapsed_sections": [],
      "machine_shape": "hm",
      "name": "CS329S_Problem_Set_2.ipynb",
      "provenance": [],
      "include_colab_link": true
    },
    "kernelspec": {
      "display_name": "Python 3",
      "name": "python3"
    },
    "widgets": {
      "application/vnd.jupyter.widget-state+json": {
        "10fd44d2f36949afbef459b2c92c3f5d": {
          "model_module": "@jupyter-widgets/base",
          "model_module_version": "1.2.0",
          "model_name": "LayoutModel",
          "state": {
            "_model_module": "@jupyter-widgets/base",
            "_model_module_version": "1.2.0",
            "_model_name": "LayoutModel",
            "_view_count": null,
            "_view_module": "@jupyter-widgets/base",
            "_view_module_version": "1.2.0",
            "_view_name": "LayoutView",
            "align_content": null,
            "align_items": null,
            "align_self": null,
            "border": null,
            "bottom": null,
            "display": null,
            "flex": null,
            "flex_flow": null,
            "grid_area": null,
            "grid_auto_columns": null,
            "grid_auto_flow": null,
            "grid_auto_rows": null,
            "grid_column": null,
            "grid_gap": null,
            "grid_row": null,
            "grid_template_areas": null,
            "grid_template_columns": null,
            "grid_template_rows": null,
            "height": null,
            "justify_content": null,
            "justify_items": null,
            "left": null,
            "margin": null,
            "max_height": null,
            "max_width": null,
            "min_height": null,
            "min_width": null,
            "object_fit": null,
            "object_position": null,
            "order": null,
            "overflow": null,
            "overflow_x": null,
            "overflow_y": null,
            "padding": null,
            "right": null,
            "top": null,
            "visibility": null,
            "width": null
          }
        },
        "3afa10182b6d40e98693339e325f0074": {
          "model_module": "@jupyter-widgets/controls",
          "model_module_version": "1.5.0",
          "model_name": "HBoxModel",
          "state": {
            "_dom_classes": [],
            "_model_module": "@jupyter-widgets/controls",
            "_model_module_version": "1.5.0",
            "_model_name": "HBoxModel",
            "_view_count": null,
            "_view_module": "@jupyter-widgets/controls",
            "_view_module_version": "1.5.0",
            "_view_name": "HBoxView",
            "box_style": "",
            "children": [
              "IPY_MODEL_c5f1c8326d56401393b5982cafb59de6",
              "IPY_MODEL_c11d0d005f234185a492f251829a4eae",
              "IPY_MODEL_47e3d29ee5634a38b1ddcf83bb164247"
            ],
            "layout": "IPY_MODEL_a7809c58de144c2a9c7df55aa2c8f765"
          }
        },
        "47e3d29ee5634a38b1ddcf83bb164247": {
          "model_module": "@jupyter-widgets/controls",
          "model_module_version": "1.5.0",
          "model_name": "HTMLModel",
          "state": {
            "_dom_classes": [],
            "_model_module": "@jupyter-widgets/controls",
            "_model_module_version": "1.5.0",
            "_model_name": "HTMLModel",
            "_view_count": null,
            "_view_module": "@jupyter-widgets/controls",
            "_view_module_version": "1.5.0",
            "_view_name": "HTMLView",
            "description": "",
            "description_tooltip": null,
            "layout": "IPY_MODEL_cc10808afbd94da38d57d50349e8760b",
            "placeholder": "​",
            "style": "IPY_MODEL_4dec94e6054b40d7b84ea39ae25b8897",
            "value": " 1/1 [00:00&lt;00:00, 28.96it/s]"
          }
        },
        "4dec94e6054b40d7b84ea39ae25b8897": {
          "model_module": "@jupyter-widgets/controls",
          "model_module_version": "1.5.0",
          "model_name": "DescriptionStyleModel",
          "state": {
            "_model_module": "@jupyter-widgets/controls",
            "_model_module_version": "1.5.0",
            "_model_name": "DescriptionStyleModel",
            "_view_count": null,
            "_view_module": "@jupyter-widgets/base",
            "_view_module_version": "1.2.0",
            "_view_name": "StyleView",
            "description_width": ""
          }
        },
        "6c5166c545fa4861a7cdcb8bb5e0fbc7": {
          "model_module": "@jupyter-widgets/controls",
          "model_module_version": "1.5.0",
          "model_name": "DescriptionStyleModel",
          "state": {
            "_model_module": "@jupyter-widgets/controls",
            "_model_module_version": "1.5.0",
            "_model_name": "DescriptionStyleModel",
            "_view_count": null,
            "_view_module": "@jupyter-widgets/base",
            "_view_module_version": "1.2.0",
            "_view_name": "StyleView",
            "description_width": ""
          }
        },
        "a7809c58de144c2a9c7df55aa2c8f765": {
          "model_module": "@jupyter-widgets/base",
          "model_module_version": "1.2.0",
          "model_name": "LayoutModel",
          "state": {
            "_model_module": "@jupyter-widgets/base",
            "_model_module_version": "1.2.0",
            "_model_name": "LayoutModel",
            "_view_count": null,
            "_view_module": "@jupyter-widgets/base",
            "_view_module_version": "1.2.0",
            "_view_name": "LayoutView",
            "align_content": null,
            "align_items": null,
            "align_self": null,
            "border": null,
            "bottom": null,
            "display": null,
            "flex": null,
            "flex_flow": null,
            "grid_area": null,
            "grid_auto_columns": null,
            "grid_auto_flow": null,
            "grid_auto_rows": null,
            "grid_column": null,
            "grid_gap": null,
            "grid_row": null,
            "grid_template_areas": null,
            "grid_template_columns": null,
            "grid_template_rows": null,
            "height": null,
            "justify_content": null,
            "justify_items": null,
            "left": null,
            "margin": null,
            "max_height": null,
            "max_width": null,
            "min_height": null,
            "min_width": null,
            "object_fit": null,
            "object_position": null,
            "order": null,
            "overflow": null,
            "overflow_x": null,
            "overflow_y": null,
            "padding": null,
            "right": null,
            "top": null,
            "visibility": null,
            "width": null
          }
        },
        "ad389cc162204d17b600625c068fd5dc": {
          "model_module": "@jupyter-widgets/base",
          "model_module_version": "1.2.0",
          "model_name": "LayoutModel",
          "state": {
            "_model_module": "@jupyter-widgets/base",
            "_model_module_version": "1.2.0",
            "_model_name": "LayoutModel",
            "_view_count": null,
            "_view_module": "@jupyter-widgets/base",
            "_view_module_version": "1.2.0",
            "_view_name": "LayoutView",
            "align_content": null,
            "align_items": null,
            "align_self": null,
            "border": null,
            "bottom": null,
            "display": null,
            "flex": null,
            "flex_flow": null,
            "grid_area": null,
            "grid_auto_columns": null,
            "grid_auto_flow": null,
            "grid_auto_rows": null,
            "grid_column": null,
            "grid_gap": null,
            "grid_row": null,
            "grid_template_areas": null,
            "grid_template_columns": null,
            "grid_template_rows": null,
            "height": null,
            "justify_content": null,
            "justify_items": null,
            "left": null,
            "margin": null,
            "max_height": null,
            "max_width": null,
            "min_height": null,
            "min_width": null,
            "object_fit": null,
            "object_position": null,
            "order": null,
            "overflow": null,
            "overflow_x": null,
            "overflow_y": null,
            "padding": null,
            "right": null,
            "top": null,
            "visibility": null,
            "width": null
          }
        },
        "c11d0d005f234185a492f251829a4eae": {
          "model_module": "@jupyter-widgets/controls",
          "model_module_version": "1.5.0",
          "model_name": "FloatProgressModel",
          "state": {
            "_dom_classes": [],
            "_model_module": "@jupyter-widgets/controls",
            "_model_module_version": "1.5.0",
            "_model_name": "FloatProgressModel",
            "_view_count": null,
            "_view_module": "@jupyter-widgets/controls",
            "_view_module_version": "1.5.0",
            "_view_name": "ProgressView",
            "bar_style": "success",
            "description": "",
            "description_tooltip": null,
            "layout": "IPY_MODEL_10fd44d2f36949afbef459b2c92c3f5d",
            "max": 1,
            "min": 0,
            "orientation": "horizontal",
            "style": "IPY_MODEL_cb95be89938947b0a5ac7f54532396a5",
            "value": 1
          }
        },
        "c5f1c8326d56401393b5982cafb59de6": {
          "model_module": "@jupyter-widgets/controls",
          "model_module_version": "1.5.0",
          "model_name": "HTMLModel",
          "state": {
            "_dom_classes": [],
            "_model_module": "@jupyter-widgets/controls",
            "_model_module_version": "1.5.0",
            "_model_name": "HTMLModel",
            "_view_count": null,
            "_view_module": "@jupyter-widgets/controls",
            "_view_module_version": "1.5.0",
            "_view_name": "HTMLView",
            "description": "",
            "description_tooltip": null,
            "layout": "IPY_MODEL_ad389cc162204d17b600625c068fd5dc",
            "placeholder": "​",
            "style": "IPY_MODEL_6c5166c545fa4861a7cdcb8bb5e0fbc7",
            "value": "100%"
          }
        },
        "cb95be89938947b0a5ac7f54532396a5": {
          "model_module": "@jupyter-widgets/controls",
          "model_module_version": "1.5.0",
          "model_name": "ProgressStyleModel",
          "state": {
            "_model_module": "@jupyter-widgets/controls",
            "_model_module_version": "1.5.0",
            "_model_name": "ProgressStyleModel",
            "_view_count": null,
            "_view_module": "@jupyter-widgets/base",
            "_view_module_version": "1.2.0",
            "_view_name": "StyleView",
            "bar_color": null,
            "description_width": ""
          }
        },
        "cc10808afbd94da38d57d50349e8760b": {
          "model_module": "@jupyter-widgets/base",
          "model_module_version": "1.2.0",
          "model_name": "LayoutModel",
          "state": {
            "_model_module": "@jupyter-widgets/base",
            "_model_module_version": "1.2.0",
            "_model_name": "LayoutModel",
            "_view_count": null,
            "_view_module": "@jupyter-widgets/base",
            "_view_module_version": "1.2.0",
            "_view_name": "LayoutView",
            "align_content": null,
            "align_items": null,
            "align_self": null,
            "border": null,
            "bottom": null,
            "display": null,
            "flex": null,
            "flex_flow": null,
            "grid_area": null,
            "grid_auto_columns": null,
            "grid_auto_flow": null,
            "grid_auto_rows": null,
            "grid_column": null,
            "grid_gap": null,
            "grid_row": null,
            "grid_template_areas": null,
            "grid_template_columns": null,
            "grid_template_rows": null,
            "height": null,
            "justify_content": null,
            "justify_items": null,
            "left": null,
            "margin": null,
            "max_height": null,
            "max_width": null,
            "min_height": null,
            "min_width": null,
            "object_fit": null,
            "object_position": null,
            "order": null,
            "overflow": null,
            "overflow_x": null,
            "overflow_y": null,
            "padding": null,
            "right": null,
            "top": null,
            "visibility": null,
            "width": null
          }
        },
        "fdb72f0401d44d4bbf4a867bb18ec2e3": {
          "model_module": "@jupyter-widgets/controls",
          "model_name": "HBoxModel",
          "model_module_version": "1.5.0",
          "state": {
            "_view_name": "HBoxView",
            "_dom_classes": [],
            "_model_name": "HBoxModel",
            "_view_module": "@jupyter-widgets/controls",
            "_model_module_version": "1.5.0",
            "_view_count": null,
            "_view_module_version": "1.5.0",
            "box_style": "",
            "layout": "IPY_MODEL_9e37633eb5fb4fb2a2a65790d8c9aa79",
            "_model_module": "@jupyter-widgets/controls",
            "children": [
              "IPY_MODEL_9c10d9c7ccd749c18ea2120ed0ed5870",
              "IPY_MODEL_a877cb95130b4ce3b29080fcc36e805d",
              "IPY_MODEL_b00fc90915c14c4f91d84aca3a8dd858"
            ]
          }
        },
        "9e37633eb5fb4fb2a2a65790d8c9aa79": {
          "model_module": "@jupyter-widgets/base",
          "model_name": "LayoutModel",
          "model_module_version": "1.2.0",
          "state": {
            "_view_name": "LayoutView",
            "grid_template_rows": null,
            "right": null,
            "justify_content": null,
            "_view_module": "@jupyter-widgets/base",
            "overflow": null,
            "_model_module_version": "1.2.0",
            "_view_count": null,
            "flex_flow": null,
            "width": null,
            "min_width": null,
            "border": null,
            "align_items": null,
            "bottom": null,
            "_model_module": "@jupyter-widgets/base",
            "top": null,
            "grid_column": null,
            "overflow_y": null,
            "overflow_x": null,
            "grid_auto_flow": null,
            "grid_area": null,
            "grid_template_columns": null,
            "flex": null,
            "_model_name": "LayoutModel",
            "justify_items": null,
            "grid_row": null,
            "max_height": null,
            "align_content": null,
            "visibility": null,
            "align_self": null,
            "height": null,
            "min_height": null,
            "padding": null,
            "grid_auto_rows": null,
            "grid_gap": null,
            "max_width": null,
            "order": null,
            "_view_module_version": "1.2.0",
            "grid_template_areas": null,
            "object_position": null,
            "object_fit": null,
            "grid_auto_columns": null,
            "margin": null,
            "display": null,
            "left": null
          }
        },
        "9c10d9c7ccd749c18ea2120ed0ed5870": {
          "model_module": "@jupyter-widgets/controls",
          "model_name": "HTMLModel",
          "model_module_version": "1.5.0",
          "state": {
            "_view_name": "HTMLView",
            "style": "IPY_MODEL_ecb73fdd26ad420d80f47e0ac4db3444",
            "_dom_classes": [],
            "description": "",
            "_model_name": "HTMLModel",
            "placeholder": "​",
            "_view_module": "@jupyter-widgets/controls",
            "_model_module_version": "1.5.0",
            "value": "Downloading: ",
            "_view_count": null,
            "_view_module_version": "1.5.0",
            "description_tooltip": null,
            "_model_module": "@jupyter-widgets/controls",
            "layout": "IPY_MODEL_ec8c293a82b94744a97eebc3fecbb390"
          }
        },
        "a877cb95130b4ce3b29080fcc36e805d": {
          "model_module": "@jupyter-widgets/controls",
          "model_name": "FloatProgressModel",
          "model_module_version": "1.5.0",
          "state": {
            "_view_name": "ProgressView",
            "style": "IPY_MODEL_39f6d7bb25594c159b4c92fc78507c77",
            "_dom_classes": [],
            "description": "",
            "_model_name": "FloatProgressModel",
            "bar_style": "success",
            "max": 1789,
            "_view_module": "@jupyter-widgets/controls",
            "_model_module_version": "1.5.0",
            "value": 1789,
            "_view_count": null,
            "_view_module_version": "1.5.0",
            "orientation": "horizontal",
            "min": 0,
            "description_tooltip": null,
            "_model_module": "@jupyter-widgets/controls",
            "layout": "IPY_MODEL_b1bba337c2624b749554cb061e272afe"
          }
        },
        "b00fc90915c14c4f91d84aca3a8dd858": {
          "model_module": "@jupyter-widgets/controls",
          "model_name": "HTMLModel",
          "model_module_version": "1.5.0",
          "state": {
            "_view_name": "HTMLView",
            "style": "IPY_MODEL_b7e5c30200b54898bc3621b4c7bb5614",
            "_dom_classes": [],
            "description": "",
            "_model_name": "HTMLModel",
            "placeholder": "​",
            "_view_module": "@jupyter-widgets/controls",
            "_model_module_version": "1.5.0",
            "value": " 4.31k/? [00:00&lt;00:00, 165kB/s]",
            "_view_count": null,
            "_view_module_version": "1.5.0",
            "description_tooltip": null,
            "_model_module": "@jupyter-widgets/controls",
            "layout": "IPY_MODEL_884ce9490ab64d35bdda3bf25ce0f587"
          }
        },
        "ecb73fdd26ad420d80f47e0ac4db3444": {
          "model_module": "@jupyter-widgets/controls",
          "model_name": "DescriptionStyleModel",
          "model_module_version": "1.5.0",
          "state": {
            "_view_name": "StyleView",
            "_model_name": "DescriptionStyleModel",
            "description_width": "",
            "_view_module": "@jupyter-widgets/base",
            "_model_module_version": "1.5.0",
            "_view_count": null,
            "_view_module_version": "1.2.0",
            "_model_module": "@jupyter-widgets/controls"
          }
        },
        "ec8c293a82b94744a97eebc3fecbb390": {
          "model_module": "@jupyter-widgets/base",
          "model_name": "LayoutModel",
          "model_module_version": "1.2.0",
          "state": {
            "_view_name": "LayoutView",
            "grid_template_rows": null,
            "right": null,
            "justify_content": null,
            "_view_module": "@jupyter-widgets/base",
            "overflow": null,
            "_model_module_version": "1.2.0",
            "_view_count": null,
            "flex_flow": null,
            "width": null,
            "min_width": null,
            "border": null,
            "align_items": null,
            "bottom": null,
            "_model_module": "@jupyter-widgets/base",
            "top": null,
            "grid_column": null,
            "overflow_y": null,
            "overflow_x": null,
            "grid_auto_flow": null,
            "grid_area": null,
            "grid_template_columns": null,
            "flex": null,
            "_model_name": "LayoutModel",
            "justify_items": null,
            "grid_row": null,
            "max_height": null,
            "align_content": null,
            "visibility": null,
            "align_self": null,
            "height": null,
            "min_height": null,
            "padding": null,
            "grid_auto_rows": null,
            "grid_gap": null,
            "max_width": null,
            "order": null,
            "_view_module_version": "1.2.0",
            "grid_template_areas": null,
            "object_position": null,
            "object_fit": null,
            "grid_auto_columns": null,
            "margin": null,
            "display": null,
            "left": null
          }
        },
        "39f6d7bb25594c159b4c92fc78507c77": {
          "model_module": "@jupyter-widgets/controls",
          "model_name": "ProgressStyleModel",
          "model_module_version": "1.5.0",
          "state": {
            "_view_name": "StyleView",
            "_model_name": "ProgressStyleModel",
            "description_width": "",
            "_view_module": "@jupyter-widgets/base",
            "_model_module_version": "1.5.0",
            "_view_count": null,
            "_view_module_version": "1.2.0",
            "bar_color": null,
            "_model_module": "@jupyter-widgets/controls"
          }
        },
        "b1bba337c2624b749554cb061e272afe": {
          "model_module": "@jupyter-widgets/base",
          "model_name": "LayoutModel",
          "model_module_version": "1.2.0",
          "state": {
            "_view_name": "LayoutView",
            "grid_template_rows": null,
            "right": null,
            "justify_content": null,
            "_view_module": "@jupyter-widgets/base",
            "overflow": null,
            "_model_module_version": "1.2.0",
            "_view_count": null,
            "flex_flow": null,
            "width": null,
            "min_width": null,
            "border": null,
            "align_items": null,
            "bottom": null,
            "_model_module": "@jupyter-widgets/base",
            "top": null,
            "grid_column": null,
            "overflow_y": null,
            "overflow_x": null,
            "grid_auto_flow": null,
            "grid_area": null,
            "grid_template_columns": null,
            "flex": null,
            "_model_name": "LayoutModel",
            "justify_items": null,
            "grid_row": null,
            "max_height": null,
            "align_content": null,
            "visibility": null,
            "align_self": null,
            "height": null,
            "min_height": null,
            "padding": null,
            "grid_auto_rows": null,
            "grid_gap": null,
            "max_width": null,
            "order": null,
            "_view_module_version": "1.2.0",
            "grid_template_areas": null,
            "object_position": null,
            "object_fit": null,
            "grid_auto_columns": null,
            "margin": null,
            "display": null,
            "left": null
          }
        },
        "b7e5c30200b54898bc3621b4c7bb5614": {
          "model_module": "@jupyter-widgets/controls",
          "model_name": "DescriptionStyleModel",
          "model_module_version": "1.5.0",
          "state": {
            "_view_name": "StyleView",
            "_model_name": "DescriptionStyleModel",
            "description_width": "",
            "_view_module": "@jupyter-widgets/base",
            "_model_module_version": "1.5.0",
            "_view_count": null,
            "_view_module_version": "1.2.0",
            "_model_module": "@jupyter-widgets/controls"
          }
        },
        "884ce9490ab64d35bdda3bf25ce0f587": {
          "model_module": "@jupyter-widgets/base",
          "model_name": "LayoutModel",
          "model_module_version": "1.2.0",
          "state": {
            "_view_name": "LayoutView",
            "grid_template_rows": null,
            "right": null,
            "justify_content": null,
            "_view_module": "@jupyter-widgets/base",
            "overflow": null,
            "_model_module_version": "1.2.0",
            "_view_count": null,
            "flex_flow": null,
            "width": null,
            "min_width": null,
            "border": null,
            "align_items": null,
            "bottom": null,
            "_model_module": "@jupyter-widgets/base",
            "top": null,
            "grid_column": null,
            "overflow_y": null,
            "overflow_x": null,
            "grid_auto_flow": null,
            "grid_area": null,
            "grid_template_columns": null,
            "flex": null,
            "_model_name": "LayoutModel",
            "justify_items": null,
            "grid_row": null,
            "max_height": null,
            "align_content": null,
            "visibility": null,
            "align_self": null,
            "height": null,
            "min_height": null,
            "padding": null,
            "grid_auto_rows": null,
            "grid_gap": null,
            "max_width": null,
            "order": null,
            "_view_module_version": "1.2.0",
            "grid_template_areas": null,
            "object_position": null,
            "object_fit": null,
            "grid_auto_columns": null,
            "margin": null,
            "display": null,
            "left": null
          }
        },
        "f72251285514483bbccd5a7b1ceaa052": {
          "model_module": "@jupyter-widgets/controls",
          "model_name": "HBoxModel",
          "model_module_version": "1.5.0",
          "state": {
            "_view_name": "HBoxView",
            "_dom_classes": [],
            "_model_name": "HBoxModel",
            "_view_module": "@jupyter-widgets/controls",
            "_model_module_version": "1.5.0",
            "_view_count": null,
            "_view_module_version": "1.5.0",
            "box_style": "",
            "layout": "IPY_MODEL_85d3756788b14822bd96de33a1f6b7f4",
            "_model_module": "@jupyter-widgets/controls",
            "children": [
              "IPY_MODEL_44f6ba59da0a4b06b6ac5b19b776614c",
              "IPY_MODEL_1f9c8c57096846e8aee79b3e2b0cc725",
              "IPY_MODEL_e02e435e0b78458ab73956ccbd33bf5b"
            ]
          }
        },
        "85d3756788b14822bd96de33a1f6b7f4": {
          "model_module": "@jupyter-widgets/base",
          "model_name": "LayoutModel",
          "model_module_version": "1.2.0",
          "state": {
            "_view_name": "LayoutView",
            "grid_template_rows": null,
            "right": null,
            "justify_content": null,
            "_view_module": "@jupyter-widgets/base",
            "overflow": null,
            "_model_module_version": "1.2.0",
            "_view_count": null,
            "flex_flow": null,
            "width": null,
            "min_width": null,
            "border": null,
            "align_items": null,
            "bottom": null,
            "_model_module": "@jupyter-widgets/base",
            "top": null,
            "grid_column": null,
            "overflow_y": null,
            "overflow_x": null,
            "grid_auto_flow": null,
            "grid_area": null,
            "grid_template_columns": null,
            "flex": null,
            "_model_name": "LayoutModel",
            "justify_items": null,
            "grid_row": null,
            "max_height": null,
            "align_content": null,
            "visibility": null,
            "align_self": null,
            "height": null,
            "min_height": null,
            "padding": null,
            "grid_auto_rows": null,
            "grid_gap": null,
            "max_width": null,
            "order": null,
            "_view_module_version": "1.2.0",
            "grid_template_areas": null,
            "object_position": null,
            "object_fit": null,
            "grid_auto_columns": null,
            "margin": null,
            "display": null,
            "left": null
          }
        },
        "44f6ba59da0a4b06b6ac5b19b776614c": {
          "model_module": "@jupyter-widgets/controls",
          "model_name": "HTMLModel",
          "model_module_version": "1.5.0",
          "state": {
            "_view_name": "HTMLView",
            "style": "IPY_MODEL_8c2fb54b5fdc434393245faf267fec36",
            "_dom_classes": [],
            "description": "",
            "_model_name": "HTMLModel",
            "placeholder": "​",
            "_view_module": "@jupyter-widgets/controls",
            "_model_module_version": "1.5.0",
            "value": "Downloading: ",
            "_view_count": null,
            "_view_module_version": "1.5.0",
            "description_tooltip": null,
            "_model_module": "@jupyter-widgets/controls",
            "layout": "IPY_MODEL_716d6d9807584eb5b122fd6bea22d985"
          }
        },
        "1f9c8c57096846e8aee79b3e2b0cc725": {
          "model_module": "@jupyter-widgets/controls",
          "model_name": "FloatProgressModel",
          "model_module_version": "1.5.0",
          "state": {
            "_view_name": "ProgressView",
            "style": "IPY_MODEL_9a743883ec9f4b0f93b35105df0aee11",
            "_dom_classes": [],
            "description": "",
            "_model_name": "FloatProgressModel",
            "bar_style": "success",
            "max": 1054,
            "_view_module": "@jupyter-widgets/controls",
            "_model_module_version": "1.5.0",
            "value": 1054,
            "_view_count": null,
            "_view_module_version": "1.5.0",
            "orientation": "horizontal",
            "min": 0,
            "description_tooltip": null,
            "_model_module": "@jupyter-widgets/controls",
            "layout": "IPY_MODEL_e02ad08f395142c9abffe0e31122d03b"
          }
        },
        "e02e435e0b78458ab73956ccbd33bf5b": {
          "model_module": "@jupyter-widgets/controls",
          "model_name": "HTMLModel",
          "model_module_version": "1.5.0",
          "state": {
            "_view_name": "HTMLView",
            "style": "IPY_MODEL_5045b9f45ec54c13b6fafddd70cf9e62",
            "_dom_classes": [],
            "description": "",
            "_model_name": "HTMLModel",
            "placeholder": "​",
            "_view_module": "@jupyter-widgets/controls",
            "_model_module_version": "1.5.0",
            "value": " 2.17k/? [00:00&lt;00:00, 89.4kB/s]",
            "_view_count": null,
            "_view_module_version": "1.5.0",
            "description_tooltip": null,
            "_model_module": "@jupyter-widgets/controls",
            "layout": "IPY_MODEL_13920ad960f146f5968903b25d8dae1d"
          }
        },
        "8c2fb54b5fdc434393245faf267fec36": {
          "model_module": "@jupyter-widgets/controls",
          "model_name": "DescriptionStyleModel",
          "model_module_version": "1.5.0",
          "state": {
            "_view_name": "StyleView",
            "_model_name": "DescriptionStyleModel",
            "description_width": "",
            "_view_module": "@jupyter-widgets/base",
            "_model_module_version": "1.5.0",
            "_view_count": null,
            "_view_module_version": "1.2.0",
            "_model_module": "@jupyter-widgets/controls"
          }
        },
        "716d6d9807584eb5b122fd6bea22d985": {
          "model_module": "@jupyter-widgets/base",
          "model_name": "LayoutModel",
          "model_module_version": "1.2.0",
          "state": {
            "_view_name": "LayoutView",
            "grid_template_rows": null,
            "right": null,
            "justify_content": null,
            "_view_module": "@jupyter-widgets/base",
            "overflow": null,
            "_model_module_version": "1.2.0",
            "_view_count": null,
            "flex_flow": null,
            "width": null,
            "min_width": null,
            "border": null,
            "align_items": null,
            "bottom": null,
            "_model_module": "@jupyter-widgets/base",
            "top": null,
            "grid_column": null,
            "overflow_y": null,
            "overflow_x": null,
            "grid_auto_flow": null,
            "grid_area": null,
            "grid_template_columns": null,
            "flex": null,
            "_model_name": "LayoutModel",
            "justify_items": null,
            "grid_row": null,
            "max_height": null,
            "align_content": null,
            "visibility": null,
            "align_self": null,
            "height": null,
            "min_height": null,
            "padding": null,
            "grid_auto_rows": null,
            "grid_gap": null,
            "max_width": null,
            "order": null,
            "_view_module_version": "1.2.0",
            "grid_template_areas": null,
            "object_position": null,
            "object_fit": null,
            "grid_auto_columns": null,
            "margin": null,
            "display": null,
            "left": null
          }
        },
        "9a743883ec9f4b0f93b35105df0aee11": {
          "model_module": "@jupyter-widgets/controls",
          "model_name": "ProgressStyleModel",
          "model_module_version": "1.5.0",
          "state": {
            "_view_name": "StyleView",
            "_model_name": "ProgressStyleModel",
            "description_width": "",
            "_view_module": "@jupyter-widgets/base",
            "_model_module_version": "1.5.0",
            "_view_count": null,
            "_view_module_version": "1.2.0",
            "bar_color": null,
            "_model_module": "@jupyter-widgets/controls"
          }
        },
        "e02ad08f395142c9abffe0e31122d03b": {
          "model_module": "@jupyter-widgets/base",
          "model_name": "LayoutModel",
          "model_module_version": "1.2.0",
          "state": {
            "_view_name": "LayoutView",
            "grid_template_rows": null,
            "right": null,
            "justify_content": null,
            "_view_module": "@jupyter-widgets/base",
            "overflow": null,
            "_model_module_version": "1.2.0",
            "_view_count": null,
            "flex_flow": null,
            "width": null,
            "min_width": null,
            "border": null,
            "align_items": null,
            "bottom": null,
            "_model_module": "@jupyter-widgets/base",
            "top": null,
            "grid_column": null,
            "overflow_y": null,
            "overflow_x": null,
            "grid_auto_flow": null,
            "grid_area": null,
            "grid_template_columns": null,
            "flex": null,
            "_model_name": "LayoutModel",
            "justify_items": null,
            "grid_row": null,
            "max_height": null,
            "align_content": null,
            "visibility": null,
            "align_self": null,
            "height": null,
            "min_height": null,
            "padding": null,
            "grid_auto_rows": null,
            "grid_gap": null,
            "max_width": null,
            "order": null,
            "_view_module_version": "1.2.0",
            "grid_template_areas": null,
            "object_position": null,
            "object_fit": null,
            "grid_auto_columns": null,
            "margin": null,
            "display": null,
            "left": null
          }
        },
        "5045b9f45ec54c13b6fafddd70cf9e62": {
          "model_module": "@jupyter-widgets/controls",
          "model_name": "DescriptionStyleModel",
          "model_module_version": "1.5.0",
          "state": {
            "_view_name": "StyleView",
            "_model_name": "DescriptionStyleModel",
            "description_width": "",
            "_view_module": "@jupyter-widgets/base",
            "_model_module_version": "1.5.0",
            "_view_count": null,
            "_view_module_version": "1.2.0",
            "_model_module": "@jupyter-widgets/controls"
          }
        },
        "13920ad960f146f5968903b25d8dae1d": {
          "model_module": "@jupyter-widgets/base",
          "model_name": "LayoutModel",
          "model_module_version": "1.2.0",
          "state": {
            "_view_name": "LayoutView",
            "grid_template_rows": null,
            "right": null,
            "justify_content": null,
            "_view_module": "@jupyter-widgets/base",
            "overflow": null,
            "_model_module_version": "1.2.0",
            "_view_count": null,
            "flex_flow": null,
            "width": null,
            "min_width": null,
            "border": null,
            "align_items": null,
            "bottom": null,
            "_model_module": "@jupyter-widgets/base",
            "top": null,
            "grid_column": null,
            "overflow_y": null,
            "overflow_x": null,
            "grid_auto_flow": null,
            "grid_area": null,
            "grid_template_columns": null,
            "flex": null,
            "_model_name": "LayoutModel",
            "justify_items": null,
            "grid_row": null,
            "max_height": null,
            "align_content": null,
            "visibility": null,
            "align_self": null,
            "height": null,
            "min_height": null,
            "padding": null,
            "grid_auto_rows": null,
            "grid_gap": null,
            "max_width": null,
            "order": null,
            "_view_module_version": "1.2.0",
            "grid_template_areas": null,
            "object_position": null,
            "object_fit": null,
            "grid_auto_columns": null,
            "margin": null,
            "display": null,
            "left": null
          }
        },
        "9f02772e38f84d429134a2b922dcc534": {
          "model_module": "@jupyter-widgets/controls",
          "model_name": "HBoxModel",
          "model_module_version": "1.5.0",
          "state": {
            "_view_name": "HBoxView",
            "_dom_classes": [],
            "_model_name": "HBoxModel",
            "_view_module": "@jupyter-widgets/controls",
            "_model_module_version": "1.5.0",
            "_view_count": null,
            "_view_module_version": "1.5.0",
            "box_style": "",
            "layout": "IPY_MODEL_72e653876e3b443982caa5f1ada2ffff",
            "_model_module": "@jupyter-widgets/controls",
            "children": [
              "IPY_MODEL_45277c07f0db4a50a4d6e112908d00c7",
              "IPY_MODEL_e6ee0c48e54d4cbea1b3b7dcd248aac2",
              "IPY_MODEL_7fe63228e1c444cbb0f4f9acae52ea3a"
            ]
          }
        },
        "72e653876e3b443982caa5f1ada2ffff": {
          "model_module": "@jupyter-widgets/base",
          "model_name": "LayoutModel",
          "model_module_version": "1.2.0",
          "state": {
            "_view_name": "LayoutView",
            "grid_template_rows": null,
            "right": null,
            "justify_content": null,
            "_view_module": "@jupyter-widgets/base",
            "overflow": null,
            "_model_module_version": "1.2.0",
            "_view_count": null,
            "flex_flow": null,
            "width": null,
            "min_width": null,
            "border": null,
            "align_items": null,
            "bottom": null,
            "_model_module": "@jupyter-widgets/base",
            "top": null,
            "grid_column": null,
            "overflow_y": null,
            "overflow_x": null,
            "grid_auto_flow": null,
            "grid_area": null,
            "grid_template_columns": null,
            "flex": null,
            "_model_name": "LayoutModel",
            "justify_items": null,
            "grid_row": null,
            "max_height": null,
            "align_content": null,
            "visibility": null,
            "align_self": null,
            "height": null,
            "min_height": null,
            "padding": null,
            "grid_auto_rows": null,
            "grid_gap": null,
            "max_width": null,
            "order": null,
            "_view_module_version": "1.2.0",
            "grid_template_areas": null,
            "object_position": null,
            "object_fit": null,
            "grid_auto_columns": null,
            "margin": null,
            "display": null,
            "left": null
          }
        },
        "45277c07f0db4a50a4d6e112908d00c7": {
          "model_module": "@jupyter-widgets/controls",
          "model_name": "HTMLModel",
          "model_module_version": "1.5.0",
          "state": {
            "_view_name": "HTMLView",
            "style": "IPY_MODEL_8834c4533dca4c069c04d2214d2972a8",
            "_dom_classes": [],
            "description": "",
            "_model_name": "HTMLModel",
            "placeholder": "​",
            "_view_module": "@jupyter-widgets/controls",
            "_model_module_version": "1.5.0",
            "value": "Downloading: 100%",
            "_view_count": null,
            "_view_module_version": "1.5.0",
            "description_tooltip": null,
            "_model_module": "@jupyter-widgets/controls",
            "layout": "IPY_MODEL_15872f0eea864569aeeae46ffbf8ed91"
          }
        },
        "e6ee0c48e54d4cbea1b3b7dcd248aac2": {
          "model_module": "@jupyter-widgets/controls",
          "model_name": "FloatProgressModel",
          "model_module_version": "1.5.0",
          "state": {
            "_view_name": "ProgressView",
            "style": "IPY_MODEL_138ddeafa8e44fb9af4537a3e36eae0a",
            "_dom_classes": [],
            "description": "",
            "_model_name": "FloatProgressModel",
            "bar_style": "success",
            "max": 84125825,
            "_view_module": "@jupyter-widgets/controls",
            "_model_module_version": "1.5.0",
            "value": 84125825,
            "_view_count": null,
            "_view_module_version": "1.5.0",
            "orientation": "horizontal",
            "min": 0,
            "description_tooltip": null,
            "_model_module": "@jupyter-widgets/controls",
            "layout": "IPY_MODEL_d18d1c913faa4b97837d670f46b22ac6"
          }
        },
        "7fe63228e1c444cbb0f4f9acae52ea3a": {
          "model_module": "@jupyter-widgets/controls",
          "model_name": "HTMLModel",
          "model_module_version": "1.5.0",
          "state": {
            "_view_name": "HTMLView",
            "style": "IPY_MODEL_266130e49edc48de898b9cea2ce44e49",
            "_dom_classes": [],
            "description": "",
            "_model_name": "HTMLModel",
            "placeholder": "​",
            "_view_module": "@jupyter-widgets/controls",
            "_model_module_version": "1.5.0",
            "value": " 84.1M/84.1M [00:09&lt;00:00, 21.5MB/s]",
            "_view_count": null,
            "_view_module_version": "1.5.0",
            "description_tooltip": null,
            "_model_module": "@jupyter-widgets/controls",
            "layout": "IPY_MODEL_fb41d3238ad141eabff153ef7f364091"
          }
        },
        "8834c4533dca4c069c04d2214d2972a8": {
          "model_module": "@jupyter-widgets/controls",
          "model_name": "DescriptionStyleModel",
          "model_module_version": "1.5.0",
          "state": {
            "_view_name": "StyleView",
            "_model_name": "DescriptionStyleModel",
            "description_width": "",
            "_view_module": "@jupyter-widgets/base",
            "_model_module_version": "1.5.0",
            "_view_count": null,
            "_view_module_version": "1.2.0",
            "_model_module": "@jupyter-widgets/controls"
          }
        },
        "15872f0eea864569aeeae46ffbf8ed91": {
          "model_module": "@jupyter-widgets/base",
          "model_name": "LayoutModel",
          "model_module_version": "1.2.0",
          "state": {
            "_view_name": "LayoutView",
            "grid_template_rows": null,
            "right": null,
            "justify_content": null,
            "_view_module": "@jupyter-widgets/base",
            "overflow": null,
            "_model_module_version": "1.2.0",
            "_view_count": null,
            "flex_flow": null,
            "width": null,
            "min_width": null,
            "border": null,
            "align_items": null,
            "bottom": null,
            "_model_module": "@jupyter-widgets/base",
            "top": null,
            "grid_column": null,
            "overflow_y": null,
            "overflow_x": null,
            "grid_auto_flow": null,
            "grid_area": null,
            "grid_template_columns": null,
            "flex": null,
            "_model_name": "LayoutModel",
            "justify_items": null,
            "grid_row": null,
            "max_height": null,
            "align_content": null,
            "visibility": null,
            "align_self": null,
            "height": null,
            "min_height": null,
            "padding": null,
            "grid_auto_rows": null,
            "grid_gap": null,
            "max_width": null,
            "order": null,
            "_view_module_version": "1.2.0",
            "grid_template_areas": null,
            "object_position": null,
            "object_fit": null,
            "grid_auto_columns": null,
            "margin": null,
            "display": null,
            "left": null
          }
        },
        "138ddeafa8e44fb9af4537a3e36eae0a": {
          "model_module": "@jupyter-widgets/controls",
          "model_name": "ProgressStyleModel",
          "model_module_version": "1.5.0",
          "state": {
            "_view_name": "StyleView",
            "_model_name": "ProgressStyleModel",
            "description_width": "",
            "_view_module": "@jupyter-widgets/base",
            "_model_module_version": "1.5.0",
            "_view_count": null,
            "_view_module_version": "1.2.0",
            "bar_color": null,
            "_model_module": "@jupyter-widgets/controls"
          }
        },
        "d18d1c913faa4b97837d670f46b22ac6": {
          "model_module": "@jupyter-widgets/base",
          "model_name": "LayoutModel",
          "model_module_version": "1.2.0",
          "state": {
            "_view_name": "LayoutView",
            "grid_template_rows": null,
            "right": null,
            "justify_content": null,
            "_view_module": "@jupyter-widgets/base",
            "overflow": null,
            "_model_module_version": "1.2.0",
            "_view_count": null,
            "flex_flow": null,
            "width": null,
            "min_width": null,
            "border": null,
            "align_items": null,
            "bottom": null,
            "_model_module": "@jupyter-widgets/base",
            "top": null,
            "grid_column": null,
            "overflow_y": null,
            "overflow_x": null,
            "grid_auto_flow": null,
            "grid_area": null,
            "grid_template_columns": null,
            "flex": null,
            "_model_name": "LayoutModel",
            "justify_items": null,
            "grid_row": null,
            "max_height": null,
            "align_content": null,
            "visibility": null,
            "align_self": null,
            "height": null,
            "min_height": null,
            "padding": null,
            "grid_auto_rows": null,
            "grid_gap": null,
            "max_width": null,
            "order": null,
            "_view_module_version": "1.2.0",
            "grid_template_areas": null,
            "object_position": null,
            "object_fit": null,
            "grid_auto_columns": null,
            "margin": null,
            "display": null,
            "left": null
          }
        },
        "266130e49edc48de898b9cea2ce44e49": {
          "model_module": "@jupyter-widgets/controls",
          "model_name": "DescriptionStyleModel",
          "model_module_version": "1.5.0",
          "state": {
            "_view_name": "StyleView",
            "_model_name": "DescriptionStyleModel",
            "description_width": "",
            "_view_module": "@jupyter-widgets/base",
            "_model_module_version": "1.5.0",
            "_view_count": null,
            "_view_module_version": "1.2.0",
            "_model_module": "@jupyter-widgets/controls"
          }
        },
        "fb41d3238ad141eabff153ef7f364091": {
          "model_module": "@jupyter-widgets/base",
          "model_name": "LayoutModel",
          "model_module_version": "1.2.0",
          "state": {
            "_view_name": "LayoutView",
            "grid_template_rows": null,
            "right": null,
            "justify_content": null,
            "_view_module": "@jupyter-widgets/base",
            "overflow": null,
            "_model_module_version": "1.2.0",
            "_view_count": null,
            "flex_flow": null,
            "width": null,
            "min_width": null,
            "border": null,
            "align_items": null,
            "bottom": null,
            "_model_module": "@jupyter-widgets/base",
            "top": null,
            "grid_column": null,
            "overflow_y": null,
            "overflow_x": null,
            "grid_auto_flow": null,
            "grid_area": null,
            "grid_template_columns": null,
            "flex": null,
            "_model_name": "LayoutModel",
            "justify_items": null,
            "grid_row": null,
            "max_height": null,
            "align_content": null,
            "visibility": null,
            "align_self": null,
            "height": null,
            "min_height": null,
            "padding": null,
            "grid_auto_rows": null,
            "grid_gap": null,
            "max_width": null,
            "order": null,
            "_view_module_version": "1.2.0",
            "grid_template_areas": null,
            "object_position": null,
            "object_fit": null,
            "grid_auto_columns": null,
            "margin": null,
            "display": null,
            "left": null
          }
        },
        "b7376ce8504b474ab0e34354d73a03ee": {
          "model_module": "@jupyter-widgets/controls",
          "model_name": "HBoxModel",
          "model_module_version": "1.5.0",
          "state": {
            "_view_name": "HBoxView",
            "_dom_classes": [],
            "_model_name": "HBoxModel",
            "_view_module": "@jupyter-widgets/controls",
            "_model_module_version": "1.5.0",
            "_view_count": null,
            "_view_module_version": "1.5.0",
            "box_style": "",
            "layout": "IPY_MODEL_ae279aa59455401c8916e2f23985c4c8",
            "_model_module": "@jupyter-widgets/controls",
            "children": [
              "IPY_MODEL_42913c515ff4429fbfdcc9267cabe54c",
              "IPY_MODEL_bd44f16a783f4538a9a5d5776df8e789",
              "IPY_MODEL_14667bc250934baca991ffc09414e47d"
            ]
          }
        },
        "ae279aa59455401c8916e2f23985c4c8": {
          "model_module": "@jupyter-widgets/base",
          "model_name": "LayoutModel",
          "model_module_version": "1.2.0",
          "state": {
            "_view_name": "LayoutView",
            "grid_template_rows": null,
            "right": null,
            "justify_content": null,
            "_view_module": "@jupyter-widgets/base",
            "overflow": null,
            "_model_module_version": "1.2.0",
            "_view_count": null,
            "flex_flow": null,
            "width": null,
            "min_width": null,
            "border": null,
            "align_items": null,
            "bottom": null,
            "_model_module": "@jupyter-widgets/base",
            "top": null,
            "grid_column": null,
            "overflow_y": null,
            "overflow_x": null,
            "grid_auto_flow": null,
            "grid_area": null,
            "grid_template_columns": null,
            "flex": null,
            "_model_name": "LayoutModel",
            "justify_items": null,
            "grid_row": null,
            "max_height": null,
            "align_content": null,
            "visibility": null,
            "align_self": null,
            "height": null,
            "min_height": null,
            "padding": null,
            "grid_auto_rows": null,
            "grid_gap": null,
            "max_width": null,
            "order": null,
            "_view_module_version": "1.2.0",
            "grid_template_areas": null,
            "object_position": null,
            "object_fit": null,
            "grid_auto_columns": null,
            "margin": null,
            "display": null,
            "left": null
          }
        },
        "42913c515ff4429fbfdcc9267cabe54c": {
          "model_module": "@jupyter-widgets/controls",
          "model_name": "HTMLModel",
          "model_module_version": "1.5.0",
          "state": {
            "_view_name": "HTMLView",
            "style": "IPY_MODEL_d0050cf45c924798a586497c3bf274cc",
            "_dom_classes": [],
            "description": "",
            "_model_name": "HTMLModel",
            "placeholder": "​",
            "_view_module": "@jupyter-widgets/controls",
            "_model_module_version": "1.5.0",
            "value": "",
            "_view_count": null,
            "_view_module_version": "1.5.0",
            "description_tooltip": null,
            "_model_module": "@jupyter-widgets/controls",
            "layout": "IPY_MODEL_60c396be718d421f8e0db0627c3dc9e0"
          }
        },
        "bd44f16a783f4538a9a5d5776df8e789": {
          "model_module": "@jupyter-widgets/controls",
          "model_name": "FloatProgressModel",
          "model_module_version": "1.5.0",
          "state": {
            "_view_name": "ProgressView",
            "style": "IPY_MODEL_ac16bcf219d3414d8e9f461b453a9573",
            "_dom_classes": [],
            "description": "",
            "_model_name": "FloatProgressModel",
            "bar_style": "info",
            "max": 1,
            "_view_module": "@jupyter-widgets/controls",
            "_model_module_version": "1.5.0",
            "value": 1,
            "_view_count": null,
            "_view_module_version": "1.5.0",
            "orientation": "horizontal",
            "min": 0,
            "description_tooltip": null,
            "_model_module": "@jupyter-widgets/controls",
            "layout": "IPY_MODEL_0785d7cfc53e46a1b7aabfc6548ce0df"
          }
        },
        "14667bc250934baca991ffc09414e47d": {
          "model_module": "@jupyter-widgets/controls",
          "model_name": "HTMLModel",
          "model_module_version": "1.5.0",
          "state": {
            "_view_name": "HTMLView",
            "style": "IPY_MODEL_78a4e652d7174955a9cfb44cec10438f",
            "_dom_classes": [],
            "description": "",
            "_model_name": "HTMLModel",
            "placeholder": "​",
            "_view_module": "@jupyter-widgets/controls",
            "_model_module_version": "1.5.0",
            "value": " 24696/0 [00:04&lt;00:00, 9152.15 examples/s]",
            "_view_count": null,
            "_view_module_version": "1.5.0",
            "description_tooltip": null,
            "_model_module": "@jupyter-widgets/controls",
            "layout": "IPY_MODEL_f9d27be4447840beb2bc547543e6d5aa"
          }
        },
        "d0050cf45c924798a586497c3bf274cc": {
          "model_module": "@jupyter-widgets/controls",
          "model_name": "DescriptionStyleModel",
          "model_module_version": "1.5.0",
          "state": {
            "_view_name": "StyleView",
            "_model_name": "DescriptionStyleModel",
            "description_width": "",
            "_view_module": "@jupyter-widgets/base",
            "_model_module_version": "1.5.0",
            "_view_count": null,
            "_view_module_version": "1.2.0",
            "_model_module": "@jupyter-widgets/controls"
          }
        },
        "60c396be718d421f8e0db0627c3dc9e0": {
          "model_module": "@jupyter-widgets/base",
          "model_name": "LayoutModel",
          "model_module_version": "1.2.0",
          "state": {
            "_view_name": "LayoutView",
            "grid_template_rows": null,
            "right": null,
            "justify_content": null,
            "_view_module": "@jupyter-widgets/base",
            "overflow": null,
            "_model_module_version": "1.2.0",
            "_view_count": null,
            "flex_flow": null,
            "width": null,
            "min_width": null,
            "border": null,
            "align_items": null,
            "bottom": null,
            "_model_module": "@jupyter-widgets/base",
            "top": null,
            "grid_column": null,
            "overflow_y": null,
            "overflow_x": null,
            "grid_auto_flow": null,
            "grid_area": null,
            "grid_template_columns": null,
            "flex": null,
            "_model_name": "LayoutModel",
            "justify_items": null,
            "grid_row": null,
            "max_height": null,
            "align_content": null,
            "visibility": null,
            "align_self": null,
            "height": null,
            "min_height": null,
            "padding": null,
            "grid_auto_rows": null,
            "grid_gap": null,
            "max_width": null,
            "order": null,
            "_view_module_version": "1.2.0",
            "grid_template_areas": null,
            "object_position": null,
            "object_fit": null,
            "grid_auto_columns": null,
            "margin": null,
            "display": null,
            "left": null
          }
        },
        "ac16bcf219d3414d8e9f461b453a9573": {
          "model_module": "@jupyter-widgets/controls",
          "model_name": "ProgressStyleModel",
          "model_module_version": "1.5.0",
          "state": {
            "_view_name": "StyleView",
            "_model_name": "ProgressStyleModel",
            "description_width": "",
            "_view_module": "@jupyter-widgets/base",
            "_model_module_version": "1.5.0",
            "_view_count": null,
            "_view_module_version": "1.2.0",
            "bar_color": null,
            "_model_module": "@jupyter-widgets/controls"
          }
        },
        "0785d7cfc53e46a1b7aabfc6548ce0df": {
          "model_module": "@jupyter-widgets/base",
          "model_name": "LayoutModel",
          "model_module_version": "1.2.0",
          "state": {
            "_view_name": "LayoutView",
            "grid_template_rows": null,
            "right": null,
            "justify_content": null,
            "_view_module": "@jupyter-widgets/base",
            "overflow": null,
            "_model_module_version": "1.2.0",
            "_view_count": null,
            "flex_flow": null,
            "width": "20px",
            "min_width": null,
            "border": null,
            "align_items": null,
            "bottom": null,
            "_model_module": "@jupyter-widgets/base",
            "top": null,
            "grid_column": null,
            "overflow_y": null,
            "overflow_x": null,
            "grid_auto_flow": null,
            "grid_area": null,
            "grid_template_columns": null,
            "flex": null,
            "_model_name": "LayoutModel",
            "justify_items": null,
            "grid_row": null,
            "max_height": null,
            "align_content": null,
            "visibility": null,
            "align_self": null,
            "height": null,
            "min_height": null,
            "padding": null,
            "grid_auto_rows": null,
            "grid_gap": null,
            "max_width": null,
            "order": null,
            "_view_module_version": "1.2.0",
            "grid_template_areas": null,
            "object_position": null,
            "object_fit": null,
            "grid_auto_columns": null,
            "margin": null,
            "display": null,
            "left": null
          }
        },
        "78a4e652d7174955a9cfb44cec10438f": {
          "model_module": "@jupyter-widgets/controls",
          "model_name": "DescriptionStyleModel",
          "model_module_version": "1.5.0",
          "state": {
            "_view_name": "StyleView",
            "_model_name": "DescriptionStyleModel",
            "description_width": "",
            "_view_module": "@jupyter-widgets/base",
            "_model_module_version": "1.5.0",
            "_view_count": null,
            "_view_module_version": "1.2.0",
            "_model_module": "@jupyter-widgets/controls"
          }
        },
        "f9d27be4447840beb2bc547543e6d5aa": {
          "model_module": "@jupyter-widgets/base",
          "model_name": "LayoutModel",
          "model_module_version": "1.2.0",
          "state": {
            "_view_name": "LayoutView",
            "grid_template_rows": null,
            "right": null,
            "justify_content": null,
            "_view_module": "@jupyter-widgets/base",
            "overflow": null,
            "_model_module_version": "1.2.0",
            "_view_count": null,
            "flex_flow": null,
            "width": null,
            "min_width": null,
            "border": null,
            "align_items": null,
            "bottom": null,
            "_model_module": "@jupyter-widgets/base",
            "top": null,
            "grid_column": null,
            "overflow_y": null,
            "overflow_x": null,
            "grid_auto_flow": null,
            "grid_area": null,
            "grid_template_columns": null,
            "flex": null,
            "_model_name": "LayoutModel",
            "justify_items": null,
            "grid_row": null,
            "max_height": null,
            "align_content": null,
            "visibility": null,
            "align_self": null,
            "height": null,
            "min_height": null,
            "padding": null,
            "grid_auto_rows": null,
            "grid_gap": null,
            "max_width": null,
            "order": null,
            "_view_module_version": "1.2.0",
            "grid_template_areas": null,
            "object_position": null,
            "object_fit": null,
            "grid_auto_columns": null,
            "margin": null,
            "display": null,
            "left": null
          }
        },
        "90ab8986fed54da7b9a5b0181c8db6bd": {
          "model_module": "@jupyter-widgets/controls",
          "model_name": "HBoxModel",
          "model_module_version": "1.5.0",
          "state": {
            "_view_name": "HBoxView",
            "_dom_classes": [],
            "_model_name": "HBoxModel",
            "_view_module": "@jupyter-widgets/controls",
            "_model_module_version": "1.5.0",
            "_view_count": null,
            "_view_module_version": "1.5.0",
            "box_style": "",
            "layout": "IPY_MODEL_0d7c2e000a774baa90a7f156a92bd492",
            "_model_module": "@jupyter-widgets/controls",
            "children": [
              "IPY_MODEL_c4132970d7bf42c68faece70ede354b3",
              "IPY_MODEL_372bd9c0bce640c88487c5c0ad9612bd",
              "IPY_MODEL_16ba1678a2f0412d89c03656856d24f5"
            ]
          }
        },
        "0d7c2e000a774baa90a7f156a92bd492": {
          "model_module": "@jupyter-widgets/base",
          "model_name": "LayoutModel",
          "model_module_version": "1.2.0",
          "state": {
            "_view_name": "LayoutView",
            "grid_template_rows": null,
            "right": null,
            "justify_content": null,
            "_view_module": "@jupyter-widgets/base",
            "overflow": null,
            "_model_module_version": "1.2.0",
            "_view_count": null,
            "flex_flow": null,
            "width": null,
            "min_width": null,
            "border": null,
            "align_items": null,
            "bottom": null,
            "_model_module": "@jupyter-widgets/base",
            "top": null,
            "grid_column": null,
            "overflow_y": null,
            "overflow_x": null,
            "grid_auto_flow": null,
            "grid_area": null,
            "grid_template_columns": null,
            "flex": null,
            "_model_name": "LayoutModel",
            "justify_items": null,
            "grid_row": null,
            "max_height": null,
            "align_content": null,
            "visibility": null,
            "align_self": null,
            "height": null,
            "min_height": null,
            "padding": null,
            "grid_auto_rows": null,
            "grid_gap": null,
            "max_width": null,
            "order": null,
            "_view_module_version": "1.2.0",
            "grid_template_areas": null,
            "object_position": null,
            "object_fit": null,
            "grid_auto_columns": null,
            "margin": null,
            "display": null,
            "left": null
          }
        },
        "c4132970d7bf42c68faece70ede354b3": {
          "model_module": "@jupyter-widgets/controls",
          "model_name": "HTMLModel",
          "model_module_version": "1.5.0",
          "state": {
            "_view_name": "HTMLView",
            "style": "IPY_MODEL_67872035b9834c4fa4d6d3ee0647d67f",
            "_dom_classes": [],
            "description": "",
            "_model_name": "HTMLModel",
            "placeholder": "​",
            "_view_module": "@jupyter-widgets/controls",
            "_model_module_version": "1.5.0",
            "value": "",
            "_view_count": null,
            "_view_module_version": "1.5.0",
            "description_tooltip": null,
            "_model_module": "@jupyter-widgets/controls",
            "layout": "IPY_MODEL_d45733c66aa24bfba78afd93ad9c13dd"
          }
        },
        "372bd9c0bce640c88487c5c0ad9612bd": {
          "model_module": "@jupyter-widgets/controls",
          "model_name": "FloatProgressModel",
          "model_module_version": "1.5.0",
          "state": {
            "_view_name": "ProgressView",
            "style": "IPY_MODEL_5f0133c140c345fca9b429e70603c302",
            "_dom_classes": [],
            "description": "",
            "_model_name": "FloatProgressModel",
            "bar_style": "info",
            "max": 1,
            "_view_module": "@jupyter-widgets/controls",
            "_model_module_version": "1.5.0",
            "value": 1,
            "_view_count": null,
            "_view_module_version": "1.5.0",
            "orientation": "horizontal",
            "min": 0,
            "description_tooltip": null,
            "_model_module": "@jupyter-widgets/controls",
            "layout": "IPY_MODEL_96842ce9dd5c449c81f6e17e5a5d713b"
          }
        },
        "16ba1678a2f0412d89c03656856d24f5": {
          "model_module": "@jupyter-widgets/controls",
          "model_name": "HTMLModel",
          "model_module_version": "1.5.0",
          "state": {
            "_view_name": "HTMLView",
            "style": "IPY_MODEL_07cff402b3d24bf39341ff0bdc124d16",
            "_dom_classes": [],
            "description": "",
            "_model_name": "HTMLModel",
            "placeholder": "​",
            "_view_module": "@jupyter-widgets/controls",
            "_model_module_version": "1.5.0",
            "value": " 24312/0 [00:03&lt;00:00, 9180.57 examples/s]",
            "_view_count": null,
            "_view_module_version": "1.5.0",
            "description_tooltip": null,
            "_model_module": "@jupyter-widgets/controls",
            "layout": "IPY_MODEL_62d10a31386d49758e05a9717e307463"
          }
        },
        "67872035b9834c4fa4d6d3ee0647d67f": {
          "model_module": "@jupyter-widgets/controls",
          "model_name": "DescriptionStyleModel",
          "model_module_version": "1.5.0",
          "state": {
            "_view_name": "StyleView",
            "_model_name": "DescriptionStyleModel",
            "description_width": "",
            "_view_module": "@jupyter-widgets/base",
            "_model_module_version": "1.5.0",
            "_view_count": null,
            "_view_module_version": "1.2.0",
            "_model_module": "@jupyter-widgets/controls"
          }
        },
        "d45733c66aa24bfba78afd93ad9c13dd": {
          "model_module": "@jupyter-widgets/base",
          "model_name": "LayoutModel",
          "model_module_version": "1.2.0",
          "state": {
            "_view_name": "LayoutView",
            "grid_template_rows": null,
            "right": null,
            "justify_content": null,
            "_view_module": "@jupyter-widgets/base",
            "overflow": null,
            "_model_module_version": "1.2.0",
            "_view_count": null,
            "flex_flow": null,
            "width": null,
            "min_width": null,
            "border": null,
            "align_items": null,
            "bottom": null,
            "_model_module": "@jupyter-widgets/base",
            "top": null,
            "grid_column": null,
            "overflow_y": null,
            "overflow_x": null,
            "grid_auto_flow": null,
            "grid_area": null,
            "grid_template_columns": null,
            "flex": null,
            "_model_name": "LayoutModel",
            "justify_items": null,
            "grid_row": null,
            "max_height": null,
            "align_content": null,
            "visibility": null,
            "align_self": null,
            "height": null,
            "min_height": null,
            "padding": null,
            "grid_auto_rows": null,
            "grid_gap": null,
            "max_width": null,
            "order": null,
            "_view_module_version": "1.2.0",
            "grid_template_areas": null,
            "object_position": null,
            "object_fit": null,
            "grid_auto_columns": null,
            "margin": null,
            "display": null,
            "left": null
          }
        },
        "5f0133c140c345fca9b429e70603c302": {
          "model_module": "@jupyter-widgets/controls",
          "model_name": "ProgressStyleModel",
          "model_module_version": "1.5.0",
          "state": {
            "_view_name": "StyleView",
            "_model_name": "ProgressStyleModel",
            "description_width": "",
            "_view_module": "@jupyter-widgets/base",
            "_model_module_version": "1.5.0",
            "_view_count": null,
            "_view_module_version": "1.2.0",
            "bar_color": null,
            "_model_module": "@jupyter-widgets/controls"
          }
        },
        "96842ce9dd5c449c81f6e17e5a5d713b": {
          "model_module": "@jupyter-widgets/base",
          "model_name": "LayoutModel",
          "model_module_version": "1.2.0",
          "state": {
            "_view_name": "LayoutView",
            "grid_template_rows": null,
            "right": null,
            "justify_content": null,
            "_view_module": "@jupyter-widgets/base",
            "overflow": null,
            "_model_module_version": "1.2.0",
            "_view_count": null,
            "flex_flow": null,
            "width": "20px",
            "min_width": null,
            "border": null,
            "align_items": null,
            "bottom": null,
            "_model_module": "@jupyter-widgets/base",
            "top": null,
            "grid_column": null,
            "overflow_y": null,
            "overflow_x": null,
            "grid_auto_flow": null,
            "grid_area": null,
            "grid_template_columns": null,
            "flex": null,
            "_model_name": "LayoutModel",
            "justify_items": null,
            "grid_row": null,
            "max_height": null,
            "align_content": null,
            "visibility": null,
            "align_self": null,
            "height": null,
            "min_height": null,
            "padding": null,
            "grid_auto_rows": null,
            "grid_gap": null,
            "max_width": null,
            "order": null,
            "_view_module_version": "1.2.0",
            "grid_template_areas": null,
            "object_position": null,
            "object_fit": null,
            "grid_auto_columns": null,
            "margin": null,
            "display": null,
            "left": null
          }
        },
        "07cff402b3d24bf39341ff0bdc124d16": {
          "model_module": "@jupyter-widgets/controls",
          "model_name": "DescriptionStyleModel",
          "model_module_version": "1.5.0",
          "state": {
            "_view_name": "StyleView",
            "_model_name": "DescriptionStyleModel",
            "description_width": "",
            "_view_module": "@jupyter-widgets/base",
            "_model_module_version": "1.5.0",
            "_view_count": null,
            "_view_module_version": "1.2.0",
            "_model_module": "@jupyter-widgets/controls"
          }
        },
        "62d10a31386d49758e05a9717e307463": {
          "model_module": "@jupyter-widgets/base",
          "model_name": "LayoutModel",
          "model_module_version": "1.2.0",
          "state": {
            "_view_name": "LayoutView",
            "grid_template_rows": null,
            "right": null,
            "justify_content": null,
            "_view_module": "@jupyter-widgets/base",
            "overflow": null,
            "_model_module_version": "1.2.0",
            "_view_count": null,
            "flex_flow": null,
            "width": null,
            "min_width": null,
            "border": null,
            "align_items": null,
            "bottom": null,
            "_model_module": "@jupyter-widgets/base",
            "top": null,
            "grid_column": null,
            "overflow_y": null,
            "overflow_x": null,
            "grid_auto_flow": null,
            "grid_area": null,
            "grid_template_columns": null,
            "flex": null,
            "_model_name": "LayoutModel",
            "justify_items": null,
            "grid_row": null,
            "max_height": null,
            "align_content": null,
            "visibility": null,
            "align_self": null,
            "height": null,
            "min_height": null,
            "padding": null,
            "grid_auto_rows": null,
            "grid_gap": null,
            "max_width": null,
            "order": null,
            "_view_module_version": "1.2.0",
            "grid_template_areas": null,
            "object_position": null,
            "object_fit": null,
            "grid_auto_columns": null,
            "margin": null,
            "display": null,
            "left": null
          }
        },
        "d0b110b1d42041e09cd16079c1e91900": {
          "model_module": "@jupyter-widgets/controls",
          "model_name": "HBoxModel",
          "model_module_version": "1.5.0",
          "state": {
            "_view_name": "HBoxView",
            "_dom_classes": [],
            "_model_name": "HBoxModel",
            "_view_module": "@jupyter-widgets/controls",
            "_model_module_version": "1.5.0",
            "_view_count": null,
            "_view_module_version": "1.5.0",
            "box_style": "",
            "layout": "IPY_MODEL_3dc08e113f6a469c9ddb5257087e3e70",
            "_model_module": "@jupyter-widgets/controls",
            "children": [
              "IPY_MODEL_a5c67869c4964fe6bb3dd5ab37e2edcc",
              "IPY_MODEL_d197afb030cc46cfa86ec219745ba7f9",
              "IPY_MODEL_bbd8502e682f43719262faf8d8967e21"
            ]
          }
        },
        "3dc08e113f6a469c9ddb5257087e3e70": {
          "model_module": "@jupyter-widgets/base",
          "model_name": "LayoutModel",
          "model_module_version": "1.2.0",
          "state": {
            "_view_name": "LayoutView",
            "grid_template_rows": null,
            "right": null,
            "justify_content": null,
            "_view_module": "@jupyter-widgets/base",
            "overflow": null,
            "_model_module_version": "1.2.0",
            "_view_count": null,
            "flex_flow": null,
            "width": null,
            "min_width": null,
            "border": null,
            "align_items": null,
            "bottom": null,
            "_model_module": "@jupyter-widgets/base",
            "top": null,
            "grid_column": null,
            "overflow_y": null,
            "overflow_x": null,
            "grid_auto_flow": null,
            "grid_area": null,
            "grid_template_columns": null,
            "flex": null,
            "_model_name": "LayoutModel",
            "justify_items": null,
            "grid_row": null,
            "max_height": null,
            "align_content": null,
            "visibility": null,
            "align_self": null,
            "height": null,
            "min_height": null,
            "padding": null,
            "grid_auto_rows": null,
            "grid_gap": null,
            "max_width": null,
            "order": null,
            "_view_module_version": "1.2.0",
            "grid_template_areas": null,
            "object_position": null,
            "object_fit": null,
            "grid_auto_columns": null,
            "margin": null,
            "display": null,
            "left": null
          }
        },
        "a5c67869c4964fe6bb3dd5ab37e2edcc": {
          "model_module": "@jupyter-widgets/controls",
          "model_name": "HTMLModel",
          "model_module_version": "1.5.0",
          "state": {
            "_view_name": "HTMLView",
            "style": "IPY_MODEL_becb4bc411c5450e943d738719b81c85",
            "_dom_classes": [],
            "description": "",
            "_model_name": "HTMLModel",
            "placeholder": "​",
            "_view_module": "@jupyter-widgets/controls",
            "_model_module_version": "1.5.0",
            "value": "",
            "_view_count": null,
            "_view_module_version": "1.5.0",
            "description_tooltip": null,
            "_model_module": "@jupyter-widgets/controls",
            "layout": "IPY_MODEL_94b2760ee48d4bad8aebf0328a98a938"
          }
        },
        "d197afb030cc46cfa86ec219745ba7f9": {
          "model_module": "@jupyter-widgets/controls",
          "model_name": "FloatProgressModel",
          "model_module_version": "1.5.0",
          "state": {
            "_view_name": "ProgressView",
            "style": "IPY_MODEL_08a184577e104314971dec14efa05962",
            "_dom_classes": [],
            "description": "",
            "_model_name": "FloatProgressModel",
            "bar_style": "info",
            "max": 1,
            "_view_module": "@jupyter-widgets/controls",
            "_model_module_version": "1.5.0",
            "value": 1,
            "_view_count": null,
            "_view_module_version": "1.5.0",
            "orientation": "horizontal",
            "min": 0,
            "description_tooltip": null,
            "_model_module": "@jupyter-widgets/controls",
            "layout": "IPY_MODEL_bb1f6bee539c438c97dbae36335f9da8"
          }
        },
        "bbd8502e682f43719262faf8d8967e21": {
          "model_module": "@jupyter-widgets/controls",
          "model_name": "HTMLModel",
          "model_module_version": "1.5.0",
          "state": {
            "_view_name": "HTMLView",
            "style": "IPY_MODEL_b3b8d853f6ea4c91aaae7f8a2587013f",
            "_dom_classes": [],
            "description": "",
            "_model_name": "HTMLModel",
            "placeholder": "​",
            "_view_module": "@jupyter-widgets/controls",
            "_model_module_version": "1.5.0",
            "value": " 49892/0 [00:08&lt;00:00, 9660.43 examples/s]",
            "_view_count": null,
            "_view_module_version": "1.5.0",
            "description_tooltip": null,
            "_model_module": "@jupyter-widgets/controls",
            "layout": "IPY_MODEL_2aef30b6b0c94e6abd203773ee00782f"
          }
        },
        "becb4bc411c5450e943d738719b81c85": {
          "model_module": "@jupyter-widgets/controls",
          "model_name": "DescriptionStyleModel",
          "model_module_version": "1.5.0",
          "state": {
            "_view_name": "StyleView",
            "_model_name": "DescriptionStyleModel",
            "description_width": "",
            "_view_module": "@jupyter-widgets/base",
            "_model_module_version": "1.5.0",
            "_view_count": null,
            "_view_module_version": "1.2.0",
            "_model_module": "@jupyter-widgets/controls"
          }
        },
        "94b2760ee48d4bad8aebf0328a98a938": {
          "model_module": "@jupyter-widgets/base",
          "model_name": "LayoutModel",
          "model_module_version": "1.2.0",
          "state": {
            "_view_name": "LayoutView",
            "grid_template_rows": null,
            "right": null,
            "justify_content": null,
            "_view_module": "@jupyter-widgets/base",
            "overflow": null,
            "_model_module_version": "1.2.0",
            "_view_count": null,
            "flex_flow": null,
            "width": null,
            "min_width": null,
            "border": null,
            "align_items": null,
            "bottom": null,
            "_model_module": "@jupyter-widgets/base",
            "top": null,
            "grid_column": null,
            "overflow_y": null,
            "overflow_x": null,
            "grid_auto_flow": null,
            "grid_area": null,
            "grid_template_columns": null,
            "flex": null,
            "_model_name": "LayoutModel",
            "justify_items": null,
            "grid_row": null,
            "max_height": null,
            "align_content": null,
            "visibility": null,
            "align_self": null,
            "height": null,
            "min_height": null,
            "padding": null,
            "grid_auto_rows": null,
            "grid_gap": null,
            "max_width": null,
            "order": null,
            "_view_module_version": "1.2.0",
            "grid_template_areas": null,
            "object_position": null,
            "object_fit": null,
            "grid_auto_columns": null,
            "margin": null,
            "display": null,
            "left": null
          }
        },
        "08a184577e104314971dec14efa05962": {
          "model_module": "@jupyter-widgets/controls",
          "model_name": "ProgressStyleModel",
          "model_module_version": "1.5.0",
          "state": {
            "_view_name": "StyleView",
            "_model_name": "ProgressStyleModel",
            "description_width": "",
            "_view_module": "@jupyter-widgets/base",
            "_model_module_version": "1.5.0",
            "_view_count": null,
            "_view_module_version": "1.2.0",
            "bar_color": null,
            "_model_module": "@jupyter-widgets/controls"
          }
        },
        "bb1f6bee539c438c97dbae36335f9da8": {
          "model_module": "@jupyter-widgets/base",
          "model_name": "LayoutModel",
          "model_module_version": "1.2.0",
          "state": {
            "_view_name": "LayoutView",
            "grid_template_rows": null,
            "right": null,
            "justify_content": null,
            "_view_module": "@jupyter-widgets/base",
            "overflow": null,
            "_model_module_version": "1.2.0",
            "_view_count": null,
            "flex_flow": null,
            "width": "20px",
            "min_width": null,
            "border": null,
            "align_items": null,
            "bottom": null,
            "_model_module": "@jupyter-widgets/base",
            "top": null,
            "grid_column": null,
            "overflow_y": null,
            "overflow_x": null,
            "grid_auto_flow": null,
            "grid_area": null,
            "grid_template_columns": null,
            "flex": null,
            "_model_name": "LayoutModel",
            "justify_items": null,
            "grid_row": null,
            "max_height": null,
            "align_content": null,
            "visibility": null,
            "align_self": null,
            "height": null,
            "min_height": null,
            "padding": null,
            "grid_auto_rows": null,
            "grid_gap": null,
            "max_width": null,
            "order": null,
            "_view_module_version": "1.2.0",
            "grid_template_areas": null,
            "object_position": null,
            "object_fit": null,
            "grid_auto_columns": null,
            "margin": null,
            "display": null,
            "left": null
          }
        },
        "b3b8d853f6ea4c91aaae7f8a2587013f": {
          "model_module": "@jupyter-widgets/controls",
          "model_name": "DescriptionStyleModel",
          "model_module_version": "1.5.0",
          "state": {
            "_view_name": "StyleView",
            "_model_name": "DescriptionStyleModel",
            "description_width": "",
            "_view_module": "@jupyter-widgets/base",
            "_model_module_version": "1.5.0",
            "_view_count": null,
            "_view_module_version": "1.2.0",
            "_model_module": "@jupyter-widgets/controls"
          }
        },
        "2aef30b6b0c94e6abd203773ee00782f": {
          "model_module": "@jupyter-widgets/base",
          "model_name": "LayoutModel",
          "model_module_version": "1.2.0",
          "state": {
            "_view_name": "LayoutView",
            "grid_template_rows": null,
            "right": null,
            "justify_content": null,
            "_view_module": "@jupyter-widgets/base",
            "overflow": null,
            "_model_module_version": "1.2.0",
            "_view_count": null,
            "flex_flow": null,
            "width": null,
            "min_width": null,
            "border": null,
            "align_items": null,
            "bottom": null,
            "_model_module": "@jupyter-widgets/base",
            "top": null,
            "grid_column": null,
            "overflow_y": null,
            "overflow_x": null,
            "grid_auto_flow": null,
            "grid_area": null,
            "grid_template_columns": null,
            "flex": null,
            "_model_name": "LayoutModel",
            "justify_items": null,
            "grid_row": null,
            "max_height": null,
            "align_content": null,
            "visibility": null,
            "align_self": null,
            "height": null,
            "min_height": null,
            "padding": null,
            "grid_auto_rows": null,
            "grid_gap": null,
            "max_width": null,
            "order": null,
            "_view_module_version": "1.2.0",
            "grid_template_areas": null,
            "object_position": null,
            "object_fit": null,
            "grid_auto_columns": null,
            "margin": null,
            "display": null,
            "left": null
          }
        },
        "a02bab2dd72a4513bb85fe4ebb2ea7bc": {
          "model_module": "@jupyter-widgets/controls",
          "model_name": "HBoxModel",
          "model_module_version": "1.5.0",
          "state": {
            "_view_name": "HBoxView",
            "_dom_classes": [],
            "_model_name": "HBoxModel",
            "_view_module": "@jupyter-widgets/controls",
            "_model_module_version": "1.5.0",
            "_view_count": null,
            "_view_module_version": "1.5.0",
            "box_style": "",
            "layout": "IPY_MODEL_23548bd4f021412b860f818abdb07db8",
            "_model_module": "@jupyter-widgets/controls",
            "children": [
              "IPY_MODEL_4cb1a25bf79241ffaeb9180eaa805211",
              "IPY_MODEL_6797d7a6d7c046ab862227315b0cfbc6",
              "IPY_MODEL_5f66757da7c342d4a2ad9dcb70cfafdb"
            ]
          }
        },
        "23548bd4f021412b860f818abdb07db8": {
          "model_module": "@jupyter-widgets/base",
          "model_name": "LayoutModel",
          "model_module_version": "1.2.0",
          "state": {
            "_view_name": "LayoutView",
            "grid_template_rows": null,
            "right": null,
            "justify_content": null,
            "_view_module": "@jupyter-widgets/base",
            "overflow": null,
            "_model_module_version": "1.2.0",
            "_view_count": null,
            "flex_flow": null,
            "width": null,
            "min_width": null,
            "border": null,
            "align_items": null,
            "bottom": null,
            "_model_module": "@jupyter-widgets/base",
            "top": null,
            "grid_column": null,
            "overflow_y": null,
            "overflow_x": null,
            "grid_auto_flow": null,
            "grid_area": null,
            "grid_template_columns": null,
            "flex": null,
            "_model_name": "LayoutModel",
            "justify_items": null,
            "grid_row": null,
            "max_height": null,
            "align_content": null,
            "visibility": null,
            "align_self": null,
            "height": null,
            "min_height": null,
            "padding": null,
            "grid_auto_rows": null,
            "grid_gap": null,
            "max_width": null,
            "order": null,
            "_view_module_version": "1.2.0",
            "grid_template_areas": null,
            "object_position": null,
            "object_fit": null,
            "grid_auto_columns": null,
            "margin": null,
            "display": null,
            "left": null
          }
        },
        "4cb1a25bf79241ffaeb9180eaa805211": {
          "model_module": "@jupyter-widgets/controls",
          "model_name": "HTMLModel",
          "model_module_version": "1.5.0",
          "state": {
            "_view_name": "HTMLView",
            "style": "IPY_MODEL_fbec4b955e3143a29b1f8a9e2f330542",
            "_dom_classes": [],
            "description": "",
            "_model_name": "HTMLModel",
            "placeholder": "​",
            "_view_module": "@jupyter-widgets/controls",
            "_model_module_version": "1.5.0",
            "value": "100%",
            "_view_count": null,
            "_view_module_version": "1.5.0",
            "description_tooltip": null,
            "_model_module": "@jupyter-widgets/controls",
            "layout": "IPY_MODEL_2a581f4b45cf4a52b1d58daead7c8aee"
          }
        },
        "6797d7a6d7c046ab862227315b0cfbc6": {
          "model_module": "@jupyter-widgets/controls",
          "model_name": "FloatProgressModel",
          "model_module_version": "1.5.0",
          "state": {
            "_view_name": "ProgressView",
            "style": "IPY_MODEL_7226132f845b438bac45bd3169834d92",
            "_dom_classes": [],
            "description": "",
            "_model_name": "FloatProgressModel",
            "bar_style": "success",
            "max": 3,
            "_view_module": "@jupyter-widgets/controls",
            "_model_module_version": "1.5.0",
            "value": 3,
            "_view_count": null,
            "_view_module_version": "1.5.0",
            "orientation": "horizontal",
            "min": 0,
            "description_tooltip": null,
            "_model_module": "@jupyter-widgets/controls",
            "layout": "IPY_MODEL_da531732d242435b949e8e8d01836fb2"
          }
        },
        "5f66757da7c342d4a2ad9dcb70cfafdb": {
          "model_module": "@jupyter-widgets/controls",
          "model_name": "HTMLModel",
          "model_module_version": "1.5.0",
          "state": {
            "_view_name": "HTMLView",
            "style": "IPY_MODEL_a521ec60db5546d5afb0815ab7a32512",
            "_dom_classes": [],
            "description": "",
            "_model_name": "HTMLModel",
            "placeholder": "​",
            "_view_module": "@jupyter-widgets/controls",
            "_model_module_version": "1.5.0",
            "value": " 3/3 [00:00&lt;00:00, 102.89it/s]",
            "_view_count": null,
            "_view_module_version": "1.5.0",
            "description_tooltip": null,
            "_model_module": "@jupyter-widgets/controls",
            "layout": "IPY_MODEL_55bf686c06cd41d380ffbaa49b79ca85"
          }
        },
        "fbec4b955e3143a29b1f8a9e2f330542": {
          "model_module": "@jupyter-widgets/controls",
          "model_name": "DescriptionStyleModel",
          "model_module_version": "1.5.0",
          "state": {
            "_view_name": "StyleView",
            "_model_name": "DescriptionStyleModel",
            "description_width": "",
            "_view_module": "@jupyter-widgets/base",
            "_model_module_version": "1.5.0",
            "_view_count": null,
            "_view_module_version": "1.2.0",
            "_model_module": "@jupyter-widgets/controls"
          }
        },
        "2a581f4b45cf4a52b1d58daead7c8aee": {
          "model_module": "@jupyter-widgets/base",
          "model_name": "LayoutModel",
          "model_module_version": "1.2.0",
          "state": {
            "_view_name": "LayoutView",
            "grid_template_rows": null,
            "right": null,
            "justify_content": null,
            "_view_module": "@jupyter-widgets/base",
            "overflow": null,
            "_model_module_version": "1.2.0",
            "_view_count": null,
            "flex_flow": null,
            "width": null,
            "min_width": null,
            "border": null,
            "align_items": null,
            "bottom": null,
            "_model_module": "@jupyter-widgets/base",
            "top": null,
            "grid_column": null,
            "overflow_y": null,
            "overflow_x": null,
            "grid_auto_flow": null,
            "grid_area": null,
            "grid_template_columns": null,
            "flex": null,
            "_model_name": "LayoutModel",
            "justify_items": null,
            "grid_row": null,
            "max_height": null,
            "align_content": null,
            "visibility": null,
            "align_self": null,
            "height": null,
            "min_height": null,
            "padding": null,
            "grid_auto_rows": null,
            "grid_gap": null,
            "max_width": null,
            "order": null,
            "_view_module_version": "1.2.0",
            "grid_template_areas": null,
            "object_position": null,
            "object_fit": null,
            "grid_auto_columns": null,
            "margin": null,
            "display": null,
            "left": null
          }
        },
        "7226132f845b438bac45bd3169834d92": {
          "model_module": "@jupyter-widgets/controls",
          "model_name": "ProgressStyleModel",
          "model_module_version": "1.5.0",
          "state": {
            "_view_name": "StyleView",
            "_model_name": "ProgressStyleModel",
            "description_width": "",
            "_view_module": "@jupyter-widgets/base",
            "_model_module_version": "1.5.0",
            "_view_count": null,
            "_view_module_version": "1.2.0",
            "bar_color": null,
            "_model_module": "@jupyter-widgets/controls"
          }
        },
        "da531732d242435b949e8e8d01836fb2": {
          "model_module": "@jupyter-widgets/base",
          "model_name": "LayoutModel",
          "model_module_version": "1.2.0",
          "state": {
            "_view_name": "LayoutView",
            "grid_template_rows": null,
            "right": null,
            "justify_content": null,
            "_view_module": "@jupyter-widgets/base",
            "overflow": null,
            "_model_module_version": "1.2.0",
            "_view_count": null,
            "flex_flow": null,
            "width": null,
            "min_width": null,
            "border": null,
            "align_items": null,
            "bottom": null,
            "_model_module": "@jupyter-widgets/base",
            "top": null,
            "grid_column": null,
            "overflow_y": null,
            "overflow_x": null,
            "grid_auto_flow": null,
            "grid_area": null,
            "grid_template_columns": null,
            "flex": null,
            "_model_name": "LayoutModel",
            "justify_items": null,
            "grid_row": null,
            "max_height": null,
            "align_content": null,
            "visibility": null,
            "align_self": null,
            "height": null,
            "min_height": null,
            "padding": null,
            "grid_auto_rows": null,
            "grid_gap": null,
            "max_width": null,
            "order": null,
            "_view_module_version": "1.2.0",
            "grid_template_areas": null,
            "object_position": null,
            "object_fit": null,
            "grid_auto_columns": null,
            "margin": null,
            "display": null,
            "left": null
          }
        },
        "a521ec60db5546d5afb0815ab7a32512": {
          "model_module": "@jupyter-widgets/controls",
          "model_name": "DescriptionStyleModel",
          "model_module_version": "1.5.0",
          "state": {
            "_view_name": "StyleView",
            "_model_name": "DescriptionStyleModel",
            "description_width": "",
            "_view_module": "@jupyter-widgets/base",
            "_model_module_version": "1.5.0",
            "_view_count": null,
            "_view_module_version": "1.2.0",
            "_model_module": "@jupyter-widgets/controls"
          }
        },
        "55bf686c06cd41d380ffbaa49b79ca85": {
          "model_module": "@jupyter-widgets/base",
          "model_name": "LayoutModel",
          "model_module_version": "1.2.0",
          "state": {
            "_view_name": "LayoutView",
            "grid_template_rows": null,
            "right": null,
            "justify_content": null,
            "_view_module": "@jupyter-widgets/base",
            "overflow": null,
            "_model_module_version": "1.2.0",
            "_view_count": null,
            "flex_flow": null,
            "width": null,
            "min_width": null,
            "border": null,
            "align_items": null,
            "bottom": null,
            "_model_module": "@jupyter-widgets/base",
            "top": null,
            "grid_column": null,
            "overflow_y": null,
            "overflow_x": null,
            "grid_auto_flow": null,
            "grid_area": null,
            "grid_template_columns": null,
            "flex": null,
            "_model_name": "LayoutModel",
            "justify_items": null,
            "grid_row": null,
            "max_height": null,
            "align_content": null,
            "visibility": null,
            "align_self": null,
            "height": null,
            "min_height": null,
            "padding": null,
            "grid_auto_rows": null,
            "grid_gap": null,
            "max_width": null,
            "order": null,
            "_view_module_version": "1.2.0",
            "grid_template_areas": null,
            "object_position": null,
            "object_fit": null,
            "grid_auto_columns": null,
            "margin": null,
            "display": null,
            "left": null
          }
        },
        "928a752450a54eed8973c77fb4069caa": {
          "model_module": "@jupyter-widgets/controls",
          "model_name": "HBoxModel",
          "model_module_version": "1.5.0",
          "state": {
            "_view_name": "HBoxView",
            "_dom_classes": [],
            "_model_name": "HBoxModel",
            "_view_module": "@jupyter-widgets/controls",
            "_model_module_version": "1.5.0",
            "_view_count": null,
            "_view_module_version": "1.5.0",
            "box_style": "",
            "layout": "IPY_MODEL_4458653e07b949a0962567ce84f7a835",
            "_model_module": "@jupyter-widgets/controls",
            "children": [
              "IPY_MODEL_ca51ff4b29e54124b6b37c3c9b9f7a70",
              "IPY_MODEL_5bd3b1587ae64df89a2cb321fee8bf47",
              "IPY_MODEL_aaf11ac89b6348f1b621ce389732eae7"
            ]
          }
        },
        "4458653e07b949a0962567ce84f7a835": {
          "model_module": "@jupyter-widgets/base",
          "model_name": "LayoutModel",
          "model_module_version": "1.2.0",
          "state": {
            "_view_name": "LayoutView",
            "grid_template_rows": null,
            "right": null,
            "justify_content": null,
            "_view_module": "@jupyter-widgets/base",
            "overflow": null,
            "_model_module_version": "1.2.0",
            "_view_count": null,
            "flex_flow": null,
            "width": null,
            "min_width": null,
            "border": null,
            "align_items": null,
            "bottom": null,
            "_model_module": "@jupyter-widgets/base",
            "top": null,
            "grid_column": null,
            "overflow_y": null,
            "overflow_x": null,
            "grid_auto_flow": null,
            "grid_area": null,
            "grid_template_columns": null,
            "flex": null,
            "_model_name": "LayoutModel",
            "justify_items": null,
            "grid_row": null,
            "max_height": null,
            "align_content": null,
            "visibility": null,
            "align_self": null,
            "height": null,
            "min_height": null,
            "padding": null,
            "grid_auto_rows": null,
            "grid_gap": null,
            "max_width": null,
            "order": null,
            "_view_module_version": "1.2.0",
            "grid_template_areas": null,
            "object_position": null,
            "object_fit": null,
            "grid_auto_columns": null,
            "margin": null,
            "display": null,
            "left": null
          }
        },
        "ca51ff4b29e54124b6b37c3c9b9f7a70": {
          "model_module": "@jupyter-widgets/controls",
          "model_name": "HTMLModel",
          "model_module_version": "1.5.0",
          "state": {
            "_view_name": "HTMLView",
            "style": "IPY_MODEL_33a1c980a977456ab8c5f463f4633405",
            "_dom_classes": [],
            "description": "",
            "_model_name": "HTMLModel",
            "placeholder": "​",
            "_view_module": "@jupyter-widgets/controls",
            "_model_module_version": "1.5.0",
            "value": "100%",
            "_view_count": null,
            "_view_module_version": "1.5.0",
            "description_tooltip": null,
            "_model_module": "@jupyter-widgets/controls",
            "layout": "IPY_MODEL_6fbb01895e244bc3bf775b074549f7d7"
          }
        },
        "5bd3b1587ae64df89a2cb321fee8bf47": {
          "model_module": "@jupyter-widgets/controls",
          "model_name": "FloatProgressModel",
          "model_module_version": "1.5.0",
          "state": {
            "_view_name": "ProgressView",
            "style": "IPY_MODEL_0841a6894d714e35b9a9b50da8dd9d4b",
            "_dom_classes": [],
            "description": "",
            "_model_name": "FloatProgressModel",
            "bar_style": "success",
            "max": 1,
            "_view_module": "@jupyter-widgets/controls",
            "_model_module_version": "1.5.0",
            "value": 1,
            "_view_count": null,
            "_view_module_version": "1.5.0",
            "orientation": "horizontal",
            "min": 0,
            "description_tooltip": null,
            "_model_module": "@jupyter-widgets/controls",
            "layout": "IPY_MODEL_0a9b1fc034cf4cf09b2369121fdc7720"
          }
        },
        "aaf11ac89b6348f1b621ce389732eae7": {
          "model_module": "@jupyter-widgets/controls",
          "model_name": "HTMLModel",
          "model_module_version": "1.5.0",
          "state": {
            "_view_name": "HTMLView",
            "style": "IPY_MODEL_558dd48af7764436ba869226a8a33e59",
            "_dom_classes": [],
            "description": "",
            "_model_name": "HTMLModel",
            "placeholder": "​",
            "_view_module": "@jupyter-widgets/controls",
            "_model_module_version": "1.5.0",
            "value": " 1/1 [00:00&lt;00:00, 35.47it/s]",
            "_view_count": null,
            "_view_module_version": "1.5.0",
            "description_tooltip": null,
            "_model_module": "@jupyter-widgets/controls",
            "layout": "IPY_MODEL_cd049c45f22f4045868bb05a8947aaeb"
          }
        },
        "33a1c980a977456ab8c5f463f4633405": {
          "model_module": "@jupyter-widgets/controls",
          "model_name": "DescriptionStyleModel",
          "model_module_version": "1.5.0",
          "state": {
            "_view_name": "StyleView",
            "_model_name": "DescriptionStyleModel",
            "description_width": "",
            "_view_module": "@jupyter-widgets/base",
            "_model_module_version": "1.5.0",
            "_view_count": null,
            "_view_module_version": "1.2.0",
            "_model_module": "@jupyter-widgets/controls"
          }
        },
        "6fbb01895e244bc3bf775b074549f7d7": {
          "model_module": "@jupyter-widgets/base",
          "model_name": "LayoutModel",
          "model_module_version": "1.2.0",
          "state": {
            "_view_name": "LayoutView",
            "grid_template_rows": null,
            "right": null,
            "justify_content": null,
            "_view_module": "@jupyter-widgets/base",
            "overflow": null,
            "_model_module_version": "1.2.0",
            "_view_count": null,
            "flex_flow": null,
            "width": null,
            "min_width": null,
            "border": null,
            "align_items": null,
            "bottom": null,
            "_model_module": "@jupyter-widgets/base",
            "top": null,
            "grid_column": null,
            "overflow_y": null,
            "overflow_x": null,
            "grid_auto_flow": null,
            "grid_area": null,
            "grid_template_columns": null,
            "flex": null,
            "_model_name": "LayoutModel",
            "justify_items": null,
            "grid_row": null,
            "max_height": null,
            "align_content": null,
            "visibility": null,
            "align_self": null,
            "height": null,
            "min_height": null,
            "padding": null,
            "grid_auto_rows": null,
            "grid_gap": null,
            "max_width": null,
            "order": null,
            "_view_module_version": "1.2.0",
            "grid_template_areas": null,
            "object_position": null,
            "object_fit": null,
            "grid_auto_columns": null,
            "margin": null,
            "display": null,
            "left": null
          }
        },
        "0841a6894d714e35b9a9b50da8dd9d4b": {
          "model_module": "@jupyter-widgets/controls",
          "model_name": "ProgressStyleModel",
          "model_module_version": "1.5.0",
          "state": {
            "_view_name": "StyleView",
            "_model_name": "ProgressStyleModel",
            "description_width": "",
            "_view_module": "@jupyter-widgets/base",
            "_model_module_version": "1.5.0",
            "_view_count": null,
            "_view_module_version": "1.2.0",
            "bar_color": null,
            "_model_module": "@jupyter-widgets/controls"
          }
        },
        "0a9b1fc034cf4cf09b2369121fdc7720": {
          "model_module": "@jupyter-widgets/base",
          "model_name": "LayoutModel",
          "model_module_version": "1.2.0",
          "state": {
            "_view_name": "LayoutView",
            "grid_template_rows": null,
            "right": null,
            "justify_content": null,
            "_view_module": "@jupyter-widgets/base",
            "overflow": null,
            "_model_module_version": "1.2.0",
            "_view_count": null,
            "flex_flow": null,
            "width": null,
            "min_width": null,
            "border": null,
            "align_items": null,
            "bottom": null,
            "_model_module": "@jupyter-widgets/base",
            "top": null,
            "grid_column": null,
            "overflow_y": null,
            "overflow_x": null,
            "grid_auto_flow": null,
            "grid_area": null,
            "grid_template_columns": null,
            "flex": null,
            "_model_name": "LayoutModel",
            "justify_items": null,
            "grid_row": null,
            "max_height": null,
            "align_content": null,
            "visibility": null,
            "align_self": null,
            "height": null,
            "min_height": null,
            "padding": null,
            "grid_auto_rows": null,
            "grid_gap": null,
            "max_width": null,
            "order": null,
            "_view_module_version": "1.2.0",
            "grid_template_areas": null,
            "object_position": null,
            "object_fit": null,
            "grid_auto_columns": null,
            "margin": null,
            "display": null,
            "left": null
          }
        },
        "558dd48af7764436ba869226a8a33e59": {
          "model_module": "@jupyter-widgets/controls",
          "model_name": "DescriptionStyleModel",
          "model_module_version": "1.5.0",
          "state": {
            "_view_name": "StyleView",
            "_model_name": "DescriptionStyleModel",
            "description_width": "",
            "_view_module": "@jupyter-widgets/base",
            "_model_module_version": "1.5.0",
            "_view_count": null,
            "_view_module_version": "1.2.0",
            "_model_module": "@jupyter-widgets/controls"
          }
        },
        "cd049c45f22f4045868bb05a8947aaeb": {
          "model_module": "@jupyter-widgets/base",
          "model_name": "LayoutModel",
          "model_module_version": "1.2.0",
          "state": {
            "_view_name": "LayoutView",
            "grid_template_rows": null,
            "right": null,
            "justify_content": null,
            "_view_module": "@jupyter-widgets/base",
            "overflow": null,
            "_model_module_version": "1.2.0",
            "_view_count": null,
            "flex_flow": null,
            "width": null,
            "min_width": null,
            "border": null,
            "align_items": null,
            "bottom": null,
            "_model_module": "@jupyter-widgets/base",
            "top": null,
            "grid_column": null,
            "overflow_y": null,
            "overflow_x": null,
            "grid_auto_flow": null,
            "grid_area": null,
            "grid_template_columns": null,
            "flex": null,
            "_model_name": "LayoutModel",
            "justify_items": null,
            "grid_row": null,
            "max_height": null,
            "align_content": null,
            "visibility": null,
            "align_self": null,
            "height": null,
            "min_height": null,
            "padding": null,
            "grid_auto_rows": null,
            "grid_gap": null,
            "max_width": null,
            "order": null,
            "_view_module_version": "1.2.0",
            "grid_template_areas": null,
            "object_position": null,
            "object_fit": null,
            "grid_auto_columns": null,
            "margin": null,
            "display": null,
            "left": null
          }
        },
        "0389f8deb70643e2a57404bcf1ebeaf8": {
          "model_module": "@jupyter-widgets/controls",
          "model_name": "HBoxModel",
          "model_module_version": "1.5.0",
          "state": {
            "_view_name": "HBoxView",
            "_dom_classes": [],
            "_model_name": "HBoxModel",
            "_view_module": "@jupyter-widgets/controls",
            "_model_module_version": "1.5.0",
            "_view_count": null,
            "_view_module_version": "1.5.0",
            "box_style": "",
            "layout": "IPY_MODEL_8de90961ad9d482f97186bcc53c68c18",
            "_model_module": "@jupyter-widgets/controls",
            "children": [
              "IPY_MODEL_1bd8db509217423bab8a9f81cab768d6",
              "IPY_MODEL_ba94602665f54bf9b53eed12d630a5f0",
              "IPY_MODEL_c930e922ab8940b0abcd908ff6e33204"
            ]
          }
        },
        "8de90961ad9d482f97186bcc53c68c18": {
          "model_module": "@jupyter-widgets/base",
          "model_name": "LayoutModel",
          "model_module_version": "1.2.0",
          "state": {
            "_view_name": "LayoutView",
            "grid_template_rows": null,
            "right": null,
            "justify_content": null,
            "_view_module": "@jupyter-widgets/base",
            "overflow": null,
            "_model_module_version": "1.2.0",
            "_view_count": null,
            "flex_flow": null,
            "width": null,
            "min_width": null,
            "border": null,
            "align_items": null,
            "bottom": null,
            "_model_module": "@jupyter-widgets/base",
            "top": null,
            "grid_column": null,
            "overflow_y": null,
            "overflow_x": null,
            "grid_auto_flow": null,
            "grid_area": null,
            "grid_template_columns": null,
            "flex": null,
            "_model_name": "LayoutModel",
            "justify_items": null,
            "grid_row": null,
            "max_height": null,
            "align_content": null,
            "visibility": null,
            "align_self": null,
            "height": null,
            "min_height": null,
            "padding": null,
            "grid_auto_rows": null,
            "grid_gap": null,
            "max_width": null,
            "order": null,
            "_view_module_version": "1.2.0",
            "grid_template_areas": null,
            "object_position": null,
            "object_fit": null,
            "grid_auto_columns": null,
            "margin": null,
            "display": null,
            "left": null
          }
        },
        "1bd8db509217423bab8a9f81cab768d6": {
          "model_module": "@jupyter-widgets/controls",
          "model_name": "HTMLModel",
          "model_module_version": "1.5.0",
          "state": {
            "_view_name": "HTMLView",
            "style": "IPY_MODEL_ef58a91eaa7849da8f79c9409c882100",
            "_dom_classes": [],
            "description": "",
            "_model_name": "HTMLModel",
            "placeholder": "​",
            "_view_module": "@jupyter-widgets/controls",
            "_model_module_version": "1.5.0",
            "value": "Downloading: 100%",
            "_view_count": null,
            "_view_module_version": "1.5.0",
            "description_tooltip": null,
            "_model_module": "@jupyter-widgets/controls",
            "layout": "IPY_MODEL_544df2cb6f48499f95517e1154490e60"
          }
        },
        "ba94602665f54bf9b53eed12d630a5f0": {
          "model_module": "@jupyter-widgets/controls",
          "model_name": "FloatProgressModel",
          "model_module_version": "1.5.0",
          "state": {
            "_view_name": "ProgressView",
            "style": "IPY_MODEL_046d867255844f60b20831593c89b59b",
            "_dom_classes": [],
            "description": "",
            "_model_name": "FloatProgressModel",
            "bar_style": "success",
            "max": 483,
            "_view_module": "@jupyter-widgets/controls",
            "_model_module_version": "1.5.0",
            "value": 483,
            "_view_count": null,
            "_view_module_version": "1.5.0",
            "orientation": "horizontal",
            "min": 0,
            "description_tooltip": null,
            "_model_module": "@jupyter-widgets/controls",
            "layout": "IPY_MODEL_f1b2d98872f14ccb904cfcd0b5595079"
          }
        },
        "c930e922ab8940b0abcd908ff6e33204": {
          "model_module": "@jupyter-widgets/controls",
          "model_name": "HTMLModel",
          "model_module_version": "1.5.0",
          "state": {
            "_view_name": "HTMLView",
            "style": "IPY_MODEL_b1ad20b2bcef4848a66523771d1bf567",
            "_dom_classes": [],
            "description": "",
            "_model_name": "HTMLModel",
            "placeholder": "​",
            "_view_module": "@jupyter-widgets/controls",
            "_model_module_version": "1.5.0",
            "value": " 483/483 [00:00&lt;00:00, 20.1kB/s]",
            "_view_count": null,
            "_view_module_version": "1.5.0",
            "description_tooltip": null,
            "_model_module": "@jupyter-widgets/controls",
            "layout": "IPY_MODEL_989776b59d214c34ba5661a9fda574ca"
          }
        },
        "ef58a91eaa7849da8f79c9409c882100": {
          "model_module": "@jupyter-widgets/controls",
          "model_name": "DescriptionStyleModel",
          "model_module_version": "1.5.0",
          "state": {
            "_view_name": "StyleView",
            "_model_name": "DescriptionStyleModel",
            "description_width": "",
            "_view_module": "@jupyter-widgets/base",
            "_model_module_version": "1.5.0",
            "_view_count": null,
            "_view_module_version": "1.2.0",
            "_model_module": "@jupyter-widgets/controls"
          }
        },
        "544df2cb6f48499f95517e1154490e60": {
          "model_module": "@jupyter-widgets/base",
          "model_name": "LayoutModel",
          "model_module_version": "1.2.0",
          "state": {
            "_view_name": "LayoutView",
            "grid_template_rows": null,
            "right": null,
            "justify_content": null,
            "_view_module": "@jupyter-widgets/base",
            "overflow": null,
            "_model_module_version": "1.2.0",
            "_view_count": null,
            "flex_flow": null,
            "width": null,
            "min_width": null,
            "border": null,
            "align_items": null,
            "bottom": null,
            "_model_module": "@jupyter-widgets/base",
            "top": null,
            "grid_column": null,
            "overflow_y": null,
            "overflow_x": null,
            "grid_auto_flow": null,
            "grid_area": null,
            "grid_template_columns": null,
            "flex": null,
            "_model_name": "LayoutModel",
            "justify_items": null,
            "grid_row": null,
            "max_height": null,
            "align_content": null,
            "visibility": null,
            "align_self": null,
            "height": null,
            "min_height": null,
            "padding": null,
            "grid_auto_rows": null,
            "grid_gap": null,
            "max_width": null,
            "order": null,
            "_view_module_version": "1.2.0",
            "grid_template_areas": null,
            "object_position": null,
            "object_fit": null,
            "grid_auto_columns": null,
            "margin": null,
            "display": null,
            "left": null
          }
        },
        "046d867255844f60b20831593c89b59b": {
          "model_module": "@jupyter-widgets/controls",
          "model_name": "ProgressStyleModel",
          "model_module_version": "1.5.0",
          "state": {
            "_view_name": "StyleView",
            "_model_name": "ProgressStyleModel",
            "description_width": "",
            "_view_module": "@jupyter-widgets/base",
            "_model_module_version": "1.5.0",
            "_view_count": null,
            "_view_module_version": "1.2.0",
            "bar_color": null,
            "_model_module": "@jupyter-widgets/controls"
          }
        },
        "f1b2d98872f14ccb904cfcd0b5595079": {
          "model_module": "@jupyter-widgets/base",
          "model_name": "LayoutModel",
          "model_module_version": "1.2.0",
          "state": {
            "_view_name": "LayoutView",
            "grid_template_rows": null,
            "right": null,
            "justify_content": null,
            "_view_module": "@jupyter-widgets/base",
            "overflow": null,
            "_model_module_version": "1.2.0",
            "_view_count": null,
            "flex_flow": null,
            "width": null,
            "min_width": null,
            "border": null,
            "align_items": null,
            "bottom": null,
            "_model_module": "@jupyter-widgets/base",
            "top": null,
            "grid_column": null,
            "overflow_y": null,
            "overflow_x": null,
            "grid_auto_flow": null,
            "grid_area": null,
            "grid_template_columns": null,
            "flex": null,
            "_model_name": "LayoutModel",
            "justify_items": null,
            "grid_row": null,
            "max_height": null,
            "align_content": null,
            "visibility": null,
            "align_self": null,
            "height": null,
            "min_height": null,
            "padding": null,
            "grid_auto_rows": null,
            "grid_gap": null,
            "max_width": null,
            "order": null,
            "_view_module_version": "1.2.0",
            "grid_template_areas": null,
            "object_position": null,
            "object_fit": null,
            "grid_auto_columns": null,
            "margin": null,
            "display": null,
            "left": null
          }
        },
        "b1ad20b2bcef4848a66523771d1bf567": {
          "model_module": "@jupyter-widgets/controls",
          "model_name": "DescriptionStyleModel",
          "model_module_version": "1.5.0",
          "state": {
            "_view_name": "StyleView",
            "_model_name": "DescriptionStyleModel",
            "description_width": "",
            "_view_module": "@jupyter-widgets/base",
            "_model_module_version": "1.5.0",
            "_view_count": null,
            "_view_module_version": "1.2.0",
            "_model_module": "@jupyter-widgets/controls"
          }
        },
        "989776b59d214c34ba5661a9fda574ca": {
          "model_module": "@jupyter-widgets/base",
          "model_name": "LayoutModel",
          "model_module_version": "1.2.0",
          "state": {
            "_view_name": "LayoutView",
            "grid_template_rows": null,
            "right": null,
            "justify_content": null,
            "_view_module": "@jupyter-widgets/base",
            "overflow": null,
            "_model_module_version": "1.2.0",
            "_view_count": null,
            "flex_flow": null,
            "width": null,
            "min_width": null,
            "border": null,
            "align_items": null,
            "bottom": null,
            "_model_module": "@jupyter-widgets/base",
            "top": null,
            "grid_column": null,
            "overflow_y": null,
            "overflow_x": null,
            "grid_auto_flow": null,
            "grid_area": null,
            "grid_template_columns": null,
            "flex": null,
            "_model_name": "LayoutModel",
            "justify_items": null,
            "grid_row": null,
            "max_height": null,
            "align_content": null,
            "visibility": null,
            "align_self": null,
            "height": null,
            "min_height": null,
            "padding": null,
            "grid_auto_rows": null,
            "grid_gap": null,
            "max_width": null,
            "order": null,
            "_view_module_version": "1.2.0",
            "grid_template_areas": null,
            "object_position": null,
            "object_fit": null,
            "grid_auto_columns": null,
            "margin": null,
            "display": null,
            "left": null
          }
        },
        "475d2581bc33486d98a2718a2add54f9": {
          "model_module": "@jupyter-widgets/controls",
          "model_name": "HBoxModel",
          "model_module_version": "1.5.0",
          "state": {
            "_view_name": "HBoxView",
            "_dom_classes": [],
            "_model_name": "HBoxModel",
            "_view_module": "@jupyter-widgets/controls",
            "_model_module_version": "1.5.0",
            "_view_count": null,
            "_view_module_version": "1.5.0",
            "box_style": "",
            "layout": "IPY_MODEL_7955256392c2460ea85a3398cfe14885",
            "_model_module": "@jupyter-widgets/controls",
            "children": [
              "IPY_MODEL_073bd850fc214fccaa4e7fb77c811082",
              "IPY_MODEL_89dfa57313da4fd393e60fb1cf8d6bba",
              "IPY_MODEL_a69f2910d52b4f69ba2542dcefac9835"
            ]
          }
        },
        "7955256392c2460ea85a3398cfe14885": {
          "model_module": "@jupyter-widgets/base",
          "model_name": "LayoutModel",
          "model_module_version": "1.2.0",
          "state": {
            "_view_name": "LayoutView",
            "grid_template_rows": null,
            "right": null,
            "justify_content": null,
            "_view_module": "@jupyter-widgets/base",
            "overflow": null,
            "_model_module_version": "1.2.0",
            "_view_count": null,
            "flex_flow": null,
            "width": null,
            "min_width": null,
            "border": null,
            "align_items": null,
            "bottom": null,
            "_model_module": "@jupyter-widgets/base",
            "top": null,
            "grid_column": null,
            "overflow_y": null,
            "overflow_x": null,
            "grid_auto_flow": null,
            "grid_area": null,
            "grid_template_columns": null,
            "flex": null,
            "_model_name": "LayoutModel",
            "justify_items": null,
            "grid_row": null,
            "max_height": null,
            "align_content": null,
            "visibility": null,
            "align_self": null,
            "height": null,
            "min_height": null,
            "padding": null,
            "grid_auto_rows": null,
            "grid_gap": null,
            "max_width": null,
            "order": null,
            "_view_module_version": "1.2.0",
            "grid_template_areas": null,
            "object_position": null,
            "object_fit": null,
            "grid_auto_columns": null,
            "margin": null,
            "display": null,
            "left": null
          }
        },
        "073bd850fc214fccaa4e7fb77c811082": {
          "model_module": "@jupyter-widgets/controls",
          "model_name": "HTMLModel",
          "model_module_version": "1.5.0",
          "state": {
            "_view_name": "HTMLView",
            "style": "IPY_MODEL_7826073fca7d4e869b47e68f33967c9a",
            "_dom_classes": [],
            "description": "",
            "_model_name": "HTMLModel",
            "placeholder": "​",
            "_view_module": "@jupyter-widgets/controls",
            "_model_module_version": "1.5.0",
            "value": "Downloading: 100%",
            "_view_count": null,
            "_view_module_version": "1.5.0",
            "description_tooltip": null,
            "_model_module": "@jupyter-widgets/controls",
            "layout": "IPY_MODEL_b0ebd8e3c8aa49e4b426db970dad3ca7"
          }
        },
        "89dfa57313da4fd393e60fb1cf8d6bba": {
          "model_module": "@jupyter-widgets/controls",
          "model_name": "FloatProgressModel",
          "model_module_version": "1.5.0",
          "state": {
            "_view_name": "ProgressView",
            "style": "IPY_MODEL_8fc0910d5618488da7cf609826b52639",
            "_dom_classes": [],
            "description": "",
            "_model_name": "FloatProgressModel",
            "bar_style": "success",
            "max": 267967963,
            "_view_module": "@jupyter-widgets/controls",
            "_model_module_version": "1.5.0",
            "value": 267967963,
            "_view_count": null,
            "_view_module_version": "1.5.0",
            "orientation": "horizontal",
            "min": 0,
            "description_tooltip": null,
            "_model_module": "@jupyter-widgets/controls",
            "layout": "IPY_MODEL_387ed29967624bf5855fa34a5287c738"
          }
        },
        "a69f2910d52b4f69ba2542dcefac9835": {
          "model_module": "@jupyter-widgets/controls",
          "model_name": "HTMLModel",
          "model_module_version": "1.5.0",
          "state": {
            "_view_name": "HTMLView",
            "style": "IPY_MODEL_b198845b86cd410cb805d1d8b2ee6328",
            "_dom_classes": [],
            "description": "",
            "_model_name": "HTMLModel",
            "placeholder": "​",
            "_view_module": "@jupyter-widgets/controls",
            "_model_module_version": "1.5.0",
            "value": " 256M/256M [00:04&lt;00:00, 61.5MB/s]",
            "_view_count": null,
            "_view_module_version": "1.5.0",
            "description_tooltip": null,
            "_model_module": "@jupyter-widgets/controls",
            "layout": "IPY_MODEL_ff578f1074804624a31f71fde9532dbd"
          }
        },
        "7826073fca7d4e869b47e68f33967c9a": {
          "model_module": "@jupyter-widgets/controls",
          "model_name": "DescriptionStyleModel",
          "model_module_version": "1.5.0",
          "state": {
            "_view_name": "StyleView",
            "_model_name": "DescriptionStyleModel",
            "description_width": "",
            "_view_module": "@jupyter-widgets/base",
            "_model_module_version": "1.5.0",
            "_view_count": null,
            "_view_module_version": "1.2.0",
            "_model_module": "@jupyter-widgets/controls"
          }
        },
        "b0ebd8e3c8aa49e4b426db970dad3ca7": {
          "model_module": "@jupyter-widgets/base",
          "model_name": "LayoutModel",
          "model_module_version": "1.2.0",
          "state": {
            "_view_name": "LayoutView",
            "grid_template_rows": null,
            "right": null,
            "justify_content": null,
            "_view_module": "@jupyter-widgets/base",
            "overflow": null,
            "_model_module_version": "1.2.0",
            "_view_count": null,
            "flex_flow": null,
            "width": null,
            "min_width": null,
            "border": null,
            "align_items": null,
            "bottom": null,
            "_model_module": "@jupyter-widgets/base",
            "top": null,
            "grid_column": null,
            "overflow_y": null,
            "overflow_x": null,
            "grid_auto_flow": null,
            "grid_area": null,
            "grid_template_columns": null,
            "flex": null,
            "_model_name": "LayoutModel",
            "justify_items": null,
            "grid_row": null,
            "max_height": null,
            "align_content": null,
            "visibility": null,
            "align_self": null,
            "height": null,
            "min_height": null,
            "padding": null,
            "grid_auto_rows": null,
            "grid_gap": null,
            "max_width": null,
            "order": null,
            "_view_module_version": "1.2.0",
            "grid_template_areas": null,
            "object_position": null,
            "object_fit": null,
            "grid_auto_columns": null,
            "margin": null,
            "display": null,
            "left": null
          }
        },
        "8fc0910d5618488da7cf609826b52639": {
          "model_module": "@jupyter-widgets/controls",
          "model_name": "ProgressStyleModel",
          "model_module_version": "1.5.0",
          "state": {
            "_view_name": "StyleView",
            "_model_name": "ProgressStyleModel",
            "description_width": "",
            "_view_module": "@jupyter-widgets/base",
            "_model_module_version": "1.5.0",
            "_view_count": null,
            "_view_module_version": "1.2.0",
            "bar_color": null,
            "_model_module": "@jupyter-widgets/controls"
          }
        },
        "387ed29967624bf5855fa34a5287c738": {
          "model_module": "@jupyter-widgets/base",
          "model_name": "LayoutModel",
          "model_module_version": "1.2.0",
          "state": {
            "_view_name": "LayoutView",
            "grid_template_rows": null,
            "right": null,
            "justify_content": null,
            "_view_module": "@jupyter-widgets/base",
            "overflow": null,
            "_model_module_version": "1.2.0",
            "_view_count": null,
            "flex_flow": null,
            "width": null,
            "min_width": null,
            "border": null,
            "align_items": null,
            "bottom": null,
            "_model_module": "@jupyter-widgets/base",
            "top": null,
            "grid_column": null,
            "overflow_y": null,
            "overflow_x": null,
            "grid_auto_flow": null,
            "grid_area": null,
            "grid_template_columns": null,
            "flex": null,
            "_model_name": "LayoutModel",
            "justify_items": null,
            "grid_row": null,
            "max_height": null,
            "align_content": null,
            "visibility": null,
            "align_self": null,
            "height": null,
            "min_height": null,
            "padding": null,
            "grid_auto_rows": null,
            "grid_gap": null,
            "max_width": null,
            "order": null,
            "_view_module_version": "1.2.0",
            "grid_template_areas": null,
            "object_position": null,
            "object_fit": null,
            "grid_auto_columns": null,
            "margin": null,
            "display": null,
            "left": null
          }
        },
        "b198845b86cd410cb805d1d8b2ee6328": {
          "model_module": "@jupyter-widgets/controls",
          "model_name": "DescriptionStyleModel",
          "model_module_version": "1.5.0",
          "state": {
            "_view_name": "StyleView",
            "_model_name": "DescriptionStyleModel",
            "description_width": "",
            "_view_module": "@jupyter-widgets/base",
            "_model_module_version": "1.5.0",
            "_view_count": null,
            "_view_module_version": "1.2.0",
            "_model_module": "@jupyter-widgets/controls"
          }
        },
        "ff578f1074804624a31f71fde9532dbd": {
          "model_module": "@jupyter-widgets/base",
          "model_name": "LayoutModel",
          "model_module_version": "1.2.0",
          "state": {
            "_view_name": "LayoutView",
            "grid_template_rows": null,
            "right": null,
            "justify_content": null,
            "_view_module": "@jupyter-widgets/base",
            "overflow": null,
            "_model_module_version": "1.2.0",
            "_view_count": null,
            "flex_flow": null,
            "width": null,
            "min_width": null,
            "border": null,
            "align_items": null,
            "bottom": null,
            "_model_module": "@jupyter-widgets/base",
            "top": null,
            "grid_column": null,
            "overflow_y": null,
            "overflow_x": null,
            "grid_auto_flow": null,
            "grid_area": null,
            "grid_template_columns": null,
            "flex": null,
            "_model_name": "LayoutModel",
            "justify_items": null,
            "grid_row": null,
            "max_height": null,
            "align_content": null,
            "visibility": null,
            "align_self": null,
            "height": null,
            "min_height": null,
            "padding": null,
            "grid_auto_rows": null,
            "grid_gap": null,
            "max_width": null,
            "order": null,
            "_view_module_version": "1.2.0",
            "grid_template_areas": null,
            "object_position": null,
            "object_fit": null,
            "grid_auto_columns": null,
            "margin": null,
            "display": null,
            "left": null
          }
        },
        "84a0dbcfb5a14cc187364c4eafc3dd1c": {
          "model_module": "@jupyter-widgets/controls",
          "model_name": "HBoxModel",
          "model_module_version": "1.5.0",
          "state": {
            "_view_name": "HBoxView",
            "_dom_classes": [],
            "_model_name": "HBoxModel",
            "_view_module": "@jupyter-widgets/controls",
            "_model_module_version": "1.5.0",
            "_view_count": null,
            "_view_module_version": "1.5.0",
            "box_style": "",
            "layout": "IPY_MODEL_9a9cdccc9b6f403d851cdced2a46faf8",
            "_model_module": "@jupyter-widgets/controls",
            "children": [
              "IPY_MODEL_d7381fe541284621b043dc2ae91a4cbf",
              "IPY_MODEL_276e1287ef4f4500bc1f106f2c8bc043",
              "IPY_MODEL_f6a9551e46a349da8be4d6011dacf364"
            ]
          }
        },
        "9a9cdccc9b6f403d851cdced2a46faf8": {
          "model_module": "@jupyter-widgets/base",
          "model_name": "LayoutModel",
          "model_module_version": "1.2.0",
          "state": {
            "_view_name": "LayoutView",
            "grid_template_rows": null,
            "right": null,
            "justify_content": null,
            "_view_module": "@jupyter-widgets/base",
            "overflow": null,
            "_model_module_version": "1.2.0",
            "_view_count": null,
            "flex_flow": null,
            "width": null,
            "min_width": null,
            "border": null,
            "align_items": null,
            "bottom": null,
            "_model_module": "@jupyter-widgets/base",
            "top": null,
            "grid_column": null,
            "overflow_y": null,
            "overflow_x": null,
            "grid_auto_flow": null,
            "grid_area": null,
            "grid_template_columns": null,
            "flex": null,
            "_model_name": "LayoutModel",
            "justify_items": null,
            "grid_row": null,
            "max_height": null,
            "align_content": null,
            "visibility": null,
            "align_self": null,
            "height": null,
            "min_height": null,
            "padding": null,
            "grid_auto_rows": null,
            "grid_gap": null,
            "max_width": null,
            "order": null,
            "_view_module_version": "1.2.0",
            "grid_template_areas": null,
            "object_position": null,
            "object_fit": null,
            "grid_auto_columns": null,
            "margin": null,
            "display": null,
            "left": null
          }
        },
        "d7381fe541284621b043dc2ae91a4cbf": {
          "model_module": "@jupyter-widgets/controls",
          "model_name": "HTMLModel",
          "model_module_version": "1.5.0",
          "state": {
            "_view_name": "HTMLView",
            "style": "IPY_MODEL_6e3db4e135e1424c94d49881390bfe97",
            "_dom_classes": [],
            "description": "",
            "_model_name": "HTMLModel",
            "placeholder": "​",
            "_view_module": "@jupyter-widgets/controls",
            "_model_module_version": "1.5.0",
            "value": "Downloading: 100%",
            "_view_count": null,
            "_view_module_version": "1.5.0",
            "description_tooltip": null,
            "_model_module": "@jupyter-widgets/controls",
            "layout": "IPY_MODEL_b8d45454e8704062a4b7470e310a4839"
          }
        },
        "276e1287ef4f4500bc1f106f2c8bc043": {
          "model_module": "@jupyter-widgets/controls",
          "model_name": "FloatProgressModel",
          "model_module_version": "1.5.0",
          "state": {
            "_view_name": "ProgressView",
            "style": "IPY_MODEL_90b343e69d244781a86b58465784a8aa",
            "_dom_classes": [],
            "description": "",
            "_model_name": "FloatProgressModel",
            "bar_style": "success",
            "max": 28,
            "_view_module": "@jupyter-widgets/controls",
            "_model_module_version": "1.5.0",
            "value": 28,
            "_view_count": null,
            "_view_module_version": "1.5.0",
            "orientation": "horizontal",
            "min": 0,
            "description_tooltip": null,
            "_model_module": "@jupyter-widgets/controls",
            "layout": "IPY_MODEL_507b1bd1e27f4b07b47bb7615a3cbfdf"
          }
        },
        "f6a9551e46a349da8be4d6011dacf364": {
          "model_module": "@jupyter-widgets/controls",
          "model_name": "HTMLModel",
          "model_module_version": "1.5.0",
          "state": {
            "_view_name": "HTMLView",
            "style": "IPY_MODEL_003a76d3b38f4c01933bd4cf85032c7d",
            "_dom_classes": [],
            "description": "",
            "_model_name": "HTMLModel",
            "placeholder": "​",
            "_view_module": "@jupyter-widgets/controls",
            "_model_module_version": "1.5.0",
            "value": " 28.0/28.0 [00:00&lt;00:00, 1.02kB/s]",
            "_view_count": null,
            "_view_module_version": "1.5.0",
            "description_tooltip": null,
            "_model_module": "@jupyter-widgets/controls",
            "layout": "IPY_MODEL_eea0d908c4664b938473e34b180db18d"
          }
        },
        "6e3db4e135e1424c94d49881390bfe97": {
          "model_module": "@jupyter-widgets/controls",
          "model_name": "DescriptionStyleModel",
          "model_module_version": "1.5.0",
          "state": {
            "_view_name": "StyleView",
            "_model_name": "DescriptionStyleModel",
            "description_width": "",
            "_view_module": "@jupyter-widgets/base",
            "_model_module_version": "1.5.0",
            "_view_count": null,
            "_view_module_version": "1.2.0",
            "_model_module": "@jupyter-widgets/controls"
          }
        },
        "b8d45454e8704062a4b7470e310a4839": {
          "model_module": "@jupyter-widgets/base",
          "model_name": "LayoutModel",
          "model_module_version": "1.2.0",
          "state": {
            "_view_name": "LayoutView",
            "grid_template_rows": null,
            "right": null,
            "justify_content": null,
            "_view_module": "@jupyter-widgets/base",
            "overflow": null,
            "_model_module_version": "1.2.0",
            "_view_count": null,
            "flex_flow": null,
            "width": null,
            "min_width": null,
            "border": null,
            "align_items": null,
            "bottom": null,
            "_model_module": "@jupyter-widgets/base",
            "top": null,
            "grid_column": null,
            "overflow_y": null,
            "overflow_x": null,
            "grid_auto_flow": null,
            "grid_area": null,
            "grid_template_columns": null,
            "flex": null,
            "_model_name": "LayoutModel",
            "justify_items": null,
            "grid_row": null,
            "max_height": null,
            "align_content": null,
            "visibility": null,
            "align_self": null,
            "height": null,
            "min_height": null,
            "padding": null,
            "grid_auto_rows": null,
            "grid_gap": null,
            "max_width": null,
            "order": null,
            "_view_module_version": "1.2.0",
            "grid_template_areas": null,
            "object_position": null,
            "object_fit": null,
            "grid_auto_columns": null,
            "margin": null,
            "display": null,
            "left": null
          }
        },
        "90b343e69d244781a86b58465784a8aa": {
          "model_module": "@jupyter-widgets/controls",
          "model_name": "ProgressStyleModel",
          "model_module_version": "1.5.0",
          "state": {
            "_view_name": "StyleView",
            "_model_name": "ProgressStyleModel",
            "description_width": "",
            "_view_module": "@jupyter-widgets/base",
            "_model_module_version": "1.5.0",
            "_view_count": null,
            "_view_module_version": "1.2.0",
            "bar_color": null,
            "_model_module": "@jupyter-widgets/controls"
          }
        },
        "507b1bd1e27f4b07b47bb7615a3cbfdf": {
          "model_module": "@jupyter-widgets/base",
          "model_name": "LayoutModel",
          "model_module_version": "1.2.0",
          "state": {
            "_view_name": "LayoutView",
            "grid_template_rows": null,
            "right": null,
            "justify_content": null,
            "_view_module": "@jupyter-widgets/base",
            "overflow": null,
            "_model_module_version": "1.2.0",
            "_view_count": null,
            "flex_flow": null,
            "width": null,
            "min_width": null,
            "border": null,
            "align_items": null,
            "bottom": null,
            "_model_module": "@jupyter-widgets/base",
            "top": null,
            "grid_column": null,
            "overflow_y": null,
            "overflow_x": null,
            "grid_auto_flow": null,
            "grid_area": null,
            "grid_template_columns": null,
            "flex": null,
            "_model_name": "LayoutModel",
            "justify_items": null,
            "grid_row": null,
            "max_height": null,
            "align_content": null,
            "visibility": null,
            "align_self": null,
            "height": null,
            "min_height": null,
            "padding": null,
            "grid_auto_rows": null,
            "grid_gap": null,
            "max_width": null,
            "order": null,
            "_view_module_version": "1.2.0",
            "grid_template_areas": null,
            "object_position": null,
            "object_fit": null,
            "grid_auto_columns": null,
            "margin": null,
            "display": null,
            "left": null
          }
        },
        "003a76d3b38f4c01933bd4cf85032c7d": {
          "model_module": "@jupyter-widgets/controls",
          "model_name": "DescriptionStyleModel",
          "model_module_version": "1.5.0",
          "state": {
            "_view_name": "StyleView",
            "_model_name": "DescriptionStyleModel",
            "description_width": "",
            "_view_module": "@jupyter-widgets/base",
            "_model_module_version": "1.5.0",
            "_view_count": null,
            "_view_module_version": "1.2.0",
            "_model_module": "@jupyter-widgets/controls"
          }
        },
        "eea0d908c4664b938473e34b180db18d": {
          "model_module": "@jupyter-widgets/base",
          "model_name": "LayoutModel",
          "model_module_version": "1.2.0",
          "state": {
            "_view_name": "LayoutView",
            "grid_template_rows": null,
            "right": null,
            "justify_content": null,
            "_view_module": "@jupyter-widgets/base",
            "overflow": null,
            "_model_module_version": "1.2.0",
            "_view_count": null,
            "flex_flow": null,
            "width": null,
            "min_width": null,
            "border": null,
            "align_items": null,
            "bottom": null,
            "_model_module": "@jupyter-widgets/base",
            "top": null,
            "grid_column": null,
            "overflow_y": null,
            "overflow_x": null,
            "grid_auto_flow": null,
            "grid_area": null,
            "grid_template_columns": null,
            "flex": null,
            "_model_name": "LayoutModel",
            "justify_items": null,
            "grid_row": null,
            "max_height": null,
            "align_content": null,
            "visibility": null,
            "align_self": null,
            "height": null,
            "min_height": null,
            "padding": null,
            "grid_auto_rows": null,
            "grid_gap": null,
            "max_width": null,
            "order": null,
            "_view_module_version": "1.2.0",
            "grid_template_areas": null,
            "object_position": null,
            "object_fit": null,
            "grid_auto_columns": null,
            "margin": null,
            "display": null,
            "left": null
          }
        },
        "11e1062344eb423baee9ab3733bdf4b4": {
          "model_module": "@jupyter-widgets/controls",
          "model_name": "HBoxModel",
          "model_module_version": "1.5.0",
          "state": {
            "_view_name": "HBoxView",
            "_dom_classes": [],
            "_model_name": "HBoxModel",
            "_view_module": "@jupyter-widgets/controls",
            "_model_module_version": "1.5.0",
            "_view_count": null,
            "_view_module_version": "1.5.0",
            "box_style": "",
            "layout": "IPY_MODEL_8e6590dbf7684edd8e2d46cae2e8ff16",
            "_model_module": "@jupyter-widgets/controls",
            "children": [
              "IPY_MODEL_aba59f7feb73452f9a6f790e5fe3eca4",
              "IPY_MODEL_7e622cd33e5349ebade9e0e7e9c0ea55",
              "IPY_MODEL_7aa9522cfbe244f893669213dead9a10"
            ]
          }
        },
        "8e6590dbf7684edd8e2d46cae2e8ff16": {
          "model_module": "@jupyter-widgets/base",
          "model_name": "LayoutModel",
          "model_module_version": "1.2.0",
          "state": {
            "_view_name": "LayoutView",
            "grid_template_rows": null,
            "right": null,
            "justify_content": null,
            "_view_module": "@jupyter-widgets/base",
            "overflow": null,
            "_model_module_version": "1.2.0",
            "_view_count": null,
            "flex_flow": null,
            "width": null,
            "min_width": null,
            "border": null,
            "align_items": null,
            "bottom": null,
            "_model_module": "@jupyter-widgets/base",
            "top": null,
            "grid_column": null,
            "overflow_y": null,
            "overflow_x": null,
            "grid_auto_flow": null,
            "grid_area": null,
            "grid_template_columns": null,
            "flex": null,
            "_model_name": "LayoutModel",
            "justify_items": null,
            "grid_row": null,
            "max_height": null,
            "align_content": null,
            "visibility": null,
            "align_self": null,
            "height": null,
            "min_height": null,
            "padding": null,
            "grid_auto_rows": null,
            "grid_gap": null,
            "max_width": null,
            "order": null,
            "_view_module_version": "1.2.0",
            "grid_template_areas": null,
            "object_position": null,
            "object_fit": null,
            "grid_auto_columns": null,
            "margin": null,
            "display": null,
            "left": null
          }
        },
        "aba59f7feb73452f9a6f790e5fe3eca4": {
          "model_module": "@jupyter-widgets/controls",
          "model_name": "HTMLModel",
          "model_module_version": "1.5.0",
          "state": {
            "_view_name": "HTMLView",
            "style": "IPY_MODEL_e578f9b073b443c38ec52a3bc21cc23a",
            "_dom_classes": [],
            "description": "",
            "_model_name": "HTMLModel",
            "placeholder": "​",
            "_view_module": "@jupyter-widgets/controls",
            "_model_module_version": "1.5.0",
            "value": "Downloading: 100%",
            "_view_count": null,
            "_view_module_version": "1.5.0",
            "description_tooltip": null,
            "_model_module": "@jupyter-widgets/controls",
            "layout": "IPY_MODEL_8208bee4ab934ceba712a032a14c461d"
          }
        },
        "7e622cd33e5349ebade9e0e7e9c0ea55": {
          "model_module": "@jupyter-widgets/controls",
          "model_name": "FloatProgressModel",
          "model_module_version": "1.5.0",
          "state": {
            "_view_name": "ProgressView",
            "style": "IPY_MODEL_f9d0cc3c3df84092811414984e665bd4",
            "_dom_classes": [],
            "description": "",
            "_model_name": "FloatProgressModel",
            "bar_style": "success",
            "max": 231508,
            "_view_module": "@jupyter-widgets/controls",
            "_model_module_version": "1.5.0",
            "value": 231508,
            "_view_count": null,
            "_view_module_version": "1.5.0",
            "orientation": "horizontal",
            "min": 0,
            "description_tooltip": null,
            "_model_module": "@jupyter-widgets/controls",
            "layout": "IPY_MODEL_84fc3758274942409db2aaf24655c2f9"
          }
        },
        "7aa9522cfbe244f893669213dead9a10": {
          "model_module": "@jupyter-widgets/controls",
          "model_name": "HTMLModel",
          "model_module_version": "1.5.0",
          "state": {
            "_view_name": "HTMLView",
            "style": "IPY_MODEL_3695a553d51f470d8f923fa918ae48d5",
            "_dom_classes": [],
            "description": "",
            "_model_name": "HTMLModel",
            "placeholder": "​",
            "_view_module": "@jupyter-widgets/controls",
            "_model_module_version": "1.5.0",
            "value": " 226k/226k [00:00&lt;00:00, 328kB/s]",
            "_view_count": null,
            "_view_module_version": "1.5.0",
            "description_tooltip": null,
            "_model_module": "@jupyter-widgets/controls",
            "layout": "IPY_MODEL_1c48ec65e7494d61ad1622b3d04a81cc"
          }
        },
        "e578f9b073b443c38ec52a3bc21cc23a": {
          "model_module": "@jupyter-widgets/controls",
          "model_name": "DescriptionStyleModel",
          "model_module_version": "1.5.0",
          "state": {
            "_view_name": "StyleView",
            "_model_name": "DescriptionStyleModel",
            "description_width": "",
            "_view_module": "@jupyter-widgets/base",
            "_model_module_version": "1.5.0",
            "_view_count": null,
            "_view_module_version": "1.2.0",
            "_model_module": "@jupyter-widgets/controls"
          }
        },
        "8208bee4ab934ceba712a032a14c461d": {
          "model_module": "@jupyter-widgets/base",
          "model_name": "LayoutModel",
          "model_module_version": "1.2.0",
          "state": {
            "_view_name": "LayoutView",
            "grid_template_rows": null,
            "right": null,
            "justify_content": null,
            "_view_module": "@jupyter-widgets/base",
            "overflow": null,
            "_model_module_version": "1.2.0",
            "_view_count": null,
            "flex_flow": null,
            "width": null,
            "min_width": null,
            "border": null,
            "align_items": null,
            "bottom": null,
            "_model_module": "@jupyter-widgets/base",
            "top": null,
            "grid_column": null,
            "overflow_y": null,
            "overflow_x": null,
            "grid_auto_flow": null,
            "grid_area": null,
            "grid_template_columns": null,
            "flex": null,
            "_model_name": "LayoutModel",
            "justify_items": null,
            "grid_row": null,
            "max_height": null,
            "align_content": null,
            "visibility": null,
            "align_self": null,
            "height": null,
            "min_height": null,
            "padding": null,
            "grid_auto_rows": null,
            "grid_gap": null,
            "max_width": null,
            "order": null,
            "_view_module_version": "1.2.0",
            "grid_template_areas": null,
            "object_position": null,
            "object_fit": null,
            "grid_auto_columns": null,
            "margin": null,
            "display": null,
            "left": null
          }
        },
        "f9d0cc3c3df84092811414984e665bd4": {
          "model_module": "@jupyter-widgets/controls",
          "model_name": "ProgressStyleModel",
          "model_module_version": "1.5.0",
          "state": {
            "_view_name": "StyleView",
            "_model_name": "ProgressStyleModel",
            "description_width": "",
            "_view_module": "@jupyter-widgets/base",
            "_model_module_version": "1.5.0",
            "_view_count": null,
            "_view_module_version": "1.2.0",
            "bar_color": null,
            "_model_module": "@jupyter-widgets/controls"
          }
        },
        "84fc3758274942409db2aaf24655c2f9": {
          "model_module": "@jupyter-widgets/base",
          "model_name": "LayoutModel",
          "model_module_version": "1.2.0",
          "state": {
            "_view_name": "LayoutView",
            "grid_template_rows": null,
            "right": null,
            "justify_content": null,
            "_view_module": "@jupyter-widgets/base",
            "overflow": null,
            "_model_module_version": "1.2.0",
            "_view_count": null,
            "flex_flow": null,
            "width": null,
            "min_width": null,
            "border": null,
            "align_items": null,
            "bottom": null,
            "_model_module": "@jupyter-widgets/base",
            "top": null,
            "grid_column": null,
            "overflow_y": null,
            "overflow_x": null,
            "grid_auto_flow": null,
            "grid_area": null,
            "grid_template_columns": null,
            "flex": null,
            "_model_name": "LayoutModel",
            "justify_items": null,
            "grid_row": null,
            "max_height": null,
            "align_content": null,
            "visibility": null,
            "align_self": null,
            "height": null,
            "min_height": null,
            "padding": null,
            "grid_auto_rows": null,
            "grid_gap": null,
            "max_width": null,
            "order": null,
            "_view_module_version": "1.2.0",
            "grid_template_areas": null,
            "object_position": null,
            "object_fit": null,
            "grid_auto_columns": null,
            "margin": null,
            "display": null,
            "left": null
          }
        },
        "3695a553d51f470d8f923fa918ae48d5": {
          "model_module": "@jupyter-widgets/controls",
          "model_name": "DescriptionStyleModel",
          "model_module_version": "1.5.0",
          "state": {
            "_view_name": "StyleView",
            "_model_name": "DescriptionStyleModel",
            "description_width": "",
            "_view_module": "@jupyter-widgets/base",
            "_model_module_version": "1.5.0",
            "_view_count": null,
            "_view_module_version": "1.2.0",
            "_model_module": "@jupyter-widgets/controls"
          }
        },
        "1c48ec65e7494d61ad1622b3d04a81cc": {
          "model_module": "@jupyter-widgets/base",
          "model_name": "LayoutModel",
          "model_module_version": "1.2.0",
          "state": {
            "_view_name": "LayoutView",
            "grid_template_rows": null,
            "right": null,
            "justify_content": null,
            "_view_module": "@jupyter-widgets/base",
            "overflow": null,
            "_model_module_version": "1.2.0",
            "_view_count": null,
            "flex_flow": null,
            "width": null,
            "min_width": null,
            "border": null,
            "align_items": null,
            "bottom": null,
            "_model_module": "@jupyter-widgets/base",
            "top": null,
            "grid_column": null,
            "overflow_y": null,
            "overflow_x": null,
            "grid_auto_flow": null,
            "grid_area": null,
            "grid_template_columns": null,
            "flex": null,
            "_model_name": "LayoutModel",
            "justify_items": null,
            "grid_row": null,
            "max_height": null,
            "align_content": null,
            "visibility": null,
            "align_self": null,
            "height": null,
            "min_height": null,
            "padding": null,
            "grid_auto_rows": null,
            "grid_gap": null,
            "max_width": null,
            "order": null,
            "_view_module_version": "1.2.0",
            "grid_template_areas": null,
            "object_position": null,
            "object_fit": null,
            "grid_auto_columns": null,
            "margin": null,
            "display": null,
            "left": null
          }
        },
        "4235f4e49c764625bed2bc27ff58ec06": {
          "model_module": "@jupyter-widgets/controls",
          "model_name": "HBoxModel",
          "model_module_version": "1.5.0",
          "state": {
            "_view_name": "HBoxView",
            "_dom_classes": [],
            "_model_name": "HBoxModel",
            "_view_module": "@jupyter-widgets/controls",
            "_model_module_version": "1.5.0",
            "_view_count": null,
            "_view_module_version": "1.5.0",
            "box_style": "",
            "layout": "IPY_MODEL_0eecb0a20e8c40a4ae3bf0f4f343f5fe",
            "_model_module": "@jupyter-widgets/controls",
            "children": [
              "IPY_MODEL_a1b61744580144dd8235e62796be6af8",
              "IPY_MODEL_9f46148e57b74aa1ac494ec06b052d62",
              "IPY_MODEL_4b7994b37a1a4a60b60982ef0813a97d"
            ]
          }
        },
        "0eecb0a20e8c40a4ae3bf0f4f343f5fe": {
          "model_module": "@jupyter-widgets/base",
          "model_name": "LayoutModel",
          "model_module_version": "1.2.0",
          "state": {
            "_view_name": "LayoutView",
            "grid_template_rows": null,
            "right": null,
            "justify_content": null,
            "_view_module": "@jupyter-widgets/base",
            "overflow": null,
            "_model_module_version": "1.2.0",
            "_view_count": null,
            "flex_flow": null,
            "width": null,
            "min_width": null,
            "border": null,
            "align_items": null,
            "bottom": null,
            "_model_module": "@jupyter-widgets/base",
            "top": null,
            "grid_column": null,
            "overflow_y": null,
            "overflow_x": null,
            "grid_auto_flow": null,
            "grid_area": null,
            "grid_template_columns": null,
            "flex": null,
            "_model_name": "LayoutModel",
            "justify_items": null,
            "grid_row": null,
            "max_height": null,
            "align_content": null,
            "visibility": null,
            "align_self": null,
            "height": null,
            "min_height": null,
            "padding": null,
            "grid_auto_rows": null,
            "grid_gap": null,
            "max_width": null,
            "order": null,
            "_view_module_version": "1.2.0",
            "grid_template_areas": null,
            "object_position": null,
            "object_fit": null,
            "grid_auto_columns": null,
            "margin": null,
            "display": null,
            "left": null
          }
        },
        "a1b61744580144dd8235e62796be6af8": {
          "model_module": "@jupyter-widgets/controls",
          "model_name": "HTMLModel",
          "model_module_version": "1.5.0",
          "state": {
            "_view_name": "HTMLView",
            "style": "IPY_MODEL_ad27c6afa66b4c70a25ea32b0cf96028",
            "_dom_classes": [],
            "description": "",
            "_model_name": "HTMLModel",
            "placeholder": "​",
            "_view_module": "@jupyter-widgets/controls",
            "_model_module_version": "1.5.0",
            "value": "Downloading: 100%",
            "_view_count": null,
            "_view_module_version": "1.5.0",
            "description_tooltip": null,
            "_model_module": "@jupyter-widgets/controls",
            "layout": "IPY_MODEL_0e11dedfea434880b3ae185d97d99baf"
          }
        },
        "9f46148e57b74aa1ac494ec06b052d62": {
          "model_module": "@jupyter-widgets/controls",
          "model_name": "FloatProgressModel",
          "model_module_version": "1.5.0",
          "state": {
            "_view_name": "ProgressView",
            "style": "IPY_MODEL_f33fbbec35a9479cb159cf1ad556076c",
            "_dom_classes": [],
            "description": "",
            "_model_name": "FloatProgressModel",
            "bar_style": "success",
            "max": 466062,
            "_view_module": "@jupyter-widgets/controls",
            "_model_module_version": "1.5.0",
            "value": 466062,
            "_view_count": null,
            "_view_module_version": "1.5.0",
            "orientation": "horizontal",
            "min": 0,
            "description_tooltip": null,
            "_model_module": "@jupyter-widgets/controls",
            "layout": "IPY_MODEL_ffe960b7fe8f4a84b5fb8fb84a111abb"
          }
        },
        "4b7994b37a1a4a60b60982ef0813a97d": {
          "model_module": "@jupyter-widgets/controls",
          "model_name": "HTMLModel",
          "model_module_version": "1.5.0",
          "state": {
            "_view_name": "HTMLView",
            "style": "IPY_MODEL_86683cb0cbee453ab2eb0b7cddfd00ef",
            "_dom_classes": [],
            "description": "",
            "_model_name": "HTMLModel",
            "placeholder": "​",
            "_view_module": "@jupyter-widgets/controls",
            "_model_module_version": "1.5.0",
            "value": " 455k/455k [00:00&lt;00:00, 673kB/s]",
            "_view_count": null,
            "_view_module_version": "1.5.0",
            "description_tooltip": null,
            "_model_module": "@jupyter-widgets/controls",
            "layout": "IPY_MODEL_dfbd8f04144f4b4e96d82920028254ba"
          }
        },
        "ad27c6afa66b4c70a25ea32b0cf96028": {
          "model_module": "@jupyter-widgets/controls",
          "model_name": "DescriptionStyleModel",
          "model_module_version": "1.5.0",
          "state": {
            "_view_name": "StyleView",
            "_model_name": "DescriptionStyleModel",
            "description_width": "",
            "_view_module": "@jupyter-widgets/base",
            "_model_module_version": "1.5.0",
            "_view_count": null,
            "_view_module_version": "1.2.0",
            "_model_module": "@jupyter-widgets/controls"
          }
        },
        "0e11dedfea434880b3ae185d97d99baf": {
          "model_module": "@jupyter-widgets/base",
          "model_name": "LayoutModel",
          "model_module_version": "1.2.0",
          "state": {
            "_view_name": "LayoutView",
            "grid_template_rows": null,
            "right": null,
            "justify_content": null,
            "_view_module": "@jupyter-widgets/base",
            "overflow": null,
            "_model_module_version": "1.2.0",
            "_view_count": null,
            "flex_flow": null,
            "width": null,
            "min_width": null,
            "border": null,
            "align_items": null,
            "bottom": null,
            "_model_module": "@jupyter-widgets/base",
            "top": null,
            "grid_column": null,
            "overflow_y": null,
            "overflow_x": null,
            "grid_auto_flow": null,
            "grid_area": null,
            "grid_template_columns": null,
            "flex": null,
            "_model_name": "LayoutModel",
            "justify_items": null,
            "grid_row": null,
            "max_height": null,
            "align_content": null,
            "visibility": null,
            "align_self": null,
            "height": null,
            "min_height": null,
            "padding": null,
            "grid_auto_rows": null,
            "grid_gap": null,
            "max_width": null,
            "order": null,
            "_view_module_version": "1.2.0",
            "grid_template_areas": null,
            "object_position": null,
            "object_fit": null,
            "grid_auto_columns": null,
            "margin": null,
            "display": null,
            "left": null
          }
        },
        "f33fbbec35a9479cb159cf1ad556076c": {
          "model_module": "@jupyter-widgets/controls",
          "model_name": "ProgressStyleModel",
          "model_module_version": "1.5.0",
          "state": {
            "_view_name": "StyleView",
            "_model_name": "ProgressStyleModel",
            "description_width": "",
            "_view_module": "@jupyter-widgets/base",
            "_model_module_version": "1.5.0",
            "_view_count": null,
            "_view_module_version": "1.2.0",
            "bar_color": null,
            "_model_module": "@jupyter-widgets/controls"
          }
        },
        "ffe960b7fe8f4a84b5fb8fb84a111abb": {
          "model_module": "@jupyter-widgets/base",
          "model_name": "LayoutModel",
          "model_module_version": "1.2.0",
          "state": {
            "_view_name": "LayoutView",
            "grid_template_rows": null,
            "right": null,
            "justify_content": null,
            "_view_module": "@jupyter-widgets/base",
            "overflow": null,
            "_model_module_version": "1.2.0",
            "_view_count": null,
            "flex_flow": null,
            "width": null,
            "min_width": null,
            "border": null,
            "align_items": null,
            "bottom": null,
            "_model_module": "@jupyter-widgets/base",
            "top": null,
            "grid_column": null,
            "overflow_y": null,
            "overflow_x": null,
            "grid_auto_flow": null,
            "grid_area": null,
            "grid_template_columns": null,
            "flex": null,
            "_model_name": "LayoutModel",
            "justify_items": null,
            "grid_row": null,
            "max_height": null,
            "align_content": null,
            "visibility": null,
            "align_self": null,
            "height": null,
            "min_height": null,
            "padding": null,
            "grid_auto_rows": null,
            "grid_gap": null,
            "max_width": null,
            "order": null,
            "_view_module_version": "1.2.0",
            "grid_template_areas": null,
            "object_position": null,
            "object_fit": null,
            "grid_auto_columns": null,
            "margin": null,
            "display": null,
            "left": null
          }
        },
        "86683cb0cbee453ab2eb0b7cddfd00ef": {
          "model_module": "@jupyter-widgets/controls",
          "model_name": "DescriptionStyleModel",
          "model_module_version": "1.5.0",
          "state": {
            "_view_name": "StyleView",
            "_model_name": "DescriptionStyleModel",
            "description_width": "",
            "_view_module": "@jupyter-widgets/base",
            "_model_module_version": "1.5.0",
            "_view_count": null,
            "_view_module_version": "1.2.0",
            "_model_module": "@jupyter-widgets/controls"
          }
        },
        "dfbd8f04144f4b4e96d82920028254ba": {
          "model_module": "@jupyter-widgets/base",
          "model_name": "LayoutModel",
          "model_module_version": "1.2.0",
          "state": {
            "_view_name": "LayoutView",
            "grid_template_rows": null,
            "right": null,
            "justify_content": null,
            "_view_module": "@jupyter-widgets/base",
            "overflow": null,
            "_model_module_version": "1.2.0",
            "_view_count": null,
            "flex_flow": null,
            "width": null,
            "min_width": null,
            "border": null,
            "align_items": null,
            "bottom": null,
            "_model_module": "@jupyter-widgets/base",
            "top": null,
            "grid_column": null,
            "overflow_y": null,
            "overflow_x": null,
            "grid_auto_flow": null,
            "grid_area": null,
            "grid_template_columns": null,
            "flex": null,
            "_model_name": "LayoutModel",
            "justify_items": null,
            "grid_row": null,
            "max_height": null,
            "align_content": null,
            "visibility": null,
            "align_self": null,
            "height": null,
            "min_height": null,
            "padding": null,
            "grid_auto_rows": null,
            "grid_gap": null,
            "max_width": null,
            "order": null,
            "_view_module_version": "1.2.0",
            "grid_template_areas": null,
            "object_position": null,
            "object_fit": null,
            "grid_auto_columns": null,
            "margin": null,
            "display": null,
            "left": null
          }
        }
      }
    }
  },
  "nbformat": 4,
  "nbformat_minor": 0
}